{
  "nbformat": 4,
  "nbformat_minor": 0,
  "metadata": {
    "colab": {
      "name": "evaluation-dataset.ipynb",
      "provenance": [],
      "collapsed_sections": [],
      "authorship_tag": "ABX9TyPW6u1YhYR+m/PKCA4UjUH9"
    },
    "kernelspec": {
      "name": "python3",
      "display_name": "Python 3"
    },
    "language_info": {
      "name": "python"
    }
  },
  "cells": [
    {
      "cell_type": "markdown",
      "source": [
        "# Evaluation Dataset\n",
        "\n",
        "Generate a csv with the following information:\n",
        "\n",
        "* brief name\n",
        "* brief id\n",
        "* author party\n",
        "* paragraph of text\n",
        "\n",
        "Goal is to have Holly classify each of the paragraphs as one (or more) of our classification labels to serve as a \"ground truth\" for cross-model comparison"
      ],
      "metadata": {
        "id": "nBBcI_S3xJ5U"
      }
    },
    {
      "cell_type": "code",
      "execution_count": null,
      "metadata": {
        "id": "TBtnp76ptc2j"
      },
      "outputs": [],
      "source": [
        "#import data science packages\n",
        "import pandas as pd\n",
        "import numpy as np"
      ]
    },
    {
      "cell_type": "code",
      "source": [
        "from google.colab import drive\n",
        "drive.mount('/content/gdrive')\n",
        "%cd gdrive/My\\ Drive/amicus-iv"
      ],
      "metadata": {
        "colab": {
          "base_uri": "https://localhost:8080/"
        },
        "id": "dzVIJJBwxF0R",
        "outputId": "98b7e5c5-5373-458e-9707-2bcdcd839a47"
      },
      "execution_count": null,
      "outputs": [
        {
          "output_type": "stream",
          "name": "stdout",
          "text": [
            "Drive already mounted at /content/gdrive; to attempt to forcibly remount, call drive.mount(\"/content/gdrive\", force_remount=True).\n",
            "/content/gdrive/My Drive/amicus-iv\n"
          ]
        }
      ]
    },
    {
      "cell_type": "markdown",
      "source": [
        "## 1. Load Dataset"
      ],
      "metadata": {
        "id": "pvFac--LxvaH"
      }
    },
    {
      "cell_type": "code",
      "source": [
        "df = pd.read_csv(\"data/shortened-amicus-brief-text.csv\")\n",
        "df.head(5)"
      ],
      "metadata": {
        "colab": {
          "base_uri": "https://localhost:8080/",
          "height": 206
        },
        "id": "TTqRjECwxJK4",
        "outputId": "b94f109b-8b33-42d4-937e-7e9580366924"
      },
      "execution_count": null,
      "outputs": [
        {
          "output_type": "execute_result",
          "data": {
            "text/html": [
              "\n",
              "  <div id=\"df-58039903-3c15-439b-84d1-168574aedef9\">\n",
              "    <div class=\"colab-df-container\">\n",
              "      <div>\n",
              "<style scoped>\n",
              "    .dataframe tbody tr th:only-of-type {\n",
              "        vertical-align: middle;\n",
              "    }\n",
              "\n",
              "    .dataframe tbody tr th {\n",
              "        vertical-align: top;\n",
              "    }\n",
              "\n",
              "    .dataframe thead th {\n",
              "        text-align: right;\n",
              "    }\n",
              "</style>\n",
              "<table border=\"1\" class=\"dataframe\">\n",
              "  <thead>\n",
              "    <tr style=\"text-align: right;\">\n",
              "      <th></th>\n",
              "      <th>case</th>\n",
              "      <th>brief</th>\n",
              "      <th>id</th>\n",
              "      <th>txt_short</th>\n",
              "    </tr>\n",
              "  </thead>\n",
              "  <tbody>\n",
              "    <tr>\n",
              "      <th>0</th>\n",
              "      <td>Anders v Floyd</td>\n",
              "      <td>Anders v Floyd - amicus brief for appellant (o...</td>\n",
              "      <td>861815186515</td>\n",
              "      <td>many roe v wade killings are murder the eviden...</td>\n",
              "    </tr>\n",
              "    <tr>\n",
              "      <th>1</th>\n",
              "      <td>Anders v Floyd</td>\n",
              "      <td>Anders v Floyd - amicus brief for appellant (o...</td>\n",
              "      <td>861815187715</td>\n",
              "      <td>for the 14th time, the supreme court is petiti...</td>\n",
              "    </tr>\n",
              "    <tr>\n",
              "      <th>2</th>\n",
              "      <td>Ayotte v. PP</td>\n",
              "      <td>Ayotte v Planned Parenthood of Northern New En...</td>\n",
              "      <td>861823786898</td>\n",
              "      <td>in imposing a constitutional standard for pare...</td>\n",
              "    </tr>\n",
              "    <tr>\n",
              "      <th>3</th>\n",
              "      <td>Ayotte v. PP</td>\n",
              "      <td>Ayotte v Planned Parenthood of Northern New En...</td>\n",
              "      <td>861823789298</td>\n",
              "      <td>amici offer this brief for the limited purpose...</td>\n",
              "    </tr>\n",
              "    <tr>\n",
              "      <th>4</th>\n",
              "      <td>Ayotte v. PP</td>\n",
              "      <td>Ayotte v Planned Parenthood of Northern New En...</td>\n",
              "      <td>861823790498</td>\n",
              "      <td>new hampshire's parental notification law is a...</td>\n",
              "    </tr>\n",
              "  </tbody>\n",
              "</table>\n",
              "</div>\n",
              "      <button class=\"colab-df-convert\" onclick=\"convertToInteractive('df-58039903-3c15-439b-84d1-168574aedef9')\"\n",
              "              title=\"Convert this dataframe to an interactive table.\"\n",
              "              style=\"display:none;\">\n",
              "        \n",
              "  <svg xmlns=\"http://www.w3.org/2000/svg\" height=\"24px\"viewBox=\"0 0 24 24\"\n",
              "       width=\"24px\">\n",
              "    <path d=\"M0 0h24v24H0V0z\" fill=\"none\"/>\n",
              "    <path d=\"M18.56 5.44l.94 2.06.94-2.06 2.06-.94-2.06-.94-.94-2.06-.94 2.06-2.06.94zm-11 1L8.5 8.5l.94-2.06 2.06-.94-2.06-.94L8.5 2.5l-.94 2.06-2.06.94zm10 10l.94 2.06.94-2.06 2.06-.94-2.06-.94-.94-2.06-.94 2.06-2.06.94z\"/><path d=\"M17.41 7.96l-1.37-1.37c-.4-.4-.92-.59-1.43-.59-.52 0-1.04.2-1.43.59L10.3 9.45l-7.72 7.72c-.78.78-.78 2.05 0 2.83L4 21.41c.39.39.9.59 1.41.59.51 0 1.02-.2 1.41-.59l7.78-7.78 2.81-2.81c.8-.78.8-2.07 0-2.86zM5.41 20L4 18.59l7.72-7.72 1.47 1.35L5.41 20z\"/>\n",
              "  </svg>\n",
              "      </button>\n",
              "      \n",
              "  <style>\n",
              "    .colab-df-container {\n",
              "      display:flex;\n",
              "      flex-wrap:wrap;\n",
              "      gap: 12px;\n",
              "    }\n",
              "\n",
              "    .colab-df-convert {\n",
              "      background-color: #E8F0FE;\n",
              "      border: none;\n",
              "      border-radius: 50%;\n",
              "      cursor: pointer;\n",
              "      display: none;\n",
              "      fill: #1967D2;\n",
              "      height: 32px;\n",
              "      padding: 0 0 0 0;\n",
              "      width: 32px;\n",
              "    }\n",
              "\n",
              "    .colab-df-convert:hover {\n",
              "      background-color: #E2EBFA;\n",
              "      box-shadow: 0px 1px 2px rgba(60, 64, 67, 0.3), 0px 1px 3px 1px rgba(60, 64, 67, 0.15);\n",
              "      fill: #174EA6;\n",
              "    }\n",
              "\n",
              "    [theme=dark] .colab-df-convert {\n",
              "      background-color: #3B4455;\n",
              "      fill: #D2E3FC;\n",
              "    }\n",
              "\n",
              "    [theme=dark] .colab-df-convert:hover {\n",
              "      background-color: #434B5C;\n",
              "      box-shadow: 0px 1px 3px 1px rgba(0, 0, 0, 0.15);\n",
              "      filter: drop-shadow(0px 1px 2px rgba(0, 0, 0, 0.3));\n",
              "      fill: #FFFFFF;\n",
              "    }\n",
              "  </style>\n",
              "\n",
              "      <script>\n",
              "        const buttonEl =\n",
              "          document.querySelector('#df-58039903-3c15-439b-84d1-168574aedef9 button.colab-df-convert');\n",
              "        buttonEl.style.display =\n",
              "          google.colab.kernel.accessAllowed ? 'block' : 'none';\n",
              "\n",
              "        async function convertToInteractive(key) {\n",
              "          const element = document.querySelector('#df-58039903-3c15-439b-84d1-168574aedef9');\n",
              "          const dataTable =\n",
              "            await google.colab.kernel.invokeFunction('convertToInteractive',\n",
              "                                                     [key], {});\n",
              "          if (!dataTable) return;\n",
              "\n",
              "          const docLinkHtml = 'Like what you see? Visit the ' +\n",
              "            '<a target=\"_blank\" href=https://colab.research.google.com/notebooks/data_table.ipynb>data table notebook</a>'\n",
              "            + ' to learn more about interactive tables.';\n",
              "          element.innerHTML = '';\n",
              "          dataTable['output_type'] = 'display_data';\n",
              "          await google.colab.output.renderOutput(dataTable, element);\n",
              "          const docLink = document.createElement('div');\n",
              "          docLink.innerHTML = docLinkHtml;\n",
              "          element.appendChild(docLink);\n",
              "        }\n",
              "      </script>\n",
              "    </div>\n",
              "  </div>\n",
              "  "
            ],
            "text/plain": [
              "             case  ...                                          txt_short\n",
              "0  Anders v Floyd  ...  many roe v wade killings are murder the eviden...\n",
              "1  Anders v Floyd  ...  for the 14th time, the supreme court is petiti...\n",
              "2    Ayotte v. PP  ...  in imposing a constitutional standard for pare...\n",
              "3    Ayotte v. PP  ...  amici offer this brief for the limited purpose...\n",
              "4    Ayotte v. PP  ...  new hampshire's parental notification law is a...\n",
              "\n",
              "[5 rows x 4 columns]"
            ]
          },
          "metadata": {},
          "execution_count": 5
        }
      ]
    },
    {
      "cell_type": "markdown",
      "source": [
        "## 2. Split Text\n",
        "\n",
        "Split text into chunks of `max_len` with `step` overlapping words"
      ],
      "metadata": {
        "id": "tDq4zy2pxp3w"
      }
    },
    {
      "cell_type": "code",
      "source": [
        "def split_text(data, max_len=512, step=128):\n",
        "  # split text on space\n",
        "  #text = data['txt_short'].split()\n",
        "  text = data.split()\n",
        "  # take list and separate into lists of lists, overlapping \n",
        "  #text = [text[i : i + max_len] for i in range(0, len(text), step)]\n",
        "  #separate list into list of strings len \"max_len\", overlapping by \"step\"\n",
        "  text = [' '.join(text[i : i + max_len]) for i in range(0, len(text), step)]\n",
        "  return text"
      ],
      "metadata": {
        "id": "boJ19dlIxqFl"
      },
      "execution_count": null,
      "outputs": []
    },
    {
      "cell_type": "markdown",
      "source": [
        "Use fxn on our dataset"
      ],
      "metadata": {
        "id": "1zhwVHIux_3i"
      }
    },
    {
      "cell_type": "code",
      "source": [
        "max_len = 512\n",
        "step = 128\n",
        "\n",
        "# split each text into len 'max_len' with 'step' overlap\n",
        "df['text'] = df.apply(lambda row: split_text(row['txt_short'],\n",
        "                                             max_len=max_len,\n",
        "                                             step=step),\n",
        "                       axis=1)\n",
        "df = df.explode('text')\n",
        "df.reset_index(inplace = True)\n",
        "df.drop(['txt_short', 'index'], axis=1, inplace=True)"
      ],
      "metadata": {
        "id": "_MipGI3CyBNy"
      },
      "execution_count": null,
      "outputs": []
    },
    {
      "cell_type": "markdown",
      "source": [
        "## 3. Add 'fem' variable to stratify sample on\n",
        "\n",
        "Value is True if the brief is written in support of feminist party."
      ],
      "metadata": {
        "id": "85_HS0vI8g9a"
      }
    },
    {
      "cell_type": "code",
      "source": [
        "df['fem'] = [\"feminist\" in brief_name for brief_name in df['brief']]"
      ],
      "metadata": {
        "id": "A1hJNVC58gR-"
      },
      "execution_count": null,
      "outputs": []
    },
    {
      "cell_type": "markdown",
      "source": [
        "## 4. Randomly select 100 rows\n",
        "\n",
        "50 fem briefs, 50 opp briefs"
      ],
      "metadata": {
        "id": "6n5eV3Ak56SN"
      }
    },
    {
      "cell_type": "code",
      "source": [
        "random_rows = df.groupby('fem', group_keys=False).apply(lambda x: x.sample(50))\n",
        "random_rows"
      ],
      "metadata": {
        "colab": {
          "base_uri": "https://localhost:8080/",
          "height": 641
        },
        "id": "e5sV36nuyBTy",
        "outputId": "4c60ed0d-34ce-423d-e4a0-dc40dd48cdbb"
      },
      "execution_count": null,
      "outputs": [
        {
          "output_type": "execute_result",
          "data": {
            "text/html": [
              "\n",
              "  <div id=\"df-448439b4-f27b-42c4-a724-3cb041f8788e\">\n",
              "    <div class=\"colab-df-container\">\n",
              "      <div>\n",
              "<style scoped>\n",
              "    .dataframe tbody tr th:only-of-type {\n",
              "        vertical-align: middle;\n",
              "    }\n",
              "\n",
              "    .dataframe tbody tr th {\n",
              "        vertical-align: top;\n",
              "    }\n",
              "\n",
              "    .dataframe thead th {\n",
              "        text-align: right;\n",
              "    }\n",
              "</style>\n",
              "<table border=\"1\" class=\"dataframe\">\n",
              "  <thead>\n",
              "    <tr style=\"text-align: right;\">\n",
              "      <th></th>\n",
              "      <th>case</th>\n",
              "      <th>brief</th>\n",
              "      <th>id</th>\n",
              "      <th>text</th>\n",
              "      <th>fem</th>\n",
              "    </tr>\n",
              "  </thead>\n",
              "  <tbody>\n",
              "    <tr>\n",
              "      <th>29413</th>\n",
              "      <td>Webster v Reproductive Health Services</td>\n",
              "      <td>Webster v Reproductive Health Services. Amicus...</td>\n",
              "      <td>861820441683</td>\n",
              "      <td>value for every human life regardless of its s...</td>\n",
              "      <td>False</td>\n",
              "    </tr>\n",
              "    <tr>\n",
              "      <th>4969</th>\n",
              "      <td>Doe v. Bolton</td>\n",
              "      <td>Doe v. Bolton. Motion to File Amici Brief for ...</td>\n",
              "      <td>861822371012</td>\n",
              "      <td>an action against the united states. sox v. un...</td>\n",
              "      <td>False</td>\n",
              "    </tr>\n",
              "    <tr>\n",
              "      <th>1051</th>\n",
              "      <td>Ayotte v. PP</td>\n",
              "      <td>Ayotte v Planned Parenthood of Northern New En...</td>\n",
              "      <td>861822577570</td>\n",
              "      <td>children of twelve years to 17-year-old teenag...</td>\n",
              "      <td>False</td>\n",
              "    </tr>\n",
              "    <tr>\n",
              "      <th>5239</th>\n",
              "      <td>Frisby v. Schultz</td>\n",
              "      <td>Frisby_v_Schultz_AmicusBrief for Appellees_AFL...</td>\n",
              "      <td>861822568216</td>\n",
              "      <td>issues, in pursuit of the first amendment's la...</td>\n",
              "      <td>False</td>\n",
              "    </tr>\n",
              "    <tr>\n",
              "      <th>3829</th>\n",
              "      <td>Diamond v. Charles</td>\n",
              "      <td>Diamond v Charles. Amicus Brief for Appellants...</td>\n",
              "      <td>861823621217</td>\n",
              "      <td>fair procedures. the expansive possibilities o...</td>\n",
              "      <td>False</td>\n",
              "    </tr>\n",
              "    <tr>\n",
              "      <th>...</th>\n",
              "      <td>...</td>\n",
              "      <td>...</td>\n",
              "      <td>...</td>\n",
              "      <td>...</td>\n",
              "      <td>...</td>\n",
              "    </tr>\n",
              "    <tr>\n",
              "      <th>30294</th>\n",
              "      <td>Williams v. Zbaraz</td>\n",
              "      <td>Williams v Zbaraz. Amici Brief for Appellees (...</td>\n",
              "      <td>861821316676</td>\n",
              "      <td>the court should apply settled principles of s...</td>\n",
              "      <td>True</td>\n",
              "    </tr>\n",
              "    <tr>\n",
              "      <th>1198</th>\n",
              "      <td>Ayotte v. PP</td>\n",
              "      <td>Ayotte v Planned Parenthood of Northern New En...</td>\n",
              "      <td>861822582370</td>\n",
              "      <td>in an emergency situation to save the life or ...</td>\n",
              "      <td>True</td>\n",
              "    </tr>\n",
              "    <tr>\n",
              "      <th>4499</th>\n",
              "      <td>Doe v. Bolton</td>\n",
              "      <td>Doe v. Bolton. Motion to File Amici Brief for ...</td>\n",
              "      <td>861822362612</td>\n",
              "      <td>code draft abortion law suggested that all med...</td>\n",
              "      <td>True</td>\n",
              "    </tr>\n",
              "    <tr>\n",
              "      <th>14798</th>\n",
              "      <td>McCullen v. Coakley</td>\n",
              "      <td>McCullen v Coakley. Amicus Brief for Responden...</td>\n",
              "      <td>861823592192</td>\n",
              "      <td>that there is no link between abortion and bre...</td>\n",
              "      <td>True</td>\n",
              "    </tr>\n",
              "    <tr>\n",
              "      <th>4401</th>\n",
              "      <td>Doe v. Bolton</td>\n",
              "      <td>Doe v. Bolton. Motion to File Amici Brief for ...</td>\n",
              "      <td>861822362612</td>\n",
              "      <td>constitutional jus tertii, 71 yale l.j. 599 (1...</td>\n",
              "      <td>True</td>\n",
              "    </tr>\n",
              "  </tbody>\n",
              "</table>\n",
              "<p>100 rows × 5 columns</p>\n",
              "</div>\n",
              "      <button class=\"colab-df-convert\" onclick=\"convertToInteractive('df-448439b4-f27b-42c4-a724-3cb041f8788e')\"\n",
              "              title=\"Convert this dataframe to an interactive table.\"\n",
              "              style=\"display:none;\">\n",
              "        \n",
              "  <svg xmlns=\"http://www.w3.org/2000/svg\" height=\"24px\"viewBox=\"0 0 24 24\"\n",
              "       width=\"24px\">\n",
              "    <path d=\"M0 0h24v24H0V0z\" fill=\"none\"/>\n",
              "    <path d=\"M18.56 5.44l.94 2.06.94-2.06 2.06-.94-2.06-.94-.94-2.06-.94 2.06-2.06.94zm-11 1L8.5 8.5l.94-2.06 2.06-.94-2.06-.94L8.5 2.5l-.94 2.06-2.06.94zm10 10l.94 2.06.94-2.06 2.06-.94-2.06-.94-.94-2.06-.94 2.06-2.06.94z\"/><path d=\"M17.41 7.96l-1.37-1.37c-.4-.4-.92-.59-1.43-.59-.52 0-1.04.2-1.43.59L10.3 9.45l-7.72 7.72c-.78.78-.78 2.05 0 2.83L4 21.41c.39.39.9.59 1.41.59.51 0 1.02-.2 1.41-.59l7.78-7.78 2.81-2.81c.8-.78.8-2.07 0-2.86zM5.41 20L4 18.59l7.72-7.72 1.47 1.35L5.41 20z\"/>\n",
              "  </svg>\n",
              "      </button>\n",
              "      \n",
              "  <style>\n",
              "    .colab-df-container {\n",
              "      display:flex;\n",
              "      flex-wrap:wrap;\n",
              "      gap: 12px;\n",
              "    }\n",
              "\n",
              "    .colab-df-convert {\n",
              "      background-color: #E8F0FE;\n",
              "      border: none;\n",
              "      border-radius: 50%;\n",
              "      cursor: pointer;\n",
              "      display: none;\n",
              "      fill: #1967D2;\n",
              "      height: 32px;\n",
              "      padding: 0 0 0 0;\n",
              "      width: 32px;\n",
              "    }\n",
              "\n",
              "    .colab-df-convert:hover {\n",
              "      background-color: #E2EBFA;\n",
              "      box-shadow: 0px 1px 2px rgba(60, 64, 67, 0.3), 0px 1px 3px 1px rgba(60, 64, 67, 0.15);\n",
              "      fill: #174EA6;\n",
              "    }\n",
              "\n",
              "    [theme=dark] .colab-df-convert {\n",
              "      background-color: #3B4455;\n",
              "      fill: #D2E3FC;\n",
              "    }\n",
              "\n",
              "    [theme=dark] .colab-df-convert:hover {\n",
              "      background-color: #434B5C;\n",
              "      box-shadow: 0px 1px 3px 1px rgba(0, 0, 0, 0.15);\n",
              "      filter: drop-shadow(0px 1px 2px rgba(0, 0, 0, 0.3));\n",
              "      fill: #FFFFFF;\n",
              "    }\n",
              "  </style>\n",
              "\n",
              "      <script>\n",
              "        const buttonEl =\n",
              "          document.querySelector('#df-448439b4-f27b-42c4-a724-3cb041f8788e button.colab-df-convert');\n",
              "        buttonEl.style.display =\n",
              "          google.colab.kernel.accessAllowed ? 'block' : 'none';\n",
              "\n",
              "        async function convertToInteractive(key) {\n",
              "          const element = document.querySelector('#df-448439b4-f27b-42c4-a724-3cb041f8788e');\n",
              "          const dataTable =\n",
              "            await google.colab.kernel.invokeFunction('convertToInteractive',\n",
              "                                                     [key], {});\n",
              "          if (!dataTable) return;\n",
              "\n",
              "          const docLinkHtml = 'Like what you see? Visit the ' +\n",
              "            '<a target=\"_blank\" href=https://colab.research.google.com/notebooks/data_table.ipynb>data table notebook</a>'\n",
              "            + ' to learn more about interactive tables.';\n",
              "          element.innerHTML = '';\n",
              "          dataTable['output_type'] = 'display_data';\n",
              "          await google.colab.output.renderOutput(dataTable, element);\n",
              "          const docLink = document.createElement('div');\n",
              "          docLink.innerHTML = docLinkHtml;\n",
              "          element.appendChild(docLink);\n",
              "        }\n",
              "      </script>\n",
              "    </div>\n",
              "  </div>\n",
              "  "
            ],
            "text/plain": [
              "                                         case  ...    fem\n",
              "29413  Webster v Reproductive Health Services  ...  False\n",
              "4969                            Doe v. Bolton  ...  False\n",
              "1051                             Ayotte v. PP  ...  False\n",
              "5239                        Frisby v. Schultz  ...  False\n",
              "3829                       Diamond v. Charles  ...  False\n",
              "...                                       ...  ...    ...\n",
              "30294                      Williams v. Zbaraz  ...   True\n",
              "1198                             Ayotte v. PP  ...   True\n",
              "4499                            Doe v. Bolton  ...   True\n",
              "14798                     McCullen v. Coakley  ...   True\n",
              "4401                            Doe v. Bolton  ...   True\n",
              "\n",
              "[100 rows x 5 columns]"
            ]
          },
          "metadata": {},
          "execution_count": 33
        }
      ]
    },
    {
      "cell_type": "markdown",
      "source": [
        "## 5. Save"
      ],
      "metadata": {
        "id": "ufTQebDF9d1j"
      }
    },
    {
      "cell_type": "code",
      "source": [
        "random_rows.to_excel('data/labeled_amicus.xlsx')"
      ],
      "metadata": {
        "id": "JXwIEhDl8Yaz"
      },
      "execution_count": null,
      "outputs": []
    }
  ]
}