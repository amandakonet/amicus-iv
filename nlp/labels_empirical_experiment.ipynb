{
  "nbformat": 4,
  "nbformat_minor": 0,
  "metadata": {
    "colab": {
      "name": "labels-empirical-experiment.ipynb",
      "provenance": [],
      "collapsed_sections": [],
      "toc_visible": true,
      "authorship_tag": "ABX9TyNU1f4yBZOnlblcX/Eb86TO"
    },
    "kernelspec": {
      "name": "python3",
      "display_name": "Python 3"
    },
    "language_info": {
      "name": "python"
    },
    "widgets": {
      "application/vnd.jupyter.widget-state+json": {
        "07e8e5305d304408aa7e2c81dc36fa12": {
          "model_module": "@jupyter-widgets/controls",
          "model_name": "HBoxModel",
          "model_module_version": "1.5.0",
          "state": {
            "_view_name": "HBoxView",
            "_dom_classes": [],
            "_model_name": "HBoxModel",
            "_view_module": "@jupyter-widgets/controls",
            "_model_module_version": "1.5.0",
            "_view_count": null,
            "_view_module_version": "1.5.0",
            "box_style": "",
            "layout": "IPY_MODEL_d32554d097fe46918ba912ba79a6e4fb",
            "_model_module": "@jupyter-widgets/controls",
            "children": [
              "IPY_MODEL_79818c24e3584226bcaa03ed885a8c4c",
              "IPY_MODEL_e078d5bb693d4a829ebd6e49f9d77852",
              "IPY_MODEL_9b05c46a86a6490891184884bf15bb1c"
            ]
          }
        },
        "d32554d097fe46918ba912ba79a6e4fb": {
          "model_module": "@jupyter-widgets/base",
          "model_name": "LayoutModel",
          "model_module_version": "1.2.0",
          "state": {
            "_view_name": "LayoutView",
            "grid_template_rows": null,
            "right": null,
            "justify_content": null,
            "_view_module": "@jupyter-widgets/base",
            "overflow": null,
            "_model_module_version": "1.2.0",
            "_view_count": null,
            "flex_flow": null,
            "width": null,
            "min_width": null,
            "border": null,
            "align_items": null,
            "bottom": null,
            "_model_module": "@jupyter-widgets/base",
            "top": null,
            "grid_column": null,
            "overflow_y": null,
            "overflow_x": null,
            "grid_auto_flow": null,
            "grid_area": null,
            "grid_template_columns": null,
            "flex": null,
            "_model_name": "LayoutModel",
            "justify_items": null,
            "grid_row": null,
            "max_height": null,
            "align_content": null,
            "visibility": null,
            "align_self": null,
            "height": null,
            "min_height": null,
            "padding": null,
            "grid_auto_rows": null,
            "grid_gap": null,
            "max_width": null,
            "order": null,
            "_view_module_version": "1.2.0",
            "grid_template_areas": null,
            "object_position": null,
            "object_fit": null,
            "grid_auto_columns": null,
            "margin": null,
            "display": null,
            "left": null
          }
        },
        "79818c24e3584226bcaa03ed885a8c4c": {
          "model_module": "@jupyter-widgets/controls",
          "model_name": "HTMLModel",
          "model_module_version": "1.5.0",
          "state": {
            "_view_name": "HTMLView",
            "style": "IPY_MODEL_53f5d14d1ec446bcb8b5036cceddba0c",
            "_dom_classes": [],
            "description": "",
            "_model_name": "HTMLModel",
            "placeholder": "​",
            "_view_module": "@jupyter-widgets/controls",
            "_model_module_version": "1.5.0",
            "value": "",
            "_view_count": null,
            "_view_module_version": "1.5.0",
            "description_tooltip": null,
            "_model_module": "@jupyter-widgets/controls",
            "layout": "IPY_MODEL_c9be0b1ecaf04296a8bf011d28d0892c"
          }
        },
        "e078d5bb693d4a829ebd6e49f9d77852": {
          "model_module": "@jupyter-widgets/controls",
          "model_name": "FloatProgressModel",
          "model_module_version": "1.5.0",
          "state": {
            "_view_name": "ProgressView",
            "style": "IPY_MODEL_d0ced21899594aef91da393ca601d5a9",
            "_dom_classes": [],
            "description": "",
            "_model_name": "FloatProgressModel",
            "bar_style": "success",
            "max": 1,
            "_view_module": "@jupyter-widgets/controls",
            "_model_module_version": "1.5.0",
            "value": 1,
            "_view_count": null,
            "_view_module_version": "1.5.0",
            "orientation": "horizontal",
            "min": 0,
            "description_tooltip": null,
            "_model_module": "@jupyter-widgets/controls",
            "layout": "IPY_MODEL_79922c5f576040829e6d8be822da5e75"
          }
        },
        "9b05c46a86a6490891184884bf15bb1c": {
          "model_module": "@jupyter-widgets/controls",
          "model_name": "HTMLModel",
          "model_module_version": "1.5.0",
          "state": {
            "_view_name": "HTMLView",
            "style": "IPY_MODEL_200168643b304dd7960e8b7f73351097",
            "_dom_classes": [],
            "description": "",
            "_model_name": "HTMLModel",
            "placeholder": "​",
            "_view_module": "@jupyter-widgets/controls",
            "_model_module_version": "1.5.0",
            "value": " 109/? [00:23&lt;00:00,  4.44ex/s]",
            "_view_count": null,
            "_view_module_version": "1.5.0",
            "description_tooltip": null,
            "_model_module": "@jupyter-widgets/controls",
            "layout": "IPY_MODEL_531ed9f48036443c8df3ddf7cd0761b2"
          }
        },
        "53f5d14d1ec446bcb8b5036cceddba0c": {
          "model_module": "@jupyter-widgets/controls",
          "model_name": "DescriptionStyleModel",
          "model_module_version": "1.5.0",
          "state": {
            "_view_name": "StyleView",
            "_model_name": "DescriptionStyleModel",
            "description_width": "",
            "_view_module": "@jupyter-widgets/base",
            "_model_module_version": "1.5.0",
            "_view_count": null,
            "_view_module_version": "1.2.0",
            "_model_module": "@jupyter-widgets/controls"
          }
        },
        "c9be0b1ecaf04296a8bf011d28d0892c": {
          "model_module": "@jupyter-widgets/base",
          "model_name": "LayoutModel",
          "model_module_version": "1.2.0",
          "state": {
            "_view_name": "LayoutView",
            "grid_template_rows": null,
            "right": null,
            "justify_content": null,
            "_view_module": "@jupyter-widgets/base",
            "overflow": null,
            "_model_module_version": "1.2.0",
            "_view_count": null,
            "flex_flow": null,
            "width": null,
            "min_width": null,
            "border": null,
            "align_items": null,
            "bottom": null,
            "_model_module": "@jupyter-widgets/base",
            "top": null,
            "grid_column": null,
            "overflow_y": null,
            "overflow_x": null,
            "grid_auto_flow": null,
            "grid_area": null,
            "grid_template_columns": null,
            "flex": null,
            "_model_name": "LayoutModel",
            "justify_items": null,
            "grid_row": null,
            "max_height": null,
            "align_content": null,
            "visibility": null,
            "align_self": null,
            "height": null,
            "min_height": null,
            "padding": null,
            "grid_auto_rows": null,
            "grid_gap": null,
            "max_width": null,
            "order": null,
            "_view_module_version": "1.2.0",
            "grid_template_areas": null,
            "object_position": null,
            "object_fit": null,
            "grid_auto_columns": null,
            "margin": null,
            "display": null,
            "left": null
          }
        },
        "d0ced21899594aef91da393ca601d5a9": {
          "model_module": "@jupyter-widgets/controls",
          "model_name": "ProgressStyleModel",
          "model_module_version": "1.5.0",
          "state": {
            "_view_name": "StyleView",
            "_model_name": "ProgressStyleModel",
            "description_width": "",
            "_view_module": "@jupyter-widgets/base",
            "_model_module_version": "1.5.0",
            "_view_count": null,
            "_view_module_version": "1.2.0",
            "bar_color": null,
            "_model_module": "@jupyter-widgets/controls"
          }
        },
        "79922c5f576040829e6d8be822da5e75": {
          "model_module": "@jupyter-widgets/base",
          "model_name": "LayoutModel",
          "model_module_version": "1.2.0",
          "state": {
            "_view_name": "LayoutView",
            "grid_template_rows": null,
            "right": null,
            "justify_content": null,
            "_view_module": "@jupyter-widgets/base",
            "overflow": null,
            "_model_module_version": "1.2.0",
            "_view_count": null,
            "flex_flow": null,
            "width": "20px",
            "min_width": null,
            "border": null,
            "align_items": null,
            "bottom": null,
            "_model_module": "@jupyter-widgets/base",
            "top": null,
            "grid_column": null,
            "overflow_y": null,
            "overflow_x": null,
            "grid_auto_flow": null,
            "grid_area": null,
            "grid_template_columns": null,
            "flex": null,
            "_model_name": "LayoutModel",
            "justify_items": null,
            "grid_row": null,
            "max_height": null,
            "align_content": null,
            "visibility": null,
            "align_self": null,
            "height": null,
            "min_height": null,
            "padding": null,
            "grid_auto_rows": null,
            "grid_gap": null,
            "max_width": null,
            "order": null,
            "_view_module_version": "1.2.0",
            "grid_template_areas": null,
            "object_position": null,
            "object_fit": null,
            "grid_auto_columns": null,
            "margin": null,
            "display": null,
            "left": null
          }
        },
        "200168643b304dd7960e8b7f73351097": {
          "model_module": "@jupyter-widgets/controls",
          "model_name": "DescriptionStyleModel",
          "model_module_version": "1.5.0",
          "state": {
            "_view_name": "StyleView",
            "_model_name": "DescriptionStyleModel",
            "description_width": "",
            "_view_module": "@jupyter-widgets/base",
            "_model_module_version": "1.5.0",
            "_view_count": null,
            "_view_module_version": "1.2.0",
            "_model_module": "@jupyter-widgets/controls"
          }
        },
        "531ed9f48036443c8df3ddf7cd0761b2": {
          "model_module": "@jupyter-widgets/base",
          "model_name": "LayoutModel",
          "model_module_version": "1.2.0",
          "state": {
            "_view_name": "LayoutView",
            "grid_template_rows": null,
            "right": null,
            "justify_content": null,
            "_view_module": "@jupyter-widgets/base",
            "overflow": null,
            "_model_module_version": "1.2.0",
            "_view_count": null,
            "flex_flow": null,
            "width": null,
            "min_width": null,
            "border": null,
            "align_items": null,
            "bottom": null,
            "_model_module": "@jupyter-widgets/base",
            "top": null,
            "grid_column": null,
            "overflow_y": null,
            "overflow_x": null,
            "grid_auto_flow": null,
            "grid_area": null,
            "grid_template_columns": null,
            "flex": null,
            "_model_name": "LayoutModel",
            "justify_items": null,
            "grid_row": null,
            "max_height": null,
            "align_content": null,
            "visibility": null,
            "align_self": null,
            "height": null,
            "min_height": null,
            "padding": null,
            "grid_auto_rows": null,
            "grid_gap": null,
            "max_width": null,
            "order": null,
            "_view_module_version": "1.2.0",
            "grid_template_areas": null,
            "object_position": null,
            "object_fit": null,
            "grid_auto_columns": null,
            "margin": null,
            "display": null,
            "left": null
          }
        },
        "d9efcb972e2c498b8fb9f2476d47eeaf": {
          "model_module": "@jupyter-widgets/controls",
          "model_name": "HBoxModel",
          "model_module_version": "1.5.0",
          "state": {
            "_view_name": "HBoxView",
            "_dom_classes": [],
            "_model_name": "HBoxModel",
            "_view_module": "@jupyter-widgets/controls",
            "_model_module_version": "1.5.0",
            "_view_count": null,
            "_view_module_version": "1.5.0",
            "box_style": "",
            "layout": "IPY_MODEL_c4b6553c19d342d4b96a95e64789cda1",
            "_model_module": "@jupyter-widgets/controls",
            "children": [
              "IPY_MODEL_bb071e9c5f1842baa0b2c0c847947e6d",
              "IPY_MODEL_5c085a3956ee4246a6cf3d2c070ffec7",
              "IPY_MODEL_c097fe898d6f48bca12d51b59e3ff91d"
            ]
          }
        },
        "c4b6553c19d342d4b96a95e64789cda1": {
          "model_module": "@jupyter-widgets/base",
          "model_name": "LayoutModel",
          "model_module_version": "1.2.0",
          "state": {
            "_view_name": "LayoutView",
            "grid_template_rows": null,
            "right": null,
            "justify_content": null,
            "_view_module": "@jupyter-widgets/base",
            "overflow": null,
            "_model_module_version": "1.2.0",
            "_view_count": null,
            "flex_flow": null,
            "width": null,
            "min_width": null,
            "border": null,
            "align_items": null,
            "bottom": null,
            "_model_module": "@jupyter-widgets/base",
            "top": null,
            "grid_column": null,
            "overflow_y": null,
            "overflow_x": null,
            "grid_auto_flow": null,
            "grid_area": null,
            "grid_template_columns": null,
            "flex": null,
            "_model_name": "LayoutModel",
            "justify_items": null,
            "grid_row": null,
            "max_height": null,
            "align_content": null,
            "visibility": null,
            "align_self": null,
            "height": null,
            "min_height": null,
            "padding": null,
            "grid_auto_rows": null,
            "grid_gap": null,
            "max_width": null,
            "order": null,
            "_view_module_version": "1.2.0",
            "grid_template_areas": null,
            "object_position": null,
            "object_fit": null,
            "grid_auto_columns": null,
            "margin": null,
            "display": null,
            "left": null
          }
        },
        "bb071e9c5f1842baa0b2c0c847947e6d": {
          "model_module": "@jupyter-widgets/controls",
          "model_name": "HTMLModel",
          "model_module_version": "1.5.0",
          "state": {
            "_view_name": "HTMLView",
            "style": "IPY_MODEL_0eba3c2e888f4c65bf83486a17b0a5e6",
            "_dom_classes": [],
            "description": "",
            "_model_name": "HTMLModel",
            "placeholder": "​",
            "_view_module": "@jupyter-widgets/controls",
            "_model_module_version": "1.5.0",
            "value": "100%",
            "_view_count": null,
            "_view_module_version": "1.5.0",
            "description_tooltip": null,
            "_model_module": "@jupyter-widgets/controls",
            "layout": "IPY_MODEL_b5a60ad724ce4b20994df99f861c7697"
          }
        },
        "5c085a3956ee4246a6cf3d2c070ffec7": {
          "model_module": "@jupyter-widgets/controls",
          "model_name": "FloatProgressModel",
          "model_module_version": "1.5.0",
          "state": {
            "_view_name": "ProgressView",
            "style": "IPY_MODEL_249fc672e41a46ca84d6b072b99e5329",
            "_dom_classes": [],
            "description": "",
            "_model_name": "FloatProgressModel",
            "bar_style": "success",
            "max": 6,
            "_view_module": "@jupyter-widgets/controls",
            "_model_module_version": "1.5.0",
            "value": 6,
            "_view_count": null,
            "_view_module_version": "1.5.0",
            "orientation": "horizontal",
            "min": 0,
            "description_tooltip": null,
            "_model_module": "@jupyter-widgets/controls",
            "layout": "IPY_MODEL_98020ff1213c48729f6be5380ba4a652"
          }
        },
        "c097fe898d6f48bca12d51b59e3ff91d": {
          "model_module": "@jupyter-widgets/controls",
          "model_name": "HTMLModel",
          "model_module_version": "1.5.0",
          "state": {
            "_view_name": "HTMLView",
            "style": "IPY_MODEL_9e5a32ad6ceb4318acddca0f28e3c3d8",
            "_dom_classes": [],
            "description": "",
            "_model_name": "HTMLModel",
            "placeholder": "​",
            "_view_module": "@jupyter-widgets/controls",
            "_model_module_version": "1.5.0",
            "value": " 6/6 [00:00&lt;00:00, 84.38ba/s]",
            "_view_count": null,
            "_view_module_version": "1.5.0",
            "description_tooltip": null,
            "_model_module": "@jupyter-widgets/controls",
            "layout": "IPY_MODEL_2755dff6ff7049608208629b934bbe0c"
          }
        },
        "0eba3c2e888f4c65bf83486a17b0a5e6": {
          "model_module": "@jupyter-widgets/controls",
          "model_name": "DescriptionStyleModel",
          "model_module_version": "1.5.0",
          "state": {
            "_view_name": "StyleView",
            "_model_name": "DescriptionStyleModel",
            "description_width": "",
            "_view_module": "@jupyter-widgets/base",
            "_model_module_version": "1.5.0",
            "_view_count": null,
            "_view_module_version": "1.2.0",
            "_model_module": "@jupyter-widgets/controls"
          }
        },
        "b5a60ad724ce4b20994df99f861c7697": {
          "model_module": "@jupyter-widgets/base",
          "model_name": "LayoutModel",
          "model_module_version": "1.2.0",
          "state": {
            "_view_name": "LayoutView",
            "grid_template_rows": null,
            "right": null,
            "justify_content": null,
            "_view_module": "@jupyter-widgets/base",
            "overflow": null,
            "_model_module_version": "1.2.0",
            "_view_count": null,
            "flex_flow": null,
            "width": null,
            "min_width": null,
            "border": null,
            "align_items": null,
            "bottom": null,
            "_model_module": "@jupyter-widgets/base",
            "top": null,
            "grid_column": null,
            "overflow_y": null,
            "overflow_x": null,
            "grid_auto_flow": null,
            "grid_area": null,
            "grid_template_columns": null,
            "flex": null,
            "_model_name": "LayoutModel",
            "justify_items": null,
            "grid_row": null,
            "max_height": null,
            "align_content": null,
            "visibility": null,
            "align_self": null,
            "height": null,
            "min_height": null,
            "padding": null,
            "grid_auto_rows": null,
            "grid_gap": null,
            "max_width": null,
            "order": null,
            "_view_module_version": "1.2.0",
            "grid_template_areas": null,
            "object_position": null,
            "object_fit": null,
            "grid_auto_columns": null,
            "margin": null,
            "display": null,
            "left": null
          }
        },
        "249fc672e41a46ca84d6b072b99e5329": {
          "model_module": "@jupyter-widgets/controls",
          "model_name": "ProgressStyleModel",
          "model_module_version": "1.5.0",
          "state": {
            "_view_name": "StyleView",
            "_model_name": "ProgressStyleModel",
            "description_width": "",
            "_view_module": "@jupyter-widgets/base",
            "_model_module_version": "1.5.0",
            "_view_count": null,
            "_view_module_version": "1.2.0",
            "bar_color": null,
            "_model_module": "@jupyter-widgets/controls"
          }
        },
        "98020ff1213c48729f6be5380ba4a652": {
          "model_module": "@jupyter-widgets/base",
          "model_name": "LayoutModel",
          "model_module_version": "1.2.0",
          "state": {
            "_view_name": "LayoutView",
            "grid_template_rows": null,
            "right": null,
            "justify_content": null,
            "_view_module": "@jupyter-widgets/base",
            "overflow": null,
            "_model_module_version": "1.2.0",
            "_view_count": null,
            "flex_flow": null,
            "width": null,
            "min_width": null,
            "border": null,
            "align_items": null,
            "bottom": null,
            "_model_module": "@jupyter-widgets/base",
            "top": null,
            "grid_column": null,
            "overflow_y": null,
            "overflow_x": null,
            "grid_auto_flow": null,
            "grid_area": null,
            "grid_template_columns": null,
            "flex": null,
            "_model_name": "LayoutModel",
            "justify_items": null,
            "grid_row": null,
            "max_height": null,
            "align_content": null,
            "visibility": null,
            "align_self": null,
            "height": null,
            "min_height": null,
            "padding": null,
            "grid_auto_rows": null,
            "grid_gap": null,
            "max_width": null,
            "order": null,
            "_view_module_version": "1.2.0",
            "grid_template_areas": null,
            "object_position": null,
            "object_fit": null,
            "grid_auto_columns": null,
            "margin": null,
            "display": null,
            "left": null
          }
        },
        "9e5a32ad6ceb4318acddca0f28e3c3d8": {
          "model_module": "@jupyter-widgets/controls",
          "model_name": "DescriptionStyleModel",
          "model_module_version": "1.5.0",
          "state": {
            "_view_name": "StyleView",
            "_model_name": "DescriptionStyleModel",
            "description_width": "",
            "_view_module": "@jupyter-widgets/base",
            "_model_module_version": "1.5.0",
            "_view_count": null,
            "_view_module_version": "1.2.0",
            "_model_module": "@jupyter-widgets/controls"
          }
        },
        "2755dff6ff7049608208629b934bbe0c": {
          "model_module": "@jupyter-widgets/base",
          "model_name": "LayoutModel",
          "model_module_version": "1.2.0",
          "state": {
            "_view_name": "LayoutView",
            "grid_template_rows": null,
            "right": null,
            "justify_content": null,
            "_view_module": "@jupyter-widgets/base",
            "overflow": null,
            "_model_module_version": "1.2.0",
            "_view_count": null,
            "flex_flow": null,
            "width": null,
            "min_width": null,
            "border": null,
            "align_items": null,
            "bottom": null,
            "_model_module": "@jupyter-widgets/base",
            "top": null,
            "grid_column": null,
            "overflow_y": null,
            "overflow_x": null,
            "grid_auto_flow": null,
            "grid_area": null,
            "grid_template_columns": null,
            "flex": null,
            "_model_name": "LayoutModel",
            "justify_items": null,
            "grid_row": null,
            "max_height": null,
            "align_content": null,
            "visibility": null,
            "align_self": null,
            "height": null,
            "min_height": null,
            "padding": null,
            "grid_auto_rows": null,
            "grid_gap": null,
            "max_width": null,
            "order": null,
            "_view_module_version": "1.2.0",
            "grid_template_areas": null,
            "object_position": null,
            "object_fit": null,
            "grid_auto_columns": null,
            "margin": null,
            "display": null,
            "left": null
          }
        },
        "0cfc48a739d84d3daf8f7b8918198100": {
          "model_module": "@jupyter-widgets/controls",
          "model_name": "HBoxModel",
          "model_module_version": "1.5.0",
          "state": {
            "_view_name": "HBoxView",
            "_dom_classes": [],
            "_model_name": "HBoxModel",
            "_view_module": "@jupyter-widgets/controls",
            "_model_module_version": "1.5.0",
            "_view_count": null,
            "_view_module_version": "1.5.0",
            "box_style": "",
            "layout": "IPY_MODEL_7a6893c36a944bb0a24df85b04e55503",
            "_model_module": "@jupyter-widgets/controls",
            "children": [
              "IPY_MODEL_ee6e07bb4bbb492fa6ce63771fbfc87f",
              "IPY_MODEL_753ce13ba8bd45a3aed0f03a23330fde",
              "IPY_MODEL_97be4827d97042e281b8e088eda82f87"
            ]
          }
        },
        "7a6893c36a944bb0a24df85b04e55503": {
          "model_module": "@jupyter-widgets/base",
          "model_name": "LayoutModel",
          "model_module_version": "1.2.0",
          "state": {
            "_view_name": "LayoutView",
            "grid_template_rows": null,
            "right": null,
            "justify_content": null,
            "_view_module": "@jupyter-widgets/base",
            "overflow": null,
            "_model_module_version": "1.2.0",
            "_view_count": null,
            "flex_flow": null,
            "width": null,
            "min_width": null,
            "border": null,
            "align_items": null,
            "bottom": null,
            "_model_module": "@jupyter-widgets/base",
            "top": null,
            "grid_column": null,
            "overflow_y": null,
            "overflow_x": null,
            "grid_auto_flow": null,
            "grid_area": null,
            "grid_template_columns": null,
            "flex": null,
            "_model_name": "LayoutModel",
            "justify_items": null,
            "grid_row": null,
            "max_height": null,
            "align_content": null,
            "visibility": null,
            "align_self": null,
            "height": null,
            "min_height": null,
            "padding": null,
            "grid_auto_rows": null,
            "grid_gap": null,
            "max_width": null,
            "order": null,
            "_view_module_version": "1.2.0",
            "grid_template_areas": null,
            "object_position": null,
            "object_fit": null,
            "grid_auto_columns": null,
            "margin": null,
            "display": null,
            "left": null
          }
        },
        "ee6e07bb4bbb492fa6ce63771fbfc87f": {
          "model_module": "@jupyter-widgets/controls",
          "model_name": "HTMLModel",
          "model_module_version": "1.5.0",
          "state": {
            "_view_name": "HTMLView",
            "style": "IPY_MODEL_e9ca1a94914041b6897515fa3bfeffb3",
            "_dom_classes": [],
            "description": "",
            "_model_name": "HTMLModel",
            "placeholder": "​",
            "_view_module": "@jupyter-widgets/controls",
            "_model_module_version": "1.5.0",
            "value": "",
            "_view_count": null,
            "_view_module_version": "1.5.0",
            "description_tooltip": null,
            "_model_module": "@jupyter-widgets/controls",
            "layout": "IPY_MODEL_e200ade6bc554759ac765fbe1bf7b2af"
          }
        },
        "753ce13ba8bd45a3aed0f03a23330fde": {
          "model_module": "@jupyter-widgets/controls",
          "model_name": "FloatProgressModel",
          "model_module_version": "1.5.0",
          "state": {
            "_view_name": "ProgressView",
            "style": "IPY_MODEL_478953dcd44f4164a1e1ee29b3e92694",
            "_dom_classes": [],
            "description": "",
            "_model_name": "FloatProgressModel",
            "bar_style": "success",
            "max": 1,
            "_view_module": "@jupyter-widgets/controls",
            "_model_module_version": "1.5.0",
            "value": 1,
            "_view_count": null,
            "_view_module_version": "1.5.0",
            "orientation": "horizontal",
            "min": 0,
            "description_tooltip": null,
            "_model_module": "@jupyter-widgets/controls",
            "layout": "IPY_MODEL_b7b0d1a446de48c2b96afa649636e2c2"
          }
        },
        "97be4827d97042e281b8e088eda82f87": {
          "model_module": "@jupyter-widgets/controls",
          "model_name": "HTMLModel",
          "model_module_version": "1.5.0",
          "state": {
            "_view_name": "HTMLView",
            "style": "IPY_MODEL_0db74e8c24fd437fb236d8866bf665eb",
            "_dom_classes": [],
            "description": "",
            "_model_name": "HTMLModel",
            "placeholder": "​",
            "_view_module": "@jupyter-widgets/controls",
            "_model_module_version": "1.5.0",
            "value": " 109/? [00:23&lt;00:00,  4.58ex/s]",
            "_view_count": null,
            "_view_module_version": "1.5.0",
            "description_tooltip": null,
            "_model_module": "@jupyter-widgets/controls",
            "layout": "IPY_MODEL_c66e9380a7a44c308f71ffeab1a03536"
          }
        },
        "e9ca1a94914041b6897515fa3bfeffb3": {
          "model_module": "@jupyter-widgets/controls",
          "model_name": "DescriptionStyleModel",
          "model_module_version": "1.5.0",
          "state": {
            "_view_name": "StyleView",
            "_model_name": "DescriptionStyleModel",
            "description_width": "",
            "_view_module": "@jupyter-widgets/base",
            "_model_module_version": "1.5.0",
            "_view_count": null,
            "_view_module_version": "1.2.0",
            "_model_module": "@jupyter-widgets/controls"
          }
        },
        "e200ade6bc554759ac765fbe1bf7b2af": {
          "model_module": "@jupyter-widgets/base",
          "model_name": "LayoutModel",
          "model_module_version": "1.2.0",
          "state": {
            "_view_name": "LayoutView",
            "grid_template_rows": null,
            "right": null,
            "justify_content": null,
            "_view_module": "@jupyter-widgets/base",
            "overflow": null,
            "_model_module_version": "1.2.0",
            "_view_count": null,
            "flex_flow": null,
            "width": null,
            "min_width": null,
            "border": null,
            "align_items": null,
            "bottom": null,
            "_model_module": "@jupyter-widgets/base",
            "top": null,
            "grid_column": null,
            "overflow_y": null,
            "overflow_x": null,
            "grid_auto_flow": null,
            "grid_area": null,
            "grid_template_columns": null,
            "flex": null,
            "_model_name": "LayoutModel",
            "justify_items": null,
            "grid_row": null,
            "max_height": null,
            "align_content": null,
            "visibility": null,
            "align_self": null,
            "height": null,
            "min_height": null,
            "padding": null,
            "grid_auto_rows": null,
            "grid_gap": null,
            "max_width": null,
            "order": null,
            "_view_module_version": "1.2.0",
            "grid_template_areas": null,
            "object_position": null,
            "object_fit": null,
            "grid_auto_columns": null,
            "margin": null,
            "display": null,
            "left": null
          }
        },
        "478953dcd44f4164a1e1ee29b3e92694": {
          "model_module": "@jupyter-widgets/controls",
          "model_name": "ProgressStyleModel",
          "model_module_version": "1.5.0",
          "state": {
            "_view_name": "StyleView",
            "_model_name": "ProgressStyleModel",
            "description_width": "",
            "_view_module": "@jupyter-widgets/base",
            "_model_module_version": "1.5.0",
            "_view_count": null,
            "_view_module_version": "1.2.0",
            "bar_color": null,
            "_model_module": "@jupyter-widgets/controls"
          }
        },
        "b7b0d1a446de48c2b96afa649636e2c2": {
          "model_module": "@jupyter-widgets/base",
          "model_name": "LayoutModel",
          "model_module_version": "1.2.0",
          "state": {
            "_view_name": "LayoutView",
            "grid_template_rows": null,
            "right": null,
            "justify_content": null,
            "_view_module": "@jupyter-widgets/base",
            "overflow": null,
            "_model_module_version": "1.2.0",
            "_view_count": null,
            "flex_flow": null,
            "width": "20px",
            "min_width": null,
            "border": null,
            "align_items": null,
            "bottom": null,
            "_model_module": "@jupyter-widgets/base",
            "top": null,
            "grid_column": null,
            "overflow_y": null,
            "overflow_x": null,
            "grid_auto_flow": null,
            "grid_area": null,
            "grid_template_columns": null,
            "flex": null,
            "_model_name": "LayoutModel",
            "justify_items": null,
            "grid_row": null,
            "max_height": null,
            "align_content": null,
            "visibility": null,
            "align_self": null,
            "height": null,
            "min_height": null,
            "padding": null,
            "grid_auto_rows": null,
            "grid_gap": null,
            "max_width": null,
            "order": null,
            "_view_module_version": "1.2.0",
            "grid_template_areas": null,
            "object_position": null,
            "object_fit": null,
            "grid_auto_columns": null,
            "margin": null,
            "display": null,
            "left": null
          }
        },
        "0db74e8c24fd437fb236d8866bf665eb": {
          "model_module": "@jupyter-widgets/controls",
          "model_name": "DescriptionStyleModel",
          "model_module_version": "1.5.0",
          "state": {
            "_view_name": "StyleView",
            "_model_name": "DescriptionStyleModel",
            "description_width": "",
            "_view_module": "@jupyter-widgets/base",
            "_model_module_version": "1.5.0",
            "_view_count": null,
            "_view_module_version": "1.2.0",
            "_model_module": "@jupyter-widgets/controls"
          }
        },
        "c66e9380a7a44c308f71ffeab1a03536": {
          "model_module": "@jupyter-widgets/base",
          "model_name": "LayoutModel",
          "model_module_version": "1.2.0",
          "state": {
            "_view_name": "LayoutView",
            "grid_template_rows": null,
            "right": null,
            "justify_content": null,
            "_view_module": "@jupyter-widgets/base",
            "overflow": null,
            "_model_module_version": "1.2.0",
            "_view_count": null,
            "flex_flow": null,
            "width": null,
            "min_width": null,
            "border": null,
            "align_items": null,
            "bottom": null,
            "_model_module": "@jupyter-widgets/base",
            "top": null,
            "grid_column": null,
            "overflow_y": null,
            "overflow_x": null,
            "grid_auto_flow": null,
            "grid_area": null,
            "grid_template_columns": null,
            "flex": null,
            "_model_name": "LayoutModel",
            "justify_items": null,
            "grid_row": null,
            "max_height": null,
            "align_content": null,
            "visibility": null,
            "align_self": null,
            "height": null,
            "min_height": null,
            "padding": null,
            "grid_auto_rows": null,
            "grid_gap": null,
            "max_width": null,
            "order": null,
            "_view_module_version": "1.2.0",
            "grid_template_areas": null,
            "object_position": null,
            "object_fit": null,
            "grid_auto_columns": null,
            "margin": null,
            "display": null,
            "left": null
          }
        },
        "2f03ef7cab1e459db6dc3d0ab415b8db": {
          "model_module": "@jupyter-widgets/controls",
          "model_name": "HBoxModel",
          "model_module_version": "1.5.0",
          "state": {
            "_view_name": "HBoxView",
            "_dom_classes": [],
            "_model_name": "HBoxModel",
            "_view_module": "@jupyter-widgets/controls",
            "_model_module_version": "1.5.0",
            "_view_count": null,
            "_view_module_version": "1.5.0",
            "box_style": "",
            "layout": "IPY_MODEL_b606f50723ac4f62a34d88c0787e3d4a",
            "_model_module": "@jupyter-widgets/controls",
            "children": [
              "IPY_MODEL_62acafdf3f274d8d9a9d4cb1c255eda2",
              "IPY_MODEL_d0333c76a24244c1902cc1db7cea8aae",
              "IPY_MODEL_b98111836543471b864768c37eab01ba"
            ]
          }
        },
        "b606f50723ac4f62a34d88c0787e3d4a": {
          "model_module": "@jupyter-widgets/base",
          "model_name": "LayoutModel",
          "model_module_version": "1.2.0",
          "state": {
            "_view_name": "LayoutView",
            "grid_template_rows": null,
            "right": null,
            "justify_content": null,
            "_view_module": "@jupyter-widgets/base",
            "overflow": null,
            "_model_module_version": "1.2.0",
            "_view_count": null,
            "flex_flow": null,
            "width": null,
            "min_width": null,
            "border": null,
            "align_items": null,
            "bottom": null,
            "_model_module": "@jupyter-widgets/base",
            "top": null,
            "grid_column": null,
            "overflow_y": null,
            "overflow_x": null,
            "grid_auto_flow": null,
            "grid_area": null,
            "grid_template_columns": null,
            "flex": null,
            "_model_name": "LayoutModel",
            "justify_items": null,
            "grid_row": null,
            "max_height": null,
            "align_content": null,
            "visibility": null,
            "align_self": null,
            "height": null,
            "min_height": null,
            "padding": null,
            "grid_auto_rows": null,
            "grid_gap": null,
            "max_width": null,
            "order": null,
            "_view_module_version": "1.2.0",
            "grid_template_areas": null,
            "object_position": null,
            "object_fit": null,
            "grid_auto_columns": null,
            "margin": null,
            "display": null,
            "left": null
          }
        },
        "62acafdf3f274d8d9a9d4cb1c255eda2": {
          "model_module": "@jupyter-widgets/controls",
          "model_name": "HTMLModel",
          "model_module_version": "1.5.0",
          "state": {
            "_view_name": "HTMLView",
            "style": "IPY_MODEL_77efeee66c4f4c76bb799124a78eb833",
            "_dom_classes": [],
            "description": "",
            "_model_name": "HTMLModel",
            "placeholder": "​",
            "_view_module": "@jupyter-widgets/controls",
            "_model_module_version": "1.5.0",
            "value": "100%",
            "_view_count": null,
            "_view_module_version": "1.5.0",
            "description_tooltip": null,
            "_model_module": "@jupyter-widgets/controls",
            "layout": "IPY_MODEL_50190b76c73749fbab1545ab11fe577a"
          }
        },
        "d0333c76a24244c1902cc1db7cea8aae": {
          "model_module": "@jupyter-widgets/controls",
          "model_name": "FloatProgressModel",
          "model_module_version": "1.5.0",
          "state": {
            "_view_name": "ProgressView",
            "style": "IPY_MODEL_916c8302ca334261bf9efe581cdaf278",
            "_dom_classes": [],
            "description": "",
            "_model_name": "FloatProgressModel",
            "bar_style": "success",
            "max": 6,
            "_view_module": "@jupyter-widgets/controls",
            "_model_module_version": "1.5.0",
            "value": 6,
            "_view_count": null,
            "_view_module_version": "1.5.0",
            "orientation": "horizontal",
            "min": 0,
            "description_tooltip": null,
            "_model_module": "@jupyter-widgets/controls",
            "layout": "IPY_MODEL_8cd87aa26dab466d889b61d29cb24d58"
          }
        },
        "b98111836543471b864768c37eab01ba": {
          "model_module": "@jupyter-widgets/controls",
          "model_name": "HTMLModel",
          "model_module_version": "1.5.0",
          "state": {
            "_view_name": "HTMLView",
            "style": "IPY_MODEL_53ad83fb7ff446389f9fbc7fc05c6e56",
            "_dom_classes": [],
            "description": "",
            "_model_name": "HTMLModel",
            "placeholder": "​",
            "_view_module": "@jupyter-widgets/controls",
            "_model_module_version": "1.5.0",
            "value": " 6/6 [00:00&lt;00:00, 84.80ba/s]",
            "_view_count": null,
            "_view_module_version": "1.5.0",
            "description_tooltip": null,
            "_model_module": "@jupyter-widgets/controls",
            "layout": "IPY_MODEL_497954a3deed4388af71928a83ea655b"
          }
        },
        "77efeee66c4f4c76bb799124a78eb833": {
          "model_module": "@jupyter-widgets/controls",
          "model_name": "DescriptionStyleModel",
          "model_module_version": "1.5.0",
          "state": {
            "_view_name": "StyleView",
            "_model_name": "DescriptionStyleModel",
            "description_width": "",
            "_view_module": "@jupyter-widgets/base",
            "_model_module_version": "1.5.0",
            "_view_count": null,
            "_view_module_version": "1.2.0",
            "_model_module": "@jupyter-widgets/controls"
          }
        },
        "50190b76c73749fbab1545ab11fe577a": {
          "model_module": "@jupyter-widgets/base",
          "model_name": "LayoutModel",
          "model_module_version": "1.2.0",
          "state": {
            "_view_name": "LayoutView",
            "grid_template_rows": null,
            "right": null,
            "justify_content": null,
            "_view_module": "@jupyter-widgets/base",
            "overflow": null,
            "_model_module_version": "1.2.0",
            "_view_count": null,
            "flex_flow": null,
            "width": null,
            "min_width": null,
            "border": null,
            "align_items": null,
            "bottom": null,
            "_model_module": "@jupyter-widgets/base",
            "top": null,
            "grid_column": null,
            "overflow_y": null,
            "overflow_x": null,
            "grid_auto_flow": null,
            "grid_area": null,
            "grid_template_columns": null,
            "flex": null,
            "_model_name": "LayoutModel",
            "justify_items": null,
            "grid_row": null,
            "max_height": null,
            "align_content": null,
            "visibility": null,
            "align_self": null,
            "height": null,
            "min_height": null,
            "padding": null,
            "grid_auto_rows": null,
            "grid_gap": null,
            "max_width": null,
            "order": null,
            "_view_module_version": "1.2.0",
            "grid_template_areas": null,
            "object_position": null,
            "object_fit": null,
            "grid_auto_columns": null,
            "margin": null,
            "display": null,
            "left": null
          }
        },
        "916c8302ca334261bf9efe581cdaf278": {
          "model_module": "@jupyter-widgets/controls",
          "model_name": "ProgressStyleModel",
          "model_module_version": "1.5.0",
          "state": {
            "_view_name": "StyleView",
            "_model_name": "ProgressStyleModel",
            "description_width": "",
            "_view_module": "@jupyter-widgets/base",
            "_model_module_version": "1.5.0",
            "_view_count": null,
            "_view_module_version": "1.2.0",
            "bar_color": null,
            "_model_module": "@jupyter-widgets/controls"
          }
        },
        "8cd87aa26dab466d889b61d29cb24d58": {
          "model_module": "@jupyter-widgets/base",
          "model_name": "LayoutModel",
          "model_module_version": "1.2.0",
          "state": {
            "_view_name": "LayoutView",
            "grid_template_rows": null,
            "right": null,
            "justify_content": null,
            "_view_module": "@jupyter-widgets/base",
            "overflow": null,
            "_model_module_version": "1.2.0",
            "_view_count": null,
            "flex_flow": null,
            "width": null,
            "min_width": null,
            "border": null,
            "align_items": null,
            "bottom": null,
            "_model_module": "@jupyter-widgets/base",
            "top": null,
            "grid_column": null,
            "overflow_y": null,
            "overflow_x": null,
            "grid_auto_flow": null,
            "grid_area": null,
            "grid_template_columns": null,
            "flex": null,
            "_model_name": "LayoutModel",
            "justify_items": null,
            "grid_row": null,
            "max_height": null,
            "align_content": null,
            "visibility": null,
            "align_self": null,
            "height": null,
            "min_height": null,
            "padding": null,
            "grid_auto_rows": null,
            "grid_gap": null,
            "max_width": null,
            "order": null,
            "_view_module_version": "1.2.0",
            "grid_template_areas": null,
            "object_position": null,
            "object_fit": null,
            "grid_auto_columns": null,
            "margin": null,
            "display": null,
            "left": null
          }
        },
        "53ad83fb7ff446389f9fbc7fc05c6e56": {
          "model_module": "@jupyter-widgets/controls",
          "model_name": "DescriptionStyleModel",
          "model_module_version": "1.5.0",
          "state": {
            "_view_name": "StyleView",
            "_model_name": "DescriptionStyleModel",
            "description_width": "",
            "_view_module": "@jupyter-widgets/base",
            "_model_module_version": "1.5.0",
            "_view_count": null,
            "_view_module_version": "1.2.0",
            "_model_module": "@jupyter-widgets/controls"
          }
        },
        "497954a3deed4388af71928a83ea655b": {
          "model_module": "@jupyter-widgets/base",
          "model_name": "LayoutModel",
          "model_module_version": "1.2.0",
          "state": {
            "_view_name": "LayoutView",
            "grid_template_rows": null,
            "right": null,
            "justify_content": null,
            "_view_module": "@jupyter-widgets/base",
            "overflow": null,
            "_model_module_version": "1.2.0",
            "_view_count": null,
            "flex_flow": null,
            "width": null,
            "min_width": null,
            "border": null,
            "align_items": null,
            "bottom": null,
            "_model_module": "@jupyter-widgets/base",
            "top": null,
            "grid_column": null,
            "overflow_y": null,
            "overflow_x": null,
            "grid_auto_flow": null,
            "grid_area": null,
            "grid_template_columns": null,
            "flex": null,
            "_model_name": "LayoutModel",
            "justify_items": null,
            "grid_row": null,
            "max_height": null,
            "align_content": null,
            "visibility": null,
            "align_self": null,
            "height": null,
            "min_height": null,
            "padding": null,
            "grid_auto_rows": null,
            "grid_gap": null,
            "max_width": null,
            "order": null,
            "_view_module_version": "1.2.0",
            "grid_template_areas": null,
            "object_position": null,
            "object_fit": null,
            "grid_auto_columns": null,
            "margin": null,
            "display": null,
            "left": null
          }
        }
      }
    },
    "accelerator": "GPU"
  },
  "cells": [
    {
      "cell_type": "markdown",
      "source": [
        "# Fine-tuning models\n",
        "\n",
        "Note: before running code in this notebook, make sure GPU is being used. Go to edit > notebook settings > and select GPU under Hardware accelerator"
      ],
      "metadata": {
        "id": "G6mDBvyw1FfU"
      }
    },
    {
      "cell_type": "markdown",
      "source": [
        "Model used in this notebook:"
      ],
      "metadata": {
        "id": "YFfoi_uvZtiR"
      }
    },
    {
      "cell_type": "code",
      "source": [
        "model_checkpoint = 'bert-base-uncased'"
      ],
      "metadata": {
        "id": "AcLv-ASTZv8z"
      },
      "execution_count": 1,
      "outputs": []
    },
    {
      "cell_type": "markdown",
      "source": [
        "Repo to write the final model to; change name based on the base model specified above"
      ],
      "metadata": {
        "id": "oK49IbAd7LdB"
      }
    },
    {
      "cell_type": "code",
      "source": [
        "hub_model_id = f'repro-rights-amicus-briefs/{model_checkpoint}-finetuned-RRamicus'"
      ],
      "metadata": {
        "id": "mF2_ld5_7Lnt"
      },
      "execution_count": 2,
      "outputs": []
    },
    {
      "cell_type": "markdown",
      "source": [
        "# Set up environment\n",
        "\n",
        "1. Load required packages\n",
        "2. Log into HuggingFace w/access token\n",
        "3. Load dataset from HuggingFace website"
      ],
      "metadata": {
        "id": "vntqeKVN1QFH"
      }
    },
    {
      "cell_type": "code",
      "source": [
        "! pip install transformers\n",
        "! pip install torch\n",
        "! pip install datasets"
      ],
      "metadata": {
        "id": "DMawEW-Y1XcK"
      },
      "execution_count": null,
      "outputs": []
    },
    {
      "cell_type": "code",
      "source": [
        "import numpy as np\n",
        "import pandas as pd\n",
        "import matplotlib.pyplot as plt\n",
        "\n",
        "from html import unescape\n",
        "from random import randint\n",
        "import math\n",
        "\n",
        "from transformers import pipeline                                                   \n",
        "from transformers.pipelines.pt_utils import KeyDataset\n",
        "#import datasets\n",
        "from datasets import load_dataset, load_metric, Dataset\n",
        "from transformers import DataCollatorWithPadding\n",
        "from transformers import AdamW\n",
        "from transformers import AutoTokenizer, AutoModelForMaskedLM, TrainingArguments, Trainer\n",
        "from tokenizers import normalizers\n",
        "from tokenizers.normalizers import BertNormalizer\n",
        "from transformers import DataCollatorForLanguageModeling\n",
        "\n",
        "from huggingface_hub import notebook_login\n",
        "\n",
        "import torch as torch\n",
        "#from torch.nn import functional as F"
      ],
      "metadata": {
        "id": "AXS3pl6F1aI-"
      },
      "execution_count": 4,
      "outputs": []
    },
    {
      "cell_type": "markdown",
      "source": [
        "Mount google drive to read in labeled dataset"
      ],
      "metadata": {
        "id": "bTILTAuDhM5u"
      }
    },
    {
      "cell_type": "code",
      "source": [
        "from google.colab import drive\n",
        "drive.mount('/content/gdrive')\n",
        "%cd gdrive/My\\ Drive/amicus-iv"
      ],
      "metadata": {
        "colab": {
          "base_uri": "https://localhost:8080/"
        },
        "id": "b8EhUlOPOT8W",
        "outputId": "df4c12e7-3a4f-4dc6-ad57-c5cd78236878"
      },
      "execution_count": 11,
      "outputs": [
        {
          "output_type": "stream",
          "name": "stdout",
          "text": [
            "Mounted at /content/gdrive\n",
            "/content/gdrive/My Drive/amicus-iv\n"
          ]
        }
      ]
    },
    {
      "cell_type": "markdown",
      "source": [
        "Log into huggingface to access the amicus files as a transformers dataset object"
      ],
      "metadata": {
        "id": "ig1KLfFb1NlK"
      }
    },
    {
      "cell_type": "code",
      "source": [
        "# run this once at the start of the session so it saves the token you enter\n",
        "# in the login in the next code chunk\n",
        "!git config --global credential.helper store"
      ],
      "metadata": {
        "id": "rskdoHph1hI4"
      },
      "execution_count": 5,
      "outputs": []
    },
    {
      "cell_type": "code",
      "source": [
        "# get access token on Huggingface website > settings > access token (make sure it's a write token)\n",
        "notebook_login()"
      ],
      "metadata": {
        "id": "_r8Jm9r51shl"
      },
      "execution_count": null,
      "outputs": []
    },
    {
      "cell_type": "markdown",
      "source": [
        "# Cross-model comparison task: Label set 1\n",
        "\n",
        "Using the model with the highest perplexity score, check the accuracy on our labeled dataset\n",
        "\n",
        "Labels:\n",
        "* fem: women's rights, undue burden, complusory motherhood, women's citizenship, evidence, health\n",
        "* opp: morality, abortion negative, psychological harm, fetus, evidence, health"
      ],
      "metadata": {
        "id": "rFmUW0cOPlzw"
      }
    },
    {
      "cell_type": "markdown",
      "source": [
        "## Read in manually labeled dataset\n",
        "\n",
        "Set up drive access & read in csv"
      ],
      "metadata": {
        "id": "HDidfhAEZdB9"
      }
    },
    {
      "cell_type": "code",
      "source": [
        "# set up labels\n",
        "labels_fem = [\"women's rights\", \"undue burden\", \"compulsory motherhood\", \"woman's citizenship\", \"evidence\", \"health\"]\n",
        "labels_opp = [\"morality\", \"abortion negative\", \"psychological harm\", \"fetus\", \"evidence\", \"health\"]\n",
        "labels = labels_fem + labels_opp[:-2]"
      ],
      "metadata": {
        "id": "623yTuJEg-50"
      },
      "execution_count": 9,
      "outputs": []
    },
    {
      "cell_type": "code",
      "source": [
        "# pd DataFrame\n",
        "eval_df = pd.read_csv('data/evaluation_dataset.csv')\n",
        "\n",
        "# turn labels column into a list (is currently a string with labels sep by col)\n",
        "eval_df['labels'] = eval_df['labels'].str.replace(\"women's citizenship\", \"woman's citizenship\")\n",
        "eval_df[\"labels\"] = [x.split(', ') for x in eval_df['labels']]\n",
        "\n",
        "# Dataset\n",
        "eval_ds = Dataset.from_pandas(eval_df)\n",
        "eval_ds.features"
      ],
      "metadata": {
        "id": "WWd4S5EhZdNr",
        "colab": {
          "base_uri": "https://localhost:8080/"
        },
        "outputId": "0652b4fb-5b5f-4791-b725-71a023b74345"
      },
      "execution_count": 12,
      "outputs": [
        {
          "output_type": "execute_result",
          "data": {
            "text/plain": [
              "{'brief': Value(dtype='string', id=None),\n",
              " 'brief_party': Value(dtype='int64', id=None),\n",
              " 'case': Value(dtype='string', id=None),\n",
              " 'id': Value(dtype='float64', id=None),\n",
              " 'labels': Sequence(feature=Value(dtype='string', id=None), length=-1, id=None),\n",
              " 'text': Value(dtype='string', id=None)}"
            ]
          },
          "metadata": {},
          "execution_count": 12
        }
      ]
    },
    {
      "cell_type": "markdown",
      "source": [
        "## Predict using classification pipeline"
      ],
      "metadata": {
        "id": "Xyucbhg5ZkMu"
      }
    },
    {
      "cell_type": "code",
      "source": [
        "# hyp template\n",
        "hyp_temp = 'This example is about {}.'\n",
        "\n",
        "# tokenizer \n",
        "class_tokenizer = AutoTokenizer.from_pretrained(model_checkpoint, truncation = True, max_length = 512, padding = 'max_length')\n",
        "\n",
        "# pipeline\n",
        "classifier = pipeline(task = 'zero-shot-classification', \n",
        "                      model = hub_model_id,\n",
        "                      tokenizer = class_tokenizer,\n",
        "                      hypothesis_template = hyp_temp,\n",
        "                      batch_size = 8,\n",
        "                      use_auth_token = True,\n",
        "                      device = 0)\n",
        "\n",
        "# function to apply to each element in dataset\n",
        "def classifier_pipeline(example):\n",
        "    # just init, should not use this category\n",
        "    curr_labels = labels \n",
        "    if example['brief_party'] == 1:\n",
        "      curr_labels = labels_fem\n",
        "    else:\n",
        "      curr_labels = labels_opp\n",
        "    output = classifier(example['text'], curr_labels, multi_label=True, device=0)\n",
        "    example['pred_labels'] = output['labels']\n",
        "    example['pred_scores'] = output['scores']\n",
        "    return example"
      ],
      "metadata": {
        "id": "BficjIelPRw5"
      },
      "execution_count": null,
      "outputs": []
    },
    {
      "cell_type": "markdown",
      "source": [
        "Run the pipeline with the given labels on our evaluation dataset. Approx 30 seconds."
      ],
      "metadata": {
        "id": "Y45cYSv0jOjP"
      }
    },
    {
      "cell_type": "code",
      "source": [
        "# run on the eval dataset\n",
        "eval_ds = eval_ds.map(classifier_pipeline)"
      ],
      "metadata": {
        "colab": {
          "base_uri": "https://localhost:8080/",
          "height": 104,
          "referenced_widgets": [
            "07e8e5305d304408aa7e2c81dc36fa12",
            "d32554d097fe46918ba912ba79a6e4fb",
            "79818c24e3584226bcaa03ed885a8c4c",
            "e078d5bb693d4a829ebd6e49f9d77852",
            "9b05c46a86a6490891184884bf15bb1c",
            "53f5d14d1ec446bcb8b5036cceddba0c",
            "c9be0b1ecaf04296a8bf011d28d0892c",
            "d0ced21899594aef91da393ca601d5a9",
            "79922c5f576040829e6d8be822da5e75",
            "200168643b304dd7960e8b7f73351097",
            "531ed9f48036443c8df3ddf7cd0761b2"
          ]
        },
        "id": "WR9jvIW8Z_V2",
        "outputId": "4aeadea4-b691-48d7-ffc6-c7e3167bdd30"
      },
      "execution_count": 14,
      "outputs": [
        {
          "output_type": "display_data",
          "data": {
            "application/vnd.jupyter.widget-view+json": {
              "model_id": "07e8e5305d304408aa7e2c81dc36fa12",
              "version_minor": 0,
              "version_major": 2
            },
            "text/plain": [
              "0ex [00:00, ?ex/s]"
            ]
          },
          "metadata": {}
        },
        {
          "output_type": "stream",
          "name": "stderr",
          "text": [
            "/usr/local/lib/python3.7/dist-packages/transformers/pipelines/base.py:999: UserWarning: You seem to be using the pipelines sequentially on GPU. In order to maximize efficiency please use a dataset\n",
            "  UserWarning,\n"
          ]
        }
      ]
    },
    {
      "cell_type": "markdown",
      "source": [
        "## Accuracy metrics\n",
        "\n",
        "Binarize the labels since we have multiple classes. The mlb function from sklearn turns labels (for ex: abortion negative, psy harm) into vectors (0, 1, 0, 0, 1, 0). "
      ],
      "metadata": {
        "id": "xNL4TtZEZnN5"
      }
    },
    {
      "cell_type": "code",
      "source": [
        "# binarize labels (since we have multiple classes)\n",
        "from sklearn.preprocessing import MultiLabelBinarizer\n",
        "# set up one for the fem briefs and one for the opp briefs\n",
        "labels = labels_fem + labels_opp[:-2]\n",
        "mlb = MultiLabelBinarizer(classes=labels)\n",
        "#mlb_fem = MultiLabelBinarizer(classes=labels_fem)\n",
        "#mlb_opp = MultiLabelBinarizer(classes=labels_opp)\n",
        "mlb.fit(labels)\n",
        "#mlb_fem.fit(labels_fem)\n",
        "#mlb_opp.fit(labels_opp)"
      ],
      "metadata": {
        "colab": {
          "base_uri": "https://localhost:8080/"
        },
        "id": "Kd21N0BYgJWz",
        "outputId": "00717eb2-bdcb-4b62-8d9f-27a866a621ee"
      },
      "execution_count": 15,
      "outputs": [
        {
          "output_type": "execute_result",
          "data": {
            "text/plain": [
              "MultiLabelBinarizer(classes=[\"women's rights\", 'undue burden',\n",
              "                             'compulsory motherhood', \"woman's citizenship\",\n",
              "                             'evidence', 'health', 'morality',\n",
              "                             'abortion negative', 'psychological harm',\n",
              "                             'fetus'])"
            ]
          },
          "metadata": {},
          "execution_count": 15
        }
      ]
    },
    {
      "cell_type": "markdown",
      "source": [
        "Map the binarized labels to the text labels we have across our dataset. "
      ],
      "metadata": {
        "id": "tPKF1JAjnvCw"
      }
    },
    {
      "cell_type": "code",
      "source": [
        "# create a label_ids column for the truth\n",
        "# binarize the labels \n",
        "def prepare_labels(batch):\n",
        "    '''if batch['brief_party']==1:\n",
        "      batch[\"label_ids\"] = mlb_fem.transform(batch[\"labels\"])\n",
        "    else:\n",
        "      batch[\"label_ids\"] = mlb_opp.transform(batch[\"labels\"])'''\n",
        "    batch['label_ids'] = mlb.transform(batch['labels'])\n",
        "    return batch\n",
        "\n",
        "eval_ds = eval_ds.map(prepare_labels, batched=True, batch_size=20)"
      ],
      "metadata": {
        "colab": {
          "base_uri": "https://localhost:8080/",
          "height": 49,
          "referenced_widgets": [
            "d9efcb972e2c498b8fb9f2476d47eeaf",
            "c4b6553c19d342d4b96a95e64789cda1",
            "bb071e9c5f1842baa0b2c0c847947e6d",
            "5c085a3956ee4246a6cf3d2c070ffec7",
            "c097fe898d6f48bca12d51b59e3ff91d",
            "0eba3c2e888f4c65bf83486a17b0a5e6",
            "b5a60ad724ce4b20994df99f861c7697",
            "249fc672e41a46ca84d6b072b99e5329",
            "98020ff1213c48729f6be5380ba4a652",
            "9e5a32ad6ceb4318acddca0f28e3c3d8",
            "2755dff6ff7049608208629b934bbe0c"
          ]
        },
        "id": "34hnebnIhOiz",
        "outputId": "19e2a632-fa4d-451c-eb6e-3718922fb0c8"
      },
      "execution_count": 19,
      "outputs": [
        {
          "output_type": "display_data",
          "data": {
            "application/vnd.jupyter.widget-view+json": {
              "model_id": "d9efcb972e2c498b8fb9f2476d47eeaf",
              "version_minor": 0,
              "version_major": 2
            },
            "text/plain": [
              "  0%|          | 0/6 [00:00<?, ?ba/s]"
            ]
          },
          "metadata": {}
        }
      ]
    },
    {
      "cell_type": "markdown",
      "source": [
        "Classification report from sklearn (f1, precision, recall, etc.) "
      ],
      "metadata": {
        "id": "sJeMpiiun1ip"
      }
    },
    {
      "cell_type": "code",
      "source": [
        "# function to get topk or threshold labels\n",
        "def get_preds(example, threshold=None, topk=None):\n",
        "    preds = []\n",
        "    # get preds that meet threshold\n",
        "    if threshold:\n",
        "        for label, score in zip(example[\"pred_labels\"], example[\"pred_scores\"]):\n",
        "            if score >= threshold:\n",
        "                preds.append(label)\n",
        "    # get preds that are topk highest scores\n",
        "    elif topk:\n",
        "        for i in range(topk):\n",
        "            preds.append(example[\"pred_labels\"][i])\n",
        "    else:\n",
        "        raise ValueError(\"Set either `threshold` or `topk`.\")\n",
        "\n",
        "    # save to dataset\n",
        "    #if len(preds) > 0:\n",
        "    #  example['pred_label_ids'] = list(np.squeeze(preds))\n",
        "    #else:\n",
        "    #  example['pred_label_ids'] = []\n",
        "\n",
        "    return {\"pred_label_ids\": list(np.squeeze(mlb.transform([preds])))}"
      ],
      "metadata": {
        "id": "GhKsJhz8tfsI"
      },
      "execution_count": 16,
      "outputs": []
    },
    {
      "cell_type": "code",
      "source": [
        "# classification report\n",
        "from sklearn.metrics import classification_report\n",
        "def get_clf_report(ds):\n",
        "    y_true = np.array(ds[\"label_ids\"])\n",
        "    y_pred = np.array(ds[\"pred_label_ids\"])\n",
        "\n",
        "    '''if ds['brief_party']==1:\n",
        "      return classification_report(\n",
        "          y_true, y_pred, target_names=mlb_fem.classes_, zero_division=0, \n",
        "          output_dict=True)\n",
        "    else:\n",
        "      return classification_report(\n",
        "          y_true, y_pred, target_names=mlb_opp.classes_, zero_division=0, \n",
        "          output_dict=True)'''\n",
        "      \n",
        "    return classification_report(\n",
        "          y_true, y_pred, target_names=mlb.classes_, zero_division=0, \n",
        "          output_dict=True)"
      ],
      "metadata": {
        "id": "73lPUFOMZnZF"
      },
      "execution_count": 17,
      "outputs": []
    },
    {
      "cell_type": "markdown",
      "source": [
        "Evaluate which of the thresholds / top k values are the best for this model. The best value will be used in the classification notebook. "
      ],
      "metadata": {
        "id": "ZPRHwn8EfKio"
      }
    },
    {
      "cell_type": "code",
      "source": [
        "# check accuracy with different topks\n",
        "topk_macros, topk_micros = [], []\n",
        "topks = [1, 2, 3, 4, 5, 6]\n",
        "for topk in topks:\n",
        "    eval_ds = eval_ds.map(get_preds, batched=False, fn_kwargs={'topk': topk})\n",
        "    clf_report = get_clf_report(eval_ds)\n",
        "    topk_micros.append(clf_report['micro avg']['f1-score'])\n",
        "    topk_macros.append(clf_report['macro avg']['f1-score'])"
      ],
      "metadata": {
        "id": "FHH_xeQHfKuZ"
      },
      "execution_count": null,
      "outputs": []
    },
    {
      "cell_type": "code",
      "source": [
        "plt.plot(topks, topk_micros, label='Micro F1')\n",
        "plt.plot(topks, topk_macros, label='Macro F1')\n",
        "plt.xlabel(\"Top-k\")\n",
        "plt.ylabel(\"F1-score\")\n",
        "plt.legend(loc='best')\n",
        "plt.show()"
      ],
      "metadata": {
        "colab": {
          "base_uri": "https://localhost:8080/",
          "height": 279
        },
        "id": "OL_auouYusCG",
        "outputId": "568c54cb-ac02-49df-ee9d-10325471c05f"
      },
      "execution_count": 21,
      "outputs": [
        {
          "output_type": "display_data",
          "data": {
            "image/png": "[encoded data removed]",
            "text/plain": [
              "<Figure size 432x288 with 1 Axes>"
            ]
          },
          "metadata": {
            "needs_background": "light"
          }
        }
      ]
    },
    {
      "cell_type": "markdown",
      "source": [
        "Check the thresholds"
      ],
      "metadata": {
        "id": "Fp-1q0uhfV8N"
      }
    },
    {
      "cell_type": "code",
      "source": [
        "# check accuracy with different thresholds\n",
        "thresh_macros, thresh_micros = [], []\n",
        "thresholds = np.linspace(0.01, 1, 100)\n",
        "for threshold in thresholds:\n",
        "    eval_ds = eval_ds.map(get_preds, batched=False, fn_kwargs={\"threshold\": threshold})\n",
        "    clf_report = get_clf_report(eval_ds)\n",
        "    thresh_micros.append(clf_report[\"micro avg\"][\"f1-score\"])\n",
        "    thresh_macros.append(clf_report[\"macro avg\"][\"f1-score\"])"
      ],
      "metadata": {
        "id": "_WTUWOOmfWNV"
      },
      "execution_count": null,
      "outputs": []
    },
    {
      "cell_type": "code",
      "source": [
        "plt.plot(thresholds, thresh_micros, label=\"Micro F1\")\n",
        "plt.plot(thresholds, thresh_macros, label=\"Macro F1\")\n",
        "plt.xlabel(\"Threshold\")\n",
        "plt.ylabel(\"F1-score\")\n",
        "plt.legend(loc=\"best\")\n",
        "plt.show()"
      ],
      "metadata": {
        "colab": {
          "base_uri": "https://localhost:8080/",
          "height": 279
        },
        "id": "O546cglRujXi",
        "outputId": "a983cdd4-3e48-4a48-d314-8eb9f71463dd"
      },
      "execution_count": 23,
      "outputs": [
        {
          "output_type": "display_data",
          "data": {
            "image/png": "[encoded data removed]",
            "text/plain": [
              "<Figure size 432x288 with 1 Axes>"
            ]
          },
          "metadata": {
            "needs_background": "light"
          }
        }
      ]
    },
    {
      "cell_type": "markdown",
      "source": [
        "# Cross-model comparison task: Label set 2\n",
        "\n",
        "Using the model with the highest perplexity score, check the accuracy on our labeled dataset\n",
        "\n",
        "Labels:\n",
        "* fem: abortion is women's right, undue burden standard, forces motherhood, women's career and education\n",
        "* opp: lacks morality, abortion harmful, abortion causes psychological harm, fetus"
      ],
      "metadata": {
        "id": "l_BHRCeng0Xj"
      }
    },
    {
      "cell_type": "code",
      "source": [
        "labels_fem = ['abortion is women\\'s right', 'undue burden standard', 'forces motherhood', 'women\\'s career and education', 'mother or fetus health', 'evidence']\n",
        "labels_opp = ['lacks morality', 'abortion harmful', 'abortion causes psychological harm', 'fetus', 'mother or fetus health', 'evidence']"
      ],
      "metadata": {
        "id": "KGT8-tsEkBpP"
      },
      "execution_count": 42,
      "outputs": []
    },
    {
      "cell_type": "markdown",
      "source": [
        "## Read in manually labeled dataset"
      ],
      "metadata": {
        "id": "h3Il3lJ-g0Xr"
      }
    },
    {
      "cell_type": "code",
      "source": [
        "# pd DataFrame\n",
        "eval_df = pd.read_csv('data/evaluation_dataset.csv')\n",
        "\n",
        "label_map = {# opp labels\n",
        "             'morality' : 'lacks morality',\n",
        "             'abortion negative' : 'abortion harmful',\n",
        "             'psychological harm' : 'abortion causes psychological harm',\n",
        "             'fetus' : 'fetus',\n",
        "             # fem labels\n",
        "             'woman\\'s citizenship' : 'women\\'s career and education',\n",
        "             'women\\'s rights' : 'abortion is women\\'s right',\n",
        "             'compulsory motherhood' : 'forces motherhood',\n",
        "             'undue burden' : 'undue burden standard',\n",
        "             # both\n",
        "             'health' : 'mother or fetus health',\n",
        "             'evidence' : 'evidence'}\n",
        "\n",
        "# turn labels column into a list (is currently a string with labels sep by col)\n",
        "eval_df['labels'] = eval_df['labels'].str.replace(\"women's citizenship\", \"woman's citizenship\")\n",
        "eval_df['labels'] = [x.split(', ') for x in eval_df['labels']]\n",
        "\n",
        "# explode values (turn every element of list into new row)\n",
        "eval_df = eval_df.explode('labels')\n",
        "\n",
        "# map new values\n",
        "eval_df['labels'] = eval_df['labels'].map(label_map)\n",
        "\n",
        "# collapse dataframe - group by our identifying vars and concatenate labels back to list\n",
        "eval_df = (eval_df.groupby(['case','brief', 'id', 'brief_party', 'text'])\n",
        "                    .agg({'labels': lambda x: x.tolist()})\n",
        "                    #.rename({'Case' : 'Avg_Cases','Delivery' : 'Avg_Delivery'},axis=1)\n",
        "                    .reset_index())\n",
        "\n",
        "# Dataset\n",
        "eval_ds = Dataset.from_pandas(eval_df)\n",
        "eval_ds.features"
      ],
      "metadata": {
        "colab": {
          "base_uri": "https://localhost:8080/"
        },
        "outputId": "e1309750-c5f0-4295-f855-1583f47cd264",
        "id": "sF2VqYFkg0Xs"
      },
      "execution_count": 43,
      "outputs": [
        {
          "output_type": "execute_result",
          "data": {
            "text/plain": [
              "{'brief': Value(dtype='string', id=None),\n",
              " 'brief_party': Value(dtype='int64', id=None),\n",
              " 'case': Value(dtype='string', id=None),\n",
              " 'id': Value(dtype='float64', id=None),\n",
              " 'labels': Sequence(feature=Value(dtype='string', id=None), length=-1, id=None),\n",
              " 'text': Value(dtype='string', id=None)}"
            ]
          },
          "metadata": {},
          "execution_count": 43
        }
      ]
    },
    {
      "cell_type": "markdown",
      "source": [
        "## Predict using classification pipeline"
      ],
      "metadata": {
        "id": "_YJbwyh4g0Xs"
      }
    },
    {
      "cell_type": "markdown",
      "source": [
        "Run the pipeline with the given labels on our evaluation dataset. Approx 30 seconds."
      ],
      "metadata": {
        "id": "T0d8V1nNrLQ4"
      }
    },
    {
      "cell_type": "code",
      "source": [
        "# run on the eval dataset\n",
        "eval_ds = eval_ds.map(classifier_pipeline)"
      ],
      "metadata": {
        "colab": {
          "base_uri": "https://localhost:8080/",
          "height": 104,
          "referenced_widgets": [
            "0cfc48a739d84d3daf8f7b8918198100",
            "7a6893c36a944bb0a24df85b04e55503",
            "ee6e07bb4bbb492fa6ce63771fbfc87f",
            "753ce13ba8bd45a3aed0f03a23330fde",
            "97be4827d97042e281b8e088eda82f87",
            "e9ca1a94914041b6897515fa3bfeffb3",
            "e200ade6bc554759ac765fbe1bf7b2af",
            "478953dcd44f4164a1e1ee29b3e92694",
            "b7b0d1a446de48c2b96afa649636e2c2",
            "0db74e8c24fd437fb236d8866bf665eb",
            "c66e9380a7a44c308f71ffeab1a03536"
          ]
        },
        "outputId": "cff957d9-ffca-449c-b0ff-f3bfa0301b56",
        "id": "kdv9DT1Qg0Xs"
      },
      "execution_count": 44,
      "outputs": [
        {
          "output_type": "display_data",
          "data": {
            "application/vnd.jupyter.widget-view+json": {
              "model_id": "0cfc48a739d84d3daf8f7b8918198100",
              "version_minor": 0,
              "version_major": 2
            },
            "text/plain": [
              "0ex [00:00, ?ex/s]"
            ]
          },
          "metadata": {}
        },
        {
          "output_type": "stream",
          "name": "stderr",
          "text": [
            "/usr/local/lib/python3.7/dist-packages/transformers/pipelines/base.py:999: UserWarning: You seem to be using the pipelines sequentially on GPU. In order to maximize efficiency please use a dataset\n",
            "  UserWarning,\n"
          ]
        }
      ]
    },
    {
      "cell_type": "markdown",
      "source": [
        "## Accuracy metrics\n",
        "\n",
        "Binarize the labels since we have multiple classes. The mlb function from sklearn turns labels (for ex: abortion negative, psy harm) into vectors (0, 1, 0, 0, 1, 0). "
      ],
      "metadata": {
        "id": "RVHEkdqTg0Xt"
      }
    },
    {
      "cell_type": "code",
      "source": [
        "# binarize labels (since we have multiple classes)\n",
        "from sklearn.preprocessing import MultiLabelBinarizer\n",
        "# set up one for the fem briefs and one for the opp briefs\n",
        "labels = labels_fem + labels_opp[:-2]\n",
        "mlb = MultiLabelBinarizer(classes=labels)\n",
        "#mlb_fem = MultiLabelBinarizer(classes=labels_fem)\n",
        "#mlb_opp = MultiLabelBinarizer(classes=labels_opp)\n",
        "mlb.fit(labels)\n",
        "#mlb_fem.fit(labels_fem)\n",
        "#mlb_opp.fit(labels_opp)"
      ],
      "metadata": {
        "colab": {
          "base_uri": "https://localhost:8080/"
        },
        "outputId": "741d1a96-a7aa-4539-9d2f-176ed37990ff",
        "id": "pjYrcpAng0Xt"
      },
      "execution_count": 45,
      "outputs": [
        {
          "output_type": "execute_result",
          "data": {
            "text/plain": [
              "MultiLabelBinarizer(classes=[\"abortion is women's right\",\n",
              "                             'undue burden standard', 'forces motherhood',\n",
              "                             \"women's career and education\",\n",
              "                             'mother or fetus health', 'evidence',\n",
              "                             'lacks morality', 'abortion harmful',\n",
              "                             'abortion causes psychological harm', 'fetus'])"
            ]
          },
          "metadata": {},
          "execution_count": 45
        }
      ]
    },
    {
      "cell_type": "markdown",
      "source": [
        "Map the binarized labels to the text labels we have across our dataset. "
      ],
      "metadata": {
        "id": "lUB3mNxxg0Xt"
      }
    },
    {
      "cell_type": "code",
      "source": [
        "# create a label_ids column for the truth\n",
        "# binarize the labels \n",
        "def prepare_labels(batch):\n",
        "    '''if batch['brief_party']==1:\n",
        "      batch[\"label_ids\"] = mlb_fem.transform(batch[\"labels\"])\n",
        "    else:\n",
        "      batch[\"label_ids\"] = mlb_opp.transform(batch[\"labels\"])'''\n",
        "    batch['label_ids'] = mlb.transform(batch['labels'])\n",
        "    return batch\n",
        "\n",
        "eval_ds = eval_ds.map(prepare_labels, batched=True, batch_size=20)"
      ],
      "metadata": {
        "colab": {
          "base_uri": "https://localhost:8080/",
          "height": 49,
          "referenced_widgets": [
            "2f03ef7cab1e459db6dc3d0ab415b8db",
            "b606f50723ac4f62a34d88c0787e3d4a",
            "62acafdf3f274d8d9a9d4cb1c255eda2",
            "d0333c76a24244c1902cc1db7cea8aae",
            "b98111836543471b864768c37eab01ba",
            "77efeee66c4f4c76bb799124a78eb833",
            "50190b76c73749fbab1545ab11fe577a",
            "916c8302ca334261bf9efe581cdaf278",
            "8cd87aa26dab466d889b61d29cb24d58",
            "53ad83fb7ff446389f9fbc7fc05c6e56",
            "497954a3deed4388af71928a83ea655b"
          ]
        },
        "outputId": "e3ff44cf-ba55-4124-9619-4401ab460386",
        "id": "RIhYDD5bg0Xt"
      },
      "execution_count": 46,
      "outputs": [
        {
          "output_type": "display_data",
          "data": {
            "application/vnd.jupyter.widget-view+json": {
              "model_id": "2f03ef7cab1e459db6dc3d0ab415b8db",
              "version_minor": 0,
              "version_major": 2
            },
            "text/plain": [
              "  0%|          | 0/6 [00:00<?, ?ba/s]"
            ]
          },
          "metadata": {}
        }
      ]
    },
    {
      "cell_type": "markdown",
      "source": [
        "Evaluate which of the thresholds / top k values are the best for this model. The best value will be used in the classification notebook. "
      ],
      "metadata": {
        "id": "T_OqY7UNg0Xv"
      }
    },
    {
      "cell_type": "code",
      "source": [
        "# check accuracy with different topks\n",
        "topk_macros, topk_micros = [], []\n",
        "topks = [1, 2, 3, 4, 5, 6]\n",
        "for topk in topks:\n",
        "    eval_ds = eval_ds.map(get_preds, batched=False, fn_kwargs={'topk': topk})\n",
        "    clf_report = get_clf_report(eval_ds)\n",
        "    topk_micros.append(clf_report['micro avg']['f1-score'])\n",
        "    topk_macros.append(clf_report['macro avg']['f1-score'])"
      ],
      "metadata": {
        "id": "sPI6mR22g0Xv"
      },
      "execution_count": null,
      "outputs": []
    },
    {
      "cell_type": "code",
      "source": [
        "plt.plot(topks, topk_micros, label='Micro F1')\n",
        "plt.plot(topks, topk_macros, label='Macro F1')\n",
        "plt.xlabel(\"Top-k\")\n",
        "plt.ylabel(\"F1-score\")\n",
        "plt.legend(loc='best')\n",
        "plt.show()"
      ],
      "metadata": {
        "colab": {
          "base_uri": "https://localhost:8080/",
          "height": 279
        },
        "outputId": "9829da67-6db3-45b3-e629-79d88512f4f8",
        "id": "i8TrCAINg0Xv"
      },
      "execution_count": 49,
      "outputs": [
        {
          "output_type": "display_data",
          "data": {
            "image/png": "[encoded data removed]",
            "text/plain": [
              "<Figure size 432x288 with 1 Axes>"
            ]
          },
          "metadata": {
            "needs_background": "light"
          }
        }
      ]
    },
    {
      "cell_type": "markdown",
      "source": [
        "Check the thresholds"
      ],
      "metadata": {
        "id": "q0kPSvtvg0Xw"
      }
    },
    {
      "cell_type": "code",
      "source": [
        "# check accuracy with different thresholds\n",
        "thresh_macros, thresh_micros = [], []\n",
        "thresholds = np.linspace(0.01, 1, 100)\n",
        "for threshold in thresholds:\n",
        "    eval_ds = eval_ds.map(get_preds, batched=False, fn_kwargs={\"threshold\": threshold})\n",
        "    clf_report = get_clf_report(eval_ds)\n",
        "    thresh_micros.append(clf_report[\"micro avg\"][\"f1-score\"])\n",
        "    thresh_macros.append(clf_report[\"macro avg\"][\"f1-score\"])"
      ],
      "metadata": {
        "id": "DkOpxcUWg0Xw"
      },
      "execution_count": null,
      "outputs": []
    },
    {
      "cell_type": "code",
      "source": [
        "plt.plot(thresholds, thresh_micros, label=\"Micro F1\")\n",
        "plt.plot(thresholds, thresh_macros, label=\"Macro F1\")\n",
        "plt.xlabel(\"Threshold\")\n",
        "plt.ylabel(\"F1-score\")\n",
        "plt.legend(loc=\"best\")\n",
        "plt.show()"
      ],
      "metadata": {
        "colab": {
          "base_uri": "https://localhost:8080/",
          "height": 279
        },
        "outputId": "5e40d898-b976-4905-fa51-5becc30613a0",
        "id": "3suIgnmMg0Xw"
      },
      "execution_count": 51,
      "outputs": [
        {
          "output_type": "display_data",
          "data": {
            "image/png": "[encoded data removed]",
            "text/plain": [
              "<Figure size 432x288 with 1 Axes>"
            ]
          },
          "metadata": {
            "needs_background": "light"
          }
        }
      ]
    }
  ]
}