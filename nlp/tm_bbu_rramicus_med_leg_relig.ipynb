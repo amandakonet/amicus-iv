{
  "nbformat": 4,
  "nbformat_minor": 0,
  "metadata": {
    "colab": {
      "name": "tm-bbu-rramicus-med-leg-relig.ipynb",
      "provenance": [],
      "collapsed_sections": [],
      "authorship_tag": "ABX9TyOx0b0p1VkGkKUTXAGNdAxg"
    },
    "kernelspec": {
      "name": "python3",
      "display_name": "Python 3"
    },
    "language_info": {
      "name": "python"
    },
    "accelerator": "GPU",
    "widgets": {
      "application/vnd.jupyter.widget-state+json": {
        "5dd8c41a2ec941629164f34dd3df6b19": {
          "model_module": "@jupyter-widgets/controls",
          "model_name": "HBoxModel",
          "model_module_version": "1.5.0",
          "state": {
            "_dom_classes": [],
            "_model_module": "@jupyter-widgets/controls",
            "_model_module_version": "1.5.0",
            "_model_name": "HBoxModel",
            "_view_count": null,
            "_view_module": "@jupyter-widgets/controls",
            "_view_module_version": "1.5.0",
            "_view_name": "HBoxView",
            "box_style": "",
            "children": [
              "IPY_MODEL_65a36b554acd43649e56c26cc7eda36e",
              "IPY_MODEL_6ba9d56f0d5d4ff088ef782d3489ffe7",
              "IPY_MODEL_353d3cf386e7466a80fc8c1ab7cfe118"
            ],
            "layout": "IPY_MODEL_94a908eebdd74a3a8ea396a4620d6104"
          }
        },
        "65a36b554acd43649e56c26cc7eda36e": {
          "model_module": "@jupyter-widgets/controls",
          "model_name": "HTMLModel",
          "model_module_version": "1.5.0",
          "state": {
            "_dom_classes": [],
            "_model_module": "@jupyter-widgets/controls",
            "_model_module_version": "1.5.0",
            "_model_name": "HTMLModel",
            "_view_count": null,
            "_view_module": "@jupyter-widgets/controls",
            "_view_module_version": "1.5.0",
            "_view_name": "HTMLView",
            "description": "",
            "description_tooltip": null,
            "layout": "IPY_MODEL_a1b88405c225441abb121cbf8889e900",
            "placeholder": "​",
            "style": "IPY_MODEL_fcde98d654f04c9eb162c6e1e43a6049",
            "value": "Downloading: 100%"
          }
        },
        "6ba9d56f0d5d4ff088ef782d3489ffe7": {
          "model_module": "@jupyter-widgets/controls",
          "model_name": "FloatProgressModel",
          "model_module_version": "1.5.0",
          "state": {
            "_dom_classes": [],
            "_model_module": "@jupyter-widgets/controls",
            "_model_module_version": "1.5.0",
            "_model_name": "FloatProgressModel",
            "_view_count": null,
            "_view_module": "@jupyter-widgets/controls",
            "_view_module_version": "1.5.0",
            "_view_name": "ProgressView",
            "bar_style": "success",
            "description": "",
            "description_tooltip": null,
            "layout": "IPY_MODEL_d8ae98c36c604b56a0d5c14aadfe8f94",
            "max": 664,
            "min": 0,
            "orientation": "horizontal",
            "style": "IPY_MODEL_5801dbbcd45149018fc6d556f01b9d80",
            "value": 664
          }
        },
        "353d3cf386e7466a80fc8c1ab7cfe118": {
          "model_module": "@jupyter-widgets/controls",
          "model_name": "HTMLModel",
          "model_module_version": "1.5.0",
          "state": {
            "_dom_classes": [],
            "_model_module": "@jupyter-widgets/controls",
            "_model_module_version": "1.5.0",
            "_model_name": "HTMLModel",
            "_view_count": null,
            "_view_module": "@jupyter-widgets/controls",
            "_view_module_version": "1.5.0",
            "_view_name": "HTMLView",
            "description": "",
            "description_tooltip": null,
            "layout": "IPY_MODEL_040e6e500834430fad43f508e52fef17",
            "placeholder": "​",
            "style": "IPY_MODEL_7babda98c6ee4ec5b38911c376776dfc",
            "value": " 664/664 [00:00&lt;00:00, 16.4kB/s]"
          }
        },
        "94a908eebdd74a3a8ea396a4620d6104": {
          "model_module": "@jupyter-widgets/base",
          "model_name": "LayoutModel",
          "model_module_version": "1.2.0",
          "state": {
            "_model_module": "@jupyter-widgets/base",
            "_model_module_version": "1.2.0",
            "_model_name": "LayoutModel",
            "_view_count": null,
            "_view_module": "@jupyter-widgets/base",
            "_view_module_version": "1.2.0",
            "_view_name": "LayoutView",
            "align_content": null,
            "align_items": null,
            "align_self": null,
            "border": null,
            "bottom": null,
            "display": null,
            "flex": null,
            "flex_flow": null,
            "grid_area": null,
            "grid_auto_columns": null,
            "grid_auto_flow": null,
            "grid_auto_rows": null,
            "grid_column": null,
            "grid_gap": null,
            "grid_row": null,
            "grid_template_areas": null,
            "grid_template_columns": null,
            "grid_template_rows": null,
            "height": null,
            "justify_content": null,
            "justify_items": null,
            "left": null,
            "margin": null,
            "max_height": null,
            "max_width": null,
            "min_height": null,
            "min_width": null,
            "object_fit": null,
            "object_position": null,
            "order": null,
            "overflow": null,
            "overflow_x": null,
            "overflow_y": null,
            "padding": null,
            "right": null,
            "top": null,
            "visibility": null,
            "width": null
          }
        },
        "a1b88405c225441abb121cbf8889e900": {
          "model_module": "@jupyter-widgets/base",
          "model_name": "LayoutModel",
          "model_module_version": "1.2.0",
          "state": {
            "_model_module": "@jupyter-widgets/base",
            "_model_module_version": "1.2.0",
            "_model_name": "LayoutModel",
            "_view_count": null,
            "_view_module": "@jupyter-widgets/base",
            "_view_module_version": "1.2.0",
            "_view_name": "LayoutView",
            "align_content": null,
            "align_items": null,
            "align_self": null,
            "border": null,
            "bottom": null,
            "display": null,
            "flex": null,
            "flex_flow": null,
            "grid_area": null,
            "grid_auto_columns": null,
            "grid_auto_flow": null,
            "grid_auto_rows": null,
            "grid_column": null,
            "grid_gap": null,
            "grid_row": null,
            "grid_template_areas": null,
            "grid_template_columns": null,
            "grid_template_rows": null,
            "height": null,
            "justify_content": null,
            "justify_items": null,
            "left": null,
            "margin": null,
            "max_height": null,
            "max_width": null,
            "min_height": null,
            "min_width": null,
            "object_fit": null,
            "object_position": null,
            "order": null,
            "overflow": null,
            "overflow_x": null,
            "overflow_y": null,
            "padding": null,
            "right": null,
            "top": null,
            "visibility": null,
            "width": null
          }
        },
        "fcde98d654f04c9eb162c6e1e43a6049": {
          "model_module": "@jupyter-widgets/controls",
          "model_name": "DescriptionStyleModel",
          "model_module_version": "1.5.0",
          "state": {
            "_model_module": "@jupyter-widgets/controls",
            "_model_module_version": "1.5.0",
            "_model_name": "DescriptionStyleModel",
            "_view_count": null,
            "_view_module": "@jupyter-widgets/base",
            "_view_module_version": "1.2.0",
            "_view_name": "StyleView",
            "description_width": ""
          }
        },
        "d8ae98c36c604b56a0d5c14aadfe8f94": {
          "model_module": "@jupyter-widgets/base",
          "model_name": "LayoutModel",
          "model_module_version": "1.2.0",
          "state": {
            "_model_module": "@jupyter-widgets/base",
            "_model_module_version": "1.2.0",
            "_model_name": "LayoutModel",
            "_view_count": null,
            "_view_module": "@jupyter-widgets/base",
            "_view_module_version": "1.2.0",
            "_view_name": "LayoutView",
            "align_content": null,
            "align_items": null,
            "align_self": null,
            "border": null,
            "bottom": null,
            "display": null,
            "flex": null,
            "flex_flow": null,
            "grid_area": null,
            "grid_auto_columns": null,
            "grid_auto_flow": null,
            "grid_auto_rows": null,
            "grid_column": null,
            "grid_gap": null,
            "grid_row": null,
            "grid_template_areas": null,
            "grid_template_columns": null,
            "grid_template_rows": null,
            "height": null,
            "justify_content": null,
            "justify_items": null,
            "left": null,
            "margin": null,
            "max_height": null,
            "max_width": null,
            "min_height": null,
            "min_width": null,
            "object_fit": null,
            "object_position": null,
            "order": null,
            "overflow": null,
            "overflow_x": null,
            "overflow_y": null,
            "padding": null,
            "right": null,
            "top": null,
            "visibility": null,
            "width": null
          }
        },
        "5801dbbcd45149018fc6d556f01b9d80": {
          "model_module": "@jupyter-widgets/controls",
          "model_name": "ProgressStyleModel",
          "model_module_version": "1.5.0",
          "state": {
            "_model_module": "@jupyter-widgets/controls",
            "_model_module_version": "1.5.0",
            "_model_name": "ProgressStyleModel",
            "_view_count": null,
            "_view_module": "@jupyter-widgets/base",
            "_view_module_version": "1.2.0",
            "_view_name": "StyleView",
            "bar_color": null,
            "description_width": ""
          }
        },
        "040e6e500834430fad43f508e52fef17": {
          "model_module": "@jupyter-widgets/base",
          "model_name": "LayoutModel",
          "model_module_version": "1.2.0",
          "state": {
            "_model_module": "@jupyter-widgets/base",
            "_model_module_version": "1.2.0",
            "_model_name": "LayoutModel",
            "_view_count": null,
            "_view_module": "@jupyter-widgets/base",
            "_view_module_version": "1.2.0",
            "_view_name": "LayoutView",
            "align_content": null,
            "align_items": null,
            "align_self": null,
            "border": null,
            "bottom": null,
            "display": null,
            "flex": null,
            "flex_flow": null,
            "grid_area": null,
            "grid_auto_columns": null,
            "grid_auto_flow": null,
            "grid_auto_rows": null,
            "grid_column": null,
            "grid_gap": null,
            "grid_row": null,
            "grid_template_areas": null,
            "grid_template_columns": null,
            "grid_template_rows": null,
            "height": null,
            "justify_content": null,
            "justify_items": null,
            "left": null,
            "margin": null,
            "max_height": null,
            "max_width": null,
            "min_height": null,
            "min_width": null,
            "object_fit": null,
            "object_position": null,
            "order": null,
            "overflow": null,
            "overflow_x": null,
            "overflow_y": null,
            "padding": null,
            "right": null,
            "top": null,
            "visibility": null,
            "width": null
          }
        },
        "7babda98c6ee4ec5b38911c376776dfc": {
          "model_module": "@jupyter-widgets/controls",
          "model_name": "DescriptionStyleModel",
          "model_module_version": "1.5.0",
          "state": {
            "_model_module": "@jupyter-widgets/controls",
            "_model_module_version": "1.5.0",
            "_model_name": "DescriptionStyleModel",
            "_view_count": null,
            "_view_module": "@jupyter-widgets/base",
            "_view_module_version": "1.2.0",
            "_view_name": "StyleView",
            "description_width": ""
          }
        },
        "d5de331c5bec4032a28dcdcb2c895eb2": {
          "model_module": "@jupyter-widgets/controls",
          "model_name": "HBoxModel",
          "model_module_version": "1.5.0",
          "state": {
            "_dom_classes": [],
            "_model_module": "@jupyter-widgets/controls",
            "_model_module_version": "1.5.0",
            "_model_name": "HBoxModel",
            "_view_count": null,
            "_view_module": "@jupyter-widgets/controls",
            "_view_module_version": "1.5.0",
            "_view_name": "HBoxView",
            "box_style": "",
            "children": [
              "IPY_MODEL_c57c06b88eb54917b16b92b2c79107f5",
              "IPY_MODEL_292d0e8867874287b0f9c9b70f904466",
              "IPY_MODEL_ec48d204b833483388af03023d219e07"
            ],
            "layout": "IPY_MODEL_e08b2af0b72e4d228e6bae80f1f4cf83"
          }
        },
        "c57c06b88eb54917b16b92b2c79107f5": {
          "model_module": "@jupyter-widgets/controls",
          "model_name": "HTMLModel",
          "model_module_version": "1.5.0",
          "state": {
            "_dom_classes": [],
            "_model_module": "@jupyter-widgets/controls",
            "_model_module_version": "1.5.0",
            "_model_name": "HTMLModel",
            "_view_count": null,
            "_view_module": "@jupyter-widgets/controls",
            "_view_module_version": "1.5.0",
            "_view_name": "HTMLView",
            "description": "",
            "description_tooltip": null,
            "layout": "IPY_MODEL_27dfbd72e87b4821849169045257f362",
            "placeholder": "​",
            "style": "IPY_MODEL_0650a0c5838240e8a6f32ff2b251a9ed",
            "value": "Downloading: 100%"
          }
        },
        "292d0e8867874287b0f9c9b70f904466": {
          "model_module": "@jupyter-widgets/controls",
          "model_name": "FloatProgressModel",
          "model_module_version": "1.5.0",
          "state": {
            "_dom_classes": [],
            "_model_module": "@jupyter-widgets/controls",
            "_model_module_version": "1.5.0",
            "_model_name": "FloatProgressModel",
            "_view_count": null,
            "_view_module": "@jupyter-widgets/controls",
            "_view_module_version": "1.5.0",
            "_view_name": "ProgressView",
            "bar_style": "success",
            "description": "",
            "description_tooltip": null,
            "layout": "IPY_MODEL_48d9f6cda0224acf92438487418c12dc",
            "max": 231508,
            "min": 0,
            "orientation": "horizontal",
            "style": "IPY_MODEL_5ce0b23243854218a88e8d571cde611d",
            "value": 231508
          }
        },
        "ec48d204b833483388af03023d219e07": {
          "model_module": "@jupyter-widgets/controls",
          "model_name": "HTMLModel",
          "model_module_version": "1.5.0",
          "state": {
            "_dom_classes": [],
            "_model_module": "@jupyter-widgets/controls",
            "_model_module_version": "1.5.0",
            "_model_name": "HTMLModel",
            "_view_count": null,
            "_view_module": "@jupyter-widgets/controls",
            "_view_module_version": "1.5.0",
            "_view_name": "HTMLView",
            "description": "",
            "description_tooltip": null,
            "layout": "IPY_MODEL_29d997567aba44e68864cffd4b031ced",
            "placeholder": "​",
            "style": "IPY_MODEL_565c13b1560b4471831083a89d439213",
            "value": " 232k/232k [00:00&lt;00:00, 1.72MB/s]"
          }
        },
        "e08b2af0b72e4d228e6bae80f1f4cf83": {
          "model_module": "@jupyter-widgets/base",
          "model_name": "LayoutModel",
          "model_module_version": "1.2.0",
          "state": {
            "_model_module": "@jupyter-widgets/base",
            "_model_module_version": "1.2.0",
            "_model_name": "LayoutModel",
            "_view_count": null,
            "_view_module": "@jupyter-widgets/base",
            "_view_module_version": "1.2.0",
            "_view_name": "LayoutView",
            "align_content": null,
            "align_items": null,
            "align_self": null,
            "border": null,
            "bottom": null,
            "display": null,
            "flex": null,
            "flex_flow": null,
            "grid_area": null,
            "grid_auto_columns": null,
            "grid_auto_flow": null,
            "grid_auto_rows": null,
            "grid_column": null,
            "grid_gap": null,
            "grid_row": null,
            "grid_template_areas": null,
            "grid_template_columns": null,
            "grid_template_rows": null,
            "height": null,
            "justify_content": null,
            "justify_items": null,
            "left": null,
            "margin": null,
            "max_height": null,
            "max_width": null,
            "min_height": null,
            "min_width": null,
            "object_fit": null,
            "object_position": null,
            "order": null,
            "overflow": null,
            "overflow_x": null,
            "overflow_y": null,
            "padding": null,
            "right": null,
            "top": null,
            "visibility": null,
            "width": null
          }
        },
        "27dfbd72e87b4821849169045257f362": {
          "model_module": "@jupyter-widgets/base",
          "model_name": "LayoutModel",
          "model_module_version": "1.2.0",
          "state": {
            "_model_module": "@jupyter-widgets/base",
            "_model_module_version": "1.2.0",
            "_model_name": "LayoutModel",
            "_view_count": null,
            "_view_module": "@jupyter-widgets/base",
            "_view_module_version": "1.2.0",
            "_view_name": "LayoutView",
            "align_content": null,
            "align_items": null,
            "align_self": null,
            "border": null,
            "bottom": null,
            "display": null,
            "flex": null,
            "flex_flow": null,
            "grid_area": null,
            "grid_auto_columns": null,
            "grid_auto_flow": null,
            "grid_auto_rows": null,
            "grid_column": null,
            "grid_gap": null,
            "grid_row": null,
            "grid_template_areas": null,
            "grid_template_columns": null,
            "grid_template_rows": null,
            "height": null,
            "justify_content": null,
            "justify_items": null,
            "left": null,
            "margin": null,
            "max_height": null,
            "max_width": null,
            "min_height": null,
            "min_width": null,
            "object_fit": null,
            "object_position": null,
            "order": null,
            "overflow": null,
            "overflow_x": null,
            "overflow_y": null,
            "padding": null,
            "right": null,
            "top": null,
            "visibility": null,
            "width": null
          }
        },
        "0650a0c5838240e8a6f32ff2b251a9ed": {
          "model_module": "@jupyter-widgets/controls",
          "model_name": "DescriptionStyleModel",
          "model_module_version": "1.5.0",
          "state": {
            "_model_module": "@jupyter-widgets/controls",
            "_model_module_version": "1.5.0",
            "_model_name": "DescriptionStyleModel",
            "_view_count": null,
            "_view_module": "@jupyter-widgets/base",
            "_view_module_version": "1.2.0",
            "_view_name": "StyleView",
            "description_width": ""
          }
        },
        "48d9f6cda0224acf92438487418c12dc": {
          "model_module": "@jupyter-widgets/base",
          "model_name": "LayoutModel",
          "model_module_version": "1.2.0",
          "state": {
            "_model_module": "@jupyter-widgets/base",
            "_model_module_version": "1.2.0",
            "_model_name": "LayoutModel",
            "_view_count": null,
            "_view_module": "@jupyter-widgets/base",
            "_view_module_version": "1.2.0",
            "_view_name": "LayoutView",
            "align_content": null,
            "align_items": null,
            "align_self": null,
            "border": null,
            "bottom": null,
            "display": null,
            "flex": null,
            "flex_flow": null,
            "grid_area": null,
            "grid_auto_columns": null,
            "grid_auto_flow": null,
            "grid_auto_rows": null,
            "grid_column": null,
            "grid_gap": null,
            "grid_row": null,
            "grid_template_areas": null,
            "grid_template_columns": null,
            "grid_template_rows": null,
            "height": null,
            "justify_content": null,
            "justify_items": null,
            "left": null,
            "margin": null,
            "max_height": null,
            "max_width": null,
            "min_height": null,
            "min_width": null,
            "object_fit": null,
            "object_position": null,
            "order": null,
            "overflow": null,
            "overflow_x": null,
            "overflow_y": null,
            "padding": null,
            "right": null,
            "top": null,
            "visibility": null,
            "width": null
          }
        },
        "5ce0b23243854218a88e8d571cde611d": {
          "model_module": "@jupyter-widgets/controls",
          "model_name": "ProgressStyleModel",
          "model_module_version": "1.5.0",
          "state": {
            "_model_module": "@jupyter-widgets/controls",
            "_model_module_version": "1.5.0",
            "_model_name": "ProgressStyleModel",
            "_view_count": null,
            "_view_module": "@jupyter-widgets/base",
            "_view_module_version": "1.2.0",
            "_view_name": "StyleView",
            "bar_color": null,
            "description_width": ""
          }
        },
        "29d997567aba44e68864cffd4b031ced": {
          "model_module": "@jupyter-widgets/base",
          "model_name": "LayoutModel",
          "model_module_version": "1.2.0",
          "state": {
            "_model_module": "@jupyter-widgets/base",
            "_model_module_version": "1.2.0",
            "_model_name": "LayoutModel",
            "_view_count": null,
            "_view_module": "@jupyter-widgets/base",
            "_view_module_version": "1.2.0",
            "_view_name": "LayoutView",
            "align_content": null,
            "align_items": null,
            "align_self": null,
            "border": null,
            "bottom": null,
            "display": null,
            "flex": null,
            "flex_flow": null,
            "grid_area": null,
            "grid_auto_columns": null,
            "grid_auto_flow": null,
            "grid_auto_rows": null,
            "grid_column": null,
            "grid_gap": null,
            "grid_row": null,
            "grid_template_areas": null,
            "grid_template_columns": null,
            "grid_template_rows": null,
            "height": null,
            "justify_content": null,
            "justify_items": null,
            "left": null,
            "margin": null,
            "max_height": null,
            "max_width": null,
            "min_height": null,
            "min_width": null,
            "object_fit": null,
            "object_position": null,
            "order": null,
            "overflow": null,
            "overflow_x": null,
            "overflow_y": null,
            "padding": null,
            "right": null,
            "top": null,
            "visibility": null,
            "width": null
          }
        },
        "565c13b1560b4471831083a89d439213": {
          "model_module": "@jupyter-widgets/controls",
          "model_name": "DescriptionStyleModel",
          "model_module_version": "1.5.0",
          "state": {
            "_model_module": "@jupyter-widgets/controls",
            "_model_module_version": "1.5.0",
            "_model_name": "DescriptionStyleModel",
            "_view_count": null,
            "_view_module": "@jupyter-widgets/base",
            "_view_module_version": "1.2.0",
            "_view_name": "StyleView",
            "description_width": ""
          }
        },
        "2f38d6d51356460394b84880fde1b597": {
          "model_module": "@jupyter-widgets/controls",
          "model_name": "HBoxModel",
          "model_module_version": "1.5.0",
          "state": {
            "_dom_classes": [],
            "_model_module": "@jupyter-widgets/controls",
            "_model_module_version": "1.5.0",
            "_model_name": "HBoxModel",
            "_view_count": null,
            "_view_module": "@jupyter-widgets/controls",
            "_view_module_version": "1.5.0",
            "_view_name": "HBoxView",
            "box_style": "",
            "children": [
              "IPY_MODEL_2dd41904af8a4092a8b1190be963bc9b",
              "IPY_MODEL_fbf36a180ee74475a285d137975eaa9f",
              "IPY_MODEL_7e3b5aa5833d4964af8e5565c9c80a23"
            ],
            "layout": "IPY_MODEL_845d4f39d4d44312b6ae08c0962e21e5"
          }
        },
        "2dd41904af8a4092a8b1190be963bc9b": {
          "model_module": "@jupyter-widgets/controls",
          "model_name": "HTMLModel",
          "model_module_version": "1.5.0",
          "state": {
            "_dom_classes": [],
            "_model_module": "@jupyter-widgets/controls",
            "_model_module_version": "1.5.0",
            "_model_name": "HTMLModel",
            "_view_count": null,
            "_view_module": "@jupyter-widgets/controls",
            "_view_module_version": "1.5.0",
            "_view_name": "HTMLView",
            "description": "",
            "description_tooltip": null,
            "layout": "IPY_MODEL_a472a1f817ea41ecb9d1d99be571d23e",
            "placeholder": "​",
            "style": "IPY_MODEL_ae2ddfd0f4c740f89f34aa9f7b1f5023",
            "value": "Downloading: 100%"
          }
        },
        "fbf36a180ee74475a285d137975eaa9f": {
          "model_module": "@jupyter-widgets/controls",
          "model_name": "FloatProgressModel",
          "model_module_version": "1.5.0",
          "state": {
            "_dom_classes": [],
            "_model_module": "@jupyter-widgets/controls",
            "_model_module_version": "1.5.0",
            "_model_name": "FloatProgressModel",
            "_view_count": null,
            "_view_module": "@jupyter-widgets/controls",
            "_view_module_version": "1.5.0",
            "_view_name": "ProgressView",
            "bar_style": "success",
            "description": "",
            "description_tooltip": null,
            "layout": "IPY_MODEL_96368e367aa0434aa38ede41980fa11f",
            "max": 112,
            "min": 0,
            "orientation": "horizontal",
            "style": "IPY_MODEL_c7b79cf9711e43f1a936d8e40dcb0a9d",
            "value": 112
          }
        },
        "7e3b5aa5833d4964af8e5565c9c80a23": {
          "model_module": "@jupyter-widgets/controls",
          "model_name": "HTMLModel",
          "model_module_version": "1.5.0",
          "state": {
            "_dom_classes": [],
            "_model_module": "@jupyter-widgets/controls",
            "_model_module_version": "1.5.0",
            "_model_name": "HTMLModel",
            "_view_count": null,
            "_view_module": "@jupyter-widgets/controls",
            "_view_module_version": "1.5.0",
            "_view_name": "HTMLView",
            "description": "",
            "description_tooltip": null,
            "layout": "IPY_MODEL_f091094d49f34afea7688944c39c2fa3",
            "placeholder": "​",
            "style": "IPY_MODEL_67fc26318a394d0f9e61f5a50fbb4379",
            "value": " 112/112 [00:00&lt;00:00, 1.66kB/s]"
          }
        },
        "845d4f39d4d44312b6ae08c0962e21e5": {
          "model_module": "@jupyter-widgets/base",
          "model_name": "LayoutModel",
          "model_module_version": "1.2.0",
          "state": {
            "_model_module": "@jupyter-widgets/base",
            "_model_module_version": "1.2.0",
            "_model_name": "LayoutModel",
            "_view_count": null,
            "_view_module": "@jupyter-widgets/base",
            "_view_module_version": "1.2.0",
            "_view_name": "LayoutView",
            "align_content": null,
            "align_items": null,
            "align_self": null,
            "border": null,
            "bottom": null,
            "display": null,
            "flex": null,
            "flex_flow": null,
            "grid_area": null,
            "grid_auto_columns": null,
            "grid_auto_flow": null,
            "grid_auto_rows": null,
            "grid_column": null,
            "grid_gap": null,
            "grid_row": null,
            "grid_template_areas": null,
            "grid_template_columns": null,
            "grid_template_rows": null,
            "height": null,
            "justify_content": null,
            "justify_items": null,
            "left": null,
            "margin": null,
            "max_height": null,
            "max_width": null,
            "min_height": null,
            "min_width": null,
            "object_fit": null,
            "object_position": null,
            "order": null,
            "overflow": null,
            "overflow_x": null,
            "overflow_y": null,
            "padding": null,
            "right": null,
            "top": null,
            "visibility": null,
            "width": null
          }
        },
        "a472a1f817ea41ecb9d1d99be571d23e": {
          "model_module": "@jupyter-widgets/base",
          "model_name": "LayoutModel",
          "model_module_version": "1.2.0",
          "state": {
            "_model_module": "@jupyter-widgets/base",
            "_model_module_version": "1.2.0",
            "_model_name": "LayoutModel",
            "_view_count": null,
            "_view_module": "@jupyter-widgets/base",
            "_view_module_version": "1.2.0",
            "_view_name": "LayoutView",
            "align_content": null,
            "align_items": null,
            "align_self": null,
            "border": null,
            "bottom": null,
            "display": null,
            "flex": null,
            "flex_flow": null,
            "grid_area": null,
            "grid_auto_columns": null,
            "grid_auto_flow": null,
            "grid_auto_rows": null,
            "grid_column": null,
            "grid_gap": null,
            "grid_row": null,
            "grid_template_areas": null,
            "grid_template_columns": null,
            "grid_template_rows": null,
            "height": null,
            "justify_content": null,
            "justify_items": null,
            "left": null,
            "margin": null,
            "max_height": null,
            "max_width": null,
            "min_height": null,
            "min_width": null,
            "object_fit": null,
            "object_position": null,
            "order": null,
            "overflow": null,
            "overflow_x": null,
            "overflow_y": null,
            "padding": null,
            "right": null,
            "top": null,
            "visibility": null,
            "width": null
          }
        },
        "ae2ddfd0f4c740f89f34aa9f7b1f5023": {
          "model_module": "@jupyter-widgets/controls",
          "model_name": "DescriptionStyleModel",
          "model_module_version": "1.5.0",
          "state": {
            "_model_module": "@jupyter-widgets/controls",
            "_model_module_version": "1.5.0",
            "_model_name": "DescriptionStyleModel",
            "_view_count": null,
            "_view_module": "@jupyter-widgets/base",
            "_view_module_version": "1.2.0",
            "_view_name": "StyleView",
            "description_width": ""
          }
        },
        "96368e367aa0434aa38ede41980fa11f": {
          "model_module": "@jupyter-widgets/base",
          "model_name": "LayoutModel",
          "model_module_version": "1.2.0",
          "state": {
            "_model_module": "@jupyter-widgets/base",
            "_model_module_version": "1.2.0",
            "_model_name": "LayoutModel",
            "_view_count": null,
            "_view_module": "@jupyter-widgets/base",
            "_view_module_version": "1.2.0",
            "_view_name": "LayoutView",
            "align_content": null,
            "align_items": null,
            "align_self": null,
            "border": null,
            "bottom": null,
            "display": null,
            "flex": null,
            "flex_flow": null,
            "grid_area": null,
            "grid_auto_columns": null,
            "grid_auto_flow": null,
            "grid_auto_rows": null,
            "grid_column": null,
            "grid_gap": null,
            "grid_row": null,
            "grid_template_areas": null,
            "grid_template_columns": null,
            "grid_template_rows": null,
            "height": null,
            "justify_content": null,
            "justify_items": null,
            "left": null,
            "margin": null,
            "max_height": null,
            "max_width": null,
            "min_height": null,
            "min_width": null,
            "object_fit": null,
            "object_position": null,
            "order": null,
            "overflow": null,
            "overflow_x": null,
            "overflow_y": null,
            "padding": null,
            "right": null,
            "top": null,
            "visibility": null,
            "width": null
          }
        },
        "c7b79cf9711e43f1a936d8e40dcb0a9d": {
          "model_module": "@jupyter-widgets/controls",
          "model_name": "ProgressStyleModel",
          "model_module_version": "1.5.0",
          "state": {
            "_model_module": "@jupyter-widgets/controls",
            "_model_module_version": "1.5.0",
            "_model_name": "ProgressStyleModel",
            "_view_count": null,
            "_view_module": "@jupyter-widgets/base",
            "_view_module_version": "1.2.0",
            "_view_name": "StyleView",
            "bar_color": null,
            "description_width": ""
          }
        },
        "f091094d49f34afea7688944c39c2fa3": {
          "model_module": "@jupyter-widgets/base",
          "model_name": "LayoutModel",
          "model_module_version": "1.2.0",
          "state": {
            "_model_module": "@jupyter-widgets/base",
            "_model_module_version": "1.2.0",
            "_model_name": "LayoutModel",
            "_view_count": null,
            "_view_module": "@jupyter-widgets/base",
            "_view_module_version": "1.2.0",
            "_view_name": "LayoutView",
            "align_content": null,
            "align_items": null,
            "align_self": null,
            "border": null,
            "bottom": null,
            "display": null,
            "flex": null,
            "flex_flow": null,
            "grid_area": null,
            "grid_auto_columns": null,
            "grid_auto_flow": null,
            "grid_auto_rows": null,
            "grid_column": null,
            "grid_gap": null,
            "grid_row": null,
            "grid_template_areas": null,
            "grid_template_columns": null,
            "grid_template_rows": null,
            "height": null,
            "justify_content": null,
            "justify_items": null,
            "left": null,
            "margin": null,
            "max_height": null,
            "max_width": null,
            "min_height": null,
            "min_width": null,
            "object_fit": null,
            "object_position": null,
            "order": null,
            "overflow": null,
            "overflow_x": null,
            "overflow_y": null,
            "padding": null,
            "right": null,
            "top": null,
            "visibility": null,
            "width": null
          }
        },
        "67fc26318a394d0f9e61f5a50fbb4379": {
          "model_module": "@jupyter-widgets/controls",
          "model_name": "DescriptionStyleModel",
          "model_module_version": "1.5.0",
          "state": {
            "_model_module": "@jupyter-widgets/controls",
            "_model_module_version": "1.5.0",
            "_model_name": "DescriptionStyleModel",
            "_view_count": null,
            "_view_module": "@jupyter-widgets/base",
            "_view_module_version": "1.2.0",
            "_view_name": "StyleView",
            "description_width": ""
          }
        },
        "9f57f16818ad4fb197f38d178628f858": {
          "model_module": "@jupyter-widgets/controls",
          "model_name": "HBoxModel",
          "model_module_version": "1.5.0",
          "state": {
            "_dom_classes": [],
            "_model_module": "@jupyter-widgets/controls",
            "_model_module_version": "1.5.0",
            "_model_name": "HBoxModel",
            "_view_count": null,
            "_view_module": "@jupyter-widgets/controls",
            "_view_module_version": "1.5.0",
            "_view_name": "HBoxView",
            "box_style": "",
            "children": [
              "IPY_MODEL_9d9f0fc6d53e425298073e922a0a6d93",
              "IPY_MODEL_9a57332d28a440fd980687ad7244a0f9",
              "IPY_MODEL_8790634173eb48c4a4ffb616981932bd"
            ],
            "layout": "IPY_MODEL_64d59941f8464fc5bdb1d7f62791dd8f"
          }
        },
        "9d9f0fc6d53e425298073e922a0a6d93": {
          "model_module": "@jupyter-widgets/controls",
          "model_name": "HTMLModel",
          "model_module_version": "1.5.0",
          "state": {
            "_dom_classes": [],
            "_model_module": "@jupyter-widgets/controls",
            "_model_module_version": "1.5.0",
            "_model_name": "HTMLModel",
            "_view_count": null,
            "_view_module": "@jupyter-widgets/controls",
            "_view_module_version": "1.5.0",
            "_view_name": "HTMLView",
            "description": "",
            "description_tooltip": null,
            "layout": "IPY_MODEL_d1e8765637c34e23967cb25a14f271e6",
            "placeholder": "​",
            "style": "IPY_MODEL_b01be1a849e94bc39d56c36c4f734e13",
            "value": "Downloading: 100%"
          }
        },
        "9a57332d28a440fd980687ad7244a0f9": {
          "model_module": "@jupyter-widgets/controls",
          "model_name": "FloatProgressModel",
          "model_module_version": "1.5.0",
          "state": {
            "_dom_classes": [],
            "_model_module": "@jupyter-widgets/controls",
            "_model_module_version": "1.5.0",
            "_model_name": "FloatProgressModel",
            "_view_count": null,
            "_view_module": "@jupyter-widgets/controls",
            "_view_module_version": "1.5.0",
            "_view_name": "ProgressView",
            "bar_style": "success",
            "description": "",
            "description_tooltip": null,
            "layout": "IPY_MODEL_9f1e2d7ff57f4781aae729bbb4f8a872",
            "max": 321,
            "min": 0,
            "orientation": "horizontal",
            "style": "IPY_MODEL_1613941903a04cff98c5f0571e25085d",
            "value": 321
          }
        },
        "8790634173eb48c4a4ffb616981932bd": {
          "model_module": "@jupyter-widgets/controls",
          "model_name": "HTMLModel",
          "model_module_version": "1.5.0",
          "state": {
            "_dom_classes": [],
            "_model_module": "@jupyter-widgets/controls",
            "_model_module_version": "1.5.0",
            "_model_name": "HTMLModel",
            "_view_count": null,
            "_view_module": "@jupyter-widgets/controls",
            "_view_module_version": "1.5.0",
            "_view_name": "HTMLView",
            "description": "",
            "description_tooltip": null,
            "layout": "IPY_MODEL_edec1bc8dd4a42ab8a14cd28840eb9c1",
            "placeholder": "​",
            "style": "IPY_MODEL_54595ea7c3d748ce8ee78c17375d05ef",
            "value": " 321/321 [00:00&lt;00:00, 8.02kB/s]"
          }
        },
        "64d59941f8464fc5bdb1d7f62791dd8f": {
          "model_module": "@jupyter-widgets/base",
          "model_name": "LayoutModel",
          "model_module_version": "1.2.0",
          "state": {
            "_model_module": "@jupyter-widgets/base",
            "_model_module_version": "1.2.0",
            "_model_name": "LayoutModel",
            "_view_count": null,
            "_view_module": "@jupyter-widgets/base",
            "_view_module_version": "1.2.0",
            "_view_name": "LayoutView",
            "align_content": null,
            "align_items": null,
            "align_self": null,
            "border": null,
            "bottom": null,
            "display": null,
            "flex": null,
            "flex_flow": null,
            "grid_area": null,
            "grid_auto_columns": null,
            "grid_auto_flow": null,
            "grid_auto_rows": null,
            "grid_column": null,
            "grid_gap": null,
            "grid_row": null,
            "grid_template_areas": null,
            "grid_template_columns": null,
            "grid_template_rows": null,
            "height": null,
            "justify_content": null,
            "justify_items": null,
            "left": null,
            "margin": null,
            "max_height": null,
            "max_width": null,
            "min_height": null,
            "min_width": null,
            "object_fit": null,
            "object_position": null,
            "order": null,
            "overflow": null,
            "overflow_x": null,
            "overflow_y": null,
            "padding": null,
            "right": null,
            "top": null,
            "visibility": null,
            "width": null
          }
        },
        "d1e8765637c34e23967cb25a14f271e6": {
          "model_module": "@jupyter-widgets/base",
          "model_name": "LayoutModel",
          "model_module_version": "1.2.0",
          "state": {
            "_model_module": "@jupyter-widgets/base",
            "_model_module_version": "1.2.0",
            "_model_name": "LayoutModel",
            "_view_count": null,
            "_view_module": "@jupyter-widgets/base",
            "_view_module_version": "1.2.0",
            "_view_name": "LayoutView",
            "align_content": null,
            "align_items": null,
            "align_self": null,
            "border": null,
            "bottom": null,
            "display": null,
            "flex": null,
            "flex_flow": null,
            "grid_area": null,
            "grid_auto_columns": null,
            "grid_auto_flow": null,
            "grid_auto_rows": null,
            "grid_column": null,
            "grid_gap": null,
            "grid_row": null,
            "grid_template_areas": null,
            "grid_template_columns": null,
            "grid_template_rows": null,
            "height": null,
            "justify_content": null,
            "justify_items": null,
            "left": null,
            "margin": null,
            "max_height": null,
            "max_width": null,
            "min_height": null,
            "min_width": null,
            "object_fit": null,
            "object_position": null,
            "order": null,
            "overflow": null,
            "overflow_x": null,
            "overflow_y": null,
            "padding": null,
            "right": null,
            "top": null,
            "visibility": null,
            "width": null
          }
        },
        "b01be1a849e94bc39d56c36c4f734e13": {
          "model_module": "@jupyter-widgets/controls",
          "model_name": "DescriptionStyleModel",
          "model_module_version": "1.5.0",
          "state": {
            "_model_module": "@jupyter-widgets/controls",
            "_model_module_version": "1.5.0",
            "_model_name": "DescriptionStyleModel",
            "_view_count": null,
            "_view_module": "@jupyter-widgets/base",
            "_view_module_version": "1.2.0",
            "_view_name": "StyleView",
            "description_width": ""
          }
        },
        "9f1e2d7ff57f4781aae729bbb4f8a872": {
          "model_module": "@jupyter-widgets/base",
          "model_name": "LayoutModel",
          "model_module_version": "1.2.0",
          "state": {
            "_model_module": "@jupyter-widgets/base",
            "_model_module_version": "1.2.0",
            "_model_name": "LayoutModel",
            "_view_count": null,
            "_view_module": "@jupyter-widgets/base",
            "_view_module_version": "1.2.0",
            "_view_name": "LayoutView",
            "align_content": null,
            "align_items": null,
            "align_self": null,
            "border": null,
            "bottom": null,
            "display": null,
            "flex": null,
            "flex_flow": null,
            "grid_area": null,
            "grid_auto_columns": null,
            "grid_auto_flow": null,
            "grid_auto_rows": null,
            "grid_column": null,
            "grid_gap": null,
            "grid_row": null,
            "grid_template_areas": null,
            "grid_template_columns": null,
            "grid_template_rows": null,
            "height": null,
            "justify_content": null,
            "justify_items": null,
            "left": null,
            "margin": null,
            "max_height": null,
            "max_width": null,
            "min_height": null,
            "min_width": null,
            "object_fit": null,
            "object_position": null,
            "order": null,
            "overflow": null,
            "overflow_x": null,
            "overflow_y": null,
            "padding": null,
            "right": null,
            "top": null,
            "visibility": null,
            "width": null
          }
        },
        "1613941903a04cff98c5f0571e25085d": {
          "model_module": "@jupyter-widgets/controls",
          "model_name": "ProgressStyleModel",
          "model_module_version": "1.5.0",
          "state": {
            "_model_module": "@jupyter-widgets/controls",
            "_model_module_version": "1.5.0",
            "_model_name": "ProgressStyleModel",
            "_view_count": null,
            "_view_module": "@jupyter-widgets/base",
            "_view_module_version": "1.2.0",
            "_view_name": "StyleView",
            "bar_color": null,
            "description_width": ""
          }
        },
        "edec1bc8dd4a42ab8a14cd28840eb9c1": {
          "model_module": "@jupyter-widgets/base",
          "model_name": "LayoutModel",
          "model_module_version": "1.2.0",
          "state": {
            "_model_module": "@jupyter-widgets/base",
            "_model_module_version": "1.2.0",
            "_model_name": "LayoutModel",
            "_view_count": null,
            "_view_module": "@jupyter-widgets/base",
            "_view_module_version": "1.2.0",
            "_view_name": "LayoutView",
            "align_content": null,
            "align_items": null,
            "align_self": null,
            "border": null,
            "bottom": null,
            "display": null,
            "flex": null,
            "flex_flow": null,
            "grid_area": null,
            "grid_auto_columns": null,
            "grid_auto_flow": null,
            "grid_auto_rows": null,
            "grid_column": null,
            "grid_gap": null,
            "grid_row": null,
            "grid_template_areas": null,
            "grid_template_columns": null,
            "grid_template_rows": null,
            "height": null,
            "justify_content": null,
            "justify_items": null,
            "left": null,
            "margin": null,
            "max_height": null,
            "max_width": null,
            "min_height": null,
            "min_width": null,
            "object_fit": null,
            "object_position": null,
            "order": null,
            "overflow": null,
            "overflow_x": null,
            "overflow_y": null,
            "padding": null,
            "right": null,
            "top": null,
            "visibility": null,
            "width": null
          }
        },
        "54595ea7c3d748ce8ee78c17375d05ef": {
          "model_module": "@jupyter-widgets/controls",
          "model_name": "DescriptionStyleModel",
          "model_module_version": "1.5.0",
          "state": {
            "_model_module": "@jupyter-widgets/controls",
            "_model_module_version": "1.5.0",
            "_model_name": "DescriptionStyleModel",
            "_view_count": null,
            "_view_module": "@jupyter-widgets/base",
            "_view_module_version": "1.2.0",
            "_view_name": "StyleView",
            "description_width": ""
          }
        },
        "eac2501945cd4630ad1ba64c4ccbd4b5": {
          "model_module": "@jupyter-widgets/controls",
          "model_name": "HBoxModel",
          "model_module_version": "1.5.0",
          "state": {
            "_dom_classes": [],
            "_model_module": "@jupyter-widgets/controls",
            "_model_module_version": "1.5.0",
            "_model_name": "HBoxModel",
            "_view_count": null,
            "_view_module": "@jupyter-widgets/controls",
            "_view_module_version": "1.5.0",
            "_view_name": "HBoxView",
            "box_style": "",
            "children": [
              "IPY_MODEL_242feb8d6d9d4fc7a10e04ba50dd2980",
              "IPY_MODEL_2be1634dd92342328ac500c326cf9826",
              "IPY_MODEL_db899389bac94f1b8bed65fe794eeb89"
            ],
            "layout": "IPY_MODEL_9d58abc4de9742ca956905e70cc638e5"
          }
        },
        "242feb8d6d9d4fc7a10e04ba50dd2980": {
          "model_module": "@jupyter-widgets/controls",
          "model_name": "HTMLModel",
          "model_module_version": "1.5.0",
          "state": {
            "_dom_classes": [],
            "_model_module": "@jupyter-widgets/controls",
            "_model_module_version": "1.5.0",
            "_model_name": "HTMLModel",
            "_view_count": null,
            "_view_module": "@jupyter-widgets/controls",
            "_view_module_version": "1.5.0",
            "_view_name": "HTMLView",
            "description": "",
            "description_tooltip": null,
            "layout": "IPY_MODEL_69fd911c713b4ee29a64ddb527f6f0cb",
            "placeholder": "​",
            "style": "IPY_MODEL_dd21e5eeebb44af8adfe0adb06ee9379",
            "value": "Downloading: 100%"
          }
        },
        "2be1634dd92342328ac500c326cf9826": {
          "model_module": "@jupyter-widgets/controls",
          "model_name": "FloatProgressModel",
          "model_module_version": "1.5.0",
          "state": {
            "_dom_classes": [],
            "_model_module": "@jupyter-widgets/controls",
            "_model_module_version": "1.5.0",
            "_model_name": "FloatProgressModel",
            "_view_count": null,
            "_view_module": "@jupyter-widgets/controls",
            "_view_module_version": "1.5.0",
            "_view_name": "ProgressView",
            "bar_style": "success",
            "description": "",
            "description_tooltip": null,
            "layout": "IPY_MODEL_6eeb2e6ecdeb4d62b76dc46f6cee1004",
            "max": 466249,
            "min": 0,
            "orientation": "horizontal",
            "style": "IPY_MODEL_47799c81f388499fa2daee4ca23aa9e7",
            "value": 466249
          }
        },
        "db899389bac94f1b8bed65fe794eeb89": {
          "model_module": "@jupyter-widgets/controls",
          "model_name": "HTMLModel",
          "model_module_version": "1.5.0",
          "state": {
            "_dom_classes": [],
            "_model_module": "@jupyter-widgets/controls",
            "_model_module_version": "1.5.0",
            "_model_name": "HTMLModel",
            "_view_count": null,
            "_view_module": "@jupyter-widgets/controls",
            "_view_module_version": "1.5.0",
            "_view_name": "HTMLView",
            "description": "",
            "description_tooltip": null,
            "layout": "IPY_MODEL_d76e79d9e7e44e309e43539b1885a315",
            "placeholder": "​",
            "style": "IPY_MODEL_a7563f1936554105a8102d0fb5e8a8ca",
            "value": " 466k/466k [00:00&lt;00:00, 1.60MB/s]"
          }
        },
        "9d58abc4de9742ca956905e70cc638e5": {
          "model_module": "@jupyter-widgets/base",
          "model_name": "LayoutModel",
          "model_module_version": "1.2.0",
          "state": {
            "_model_module": "@jupyter-widgets/base",
            "_model_module_version": "1.2.0",
            "_model_name": "LayoutModel",
            "_view_count": null,
            "_view_module": "@jupyter-widgets/base",
            "_view_module_version": "1.2.0",
            "_view_name": "LayoutView",
            "align_content": null,
            "align_items": null,
            "align_self": null,
            "border": null,
            "bottom": null,
            "display": null,
            "flex": null,
            "flex_flow": null,
            "grid_area": null,
            "grid_auto_columns": null,
            "grid_auto_flow": null,
            "grid_auto_rows": null,
            "grid_column": null,
            "grid_gap": null,
            "grid_row": null,
            "grid_template_areas": null,
            "grid_template_columns": null,
            "grid_template_rows": null,
            "height": null,
            "justify_content": null,
            "justify_items": null,
            "left": null,
            "margin": null,
            "max_height": null,
            "max_width": null,
            "min_height": null,
            "min_width": null,
            "object_fit": null,
            "object_position": null,
            "order": null,
            "overflow": null,
            "overflow_x": null,
            "overflow_y": null,
            "padding": null,
            "right": null,
            "top": null,
            "visibility": null,
            "width": null
          }
        },
        "69fd911c713b4ee29a64ddb527f6f0cb": {
          "model_module": "@jupyter-widgets/base",
          "model_name": "LayoutModel",
          "model_module_version": "1.2.0",
          "state": {
            "_model_module": "@jupyter-widgets/base",
            "_model_module_version": "1.2.0",
            "_model_name": "LayoutModel",
            "_view_count": null,
            "_view_module": "@jupyter-widgets/base",
            "_view_module_version": "1.2.0",
            "_view_name": "LayoutView",
            "align_content": null,
            "align_items": null,
            "align_self": null,
            "border": null,
            "bottom": null,
            "display": null,
            "flex": null,
            "flex_flow": null,
            "grid_area": null,
            "grid_auto_columns": null,
            "grid_auto_flow": null,
            "grid_auto_rows": null,
            "grid_column": null,
            "grid_gap": null,
            "grid_row": null,
            "grid_template_areas": null,
            "grid_template_columns": null,
            "grid_template_rows": null,
            "height": null,
            "justify_content": null,
            "justify_items": null,
            "left": null,
            "margin": null,
            "max_height": null,
            "max_width": null,
            "min_height": null,
            "min_width": null,
            "object_fit": null,
            "object_position": null,
            "order": null,
            "overflow": null,
            "overflow_x": null,
            "overflow_y": null,
            "padding": null,
            "right": null,
            "top": null,
            "visibility": null,
            "width": null
          }
        },
        "dd21e5eeebb44af8adfe0adb06ee9379": {
          "model_module": "@jupyter-widgets/controls",
          "model_name": "DescriptionStyleModel",
          "model_module_version": "1.5.0",
          "state": {
            "_model_module": "@jupyter-widgets/controls",
            "_model_module_version": "1.5.0",
            "_model_name": "DescriptionStyleModel",
            "_view_count": null,
            "_view_module": "@jupyter-widgets/base",
            "_view_module_version": "1.2.0",
            "_view_name": "StyleView",
            "description_width": ""
          }
        },
        "6eeb2e6ecdeb4d62b76dc46f6cee1004": {
          "model_module": "@jupyter-widgets/base",
          "model_name": "LayoutModel",
          "model_module_version": "1.2.0",
          "state": {
            "_model_module": "@jupyter-widgets/base",
            "_model_module_version": "1.2.0",
            "_model_name": "LayoutModel",
            "_view_count": null,
            "_view_module": "@jupyter-widgets/base",
            "_view_module_version": "1.2.0",
            "_view_name": "LayoutView",
            "align_content": null,
            "align_items": null,
            "align_self": null,
            "border": null,
            "bottom": null,
            "display": null,
            "flex": null,
            "flex_flow": null,
            "grid_area": null,
            "grid_auto_columns": null,
            "grid_auto_flow": null,
            "grid_auto_rows": null,
            "grid_column": null,
            "grid_gap": null,
            "grid_row": null,
            "grid_template_areas": null,
            "grid_template_columns": null,
            "grid_template_rows": null,
            "height": null,
            "justify_content": null,
            "justify_items": null,
            "left": null,
            "margin": null,
            "max_height": null,
            "max_width": null,
            "min_height": null,
            "min_width": null,
            "object_fit": null,
            "object_position": null,
            "order": null,
            "overflow": null,
            "overflow_x": null,
            "overflow_y": null,
            "padding": null,
            "right": null,
            "top": null,
            "visibility": null,
            "width": null
          }
        },
        "47799c81f388499fa2daee4ca23aa9e7": {
          "model_module": "@jupyter-widgets/controls",
          "model_name": "ProgressStyleModel",
          "model_module_version": "1.5.0",
          "state": {
            "_model_module": "@jupyter-widgets/controls",
            "_model_module_version": "1.5.0",
            "_model_name": "ProgressStyleModel",
            "_view_count": null,
            "_view_module": "@jupyter-widgets/base",
            "_view_module_version": "1.2.0",
            "_view_name": "StyleView",
            "bar_color": null,
            "description_width": ""
          }
        },
        "d76e79d9e7e44e309e43539b1885a315": {
          "model_module": "@jupyter-widgets/base",
          "model_name": "LayoutModel",
          "model_module_version": "1.2.0",
          "state": {
            "_model_module": "@jupyter-widgets/base",
            "_model_module_version": "1.2.0",
            "_model_name": "LayoutModel",
            "_view_count": null,
            "_view_module": "@jupyter-widgets/base",
            "_view_module_version": "1.2.0",
            "_view_name": "LayoutView",
            "align_content": null,
            "align_items": null,
            "align_self": null,
            "border": null,
            "bottom": null,
            "display": null,
            "flex": null,
            "flex_flow": null,
            "grid_area": null,
            "grid_auto_columns": null,
            "grid_auto_flow": null,
            "grid_auto_rows": null,
            "grid_column": null,
            "grid_gap": null,
            "grid_row": null,
            "grid_template_areas": null,
            "grid_template_columns": null,
            "grid_template_rows": null,
            "height": null,
            "justify_content": null,
            "justify_items": null,
            "left": null,
            "margin": null,
            "max_height": null,
            "max_width": null,
            "min_height": null,
            "min_width": null,
            "object_fit": null,
            "object_position": null,
            "order": null,
            "overflow": null,
            "overflow_x": null,
            "overflow_y": null,
            "padding": null,
            "right": null,
            "top": null,
            "visibility": null,
            "width": null
          }
        },
        "a7563f1936554105a8102d0fb5e8a8ca": {
          "model_module": "@jupyter-widgets/controls",
          "model_name": "DescriptionStyleModel",
          "model_module_version": "1.5.0",
          "state": {
            "_model_module": "@jupyter-widgets/controls",
            "_model_module_version": "1.5.0",
            "_model_name": "DescriptionStyleModel",
            "_view_count": null,
            "_view_module": "@jupyter-widgets/base",
            "_view_module_version": "1.2.0",
            "_view_name": "StyleView",
            "description_width": ""
          }
        },
        "a44cc51dc782420a9cea2a090a042e2c": {
          "model_module": "@jupyter-widgets/controls",
          "model_name": "HBoxModel",
          "model_module_version": "1.5.0",
          "state": {
            "_dom_classes": [],
            "_model_module": "@jupyter-widgets/controls",
            "_model_module_version": "1.5.0",
            "_model_name": "HBoxModel",
            "_view_count": null,
            "_view_module": "@jupyter-widgets/controls",
            "_view_module_version": "1.5.0",
            "_view_name": "HBoxView",
            "box_style": "",
            "children": [
              "IPY_MODEL_0bfb79819a104bbe9f19ead885465167",
              "IPY_MODEL_cf90f9e0ef934f9c92466a9f36b72d30",
              "IPY_MODEL_f3a07eaf805547fb99f80246ea00950b"
            ],
            "layout": "IPY_MODEL_0b4506cbefa0434ba7a740927f0a6d01"
          }
        },
        "0bfb79819a104bbe9f19ead885465167": {
          "model_module": "@jupyter-widgets/controls",
          "model_name": "HTMLModel",
          "model_module_version": "1.5.0",
          "state": {
            "_dom_classes": [],
            "_model_module": "@jupyter-widgets/controls",
            "_model_module_version": "1.5.0",
            "_model_name": "HTMLModel",
            "_view_count": null,
            "_view_module": "@jupyter-widgets/controls",
            "_view_module_version": "1.5.0",
            "_view_name": "HTMLView",
            "description": "",
            "description_tooltip": null,
            "layout": "IPY_MODEL_b7b565a9d82044a58ac5274e30af57cb",
            "placeholder": "​",
            "style": "IPY_MODEL_2caef4e0e267419ba952e4176a539e9a",
            "value": "Downloading: 100%"
          }
        },
        "cf90f9e0ef934f9c92466a9f36b72d30": {
          "model_module": "@jupyter-widgets/controls",
          "model_name": "FloatProgressModel",
          "model_module_version": "1.5.0",
          "state": {
            "_dom_classes": [],
            "_model_module": "@jupyter-widgets/controls",
            "_model_module_version": "1.5.0",
            "_model_name": "FloatProgressModel",
            "_view_count": null,
            "_view_module": "@jupyter-widgets/controls",
            "_view_module_version": "1.5.0",
            "_view_name": "ProgressView",
            "bar_style": "success",
            "description": "",
            "description_tooltip": null,
            "layout": "IPY_MODEL_4a4b45d23e2b465ab537463eabbf8012",
            "max": 438141995,
            "min": 0,
            "orientation": "horizontal",
            "style": "IPY_MODEL_b5882ffa806a4b45a8ac5267771e8042",
            "value": 438141995
          }
        },
        "f3a07eaf805547fb99f80246ea00950b": {
          "model_module": "@jupyter-widgets/controls",
          "model_name": "HTMLModel",
          "model_module_version": "1.5.0",
          "state": {
            "_dom_classes": [],
            "_model_module": "@jupyter-widgets/controls",
            "_model_module_version": "1.5.0",
            "_model_name": "HTMLModel",
            "_view_count": null,
            "_view_module": "@jupyter-widgets/controls",
            "_view_module_version": "1.5.0",
            "_view_name": "HTMLView",
            "description": "",
            "description_tooltip": null,
            "layout": "IPY_MODEL_850d2043ccd747e3b89e44d02ffbf28e",
            "placeholder": "​",
            "style": "IPY_MODEL_f933fabbe6164a4381731090b90e2337",
            "value": " 438M/438M [00:13&lt;00:00, 31.5MB/s]"
          }
        },
        "0b4506cbefa0434ba7a740927f0a6d01": {
          "model_module": "@jupyter-widgets/base",
          "model_name": "LayoutModel",
          "model_module_version": "1.2.0",
          "state": {
            "_model_module": "@jupyter-widgets/base",
            "_model_module_version": "1.2.0",
            "_model_name": "LayoutModel",
            "_view_count": null,
            "_view_module": "@jupyter-widgets/base",
            "_view_module_version": "1.2.0",
            "_view_name": "LayoutView",
            "align_content": null,
            "align_items": null,
            "align_self": null,
            "border": null,
            "bottom": null,
            "display": null,
            "flex": null,
            "flex_flow": null,
            "grid_area": null,
            "grid_auto_columns": null,
            "grid_auto_flow": null,
            "grid_auto_rows": null,
            "grid_column": null,
            "grid_gap": null,
            "grid_row": null,
            "grid_template_areas": null,
            "grid_template_columns": null,
            "grid_template_rows": null,
            "height": null,
            "justify_content": null,
            "justify_items": null,
            "left": null,
            "margin": null,
            "max_height": null,
            "max_width": null,
            "min_height": null,
            "min_width": null,
            "object_fit": null,
            "object_position": null,
            "order": null,
            "overflow": null,
            "overflow_x": null,
            "overflow_y": null,
            "padding": null,
            "right": null,
            "top": null,
            "visibility": null,
            "width": null
          }
        },
        "b7b565a9d82044a58ac5274e30af57cb": {
          "model_module": "@jupyter-widgets/base",
          "model_name": "LayoutModel",
          "model_module_version": "1.2.0",
          "state": {
            "_model_module": "@jupyter-widgets/base",
            "_model_module_version": "1.2.0",
            "_model_name": "LayoutModel",
            "_view_count": null,
            "_view_module": "@jupyter-widgets/base",
            "_view_module_version": "1.2.0",
            "_view_name": "LayoutView",
            "align_content": null,
            "align_items": null,
            "align_self": null,
            "border": null,
            "bottom": null,
            "display": null,
            "flex": null,
            "flex_flow": null,
            "grid_area": null,
            "grid_auto_columns": null,
            "grid_auto_flow": null,
            "grid_auto_rows": null,
            "grid_column": null,
            "grid_gap": null,
            "grid_row": null,
            "grid_template_areas": null,
            "grid_template_columns": null,
            "grid_template_rows": null,
            "height": null,
            "justify_content": null,
            "justify_items": null,
            "left": null,
            "margin": null,
            "max_height": null,
            "max_width": null,
            "min_height": null,
            "min_width": null,
            "object_fit": null,
            "object_position": null,
            "order": null,
            "overflow": null,
            "overflow_x": null,
            "overflow_y": null,
            "padding": null,
            "right": null,
            "top": null,
            "visibility": null,
            "width": null
          }
        },
        "2caef4e0e267419ba952e4176a539e9a": {
          "model_module": "@jupyter-widgets/controls",
          "model_name": "DescriptionStyleModel",
          "model_module_version": "1.5.0",
          "state": {
            "_model_module": "@jupyter-widgets/controls",
            "_model_module_version": "1.5.0",
            "_model_name": "DescriptionStyleModel",
            "_view_count": null,
            "_view_module": "@jupyter-widgets/base",
            "_view_module_version": "1.2.0",
            "_view_name": "StyleView",
            "description_width": ""
          }
        },
        "4a4b45d23e2b465ab537463eabbf8012": {
          "model_module": "@jupyter-widgets/base",
          "model_name": "LayoutModel",
          "model_module_version": "1.2.0",
          "state": {
            "_model_module": "@jupyter-widgets/base",
            "_model_module_version": "1.2.0",
            "_model_name": "LayoutModel",
            "_view_count": null,
            "_view_module": "@jupyter-widgets/base",
            "_view_module_version": "1.2.0",
            "_view_name": "LayoutView",
            "align_content": null,
            "align_items": null,
            "align_self": null,
            "border": null,
            "bottom": null,
            "display": null,
            "flex": null,
            "flex_flow": null,
            "grid_area": null,
            "grid_auto_columns": null,
            "grid_auto_flow": null,
            "grid_auto_rows": null,
            "grid_column": null,
            "grid_gap": null,
            "grid_row": null,
            "grid_template_areas": null,
            "grid_template_columns": null,
            "grid_template_rows": null,
            "height": null,
            "justify_content": null,
            "justify_items": null,
            "left": null,
            "margin": null,
            "max_height": null,
            "max_width": null,
            "min_height": null,
            "min_width": null,
            "object_fit": null,
            "object_position": null,
            "order": null,
            "overflow": null,
            "overflow_x": null,
            "overflow_y": null,
            "padding": null,
            "right": null,
            "top": null,
            "visibility": null,
            "width": null
          }
        },
        "b5882ffa806a4b45a8ac5267771e8042": {
          "model_module": "@jupyter-widgets/controls",
          "model_name": "ProgressStyleModel",
          "model_module_version": "1.5.0",
          "state": {
            "_model_module": "@jupyter-widgets/controls",
            "_model_module_version": "1.5.0",
            "_model_name": "ProgressStyleModel",
            "_view_count": null,
            "_view_module": "@jupyter-widgets/base",
            "_view_module_version": "1.2.0",
            "_view_name": "StyleView",
            "bar_color": null,
            "description_width": ""
          }
        },
        "850d2043ccd747e3b89e44d02ffbf28e": {
          "model_module": "@jupyter-widgets/base",
          "model_name": "LayoutModel",
          "model_module_version": "1.2.0",
          "state": {
            "_model_module": "@jupyter-widgets/base",
            "_model_module_version": "1.2.0",
            "_model_name": "LayoutModel",
            "_view_count": null,
            "_view_module": "@jupyter-widgets/base",
            "_view_module_version": "1.2.0",
            "_view_name": "LayoutView",
            "align_content": null,
            "align_items": null,
            "align_self": null,
            "border": null,
            "bottom": null,
            "display": null,
            "flex": null,
            "flex_flow": null,
            "grid_area": null,
            "grid_auto_columns": null,
            "grid_auto_flow": null,
            "grid_auto_rows": null,
            "grid_column": null,
            "grid_gap": null,
            "grid_row": null,
            "grid_template_areas": null,
            "grid_template_columns": null,
            "grid_template_rows": null,
            "height": null,
            "justify_content": null,
            "justify_items": null,
            "left": null,
            "margin": null,
            "max_height": null,
            "max_width": null,
            "min_height": null,
            "min_width": null,
            "object_fit": null,
            "object_position": null,
            "order": null,
            "overflow": null,
            "overflow_x": null,
            "overflow_y": null,
            "padding": null,
            "right": null,
            "top": null,
            "visibility": null,
            "width": null
          }
        },
        "f933fabbe6164a4381731090b90e2337": {
          "model_module": "@jupyter-widgets/controls",
          "model_name": "DescriptionStyleModel",
          "model_module_version": "1.5.0",
          "state": {
            "_model_module": "@jupyter-widgets/controls",
            "_model_module_version": "1.5.0",
            "_model_name": "DescriptionStyleModel",
            "_view_count": null,
            "_view_module": "@jupyter-widgets/base",
            "_view_module_version": "1.2.0",
            "_view_name": "StyleView",
            "description_width": ""
          }
        }
      }
    }
  },
  "cells": [
    {
      "cell_type": "markdown",
      "source": [
        "# Topic Modeling\n",
        "\n",
        "Using BERTopic"
      ],
      "metadata": {
        "id": "Cfq-989XZIke"
      }
    },
    {
      "cell_type": "markdown",
      "source": [
        "## Set up environment"
      ],
      "metadata": {
        "id": "0UDrDczyaZBw"
      }
    },
    {
      "cell_type": "markdown",
      "source": [
        "you'll need to enable GPUs for the notebook:\n",
        "\n",
        "- Navigate to Edit→Notebook Settings\n",
        "- select GPU from the Hardware Accelerator drop-down"
      ],
      "metadata": {
        "id": "ZrZ_rgcYZVlI"
      }
    },
    {
      "cell_type": "code",
      "source": [
        "!pip install transformers\n",
        "!pip install torch\n",
        "!pip install datasets\n",
        "!pip install bertopic[flair]"
      ],
      "metadata": {
        "id": "rvsHzDZvZK2e"
      },
      "execution_count": null,
      "outputs": []
    },
    {
      "cell_type": "code",
      "source": [
        "from google.colab import drive\n",
        "drive.mount('/content/gdrive')\n",
        "%cd gdrive/My\\ Drive/amicus-iv"
      ],
      "metadata": {
        "colab": {
          "base_uri": "https://localhost:8080/"
        },
        "id": "TL5XTmtWF5HO",
        "outputId": "db00d262-2e2d-43a5-98de-988f76edd77c"
      },
      "execution_count": null,
      "outputs": [
        {
          "output_type": "stream",
          "name": "stdout",
          "text": [
            "Mounted at /content/gdrive\n",
            "/content/gdrive/My Drive/amicus-iv\n"
          ]
        }
      ]
    },
    {
      "cell_type": "markdown",
      "source": [
        "Saving locations -- change these for different models!"
      ],
      "metadata": {
        "id": "BOd-iwvDfkJ1"
      }
    },
    {
      "cell_type": "code",
      "source": [
        "model_folder = 'topic-modeling/models/bert-base-uncased-RRamicus/'\n",
        "output_folder = 'topic-modeling/output/bert-base-uncased-RRamicus/'"
      ],
      "metadata": {
        "id": "1bvWqiJUfloK"
      },
      "execution_count": null,
      "outputs": []
    },
    {
      "cell_type": "markdown",
      "source": [
        "Model checkpoint for generating document embeddings"
      ],
      "metadata": {
        "id": "ySfjFNzWVg1l"
      }
    },
    {
      "cell_type": "code",
      "source": [
        "model_checkpoint = 'repro-rights-amicus-briefs/bert-base-uncased-finetuned-RRamicus'"
      ],
      "metadata": {
        "id": "U26myPX6Vj_d"
      },
      "execution_count": null,
      "outputs": []
    },
    {
      "cell_type": "markdown",
      "source": [
        "Import packages"
      ],
      "metadata": {
        "id": "gBEoc0_YiZdb"
      }
    },
    {
      "cell_type": "code",
      "source": [
        "import pandas as pd\n",
        "import numpy as np\n",
        "from html import unescape\n",
        "import string\n",
        "\n",
        "import nltk\n",
        "nltk.download('stopwords')\n",
        "from nltk.corpus import stopwords\n",
        "from collections import Counter\n",
        "\n",
        "#from transformers import AutoTokenizer\n",
        "#from datasets import load_dataset, load_metric, Dataset\n",
        "\n",
        "from huggingface_hub import notebook_login\n",
        "\n",
        "from bertopic import BERTopic\n",
        "from flair.embeddings import TransformerDocumentEmbeddings\n",
        "\n",
        "from sklearn.preprocessing import MinMaxScaler\n",
        "from umap import UMAP\n",
        "from typing import List\n",
        "import hdbscan\n",
        "import matplotlib.pyplot as plt"
      ],
      "metadata": {
        "id": "1eyc19DAZVxn",
        "colab": {
          "base_uri": "https://localhost:8080/"
        },
        "outputId": "3e86057c-7bce-4943-a5e6-a5ed13ee6a01"
      },
      "execution_count": null,
      "outputs": [
        {
          "output_type": "stream",
          "name": "stdout",
          "text": [
            "[nltk_data] Downloading package stopwords to /root/nltk_data...\n",
            "[nltk_data]   Unzipping corpora/stopwords.zip.\n"
          ]
        }
      ]
    },
    {
      "cell_type": "markdown",
      "source": [
        "## Define similarity function\n",
        "\n",
        "We want to group topics based on how similar they are. This is an adoption of the visualize_topics() function"
      ],
      "metadata": {
        "id": "w0TGfyd6iiho"
      }
    },
    {
      "cell_type": "code",
      "source": [
        "def get_similar_topics(topic_model,\n",
        "                     topics: List[int] = None,\n",
        "                     top_n_topics: int = None,\n",
        "                     width: int = 650,\n",
        "                     height: int = 650):\n",
        "    # Select topics based on top_n and topics args\n",
        "    if topics is not None:\n",
        "        topics = list(topics)\n",
        "    elif top_n_topics is not None:\n",
        "        topics = sorted(topic_model.get_topic_freq().Topic.to_list()[1:top_n_topics + 1])\n",
        "    else:\n",
        "        topics = sorted(list(topic_model.get_topics().keys()))\n",
        "\n",
        "    # Extract topic words and their frequencies\n",
        "    topic_list = sorted(topics)\n",
        "    frequencies = [topic_model.topic_sizes[topic] for topic in topic_list]\n",
        "    words = [\" | \".join([word[0] for word in topic_model.get_topic(topic)[:5]]) for topic in topic_list]\n",
        "\n",
        "    # seed\n",
        "    np.random.seed(11)\n",
        "\n",
        "    # Embed c-TF-IDF into 2D\n",
        "    all_topics = sorted(list(topic_model.get_topics().keys()))\n",
        "    indices = np.array([all_topics.index(topic) for topic in topics])\n",
        "    embeddings = topic_model.c_tf_idf.toarray()[indices]\n",
        "    embeddings = MinMaxScaler().fit_transform(embeddings)\n",
        "    embeddings = UMAP(n_neighbors=2, n_components=2, metric='hellinger', random_state=42).fit_transform(embeddings)\n",
        "\n",
        "    # cluster based on above\n",
        "    labels = hdbscan.HDBSCAN(min_samples=1, min_cluster_size=3).fit_predict(embeddings)\n",
        "\n",
        "    # Visualize with plotly\n",
        "    df = pd.DataFrame({\"x\": embeddings[1:, 0], \"y\": embeddings[1:, 1], 'Label':labels[1:],\n",
        "                       \"Topic\": topic_list[1:], \"Words\": words[1:], \"Size\": frequencies[1:]})\n",
        "    return df"
      ],
      "metadata": {
        "id": "n4R9UssoioO5"
      },
      "execution_count": null,
      "outputs": []
    },
    {
      "cell_type": "markdown",
      "source": [
        "## Data\n",
        "\n",
        "BERTopic function takes a list of documents, so we need to set this up ourselves. "
      ],
      "metadata": {
        "id": "MJG9wg9narKy"
      }
    },
    {
      "cell_type": "markdown",
      "source": [
        "## Option 0: Read in text from drive\n",
        "\n",
        "I have saved a file on google drive called \"data/amicus_text_512.csv\" which contains the result of following the steps of option 1 below. since this produces the same results each time, we don't need to keep re-running it."
      ],
      "metadata": {
        "id": "Vq6DBrF22eLo"
      }
    },
    {
      "cell_type": "code",
      "source": [
        "df = pd.read_csv('data/amicus_clean_512_no_stride_vars.csv')\n",
        "df.head(1)"
      ],
      "metadata": {
        "colab": {
          "base_uri": "https://localhost:8080/",
          "height": 261
        },
        "id": "xQib37DV2nkY",
        "outputId": "edd8ef20-f395-4b7b-80ec-d3621fb7559b"
      },
      "execution_count": null,
      "outputs": [
        {
          "output_type": "execute_result",
          "data": {
            "text/plain": [
              "              case            id  \\\n",
              "0  Rust v Sullivan  861819857503   \n",
              "\n",
              "                                               brief  brief_party  forgau  \\\n",
              "0  Rust v Sullivan. Amici Brief for Respondent, b...            0       0   \n",
              "\n",
              "   antauo  chcauf  lifauo  govauf  govauo  ...  legauo  relauf  relauo  \\\n",
              "0       0       0       1       0       0  ...       0       0       0   \n",
              "\n",
              "   lg_bauf  forgauf  aclauf  aclauo  sgauf  sgauo  \\\n",
              "0        0        0       0       0      0      0   \n",
              "\n",
              "                                                text  \n",
              "0  abortion battle conflict enumerated right life...  \n",
              "\n",
              "[1 rows x 28 columns]"
            ],
            "text/html": [
              "\n",
              "  <div id=\"df-5c7221a3-ec9f-4569-9ec5-c40f9b7ab4d5\">\n",
              "    <div class=\"colab-df-container\">\n",
              "      <div>\n",
              "<style scoped>\n",
              "    .dataframe tbody tr th:only-of-type {\n",
              "        vertical-align: middle;\n",
              "    }\n",
              "\n",
              "    .dataframe tbody tr th {\n",
              "        vertical-align: top;\n",
              "    }\n",
              "\n",
              "    .dataframe thead th {\n",
              "        text-align: right;\n",
              "    }\n",
              "</style>\n",
              "<table border=\"1\" class=\"dataframe\">\n",
              "  <thead>\n",
              "    <tr style=\"text-align: right;\">\n",
              "      <th></th>\n",
              "      <th>case</th>\n",
              "      <th>id</th>\n",
              "      <th>brief</th>\n",
              "      <th>brief_party</th>\n",
              "      <th>forgau</th>\n",
              "      <th>antauo</th>\n",
              "      <th>chcauf</th>\n",
              "      <th>lifauo</th>\n",
              "      <th>govauf</th>\n",
              "      <th>govauo</th>\n",
              "      <th>...</th>\n",
              "      <th>legauo</th>\n",
              "      <th>relauf</th>\n",
              "      <th>relauo</th>\n",
              "      <th>lg_bauf</th>\n",
              "      <th>forgauf</th>\n",
              "      <th>aclauf</th>\n",
              "      <th>aclauo</th>\n",
              "      <th>sgauf</th>\n",
              "      <th>sgauo</th>\n",
              "      <th>text</th>\n",
              "    </tr>\n",
              "  </thead>\n",
              "  <tbody>\n",
              "    <tr>\n",
              "      <th>0</th>\n",
              "      <td>Rust v Sullivan</td>\n",
              "      <td>861819857503</td>\n",
              "      <td>Rust v Sullivan. Amici Brief for Respondent, b...</td>\n",
              "      <td>0</td>\n",
              "      <td>0</td>\n",
              "      <td>0</td>\n",
              "      <td>0</td>\n",
              "      <td>1</td>\n",
              "      <td>0</td>\n",
              "      <td>0</td>\n",
              "      <td>...</td>\n",
              "      <td>0</td>\n",
              "      <td>0</td>\n",
              "      <td>0</td>\n",
              "      <td>0</td>\n",
              "      <td>0</td>\n",
              "      <td>0</td>\n",
              "      <td>0</td>\n",
              "      <td>0</td>\n",
              "      <td>0</td>\n",
              "      <td>abortion battle conflict enumerated right life...</td>\n",
              "    </tr>\n",
              "  </tbody>\n",
              "</table>\n",
              "<p>1 rows × 28 columns</p>\n",
              "</div>\n",
              "      <button class=\"colab-df-convert\" onclick=\"convertToInteractive('df-5c7221a3-ec9f-4569-9ec5-c40f9b7ab4d5')\"\n",
              "              title=\"Convert this dataframe to an interactive table.\"\n",
              "              style=\"display:none;\">\n",
              "        \n",
              "  <svg xmlns=\"http://www.w3.org/2000/svg\" height=\"24px\"viewBox=\"0 0 24 24\"\n",
              "       width=\"24px\">\n",
              "    <path d=\"M0 0h24v24H0V0z\" fill=\"none\"/>\n",
              "    <path d=\"M18.56 5.44l.94 2.06.94-2.06 2.06-.94-2.06-.94-.94-2.06-.94 2.06-2.06.94zm-11 1L8.5 8.5l.94-2.06 2.06-.94-2.06-.94L8.5 2.5l-.94 2.06-2.06.94zm10 10l.94 2.06.94-2.06 2.06-.94-2.06-.94-.94-2.06-.94 2.06-2.06.94z\"/><path d=\"M17.41 7.96l-1.37-1.37c-.4-.4-.92-.59-1.43-.59-.52 0-1.04.2-1.43.59L10.3 9.45l-7.72 7.72c-.78.78-.78 2.05 0 2.83L4 21.41c.39.39.9.59 1.41.59.51 0 1.02-.2 1.41-.59l7.78-7.78 2.81-2.81c.8-.78.8-2.07 0-2.86zM5.41 20L4 18.59l7.72-7.72 1.47 1.35L5.41 20z\"/>\n",
              "  </svg>\n",
              "      </button>\n",
              "      \n",
              "  <style>\n",
              "    .colab-df-container {\n",
              "      display:flex;\n",
              "      flex-wrap:wrap;\n",
              "      gap: 12px;\n",
              "    }\n",
              "\n",
              "    .colab-df-convert {\n",
              "      background-color: #E8F0FE;\n",
              "      border: none;\n",
              "      border-radius: 50%;\n",
              "      cursor: pointer;\n",
              "      display: none;\n",
              "      fill: #1967D2;\n",
              "      height: 32px;\n",
              "      padding: 0 0 0 0;\n",
              "      width: 32px;\n",
              "    }\n",
              "\n",
              "    .colab-df-convert:hover {\n",
              "      background-color: #E2EBFA;\n",
              "      box-shadow: 0px 1px 2px rgba(60, 64, 67, 0.3), 0px 1px 3px 1px rgba(60, 64, 67, 0.15);\n",
              "      fill: #174EA6;\n",
              "    }\n",
              "\n",
              "    [theme=dark] .colab-df-convert {\n",
              "      background-color: #3B4455;\n",
              "      fill: #D2E3FC;\n",
              "    }\n",
              "\n",
              "    [theme=dark] .colab-df-convert:hover {\n",
              "      background-color: #434B5C;\n",
              "      box-shadow: 0px 1px 3px 1px rgba(0, 0, 0, 0.15);\n",
              "      filter: drop-shadow(0px 1px 2px rgba(0, 0, 0, 0.3));\n",
              "      fill: #FFFFFF;\n",
              "    }\n",
              "  </style>\n",
              "\n",
              "      <script>\n",
              "        const buttonEl =\n",
              "          document.querySelector('#df-5c7221a3-ec9f-4569-9ec5-c40f9b7ab4d5 button.colab-df-convert');\n",
              "        buttonEl.style.display =\n",
              "          google.colab.kernel.accessAllowed ? 'block' : 'none';\n",
              "\n",
              "        async function convertToInteractive(key) {\n",
              "          const element = document.querySelector('#df-5c7221a3-ec9f-4569-9ec5-c40f9b7ab4d5');\n",
              "          const dataTable =\n",
              "            await google.colab.kernel.invokeFunction('convertToInteractive',\n",
              "                                                     [key], {});\n",
              "          if (!dataTable) return;\n",
              "\n",
              "          const docLinkHtml = 'Like what you see? Visit the ' +\n",
              "            '<a target=\"_blank\" href=https://colab.research.google.com/notebooks/data_table.ipynb>data table notebook</a>'\n",
              "            + ' to learn more about interactive tables.';\n",
              "          element.innerHTML = '';\n",
              "          dataTable['output_type'] = 'display_data';\n",
              "          await google.colab.output.renderOutput(dataTable, element);\n",
              "          const docLink = document.createElement('div');\n",
              "          docLink.innerHTML = docLinkHtml;\n",
              "          element.appendChild(docLink);\n",
              "        }\n",
              "      </script>\n",
              "    </div>\n",
              "  </div>\n",
              "  "
            ]
          },
          "metadata": {},
          "execution_count": 7
        }
      ]
    },
    {
      "cell_type": "markdown",
      "source": [
        "Remove general noise words"
      ],
      "metadata": {
        "id": "Kp_AvocYW5Lb"
      }
    },
    {
      "cell_type": "code",
      "source": [
        "#df_clean = df.copy()\n",
        "#df_clean['text'] = df_clean['text'].str.replace('[{}]'.format(string.punctuation), '')\n",
        "\n",
        "rmv_list = ['ii', 'https', 'al', 'et', 'per', 'www', 'llp', 'id', 'nos', 'pdf', 'http',\n",
        "            'ul', 'fi', 'ri', 'sb', 'ql', 'li', 'fs',\n",
        "            'circuit', 'district', 'supra', 'supp', 'decisis', 'amici', 'curiae', 'court', 'courts', 'supreme', 'appeals',\n",
        "            'appeal', 'appellants', 'appellant', 'appellee', 'appellees',\n",
        "            'first', 'second', 'third', 'fourth', 'fifth', 'sixth', 'seventh', 'eighth', 'nineth', 'tenth', 'eleventh', 'twelfth']\n",
        "\n",
        "df['text'] = df['text'].apply(lambda x: ' '.join([word for word in x.split() if word not in (rmv_list)]))\n",
        "#df_clean['text'] = df_clean['text'].apply(lambda x: ' '.join([word for word in x.split() if word not in (rmv_list)]))\n",
        "#df_clean['text_2'] = df_clean['text'].apply(lambda x: [word for word in x.split()])"
      ],
      "metadata": {
        "id": "L7xLFYw7W5e_"
      },
      "execution_count": null,
      "outputs": []
    },
    {
      "cell_type": "markdown",
      "source": [
        "# Legauo and Legauf"
      ],
      "metadata": {
        "id": "dpwFjMxNRHb6"
      }
    },
    {
      "cell_type": "markdown",
      "source": [
        "## Legauo"
      ],
      "metadata": {
        "id": "2bDeEMR8RHb8"
      }
    },
    {
      "cell_type": "code",
      "source": [
        "legauo_df = df[(df['legauo'] == 1)]\n",
        "legauo_df = legauo_df[['case', 'id', 'brief', 'legauo', 'text']]\n",
        "print(\"number of briefs:\", legauo_df['id'].nunique())\n",
        "print(\"number of paragraphs:\", len(legauo_df))"
      ],
      "metadata": {
        "colab": {
          "base_uri": "https://localhost:8080/"
        },
        "outputId": "3471db28-0cab-4423-a588-6e8030292e15",
        "id": "MnRB_hAGRHb9"
      },
      "execution_count": null,
      "outputs": [
        {
          "output_type": "stream",
          "name": "stdout",
          "text": [
            "number of briefs: 98\n",
            "number of paragraphs: 760\n"
          ]
        }
      ]
    },
    {
      "cell_type": "markdown",
      "source": [
        "Remove noise"
      ],
      "metadata": {
        "id": "EPo0S1aLRHb9"
      }
    },
    {
      "cell_type": "code",
      "source": [
        "#rmv_list = []\n",
        "#legauo_df['text'] = legauo_df['text'].apply(lambda x: ' '.join([word for word in x.split() if word not in (rmv_list)]))"
      ],
      "metadata": {
        "id": "GXjbZ0WoRHb-"
      },
      "execution_count": null,
      "outputs": []
    },
    {
      "cell_type": "markdown",
      "source": [
        "### Initial train + save"
      ],
      "metadata": {
        "id": "2kzDKP0bRHb-"
      }
    },
    {
      "cell_type": "markdown",
      "source": [
        "Init existing topic model again so we don't over-write existing model."
      ],
      "metadata": {
        "id": "oiVYLh-BRHb-"
      }
    },
    {
      "cell_type": "code",
      "source": [
        "# init embeddings and model\n",
        "bbu_ft_embed = TransformerDocumentEmbeddings(model_checkpoint)\n",
        "legauo_tm = BERTopic(embedding_model=bbu_ft_embed, min_topic_size=3,\n",
        "                     language = 'english', calculate_probabilities=True, verbose=True)"
      ],
      "metadata": {
        "colab": {
          "base_uri": "https://localhost:8080/",
          "height": 264,
          "referenced_widgets": [
            "5dd8c41a2ec941629164f34dd3df6b19",
            "65a36b554acd43649e56c26cc7eda36e",
            "6ba9d56f0d5d4ff088ef782d3489ffe7",
            "353d3cf386e7466a80fc8c1ab7cfe118",
            "94a908eebdd74a3a8ea396a4620d6104",
            "a1b88405c225441abb121cbf8889e900",
            "fcde98d654f04c9eb162c6e1e43a6049",
            "d8ae98c36c604b56a0d5c14aadfe8f94",
            "5801dbbcd45149018fc6d556f01b9d80",
            "040e6e500834430fad43f508e52fef17",
            "7babda98c6ee4ec5b38911c376776dfc",
            "d5de331c5bec4032a28dcdcb2c895eb2",
            "c57c06b88eb54917b16b92b2c79107f5",
            "292d0e8867874287b0f9c9b70f904466",
            "ec48d204b833483388af03023d219e07",
            "e08b2af0b72e4d228e6bae80f1f4cf83",
            "27dfbd72e87b4821849169045257f362",
            "0650a0c5838240e8a6f32ff2b251a9ed",
            "48d9f6cda0224acf92438487418c12dc",
            "5ce0b23243854218a88e8d571cde611d",
            "29d997567aba44e68864cffd4b031ced",
            "565c13b1560b4471831083a89d439213",
            "2f38d6d51356460394b84880fde1b597",
            "2dd41904af8a4092a8b1190be963bc9b",
            "fbf36a180ee74475a285d137975eaa9f",
            "7e3b5aa5833d4964af8e5565c9c80a23",
            "845d4f39d4d44312b6ae08c0962e21e5",
            "a472a1f817ea41ecb9d1d99be571d23e",
            "ae2ddfd0f4c740f89f34aa9f7b1f5023",
            "96368e367aa0434aa38ede41980fa11f",
            "c7b79cf9711e43f1a936d8e40dcb0a9d",
            "f091094d49f34afea7688944c39c2fa3",
            "67fc26318a394d0f9e61f5a50fbb4379",
            "9f57f16818ad4fb197f38d178628f858",
            "9d9f0fc6d53e425298073e922a0a6d93",
            "9a57332d28a440fd980687ad7244a0f9",
            "8790634173eb48c4a4ffb616981932bd",
            "64d59941f8464fc5bdb1d7f62791dd8f",
            "d1e8765637c34e23967cb25a14f271e6",
            "b01be1a849e94bc39d56c36c4f734e13",
            "9f1e2d7ff57f4781aae729bbb4f8a872",
            "1613941903a04cff98c5f0571e25085d",
            "edec1bc8dd4a42ab8a14cd28840eb9c1",
            "54595ea7c3d748ce8ee78c17375d05ef",
            "eac2501945cd4630ad1ba64c4ccbd4b5",
            "242feb8d6d9d4fc7a10e04ba50dd2980",
            "2be1634dd92342328ac500c326cf9826",
            "db899389bac94f1b8bed65fe794eeb89",
            "9d58abc4de9742ca956905e70cc638e5",
            "69fd911c713b4ee29a64ddb527f6f0cb",
            "dd21e5eeebb44af8adfe0adb06ee9379",
            "6eeb2e6ecdeb4d62b76dc46f6cee1004",
            "47799c81f388499fa2daee4ca23aa9e7",
            "d76e79d9e7e44e309e43539b1885a315",
            "a7563f1936554105a8102d0fb5e8a8ca",
            "a44cc51dc782420a9cea2a090a042e2c",
            "0bfb79819a104bbe9f19ead885465167",
            "cf90f9e0ef934f9c92466a9f36b72d30",
            "f3a07eaf805547fb99f80246ea00950b",
            "0b4506cbefa0434ba7a740927f0a6d01",
            "b7b565a9d82044a58ac5274e30af57cb",
            "2caef4e0e267419ba952e4176a539e9a",
            "4a4b45d23e2b465ab537463eabbf8012",
            "b5882ffa806a4b45a8ac5267771e8042",
            "850d2043ccd747e3b89e44d02ffbf28e",
            "f933fabbe6164a4381731090b90e2337"
          ]
        },
        "outputId": "89c168ff-0550-4614-91cd-a7d89594c6d6",
        "id": "-OHPME0ARHb-"
      },
      "execution_count": null,
      "outputs": [
        {
          "output_type": "display_data",
          "data": {
            "text/plain": [
              "Downloading:   0%|          | 0.00/664 [00:00<?, ?B/s]"
            ],
            "application/vnd.jupyter.widget-view+json": {
              "version_major": 2,
              "version_minor": 0,
              "model_id": "5dd8c41a2ec941629164f34dd3df6b19"
            }
          },
          "metadata": {}
        },
        {
          "output_type": "display_data",
          "data": {
            "text/plain": [
              "Downloading:   0%|          | 0.00/232k [00:00<?, ?B/s]"
            ],
            "application/vnd.jupyter.widget-view+json": {
              "version_major": 2,
              "version_minor": 0,
              "model_id": "d5de331c5bec4032a28dcdcb2c895eb2"
            }
          },
          "metadata": {}
        },
        {
          "output_type": "display_data",
          "data": {
            "text/plain": [
              "Downloading:   0%|          | 0.00/112 [00:00<?, ?B/s]"
            ],
            "application/vnd.jupyter.widget-view+json": {
              "version_major": 2,
              "version_minor": 0,
              "model_id": "2f38d6d51356460394b84880fde1b597"
            }
          },
          "metadata": {}
        },
        {
          "output_type": "display_data",
          "data": {
            "text/plain": [
              "Downloading:   0%|          | 0.00/321 [00:00<?, ?B/s]"
            ],
            "application/vnd.jupyter.widget-view+json": {
              "version_major": 2,
              "version_minor": 0,
              "model_id": "9f57f16818ad4fb197f38d178628f858"
            }
          },
          "metadata": {}
        },
        {
          "output_type": "display_data",
          "data": {
            "text/plain": [
              "Downloading:   0%|          | 0.00/466k [00:00<?, ?B/s]"
            ],
            "application/vnd.jupyter.widget-view+json": {
              "version_major": 2,
              "version_minor": 0,
              "model_id": "eac2501945cd4630ad1ba64c4ccbd4b5"
            }
          },
          "metadata": {}
        },
        {
          "output_type": "display_data",
          "data": {
            "text/plain": [
              "Downloading:   0%|          | 0.00/438M [00:00<?, ?B/s]"
            ],
            "application/vnd.jupyter.widget-view+json": {
              "version_major": 2,
              "version_minor": 0,
              "model_id": "a44cc51dc782420a9cea2a090a042e2c"
            }
          },
          "metadata": {}
        },
        {
          "output_type": "stream",
          "name": "stderr",
          "text": [
            "Some weights of BertModel were not initialized from the model checkpoint at repro-rights-amicus-briefs/bert-base-uncased-finetuned-RRamicus and are newly initialized: ['bert.pooler.dense.weight', 'bert.pooler.dense.bias']\n",
            "You should probably TRAIN this model on a down-stream task to be able to use it for predictions and inference.\n"
          ]
        }
      ]
    },
    {
      "cell_type": "markdown",
      "source": [
        "Fit the model on only the docs of interest (5 min)"
      ],
      "metadata": {
        "id": "5z0gDBBeRHb_"
      }
    },
    {
      "cell_type": "code",
      "source": [
        "# fit model\n",
        "legauo_topics, legauo_probs = legauo_tm.fit_transform(legauo_df['text'])"
      ],
      "metadata": {
        "colab": {
          "base_uri": "https://localhost:8080/"
        },
        "outputId": "be3b28f5-42dd-485b-cf3f-e8ac0ef33c40",
        "id": "5RPGW9AuRHb_"
      },
      "execution_count": null,
      "outputs": [
        {
          "output_type": "stream",
          "name": "stderr",
          "text": [
            "760it [00:34, 22.08it/s]\n",
            "2022-04-11 17:16:00,203 - BERTopic - Transformed documents to Embeddings\n",
            "/usr/local/lib/python3.7/dist-packages/numba/np/ufunc/parallel.py:363: NumbaWarning: The TBB threading layer requires TBB version 2019.5 or later i.e., TBB_INTERFACE_VERSION >= 11005. Found TBB_INTERFACE_VERSION = 9107. The TBB threading layer is disabled.\n",
            "  warnings.warn(problem)\n",
            "2022-04-11 17:16:12,735 - BERTopic - Reduced dimensionality with UMAP\n",
            "2022-04-11 17:16:12,979 - BERTopic - Clustered UMAP embeddings with HDBSCAN\n"
          ]
        }
      ]
    },
    {
      "cell_type": "code",
      "source": [
        "legauo_topic_info = legauo_tm.get_topic_info()\n",
        "legauo_topic_info.head(5)"
      ],
      "metadata": {
        "colab": {
          "base_uri": "https://localhost:8080/",
          "height": 206
        },
        "outputId": "b58a8bfc-f9bf-4c8b-dbde-32754a520b2d",
        "id": "fGsiXCL9RHb_"
      },
      "execution_count": null,
      "outputs": [
        {
          "output_type": "execute_result",
          "data": {
            "text/plain": [
              "   Topic  Count                                         Name\n",
              "0     -1    176               -1_abortion_right_state_states\n",
              "1      0     30  0_respectfully_submitted_conclusion_counsel\n",
              "2      1     24                1_abortion_privacy_pain_human\n",
              "4      4     19            4_commerce_interstate_federal_act\n",
              "5      5     19                   5_undue_burden_prong_casey"
            ],
            "text/html": [
              "\n",
              "  <div id=\"df-56f750f1-53b0-4358-9dec-214e7c4131ce\">\n",
              "    <div class=\"colab-df-container\">\n",
              "      <div>\n",
              "<style scoped>\n",
              "    .dataframe tbody tr th:only-of-type {\n",
              "        vertical-align: middle;\n",
              "    }\n",
              "\n",
              "    .dataframe tbody tr th {\n",
              "        vertical-align: top;\n",
              "    }\n",
              "\n",
              "    .dataframe thead th {\n",
              "        text-align: right;\n",
              "    }\n",
              "</style>\n",
              "<table border=\"1\" class=\"dataframe\">\n",
              "  <thead>\n",
              "    <tr style=\"text-align: right;\">\n",
              "      <th></th>\n",
              "      <th>Topic</th>\n",
              "      <th>Count</th>\n",
              "      <th>Name</th>\n",
              "    </tr>\n",
              "  </thead>\n",
              "  <tbody>\n",
              "    <tr>\n",
              "      <th>0</th>\n",
              "      <td>-1</td>\n",
              "      <td>176</td>\n",
              "      <td>-1_abortion_right_state_states</td>\n",
              "    </tr>\n",
              "    <tr>\n",
              "      <th>1</th>\n",
              "      <td>0</td>\n",
              "      <td>30</td>\n",
              "      <td>0_respectfully_submitted_conclusion_counsel</td>\n",
              "    </tr>\n",
              "    <tr>\n",
              "      <th>2</th>\n",
              "      <td>1</td>\n",
              "      <td>24</td>\n",
              "      <td>1_abortion_privacy_pain_human</td>\n",
              "    </tr>\n",
              "    <tr>\n",
              "      <th>4</th>\n",
              "      <td>4</td>\n",
              "      <td>19</td>\n",
              "      <td>4_commerce_interstate_federal_act</td>\n",
              "    </tr>\n",
              "    <tr>\n",
              "      <th>5</th>\n",
              "      <td>5</td>\n",
              "      <td>19</td>\n",
              "      <td>5_undue_burden_prong_casey</td>\n",
              "    </tr>\n",
              "  </tbody>\n",
              "</table>\n",
              "</div>\n",
              "      <button class=\"colab-df-convert\" onclick=\"convertToInteractive('df-56f750f1-53b0-4358-9dec-214e7c4131ce')\"\n",
              "              title=\"Convert this dataframe to an interactive table.\"\n",
              "              style=\"display:none;\">\n",
              "        \n",
              "  <svg xmlns=\"http://www.w3.org/2000/svg\" height=\"24px\"viewBox=\"0 0 24 24\"\n",
              "       width=\"24px\">\n",
              "    <path d=\"M0 0h24v24H0V0z\" fill=\"none\"/>\n",
              "    <path d=\"M18.56 5.44l.94 2.06.94-2.06 2.06-.94-2.06-.94-.94-2.06-.94 2.06-2.06.94zm-11 1L8.5 8.5l.94-2.06 2.06-.94-2.06-.94L8.5 2.5l-.94 2.06-2.06.94zm10 10l.94 2.06.94-2.06 2.06-.94-2.06-.94-.94-2.06-.94 2.06-2.06.94z\"/><path d=\"M17.41 7.96l-1.37-1.37c-.4-.4-.92-.59-1.43-.59-.52 0-1.04.2-1.43.59L10.3 9.45l-7.72 7.72c-.78.78-.78 2.05 0 2.83L4 21.41c.39.39.9.59 1.41.59.51 0 1.02-.2 1.41-.59l7.78-7.78 2.81-2.81c.8-.78.8-2.07 0-2.86zM5.41 20L4 18.59l7.72-7.72 1.47 1.35L5.41 20z\"/>\n",
              "  </svg>\n",
              "      </button>\n",
              "      \n",
              "  <style>\n",
              "    .colab-df-container {\n",
              "      display:flex;\n",
              "      flex-wrap:wrap;\n",
              "      gap: 12px;\n",
              "    }\n",
              "\n",
              "    .colab-df-convert {\n",
              "      background-color: #E8F0FE;\n",
              "      border: none;\n",
              "      border-radius: 50%;\n",
              "      cursor: pointer;\n",
              "      display: none;\n",
              "      fill: #1967D2;\n",
              "      height: 32px;\n",
              "      padding: 0 0 0 0;\n",
              "      width: 32px;\n",
              "    }\n",
              "\n",
              "    .colab-df-convert:hover {\n",
              "      background-color: #E2EBFA;\n",
              "      box-shadow: 0px 1px 2px rgba(60, 64, 67, 0.3), 0px 1px 3px 1px rgba(60, 64, 67, 0.15);\n",
              "      fill: #174EA6;\n",
              "    }\n",
              "\n",
              "    [theme=dark] .colab-df-convert {\n",
              "      background-color: #3B4455;\n",
              "      fill: #D2E3FC;\n",
              "    }\n",
              "\n",
              "    [theme=dark] .colab-df-convert:hover {\n",
              "      background-color: #434B5C;\n",
              "      box-shadow: 0px 1px 3px 1px rgba(0, 0, 0, 0.15);\n",
              "      filter: drop-shadow(0px 1px 2px rgba(0, 0, 0, 0.3));\n",
              "      fill: #FFFFFF;\n",
              "    }\n",
              "  </style>\n",
              "\n",
              "      <script>\n",
              "        const buttonEl =\n",
              "          document.querySelector('#df-56f750f1-53b0-4358-9dec-214e7c4131ce button.colab-df-convert');\n",
              "        buttonEl.style.display =\n",
              "          google.colab.kernel.accessAllowed ? 'block' : 'none';\n",
              "\n",
              "        async function convertToInteractive(key) {\n",
              "          const element = document.querySelector('#df-56f750f1-53b0-4358-9dec-214e7c4131ce');\n",
              "          const dataTable =\n",
              "            await google.colab.kernel.invokeFunction('convertToInteractive',\n",
              "                                                     [key], {});\n",
              "          if (!dataTable) return;\n",
              "\n",
              "          const docLinkHtml = 'Like what you see? Visit the ' +\n",
              "            '<a target=\"_blank\" href=https://colab.research.google.com/notebooks/data_table.ipynb>data table notebook</a>'\n",
              "            + ' to learn more about interactive tables.';\n",
              "          element.innerHTML = '';\n",
              "          dataTable['output_type'] = 'display_data';\n",
              "          await google.colab.output.renderOutput(dataTable, element);\n",
              "          const docLink = document.createElement('div');\n",
              "          docLink.innerHTML = docLinkHtml;\n",
              "          element.appendChild(docLink);\n",
              "        }\n",
              "      </script>\n",
              "    </div>\n",
              "  </div>\n",
              "  "
            ]
          },
          "metadata": {},
          "execution_count": 12
        }
      ]
    },
    {
      "cell_type": "code",
      "source": [
        "len(legauo_topic_info)"
      ],
      "metadata": {
        "colab": {
          "base_uri": "https://localhost:8080/"
        },
        "outputId": "bdbf7abc-5cb5-4f90-8735-6885c7895c0e",
        "id": "svUNMWjARHb_"
      },
      "execution_count": null,
      "outputs": [
        {
          "output_type": "execute_result",
          "data": {
            "text/plain": [
              "64"
            ]
          },
          "metadata": {},
          "execution_count": 13
        }
      ]
    },
    {
      "cell_type": "markdown",
      "source": [
        "Save"
      ],
      "metadata": {
        "id": "2tt_ds3URHb_"
      }
    },
    {
      "cell_type": "code",
      "source": [
        "# full list of topics\n",
        "legauo_full_topics = legauo_tm.get_topics()\n",
        "\n",
        "#convert full topic dict to df and transpose\n",
        "topics_df = pd.DataFrame(legauo_full_topics,\n",
        "                         index=['word1', 'word2', 'word3', 'word4', 'word5', 'word6', 'word7', 'word8', 'word9', 'word10'])\\\n",
        "                         .transpose()\n",
        "\n",
        "# get just the word\n",
        "topics_df = topics_df.applymap(lambda x: x[0])\n",
        "\n",
        "# add col w/concatenated list\n",
        "#topics_df['all_words'] = topics_df.apply(', '.join, axis=1) #insert at end\n",
        "topics_df.insert(0, 'topic', topics_df.apply(', '.join, axis=1))\n",
        "\n",
        "# remove indiv. word columns (word1,...,word10)\n",
        "topics_df.drop(list(topics_df.filter(regex = 'word')), axis = 1, inplace = True)\n",
        "\n",
        "# convert index to a column (this is the topic id)\n",
        "topics_df.insert(0, 'topic_id', topics_df.index)\n",
        "\n",
        "# add count frequency \n",
        "topic_ct = legauo_topic_info[['Topic', 'Count']]\n",
        "topics_df = topics_df.merge(topic_ct, how='left', left_on='topic_id', right_on='Topic')\n",
        "topics_df.drop('Topic', axis=1, inplace=True)\n",
        "\n",
        "# save\n",
        "topics_df.to_csv(output_folder + 'legauo_topics_clean_bbu_rramicus.csv', index=False)\n",
        "\n",
        "# classification by paragraph\n",
        "topic_id = legauo_topic_info[['Topic', 'Name']]\n",
        "output_df = legauo_df.copy()\n",
        "output_df['topic_id'] = legauo_topics\n",
        "output_df = output_df.merge(topic_id, how='left', left_on='topic_id', right_on='Topic')\n",
        "output_df.drop('Topic',axis=1,inplace=True)\n",
        "output_df.rename({'Name' : 'topic_name'},axis=1, inplace=True)\n",
        "output_df.to_csv(output_folder + 'legauo_topic_clean_classification_bbu_rramicus.csv', index=False)"
      ],
      "metadata": {
        "id": "3Cz2FGd_RHcA"
      },
      "execution_count": null,
      "outputs": []
    },
    {
      "cell_type": "markdown",
      "source": [
        "Next, cluster the topics using hdbscan "
      ],
      "metadata": {
        "id": "wEleGTcqRHcA"
      }
    },
    {
      "cell_type": "code",
      "source": [
        "legauo_embed = get_similar_topics(legauo_tm)"
      ],
      "metadata": {
        "id": "HbFOQOJkRHcA"
      },
      "execution_count": null,
      "outputs": []
    },
    {
      "cell_type": "code",
      "source": [
        "legauo_topic_df = pd.read_csv(output_folder + 'legauo_topics_clean_bbu_rramicus.csv')\n",
        "legauo_embed = legauo_embed.sort_values('Label')\n",
        "legauo_embed.rename({'Topic':'topic_id', 'Label':'label'}, axis=1, inplace=True)\n",
        "legauo_embed = legauo_embed.merge(legauo_topic_df, how='left', on = 'topic_id')\n",
        "legauo_embed.drop(['Words', 'Size'], axis=1, inplace=True)\n",
        "legauo_embed = legauo_embed[['topic_id', 'label', 'topic', 'Count', 'x', 'y']]\n",
        "legauo_embed.to_csv(output_folder + 'legauo_topics_clean_labels_bbu_rramicus.csv')"
      ],
      "metadata": {
        "id": "9O2R20fZRHcA"
      },
      "execution_count": null,
      "outputs": []
    },
    {
      "cell_type": "markdown",
      "source": [
        "Save model"
      ],
      "metadata": {
        "id": "MK9sPZ6WRHcA"
      }
    },
    {
      "cell_type": "code",
      "source": [
        "legauo_tm.save(model_folder + 'legauo_bbu_rramicus')"
      ],
      "metadata": {
        "id": "8LDX5PYrRHcA"
      },
      "execution_count": null,
      "outputs": []
    },
    {
      "cell_type": "markdown",
      "source": [
        "## Legauf"
      ],
      "metadata": {
        "id": "wgV-qz3_SfLP"
      }
    },
    {
      "cell_type": "code",
      "source": [
        "legauf_df = df[(df['legauf'] == 1)]\n",
        "legauf_df = legauf_df[['case', 'id', 'brief', 'legauf', 'text']]\n",
        "print(\"number of briefs:\", legauf_df['id'].nunique())\n",
        "print(\"number of paragraphs:\", len(legauf_df))"
      ],
      "metadata": {
        "colab": {
          "base_uri": "https://localhost:8080/"
        },
        "outputId": "06458d8a-e827-4e18-c13b-d6d46cb34219",
        "id": "y3rGyXKkSfLb"
      },
      "execution_count": null,
      "outputs": [
        {
          "output_type": "stream",
          "name": "stdout",
          "text": [
            "number of briefs: 74\n",
            "number of paragraphs: 599\n"
          ]
        }
      ]
    },
    {
      "cell_type": "markdown",
      "source": [
        "Remove noise"
      ],
      "metadata": {
        "id": "UUZpLRp4SfLb"
      }
    },
    {
      "cell_type": "code",
      "source": [
        "#rmv_list = []\n",
        "#legauf_df['text'] = legauf_df['text'].apply(lambda x: ' '.join([word for word in x.split() if word not in (rmv_list)]))"
      ],
      "metadata": {
        "id": "Rfef1oGYSfLc"
      },
      "execution_count": null,
      "outputs": []
    },
    {
      "cell_type": "markdown",
      "source": [
        "### Initial train + save"
      ],
      "metadata": {
        "id": "te4Sf0n5SfLc"
      }
    },
    {
      "cell_type": "markdown",
      "source": [
        "Init existing topic model again so we don't over-write existing model."
      ],
      "metadata": {
        "id": "qhIymMmASfLc"
      }
    },
    {
      "cell_type": "code",
      "source": [
        "# init embeddings and model\n",
        "bbu_ft_embed = TransformerDocumentEmbeddings(model_checkpoint)\n",
        "legauf_tm = BERTopic(embedding_model=bbu_ft_embed, min_topic_size=3,\n",
        "                     language = 'english', calculate_probabilities=True, verbose=True)"
      ],
      "metadata": {
        "colab": {
          "base_uri": "https://localhost:8080/"
        },
        "outputId": "17ca8475-2e16-4631-b8d3-6f60e9615b89",
        "id": "DTljSnCzSfLc"
      },
      "execution_count": null,
      "outputs": [
        {
          "output_type": "stream",
          "name": "stderr",
          "text": [
            "Some weights of BertModel were not initialized from the model checkpoint at repro-rights-amicus-briefs/bert-base-uncased-finetuned-RRamicus and are newly initialized: ['bert.pooler.dense.weight', 'bert.pooler.dense.bias']\n",
            "You should probably TRAIN this model on a down-stream task to be able to use it for predictions and inference.\n"
          ]
        }
      ]
    },
    {
      "cell_type": "markdown",
      "source": [
        "Fit the model on only the docs of interest (5 min)"
      ],
      "metadata": {
        "id": "A95pmnqkSfLc"
      }
    },
    {
      "cell_type": "code",
      "source": [
        "# fit model\n",
        "legauf_topics, legauf_probs = legauf_tm.fit_transform(legauf_df['text'])"
      ],
      "metadata": {
        "colab": {
          "base_uri": "https://localhost:8080/"
        },
        "outputId": "a48a05ee-db35-4991-d8a8-c69adb865b30",
        "id": "_do8Qb9zSfLd"
      },
      "execution_count": null,
      "outputs": [
        {
          "output_type": "stream",
          "name": "stderr",
          "text": [
            "599it [00:29, 20.22it/s]\n",
            "2022-04-11 17:17:08,990 - BERTopic - Transformed documents to Embeddings\n",
            "2022-04-11 17:17:14,404 - BERTopic - Reduced dimensionality with UMAP\n",
            "2022-04-11 17:17:14,561 - BERTopic - Clustered UMAP embeddings with HDBSCAN\n"
          ]
        }
      ]
    },
    {
      "cell_type": "code",
      "source": [
        "legauf_topic_info = legauf_tm.get_topic_info()\n",
        "legauf_topic_info.head(5)"
      ],
      "metadata": {
        "colab": {
          "base_uri": "https://localhost:8080/",
          "height": 206
        },
        "outputId": "4ec3db4a-0fad-4b88-99c1-f4172e3f8e4d",
        "id": "D_dZnjr3SfLd"
      },
      "execution_count": null,
      "outputs": [
        {
          "output_type": "execute_result",
          "data": {
            "text/plain": [
              "   Topic  Count                                     Name\n",
              "0     -1    133              -1_state_right_abortion_law\n",
              "1      0     24              0_roe_right_interest_womans\n",
              "2      1     23  1_street_counsel_respectfully_submitted\n",
              "3      2     18            2_act_necessary_emergency_app\n",
              "4      3     17       3_petitioners_zone_buffer_facility"
            ],
            "text/html": [
              "\n",
              "  <div id=\"df-d5d0089e-d1e4-45b5-9abc-61c4b87d4bf8\">\n",
              "    <div class=\"colab-df-container\">\n",
              "      <div>\n",
              "<style scoped>\n",
              "    .dataframe tbody tr th:only-of-type {\n",
              "        vertical-align: middle;\n",
              "    }\n",
              "\n",
              "    .dataframe tbody tr th {\n",
              "        vertical-align: top;\n",
              "    }\n",
              "\n",
              "    .dataframe thead th {\n",
              "        text-align: right;\n",
              "    }\n",
              "</style>\n",
              "<table border=\"1\" class=\"dataframe\">\n",
              "  <thead>\n",
              "    <tr style=\"text-align: right;\">\n",
              "      <th></th>\n",
              "      <th>Topic</th>\n",
              "      <th>Count</th>\n",
              "      <th>Name</th>\n",
              "    </tr>\n",
              "  </thead>\n",
              "  <tbody>\n",
              "    <tr>\n",
              "      <th>0</th>\n",
              "      <td>-1</td>\n",
              "      <td>133</td>\n",
              "      <td>-1_state_right_abortion_law</td>\n",
              "    </tr>\n",
              "    <tr>\n",
              "      <th>1</th>\n",
              "      <td>0</td>\n",
              "      <td>24</td>\n",
              "      <td>0_roe_right_interest_womans</td>\n",
              "    </tr>\n",
              "    <tr>\n",
              "      <th>2</th>\n",
              "      <td>1</td>\n",
              "      <td>23</td>\n",
              "      <td>1_street_counsel_respectfully_submitted</td>\n",
              "    </tr>\n",
              "    <tr>\n",
              "      <th>3</th>\n",
              "      <td>2</td>\n",
              "      <td>18</td>\n",
              "      <td>2_act_necessary_emergency_app</td>\n",
              "    </tr>\n",
              "    <tr>\n",
              "      <th>4</th>\n",
              "      <td>3</td>\n",
              "      <td>17</td>\n",
              "      <td>3_petitioners_zone_buffer_facility</td>\n",
              "    </tr>\n",
              "  </tbody>\n",
              "</table>\n",
              "</div>\n",
              "      <button class=\"colab-df-convert\" onclick=\"convertToInteractive('df-d5d0089e-d1e4-45b5-9abc-61c4b87d4bf8')\"\n",
              "              title=\"Convert this dataframe to an interactive table.\"\n",
              "              style=\"display:none;\">\n",
              "        \n",
              "  <svg xmlns=\"http://www.w3.org/2000/svg\" height=\"24px\"viewBox=\"0 0 24 24\"\n",
              "       width=\"24px\">\n",
              "    <path d=\"M0 0h24v24H0V0z\" fill=\"none\"/>\n",
              "    <path d=\"M18.56 5.44l.94 2.06.94-2.06 2.06-.94-2.06-.94-.94-2.06-.94 2.06-2.06.94zm-11 1L8.5 8.5l.94-2.06 2.06-.94-2.06-.94L8.5 2.5l-.94 2.06-2.06.94zm10 10l.94 2.06.94-2.06 2.06-.94-2.06-.94-.94-2.06-.94 2.06-2.06.94z\"/><path d=\"M17.41 7.96l-1.37-1.37c-.4-.4-.92-.59-1.43-.59-.52 0-1.04.2-1.43.59L10.3 9.45l-7.72 7.72c-.78.78-.78 2.05 0 2.83L4 21.41c.39.39.9.59 1.41.59.51 0 1.02-.2 1.41-.59l7.78-7.78 2.81-2.81c.8-.78.8-2.07 0-2.86zM5.41 20L4 18.59l7.72-7.72 1.47 1.35L5.41 20z\"/>\n",
              "  </svg>\n",
              "      </button>\n",
              "      \n",
              "  <style>\n",
              "    .colab-df-container {\n",
              "      display:flex;\n",
              "      flex-wrap:wrap;\n",
              "      gap: 12px;\n",
              "    }\n",
              "\n",
              "    .colab-df-convert {\n",
              "      background-color: #E8F0FE;\n",
              "      border: none;\n",
              "      border-radius: 50%;\n",
              "      cursor: pointer;\n",
              "      display: none;\n",
              "      fill: #1967D2;\n",
              "      height: 32px;\n",
              "      padding: 0 0 0 0;\n",
              "      width: 32px;\n",
              "    }\n",
              "\n",
              "    .colab-df-convert:hover {\n",
              "      background-color: #E2EBFA;\n",
              "      box-shadow: 0px 1px 2px rgba(60, 64, 67, 0.3), 0px 1px 3px 1px rgba(60, 64, 67, 0.15);\n",
              "      fill: #174EA6;\n",
              "    }\n",
              "\n",
              "    [theme=dark] .colab-df-convert {\n",
              "      background-color: #3B4455;\n",
              "      fill: #D2E3FC;\n",
              "    }\n",
              "\n",
              "    [theme=dark] .colab-df-convert:hover {\n",
              "      background-color: #434B5C;\n",
              "      box-shadow: 0px 1px 3px 1px rgba(0, 0, 0, 0.15);\n",
              "      filter: drop-shadow(0px 1px 2px rgba(0, 0, 0, 0.3));\n",
              "      fill: #FFFFFF;\n",
              "    }\n",
              "  </style>\n",
              "\n",
              "      <script>\n",
              "        const buttonEl =\n",
              "          document.querySelector('#df-d5d0089e-d1e4-45b5-9abc-61c4b87d4bf8 button.colab-df-convert');\n",
              "        buttonEl.style.display =\n",
              "          google.colab.kernel.accessAllowed ? 'block' : 'none';\n",
              "\n",
              "        async function convertToInteractive(key) {\n",
              "          const element = document.querySelector('#df-d5d0089e-d1e4-45b5-9abc-61c4b87d4bf8');\n",
              "          const dataTable =\n",
              "            await google.colab.kernel.invokeFunction('convertToInteractive',\n",
              "                                                     [key], {});\n",
              "          if (!dataTable) return;\n",
              "\n",
              "          const docLinkHtml = 'Like what you see? Visit the ' +\n",
              "            '<a target=\"_blank\" href=https://colab.research.google.com/notebooks/data_table.ipynb>data table notebook</a>'\n",
              "            + ' to learn more about interactive tables.';\n",
              "          element.innerHTML = '';\n",
              "          dataTable['output_type'] = 'display_data';\n",
              "          await google.colab.output.renderOutput(dataTable, element);\n",
              "          const docLink = document.createElement('div');\n",
              "          docLink.innerHTML = docLinkHtml;\n",
              "          element.appendChild(docLink);\n",
              "        }\n",
              "      </script>\n",
              "    </div>\n",
              "  </div>\n",
              "  "
            ]
          },
          "metadata": {},
          "execution_count": 22
        }
      ]
    },
    {
      "cell_type": "code",
      "source": [
        "len(legauf_topic_info)"
      ],
      "metadata": {
        "colab": {
          "base_uri": "https://localhost:8080/"
        },
        "outputId": "f5e809c8-5e0a-4e4f-af5f-a69eb85f9da6",
        "id": "2EIwk1k3SfLd"
      },
      "execution_count": null,
      "outputs": [
        {
          "output_type": "execute_result",
          "data": {
            "text/plain": [
              "56"
            ]
          },
          "metadata": {},
          "execution_count": 23
        }
      ]
    },
    {
      "cell_type": "markdown",
      "source": [
        "Save"
      ],
      "metadata": {
        "id": "Lvi85ncBSfLd"
      }
    },
    {
      "cell_type": "code",
      "source": [
        "# full list of topics\n",
        "legauf_full_topics = legauf_tm.get_topics()\n",
        "\n",
        "#convert full topic dict to df and transpose\n",
        "topics_df = pd.DataFrame(legauf_full_topics,\n",
        "                         index=['word1', 'word2', 'word3', 'word4', 'word5', 'word6', 'word7', 'word8', 'word9', 'word10'])\\\n",
        "                         .transpose()\n",
        "\n",
        "# get just the word\n",
        "topics_df = topics_df.applymap(lambda x: x[0])\n",
        "\n",
        "# add col w/concatenated list\n",
        "#topics_df['all_words'] = topics_df.apply(', '.join, axis=1) #insert at end\n",
        "topics_df.insert(0, 'topic', topics_df.apply(', '.join, axis=1))\n",
        "\n",
        "# remove indiv. word columns (word1,...,word10)\n",
        "topics_df.drop(list(topics_df.filter(regex = 'word')), axis = 1, inplace = True)\n",
        "\n",
        "# convert index to a column (this is the topic id)\n",
        "topics_df.insert(0, 'topic_id', topics_df.index)\n",
        "\n",
        "# add count frequency \n",
        "topic_ct = legauf_topic_info[['Topic', 'Count']]\n",
        "topics_df = topics_df.merge(topic_ct, how='left', left_on='topic_id', right_on='Topic')\n",
        "topics_df.drop('Topic', axis=1, inplace=True)\n",
        "\n",
        "# save\n",
        "topics_df.to_csv(output_folder + 'legauf_topics_clean_bbu_rramicus.csv', index=False)\n",
        "\n",
        "# classification by paragraph\n",
        "topic_id = legauf_topic_info[['Topic', 'Name']]\n",
        "output_df = legauf_df.copy()\n",
        "output_df['topic_id'] = legauf_topics\n",
        "output_df = output_df.merge(topic_id, how='left', left_on='topic_id', right_on='Topic')\n",
        "output_df.drop('Topic',axis=1,inplace=True)\n",
        "output_df.rename({'Name' : 'topic_name'},axis=1, inplace=True)\n",
        "output_df.to_csv(output_folder + 'legauf_topic_clean_classification_bbu_rramicus.csv', index=False)"
      ],
      "metadata": {
        "id": "j0j7OFnLSfLe"
      },
      "execution_count": null,
      "outputs": []
    },
    {
      "cell_type": "markdown",
      "source": [
        "Next, cluster the topics using hdbscan "
      ],
      "metadata": {
        "id": "ToqhKEG6SfLe"
      }
    },
    {
      "cell_type": "code",
      "source": [
        "legauf_embed = get_similar_topics(legauf_tm)"
      ],
      "metadata": {
        "id": "a1OwCBqPSfLe"
      },
      "execution_count": null,
      "outputs": []
    },
    {
      "cell_type": "code",
      "source": [
        "legauf_topic_df = pd.read_csv(output_folder + 'legauf_topics_clean_bbu_rramicus.csv')\n",
        "legauf_embed = legauf_embed.sort_values('Label')\n",
        "legauf_embed.rename({'Topic':'topic_id', 'Label':'label'}, axis=1, inplace=True)\n",
        "legauf_embed = legauf_embed.merge(legauf_topic_df, how='left', on = 'topic_id')\n",
        "legauf_embed.drop(['Words', 'Size'], axis=1, inplace=True)\n",
        "legauf_embed = legauf_embed[['topic_id', 'label', 'topic', 'Count', 'x', 'y']]\n",
        "legauf_embed.to_csv(output_folder + 'legauf_topics_clean_labels_bbu_rramicus.csv')"
      ],
      "metadata": {
        "id": "wWuMQdF5SfLe"
      },
      "execution_count": null,
      "outputs": []
    },
    {
      "cell_type": "markdown",
      "source": [
        "Save model"
      ],
      "metadata": {
        "id": "1uCBBE9eSfLe"
      }
    },
    {
      "cell_type": "code",
      "source": [
        "legauf_tm.save(model_folder + 'legauf_bbu_rramicus')"
      ],
      "metadata": {
        "id": "hgMawTySSfLe"
      },
      "execution_count": null,
      "outputs": []
    },
    {
      "cell_type": "markdown",
      "source": [
        "# Medauo and Medauf"
      ],
      "metadata": {
        "id": "3XSsjDgjVQsA"
      }
    },
    {
      "cell_type": "markdown",
      "source": [
        "## Medauo"
      ],
      "metadata": {
        "id": "Zw0YoBzMVnCQ"
      }
    },
    {
      "cell_type": "code",
      "source": [
        "medauo_df = df[(df['medauo'] == 1)] #| (df['medauf'] == 1)]\n",
        "medauo_df = medauo_df[['case', 'id', 'brief', 'medauo', 'medauf', 'text']]\n",
        "print(\"number of briefs:\", medauo_df['id'].nunique())\n",
        "print(\"number of paragraphs:\", len(medauo_df))"
      ],
      "metadata": {
        "colab": {
          "base_uri": "https://localhost:8080/"
        },
        "id": "fF2TcLE2VTL9",
        "outputId": "855db2c3-7d16-4aa7-89b7-b7c385f8c1f7"
      },
      "execution_count": null,
      "outputs": [
        {
          "output_type": "stream",
          "name": "stdout",
          "text": [
            "number of briefs: 37\n",
            "number of paragraphs: 337\n"
          ]
        }
      ]
    },
    {
      "cell_type": "markdown",
      "source": [
        "Remove noise"
      ],
      "metadata": {
        "id": "Q6SkYlkwb-Lo"
      }
    },
    {
      "cell_type": "code",
      "source": [
        "#rmv_list = ['abortion', 'women', 'health', 'respectfully', 'conclusion', 'counsel', 'state',\n",
        "#            'abortions', 'clinic', 'clinics']\n",
        "medauo_df['text'] = medauo_df['text'].apply(lambda x: ' '.join([word for word in x.split() if word not in (rmv_list)]))"
      ],
      "metadata": {
        "id": "lh-aJAgNb_cj"
      },
      "execution_count": null,
      "outputs": []
    },
    {
      "cell_type": "markdown",
      "source": [
        "### Initial train + save"
      ],
      "metadata": {
        "id": "qdewTEvLXnBz"
      }
    },
    {
      "cell_type": "markdown",
      "source": [
        "Init existing topic model again so we don't over-write existing model."
      ],
      "metadata": {
        "id": "m7bBy2fOXnBz"
      }
    },
    {
      "cell_type": "code",
      "source": [
        "# init embeddings and model\n",
        "bbu_ft_embed = TransformerDocumentEmbeddings(model_checkpoint)\n",
        "medauo_tm = BERTopic(embedding_model=bbu_ft_embed, min_topic_size=3,\n",
        "                     language = 'english', calculate_probabilities=True, verbose=True)\n",
        "#medauo_tm = BERTopic(language='english', calculate_probabilities=True)"
      ],
      "metadata": {
        "colab": {
          "base_uri": "https://localhost:8080/"
        },
        "outputId": "63c423e4-ea4a-457b-e020-8131dcbda997",
        "id": "dg03PhmwXnBz"
      },
      "execution_count": null,
      "outputs": [
        {
          "output_type": "stream",
          "name": "stderr",
          "text": [
            "Some weights of BertModel were not initialized from the model checkpoint at repro-rights-amicus-briefs/bert-base-uncased-finetuned-RRamicus and are newly initialized: ['bert.pooler.dense.weight', 'bert.pooler.dense.bias']\n",
            "You should probably TRAIN this model on a down-stream task to be able to use it for predictions and inference.\n"
          ]
        }
      ]
    },
    {
      "cell_type": "markdown",
      "source": [
        "Fit the model on only the docs of interest (5 min)"
      ],
      "metadata": {
        "id": "ep2WwnDAXnB0"
      }
    },
    {
      "cell_type": "code",
      "source": [
        "# fit model\n",
        "medauo_topics, medauo_probs = medauo_tm.fit_transform(medauo_df['text'])"
      ],
      "metadata": {
        "colab": {
          "base_uri": "https://localhost:8080/"
        },
        "outputId": "c04b7d06-238d-42e5-af76-8913f6f92649",
        "id": "tHyrXJPcXnB1"
      },
      "execution_count": null,
      "outputs": [
        {
          "output_type": "stream",
          "name": "stderr",
          "text": [
            "337it [00:16, 19.93it/s]\n",
            "2022-04-11 17:17:54,449 - BERTopic - Transformed documents to Embeddings\n",
            "2022-04-11 17:17:58,469 - BERTopic - Reduced dimensionality with UMAP\n",
            "2022-04-11 17:17:58,539 - BERTopic - Clustered UMAP embeddings with HDBSCAN\n"
          ]
        }
      ]
    },
    {
      "cell_type": "code",
      "source": [
        "medauo_topic_info = medauo_tm.get_topic_info()\n",
        "medauo_topic_info.head(5)"
      ],
      "metadata": {
        "colab": {
          "base_uri": "https://localhost:8080/",
          "height": 206
        },
        "outputId": "e63789cc-b828-4304-f726-41b9518907eb",
        "id": "uXWUgaSlXnB1"
      },
      "execution_count": null,
      "outputs": [
        {
          "output_type": "execute_result",
          "data": {
            "text/plain": [
              "   Topic  Count                                         Name\n",
              "0     -1     74          -1_abortion_medical_mortality_women\n",
              "1      0     18                      0_right_life_law_rights\n",
              "2      1     17  1_conclusion_respectfully_counsel_submitted\n",
              "3      2     16            2_health_abortion_medical_consent\n",
              "4      3     16             3_abortion_jan_visited_available"
            ],
            "text/html": [
              "\n",
              "  <div id=\"df-3897dbe2-85fa-448e-abd6-27f4756f8bee\">\n",
              "    <div class=\"colab-df-container\">\n",
              "      <div>\n",
              "<style scoped>\n",
              "    .dataframe tbody tr th:only-of-type {\n",
              "        vertical-align: middle;\n",
              "    }\n",
              "\n",
              "    .dataframe tbody tr th {\n",
              "        vertical-align: top;\n",
              "    }\n",
              "\n",
              "    .dataframe thead th {\n",
              "        text-align: right;\n",
              "    }\n",
              "</style>\n",
              "<table border=\"1\" class=\"dataframe\">\n",
              "  <thead>\n",
              "    <tr style=\"text-align: right;\">\n",
              "      <th></th>\n",
              "      <th>Topic</th>\n",
              "      <th>Count</th>\n",
              "      <th>Name</th>\n",
              "    </tr>\n",
              "  </thead>\n",
              "  <tbody>\n",
              "    <tr>\n",
              "      <th>0</th>\n",
              "      <td>-1</td>\n",
              "      <td>74</td>\n",
              "      <td>-1_abortion_medical_mortality_women</td>\n",
              "    </tr>\n",
              "    <tr>\n",
              "      <th>1</th>\n",
              "      <td>0</td>\n",
              "      <td>18</td>\n",
              "      <td>0_right_life_law_rights</td>\n",
              "    </tr>\n",
              "    <tr>\n",
              "      <th>2</th>\n",
              "      <td>1</td>\n",
              "      <td>17</td>\n",
              "      <td>1_conclusion_respectfully_counsel_submitted</td>\n",
              "    </tr>\n",
              "    <tr>\n",
              "      <th>3</th>\n",
              "      <td>2</td>\n",
              "      <td>16</td>\n",
              "      <td>2_health_abortion_medical_consent</td>\n",
              "    </tr>\n",
              "    <tr>\n",
              "      <th>4</th>\n",
              "      <td>3</td>\n",
              "      <td>16</td>\n",
              "      <td>3_abortion_jan_visited_available</td>\n",
              "    </tr>\n",
              "  </tbody>\n",
              "</table>\n",
              "</div>\n",
              "      <button class=\"colab-df-convert\" onclick=\"convertToInteractive('df-3897dbe2-85fa-448e-abd6-27f4756f8bee')\"\n",
              "              title=\"Convert this dataframe to an interactive table.\"\n",
              "              style=\"display:none;\">\n",
              "        \n",
              "  <svg xmlns=\"http://www.w3.org/2000/svg\" height=\"24px\"viewBox=\"0 0 24 24\"\n",
              "       width=\"24px\">\n",
              "    <path d=\"M0 0h24v24H0V0z\" fill=\"none\"/>\n",
              "    <path d=\"M18.56 5.44l.94 2.06.94-2.06 2.06-.94-2.06-.94-.94-2.06-.94 2.06-2.06.94zm-11 1L8.5 8.5l.94-2.06 2.06-.94-2.06-.94L8.5 2.5l-.94 2.06-2.06.94zm10 10l.94 2.06.94-2.06 2.06-.94-2.06-.94-.94-2.06-.94 2.06-2.06.94z\"/><path d=\"M17.41 7.96l-1.37-1.37c-.4-.4-.92-.59-1.43-.59-.52 0-1.04.2-1.43.59L10.3 9.45l-7.72 7.72c-.78.78-.78 2.05 0 2.83L4 21.41c.39.39.9.59 1.41.59.51 0 1.02-.2 1.41-.59l7.78-7.78 2.81-2.81c.8-.78.8-2.07 0-2.86zM5.41 20L4 18.59l7.72-7.72 1.47 1.35L5.41 20z\"/>\n",
              "  </svg>\n",
              "      </button>\n",
              "      \n",
              "  <style>\n",
              "    .colab-df-container {\n",
              "      display:flex;\n",
              "      flex-wrap:wrap;\n",
              "      gap: 12px;\n",
              "    }\n",
              "\n",
              "    .colab-df-convert {\n",
              "      background-color: #E8F0FE;\n",
              "      border: none;\n",
              "      border-radius: 50%;\n",
              "      cursor: pointer;\n",
              "      display: none;\n",
              "      fill: #1967D2;\n",
              "      height: 32px;\n",
              "      padding: 0 0 0 0;\n",
              "      width: 32px;\n",
              "    }\n",
              "\n",
              "    .colab-df-convert:hover {\n",
              "      background-color: #E2EBFA;\n",
              "      box-shadow: 0px 1px 2px rgba(60, 64, 67, 0.3), 0px 1px 3px 1px rgba(60, 64, 67, 0.15);\n",
              "      fill: #174EA6;\n",
              "    }\n",
              "\n",
              "    [theme=dark] .colab-df-convert {\n",
              "      background-color: #3B4455;\n",
              "      fill: #D2E3FC;\n",
              "    }\n",
              "\n",
              "    [theme=dark] .colab-df-convert:hover {\n",
              "      background-color: #434B5C;\n",
              "      box-shadow: 0px 1px 3px 1px rgba(0, 0, 0, 0.15);\n",
              "      filter: drop-shadow(0px 1px 2px rgba(0, 0, 0, 0.3));\n",
              "      fill: #FFFFFF;\n",
              "    }\n",
              "  </style>\n",
              "\n",
              "      <script>\n",
              "        const buttonEl =\n",
              "          document.querySelector('#df-3897dbe2-85fa-448e-abd6-27f4756f8bee button.colab-df-convert');\n",
              "        buttonEl.style.display =\n",
              "          google.colab.kernel.accessAllowed ? 'block' : 'none';\n",
              "\n",
              "        async function convertToInteractive(key) {\n",
              "          const element = document.querySelector('#df-3897dbe2-85fa-448e-abd6-27f4756f8bee');\n",
              "          const dataTable =\n",
              "            await google.colab.kernel.invokeFunction('convertToInteractive',\n",
              "                                                     [key], {});\n",
              "          if (!dataTable) return;\n",
              "\n",
              "          const docLinkHtml = 'Like what you see? Visit the ' +\n",
              "            '<a target=\"_blank\" href=https://colab.research.google.com/notebooks/data_table.ipynb>data table notebook</a>'\n",
              "            + ' to learn more about interactive tables.';\n",
              "          element.innerHTML = '';\n",
              "          dataTable['output_type'] = 'display_data';\n",
              "          await google.colab.output.renderOutput(dataTable, element);\n",
              "          const docLink = document.createElement('div');\n",
              "          docLink.innerHTML = docLinkHtml;\n",
              "          element.appendChild(docLink);\n",
              "        }\n",
              "      </script>\n",
              "    </div>\n",
              "  </div>\n",
              "  "
            ]
          },
          "metadata": {},
          "execution_count": 32
        }
      ]
    },
    {
      "cell_type": "code",
      "source": [
        "len(medauo_topic_info)"
      ],
      "metadata": {
        "colab": {
          "base_uri": "https://localhost:8080/"
        },
        "id": "E9ZKCiuuz97W",
        "outputId": "561a475c-a5de-4b8e-b9a5-afd21c5cd170"
      },
      "execution_count": null,
      "outputs": [
        {
          "output_type": "execute_result",
          "data": {
            "text/plain": [
              "31"
            ]
          },
          "metadata": {},
          "execution_count": 33
        }
      ]
    },
    {
      "cell_type": "markdown",
      "source": [
        "Save"
      ],
      "metadata": {
        "id": "kdgedqKKXnB1"
      }
    },
    {
      "cell_type": "code",
      "source": [
        "# full list of topics\n",
        "medauo_full_topics = medauo_tm.get_topics()\n",
        "\n",
        "#convert full topic dict to df and transpose\n",
        "topics_df = pd.DataFrame(medauo_full_topics,\n",
        "                         index=['word1', 'word2', 'word3', 'word4', 'word5', 'word6', 'word7', 'word8', 'word9', 'word10'])\\\n",
        "                         .transpose()\n",
        "\n",
        "# get just the word\n",
        "topics_df = topics_df.applymap(lambda x: x[0])\n",
        "\n",
        "# add col w/concatenated list\n",
        "#topics_df['all_words'] = topics_df.apply(', '.join, axis=1) #insert at end\n",
        "topics_df.insert(0, 'topic', topics_df.apply(', '.join, axis=1))\n",
        "\n",
        "# remove indiv. word columns (word1,...,word10)\n",
        "topics_df.drop(list(topics_df.filter(regex = 'word')), axis = 1, inplace = True)\n",
        "\n",
        "# convert index to a column (this is the topic id)\n",
        "topics_df.insert(0, 'topic_id', topics_df.index)\n",
        "\n",
        "# add count frequency \n",
        "topic_ct = medauo_topic_info[['Topic', 'Count']]\n",
        "topics_df = topics_df.merge(topic_ct, how='left', left_on='topic_id', right_on='Topic')\n",
        "topics_df.drop('Topic', axis=1, inplace=True)\n",
        "\n",
        "# save\n",
        "topics_df.to_csv(output_folder + 'medauo_topics_clean_bbu_rramicus.csv', index=False)\n",
        "\n",
        "# classification by paragraph\n",
        "topic_id = medauo_topic_info[['Topic', 'Name']]\n",
        "output_df = medauo_df.copy()\n",
        "output_df['topic_id'] = medauo_topics\n",
        "output_df = output_df.merge(topic_id, how='left', left_on='topic_id', right_on='Topic')\n",
        "output_df.drop('Topic',axis=1,inplace=True)\n",
        "output_df.rename({'Name' : 'topic_name'},axis=1, inplace=True)\n",
        "output_df.to_csv(output_folder + 'medauo_topic_clean_classification_bbu_rramicus.csv', index=False)"
      ],
      "metadata": {
        "id": "DCV89YLwXnB1"
      },
      "execution_count": null,
      "outputs": []
    },
    {
      "cell_type": "markdown",
      "source": [
        "Next, cluster the topics using hdbscan "
      ],
      "metadata": {
        "id": "AeB3X6UHXnB2"
      }
    },
    {
      "cell_type": "code",
      "source": [
        "medauo_embed = get_similar_topics(medauo_tm)"
      ],
      "metadata": {
        "id": "y2aJHZRQXnB2"
      },
      "execution_count": null,
      "outputs": []
    },
    {
      "cell_type": "code",
      "source": [
        "medauo_topic_df = pd.read_csv(output_folder + 'medauo_topics_clean_bbu_rramicus.csv')\n",
        "medauo_embed = medauo_embed.sort_values('Label')\n",
        "medauo_embed.rename({'Topic':'topic_id', 'Label':'label'}, axis=1, inplace=True)\n",
        "medauo_embed = medauo_embed.merge(medauo_topic_df, how='left', on = 'topic_id')\n",
        "medauo_embed.drop(['Words', 'Size'], axis=1, inplace=True)\n",
        "medauo_embed = medauo_embed[['topic_id', 'label', 'topic', 'Count', 'x', 'y']]\n",
        "medauo_embed.to_csv(output_folder + 'medauo_topics_clean_labels_bbu_rramicus.csv')"
      ],
      "metadata": {
        "id": "qMLwKFwlXnB2"
      },
      "execution_count": null,
      "outputs": []
    },
    {
      "cell_type": "markdown",
      "source": [
        "Save model"
      ],
      "metadata": {
        "id": "X5Zk72erXnB2"
      }
    },
    {
      "cell_type": "code",
      "source": [
        "medauo_tm.save(model_folder + 'medauo_bbu_rramicus')"
      ],
      "metadata": {
        "id": "FI9k5XnSXnB2"
      },
      "execution_count": null,
      "outputs": []
    },
    {
      "cell_type": "markdown",
      "source": [
        "## Medauf"
      ],
      "metadata": {
        "id": "mh1qLgOk1IfL"
      }
    },
    {
      "cell_type": "code",
      "source": [
        "medauf_df = df[(df['medauf'] == 1)]\n",
        "medauf_df = medauf_df[['case', 'id', 'brief', 'medauo', 'medauf', 'text']]\n",
        "print(\"number of briefs:\", medauf_df['id'].nunique())\n",
        "print(\"number of paragraphs:\", len(medauf_df))"
      ],
      "metadata": {
        "colab": {
          "base_uri": "https://localhost:8080/"
        },
        "outputId": "e6e7b44a-0958-4570-c04e-6f9e19ccd085",
        "id": "7Ly1Nrin1IfV"
      },
      "execution_count": null,
      "outputs": [
        {
          "output_type": "stream",
          "name": "stdout",
          "text": [
            "number of briefs: 92\n",
            "number of paragraphs: 806\n"
          ]
        }
      ]
    },
    {
      "cell_type": "markdown",
      "source": [
        "Remove noise"
      ],
      "metadata": {
        "id": "wnEoI-O21IfV"
      }
    },
    {
      "cell_type": "code",
      "source": [
        "#rmv_list = ['abortion', 'women', 'health', 'respectfully', 'conclusion', 'counsel', 'state',\n",
        "#            'abortions', 'clinic', 'clinics']\n",
        "medauf_df['text'] = medauf_df['text'].apply(lambda x: ' '.join([word for word in x.split() if word not in (rmv_list)]))"
      ],
      "metadata": {
        "id": "C9M0AHzT1IfV"
      },
      "execution_count": null,
      "outputs": []
    },
    {
      "cell_type": "markdown",
      "source": [
        "### Initial train + save"
      ],
      "metadata": {
        "id": "izvrnn7E1IfV"
      }
    },
    {
      "cell_type": "markdown",
      "source": [
        "Init existing topic model again so we don't over-write existing model."
      ],
      "metadata": {
        "id": "88WuCMad1IfV"
      }
    },
    {
      "cell_type": "code",
      "source": [
        "# init embeddings and model\n",
        "bbu_ft_embed = TransformerDocumentEmbeddings(model_checkpoint)\n",
        "medauf_tm = BERTopic(embedding_model=bbu_ft_embed, min_topic_size=3,\n",
        "                     language = 'english', calculate_probabilities=True, verbose=True)"
      ],
      "metadata": {
        "colab": {
          "base_uri": "https://localhost:8080/"
        },
        "outputId": "a754b28c-3967-4dae-9b71-2b677adc0661",
        "id": "NFofM_U41IfW"
      },
      "execution_count": null,
      "outputs": [
        {
          "output_type": "stream",
          "name": "stderr",
          "text": [
            "Some weights of BertModel were not initialized from the model checkpoint at repro-rights-amicus-briefs/bert-base-uncased-finetuned-RRamicus and are newly initialized: ['bert.pooler.dense.weight', 'bert.pooler.dense.bias']\n",
            "You should probably TRAIN this model on a down-stream task to be able to use it for predictions and inference.\n"
          ]
        }
      ]
    },
    {
      "cell_type": "markdown",
      "source": [
        "Fit the model on only the docs of interest (5 min)"
      ],
      "metadata": {
        "id": "o8KL30Aa1IfW"
      }
    },
    {
      "cell_type": "code",
      "source": [
        "# fit model\n",
        "medauf_topics, medauf_probs = medauf_tm.fit_transform(medauf_df['text'])"
      ],
      "metadata": {
        "colab": {
          "base_uri": "https://localhost:8080/"
        },
        "outputId": "70d72f2d-16d4-4a30-ee98-6f33a5305977",
        "id": "8bSUBoME1IfW"
      },
      "execution_count": null,
      "outputs": [
        {
          "output_type": "stream",
          "name": "stderr",
          "text": [
            "806it [00:38, 21.12it/s]\n",
            "2022-04-11 17:18:54,985 - BERTopic - Transformed documents to Embeddings\n",
            "2022-04-11 17:19:01,142 - BERTopic - Reduced dimensionality with UMAP\n",
            "2022-04-11 17:19:01,409 - BERTopic - Clustered UMAP embeddings with HDBSCAN\n"
          ]
        }
      ]
    },
    {
      "cell_type": "code",
      "source": [
        "medauf_topic_info = medauf_tm.get_topic_info()\n",
        "medauf_topic_info.head(5)"
      ],
      "metadata": {
        "colab": {
          "base_uri": "https://localhost:8080/",
          "height": 206
        },
        "outputId": "b20ec20d-2675-4f03-a0e5-3d69b4e0f21d",
        "id": "vjJul04o1IfW"
      },
      "execution_count": null,
      "outputs": [
        {
          "output_type": "execute_result",
          "data": {
            "text/plain": [
              "   Topic  Count                                         Name\n",
              "0     -1    172             -1_abortion_health_women_medical\n",
              "1      0     57  0_respectfully_counsel_conclusion_submitted\n",
              "2      1     56                  1_texas_women_abortion_care\n",
              "3      2     36          2_amendment_enterprise_federal_hyde\n",
              "4      3     28             3_roe_life_constitutional_health"
            ],
            "text/html": [
              "\n",
              "  <div id=\"df-9b723f48-4848-4bb9-9efa-5edb2698ee44\">\n",
              "    <div class=\"colab-df-container\">\n",
              "      <div>\n",
              "<style scoped>\n",
              "    .dataframe tbody tr th:only-of-type {\n",
              "        vertical-align: middle;\n",
              "    }\n",
              "\n",
              "    .dataframe tbody tr th {\n",
              "        vertical-align: top;\n",
              "    }\n",
              "\n",
              "    .dataframe thead th {\n",
              "        text-align: right;\n",
              "    }\n",
              "</style>\n",
              "<table border=\"1\" class=\"dataframe\">\n",
              "  <thead>\n",
              "    <tr style=\"text-align: right;\">\n",
              "      <th></th>\n",
              "      <th>Topic</th>\n",
              "      <th>Count</th>\n",
              "      <th>Name</th>\n",
              "    </tr>\n",
              "  </thead>\n",
              "  <tbody>\n",
              "    <tr>\n",
              "      <th>0</th>\n",
              "      <td>-1</td>\n",
              "      <td>172</td>\n",
              "      <td>-1_abortion_health_women_medical</td>\n",
              "    </tr>\n",
              "    <tr>\n",
              "      <th>1</th>\n",
              "      <td>0</td>\n",
              "      <td>57</td>\n",
              "      <td>0_respectfully_counsel_conclusion_submitted</td>\n",
              "    </tr>\n",
              "    <tr>\n",
              "      <th>2</th>\n",
              "      <td>1</td>\n",
              "      <td>56</td>\n",
              "      <td>1_texas_women_abortion_care</td>\n",
              "    </tr>\n",
              "    <tr>\n",
              "      <th>3</th>\n",
              "      <td>2</td>\n",
              "      <td>36</td>\n",
              "      <td>2_amendment_enterprise_federal_hyde</td>\n",
              "    </tr>\n",
              "    <tr>\n",
              "      <th>4</th>\n",
              "      <td>3</td>\n",
              "      <td>28</td>\n",
              "      <td>3_roe_life_constitutional_health</td>\n",
              "    </tr>\n",
              "  </tbody>\n",
              "</table>\n",
              "</div>\n",
              "      <button class=\"colab-df-convert\" onclick=\"convertToInteractive('df-9b723f48-4848-4bb9-9efa-5edb2698ee44')\"\n",
              "              title=\"Convert this dataframe to an interactive table.\"\n",
              "              style=\"display:none;\">\n",
              "        \n",
              "  <svg xmlns=\"http://www.w3.org/2000/svg\" height=\"24px\"viewBox=\"0 0 24 24\"\n",
              "       width=\"24px\">\n",
              "    <path d=\"M0 0h24v24H0V0z\" fill=\"none\"/>\n",
              "    <path d=\"M18.56 5.44l.94 2.06.94-2.06 2.06-.94-2.06-.94-.94-2.06-.94 2.06-2.06.94zm-11 1L8.5 8.5l.94-2.06 2.06-.94-2.06-.94L8.5 2.5l-.94 2.06-2.06.94zm10 10l.94 2.06.94-2.06 2.06-.94-2.06-.94-.94-2.06-.94 2.06-2.06.94z\"/><path d=\"M17.41 7.96l-1.37-1.37c-.4-.4-.92-.59-1.43-.59-.52 0-1.04.2-1.43.59L10.3 9.45l-7.72 7.72c-.78.78-.78 2.05 0 2.83L4 21.41c.39.39.9.59 1.41.59.51 0 1.02-.2 1.41-.59l7.78-7.78 2.81-2.81c.8-.78.8-2.07 0-2.86zM5.41 20L4 18.59l7.72-7.72 1.47 1.35L5.41 20z\"/>\n",
              "  </svg>\n",
              "      </button>\n",
              "      \n",
              "  <style>\n",
              "    .colab-df-container {\n",
              "      display:flex;\n",
              "      flex-wrap:wrap;\n",
              "      gap: 12px;\n",
              "    }\n",
              "\n",
              "    .colab-df-convert {\n",
              "      background-color: #E8F0FE;\n",
              "      border: none;\n",
              "      border-radius: 50%;\n",
              "      cursor: pointer;\n",
              "      display: none;\n",
              "      fill: #1967D2;\n",
              "      height: 32px;\n",
              "      padding: 0 0 0 0;\n",
              "      width: 32px;\n",
              "    }\n",
              "\n",
              "    .colab-df-convert:hover {\n",
              "      background-color: #E2EBFA;\n",
              "      box-shadow: 0px 1px 2px rgba(60, 64, 67, 0.3), 0px 1px 3px 1px rgba(60, 64, 67, 0.15);\n",
              "      fill: #174EA6;\n",
              "    }\n",
              "\n",
              "    [theme=dark] .colab-df-convert {\n",
              "      background-color: #3B4455;\n",
              "      fill: #D2E3FC;\n",
              "    }\n",
              "\n",
              "    [theme=dark] .colab-df-convert:hover {\n",
              "      background-color: #434B5C;\n",
              "      box-shadow: 0px 1px 3px 1px rgba(0, 0, 0, 0.15);\n",
              "      filter: drop-shadow(0px 1px 2px rgba(0, 0, 0, 0.3));\n",
              "      fill: #FFFFFF;\n",
              "    }\n",
              "  </style>\n",
              "\n",
              "      <script>\n",
              "        const buttonEl =\n",
              "          document.querySelector('#df-9b723f48-4848-4bb9-9efa-5edb2698ee44 button.colab-df-convert');\n",
              "        buttonEl.style.display =\n",
              "          google.colab.kernel.accessAllowed ? 'block' : 'none';\n",
              "\n",
              "        async function convertToInteractive(key) {\n",
              "          const element = document.querySelector('#df-9b723f48-4848-4bb9-9efa-5edb2698ee44');\n",
              "          const dataTable =\n",
              "            await google.colab.kernel.invokeFunction('convertToInteractive',\n",
              "                                                     [key], {});\n",
              "          if (!dataTable) return;\n",
              "\n",
              "          const docLinkHtml = 'Like what you see? Visit the ' +\n",
              "            '<a target=\"_blank\" href=https://colab.research.google.com/notebooks/data_table.ipynb>data table notebook</a>'\n",
              "            + ' to learn more about interactive tables.';\n",
              "          element.innerHTML = '';\n",
              "          dataTable['output_type'] = 'display_data';\n",
              "          await google.colab.output.renderOutput(dataTable, element);\n",
              "          const docLink = document.createElement('div');\n",
              "          docLink.innerHTML = docLinkHtml;\n",
              "          element.appendChild(docLink);\n",
              "        }\n",
              "      </script>\n",
              "    </div>\n",
              "  </div>\n",
              "  "
            ]
          },
          "metadata": {},
          "execution_count": 42
        }
      ]
    },
    {
      "cell_type": "code",
      "source": [
        "len(medauf_topic_info)"
      ],
      "metadata": {
        "colab": {
          "base_uri": "https://localhost:8080/"
        },
        "outputId": "055ebf1f-c68d-4d75-9e74-e3cff8db81d1",
        "id": "EhlRoskp1IfW"
      },
      "execution_count": null,
      "outputs": [
        {
          "output_type": "execute_result",
          "data": {
            "text/plain": [
              "65"
            ]
          },
          "metadata": {},
          "execution_count": 43
        }
      ]
    },
    {
      "cell_type": "markdown",
      "source": [
        "Save"
      ],
      "metadata": {
        "id": "lz2L2Zlf1IfW"
      }
    },
    {
      "cell_type": "code",
      "source": [
        "# full list of topics\n",
        "medauf_full_topics = medauf_tm.get_topics()\n",
        "\n",
        "#convert full topic dict to df and transpose\n",
        "topics_df = pd.DataFrame(medauf_full_topics,\n",
        "                         index=['word1', 'word2', 'word3', 'word4', 'word5', 'word6', 'word7', 'word8', 'word9', 'word10'])\\\n",
        "                         .transpose()\n",
        "\n",
        "# get just the word\n",
        "topics_df = topics_df.applymap(lambda x: x[0])\n",
        "\n",
        "# add col w/concatenated list\n",
        "#topics_df['all_words'] = topics_df.apply(', '.join, axis=1) #insert at end\n",
        "topics_df.insert(0, 'topic', topics_df.apply(', '.join, axis=1))\n",
        "\n",
        "# remove indiv. word columns (word1,...,word10)\n",
        "topics_df.drop(list(topics_df.filter(regex = 'word')), axis = 1, inplace = True)\n",
        "\n",
        "# convert index to a column (this is the topic id)\n",
        "topics_df.insert(0, 'topic_id', topics_df.index)\n",
        "\n",
        "# add count frequency \n",
        "topic_ct = medauo_topic_info[['Topic', 'Count']]\n",
        "topics_df = topics_df.merge(topic_ct, how='left', left_on='topic_id', right_on='Topic')\n",
        "topics_df.drop('Topic', axis=1, inplace=True)\n",
        "\n",
        "# save\n",
        "topics_df.to_csv(output_folder + 'medauf_topics_clean_bbu_rramicus.csv', index=False)\n",
        "\n",
        "# classification by paragraph\n",
        "topic_id = medauo_topic_info[['Topic', 'Name']]\n",
        "output_df = medauo_df.copy()\n",
        "output_df['topic_id'] = medauo_topics\n",
        "output_df = output_df.merge(topic_id, how='left', left_on='topic_id', right_on='Topic')\n",
        "output_df.drop('Topic',axis=1,inplace=True)\n",
        "output_df.rename({'Name' : 'topic_name'},axis=1, inplace=True)\n",
        "output_df.to_csv(output_folder + 'medauf_topic_clean_classification_bbu_rramicus.csv', index=False)"
      ],
      "metadata": {
        "id": "tl0QS3c01IfW"
      },
      "execution_count": null,
      "outputs": []
    },
    {
      "cell_type": "markdown",
      "source": [
        "Next, cluster the topics using hdbscan "
      ],
      "metadata": {
        "id": "yzpjvc4T1IfX"
      }
    },
    {
      "cell_type": "code",
      "source": [
        "medauf_embed = get_similar_topics(medauf_tm)"
      ],
      "metadata": {
        "id": "ajkulokD1IfX"
      },
      "execution_count": null,
      "outputs": []
    },
    {
      "cell_type": "code",
      "source": [
        "medauf_topic_df = pd.read_csv(output_folder + 'medauf_topics_clean_bbu_rramicus.csv')\n",
        "medauf_embed = medauf_embed.sort_values('Label')\n",
        "medauf_embed.rename({'Topic':'topic_id', 'Label':'label'}, axis=1, inplace=True)\n",
        "medauf_embed = medauf_embed.merge(medauf_topic_df, how='left', on = 'topic_id')\n",
        "medauf_embed.drop(['Words', 'Size'], axis=1, inplace=True)\n",
        "medauf_embed = medauf_embed[['topic_id', 'label', 'topic', 'Count', 'x', 'y']]\n",
        "medauf_embed.to_csv(output_folder + 'medauf_topics_clean_labels_bbu_rramicus.csv')"
      ],
      "metadata": {
        "id": "pd5BOGYK1IfX"
      },
      "execution_count": null,
      "outputs": []
    },
    {
      "cell_type": "markdown",
      "source": [
        "Save model"
      ],
      "metadata": {
        "id": "LI6FI_sc1IfX"
      }
    },
    {
      "cell_type": "code",
      "source": [
        "medauf_tm.save(model_folder + 'medauf_bbu_rramicus')"
      ],
      "metadata": {
        "id": "zlqTmUUD1IfX"
      },
      "execution_count": null,
      "outputs": []
    },
    {
      "cell_type": "markdown",
      "source": [
        "# Mpeauo and Mpeauf"
      ],
      "metadata": {
        "id": "omzKOGRGiies"
      }
    },
    {
      "cell_type": "markdown",
      "source": [
        "## Mpeauo"
      ],
      "metadata": {
        "id": "MpaoiEimiies"
      }
    },
    {
      "cell_type": "code",
      "source": [
        "mpeauo_df = df[(df['mpeauo'] == 1)] #| (df['medauf'] == 1)]\n",
        "mpeauo_df = mpeauo_df[['case', 'id', 'brief', 'mpeauo', 'text']]\n",
        "print(\"number of briefs:\", mpeauo_df['id'].nunique())\n",
        "print(\"number of paragraphs:\", len(mpeauo_df))"
      ],
      "metadata": {
        "colab": {
          "base_uri": "https://localhost:8080/"
        },
        "outputId": "5668906b-6263-470c-d106-b21934becd6c",
        "id": "xs61Ftwiiies"
      },
      "execution_count": null,
      "outputs": [
        {
          "output_type": "stream",
          "name": "stdout",
          "text": [
            "number of briefs: 19\n",
            "number of paragraphs: 158\n"
          ]
        }
      ]
    },
    {
      "cell_type": "markdown",
      "source": [
        "Remove noise"
      ],
      "metadata": {
        "id": "WOQHxPuliiet"
      }
    },
    {
      "cell_type": "code",
      "source": [
        "#rmv_list = ['abortion', 'women', 'health', 'respectfully', 'conclusion', 'counsel', 'state',\n",
        "#            'abortions', 'clinic', 'clinics']\n",
        "mpeauo_df['text'] = mpeauo_df['text'].apply(lambda x: ' '.join([word for word in x.split() if word not in (rmv_list)]))"
      ],
      "metadata": {
        "id": "A_L3r3uaiiet"
      },
      "execution_count": null,
      "outputs": []
    },
    {
      "cell_type": "markdown",
      "source": [
        "### Initial train + save"
      ],
      "metadata": {
        "id": "6WTaE4SJiiet"
      }
    },
    {
      "cell_type": "markdown",
      "source": [
        "Init existing topic model again so we don't over-write existing model."
      ],
      "metadata": {
        "id": "KoebgC_Giiet"
      }
    },
    {
      "cell_type": "code",
      "source": [
        "# init embeddings\n",
        "bbu_ft_embed = TransformerDocumentEmbeddings(model_checkpoint)\n",
        "\n",
        "# init umap\n",
        "umap_model = UMAP(n_neighbors=15, n_components=3, min_dist=0.0,\n",
        "                  metric='cosine', random_state=42, low_memory=False)\n",
        "\n",
        "# init model\n",
        "mpeauo_tm = BERTopic(embedding_model=bbu_ft_embed, min_topic_size=3, umap_model=umap_model,\n",
        "                     language='english', calculate_probabilities=True, verbose=True)"
      ],
      "metadata": {
        "colab": {
          "base_uri": "https://localhost:8080/"
        },
        "outputId": "8f3c6407-8c5e-490b-855e-8131b3a7ca45",
        "id": "6R58sL0Aiieu"
      },
      "execution_count": null,
      "outputs": [
        {
          "output_type": "stream",
          "name": "stderr",
          "text": [
            "Some weights of BertModel were not initialized from the model checkpoint at repro-rights-amicus-briefs/bert-base-uncased-finetuned-RRamicus and are newly initialized: ['bert.pooler.dense.weight', 'bert.pooler.dense.bias']\n",
            "You should probably TRAIN this model on a down-stream task to be able to use it for predictions and inference.\n"
          ]
        }
      ]
    },
    {
      "cell_type": "markdown",
      "source": [
        "Fit the model on only the docs of interest (5 min)"
      ],
      "metadata": {
        "id": "-LaFYuQ4iieu"
      }
    },
    {
      "cell_type": "code",
      "source": [
        "# fit model\n",
        "mpeauo_topics, mpeauo_probs = mpeauo_tm.fit_transform(mpeauo_df['text'])"
      ],
      "metadata": {
        "colab": {
          "base_uri": "https://localhost:8080/"
        },
        "outputId": "0efc65c4-3cdb-4f09-8de8-328f194ea528",
        "id": "j8NuE5E3iieu"
      },
      "execution_count": null,
      "outputs": [
        {
          "output_type": "stream",
          "name": "stderr",
          "text": [
            "158it [00:12, 12.41it/s]\n",
            "2022-04-11 18:07:39,463 - BERTopic - Transformed documents to Embeddings\n",
            "2022-04-11 18:07:42,184 - BERTopic - Reduced dimensionality with UMAP\n",
            "2022-04-11 18:07:42,258 - BERTopic - Clustered UMAP embeddings with HDBSCAN\n"
          ]
        }
      ]
    },
    {
      "cell_type": "code",
      "source": [
        "mpeauo_topic_info = mpeauo_tm.get_topic_info()\n",
        "mpeauo_topic_info.head(5)"
      ],
      "metadata": {
        "colab": {
          "base_uri": "https://localhost:8080/",
          "height": 206
        },
        "outputId": "2d1fa2f0-8b2c-48ad-9e1b-6e11caaaf3ae",
        "id": "osFR2mx7iieu"
      },
      "execution_count": null,
      "outputs": [
        {
          "output_type": "execute_result",
          "data": {
            "text/plain": [
              "   Topic  Count                                        Name\n",
              "0     -1     26             -1_abortion_care_health_medical\n",
              "1      0     13             0_statute_children_unborn_state\n",
              "2      1     12          1_abortion_interest_health_statute\n",
              "3      2     12              2_abortion_child_women_medical\n",
              "4      3     10  3_autonomy_conclusion_medical_respectfully"
            ],
            "text/html": [
              "\n",
              "  <div id=\"df-5a0e98ef-c55f-4df7-b5cd-f53ceb2488a7\">\n",
              "    <div class=\"colab-df-container\">\n",
              "      <div>\n",
              "<style scoped>\n",
              "    .dataframe tbody tr th:only-of-type {\n",
              "        vertical-align: middle;\n",
              "    }\n",
              "\n",
              "    .dataframe tbody tr th {\n",
              "        vertical-align: top;\n",
              "    }\n",
              "\n",
              "    .dataframe thead th {\n",
              "        text-align: right;\n",
              "    }\n",
              "</style>\n",
              "<table border=\"1\" class=\"dataframe\">\n",
              "  <thead>\n",
              "    <tr style=\"text-align: right;\">\n",
              "      <th></th>\n",
              "      <th>Topic</th>\n",
              "      <th>Count</th>\n",
              "      <th>Name</th>\n",
              "    </tr>\n",
              "  </thead>\n",
              "  <tbody>\n",
              "    <tr>\n",
              "      <th>0</th>\n",
              "      <td>-1</td>\n",
              "      <td>26</td>\n",
              "      <td>-1_abortion_care_health_medical</td>\n",
              "    </tr>\n",
              "    <tr>\n",
              "      <th>1</th>\n",
              "      <td>0</td>\n",
              "      <td>13</td>\n",
              "      <td>0_statute_children_unborn_state</td>\n",
              "    </tr>\n",
              "    <tr>\n",
              "      <th>2</th>\n",
              "      <td>1</td>\n",
              "      <td>12</td>\n",
              "      <td>1_abortion_interest_health_statute</td>\n",
              "    </tr>\n",
              "    <tr>\n",
              "      <th>3</th>\n",
              "      <td>2</td>\n",
              "      <td>12</td>\n",
              "      <td>2_abortion_child_women_medical</td>\n",
              "    </tr>\n",
              "    <tr>\n",
              "      <th>4</th>\n",
              "      <td>3</td>\n",
              "      <td>10</td>\n",
              "      <td>3_autonomy_conclusion_medical_respectfully</td>\n",
              "    </tr>\n",
              "  </tbody>\n",
              "</table>\n",
              "</div>\n",
              "      <button class=\"colab-df-convert\" onclick=\"convertToInteractive('df-5a0e98ef-c55f-4df7-b5cd-f53ceb2488a7')\"\n",
              "              title=\"Convert this dataframe to an interactive table.\"\n",
              "              style=\"display:none;\">\n",
              "        \n",
              "  <svg xmlns=\"http://www.w3.org/2000/svg\" height=\"24px\"viewBox=\"0 0 24 24\"\n",
              "       width=\"24px\">\n",
              "    <path d=\"M0 0h24v24H0V0z\" fill=\"none\"/>\n",
              "    <path d=\"M18.56 5.44l.94 2.06.94-2.06 2.06-.94-2.06-.94-.94-2.06-.94 2.06-2.06.94zm-11 1L8.5 8.5l.94-2.06 2.06-.94-2.06-.94L8.5 2.5l-.94 2.06-2.06.94zm10 10l.94 2.06.94-2.06 2.06-.94-2.06-.94-.94-2.06-.94 2.06-2.06.94z\"/><path d=\"M17.41 7.96l-1.37-1.37c-.4-.4-.92-.59-1.43-.59-.52 0-1.04.2-1.43.59L10.3 9.45l-7.72 7.72c-.78.78-.78 2.05 0 2.83L4 21.41c.39.39.9.59 1.41.59.51 0 1.02-.2 1.41-.59l7.78-7.78 2.81-2.81c.8-.78.8-2.07 0-2.86zM5.41 20L4 18.59l7.72-7.72 1.47 1.35L5.41 20z\"/>\n",
              "  </svg>\n",
              "      </button>\n",
              "      \n",
              "  <style>\n",
              "    .colab-df-container {\n",
              "      display:flex;\n",
              "      flex-wrap:wrap;\n",
              "      gap: 12px;\n",
              "    }\n",
              "\n",
              "    .colab-df-convert {\n",
              "      background-color: #E8F0FE;\n",
              "      border: none;\n",
              "      border-radius: 50%;\n",
              "      cursor: pointer;\n",
              "      display: none;\n",
              "      fill: #1967D2;\n",
              "      height: 32px;\n",
              "      padding: 0 0 0 0;\n",
              "      width: 32px;\n",
              "    }\n",
              "\n",
              "    .colab-df-convert:hover {\n",
              "      background-color: #E2EBFA;\n",
              "      box-shadow: 0px 1px 2px rgba(60, 64, 67, 0.3), 0px 1px 3px 1px rgba(60, 64, 67, 0.15);\n",
              "      fill: #174EA6;\n",
              "    }\n",
              "\n",
              "    [theme=dark] .colab-df-convert {\n",
              "      background-color: #3B4455;\n",
              "      fill: #D2E3FC;\n",
              "    }\n",
              "\n",
              "    [theme=dark] .colab-df-convert:hover {\n",
              "      background-color: #434B5C;\n",
              "      box-shadow: 0px 1px 3px 1px rgba(0, 0, 0, 0.15);\n",
              "      filter: drop-shadow(0px 1px 2px rgba(0, 0, 0, 0.3));\n",
              "      fill: #FFFFFF;\n",
              "    }\n",
              "  </style>\n",
              "\n",
              "      <script>\n",
              "        const buttonEl =\n",
              "          document.querySelector('#df-5a0e98ef-c55f-4df7-b5cd-f53ceb2488a7 button.colab-df-convert');\n",
              "        buttonEl.style.display =\n",
              "          google.colab.kernel.accessAllowed ? 'block' : 'none';\n",
              "\n",
              "        async function convertToInteractive(key) {\n",
              "          const element = document.querySelector('#df-5a0e98ef-c55f-4df7-b5cd-f53ceb2488a7');\n",
              "          const dataTable =\n",
              "            await google.colab.kernel.invokeFunction('convertToInteractive',\n",
              "                                                     [key], {});\n",
              "          if (!dataTable) return;\n",
              "\n",
              "          const docLinkHtml = 'Like what you see? Visit the ' +\n",
              "            '<a target=\"_blank\" href=https://colab.research.google.com/notebooks/data_table.ipynb>data table notebook</a>'\n",
              "            + ' to learn more about interactive tables.';\n",
              "          element.innerHTML = '';\n",
              "          dataTable['output_type'] = 'display_data';\n",
              "          await google.colab.output.renderOutput(dataTable, element);\n",
              "          const docLink = document.createElement('div');\n",
              "          docLink.innerHTML = docLinkHtml;\n",
              "          element.appendChild(docLink);\n",
              "        }\n",
              "      </script>\n",
              "    </div>\n",
              "  </div>\n",
              "  "
            ]
          },
          "metadata": {},
          "execution_count": 76
        }
      ]
    },
    {
      "cell_type": "code",
      "source": [
        "len(mpeauo_topic_info)"
      ],
      "metadata": {
        "colab": {
          "base_uri": "https://localhost:8080/"
        },
        "outputId": "ce2df44e-aa3e-4a2d-cdf9-30e4dd5f846e",
        "id": "sDaZniJliieu"
      },
      "execution_count": null,
      "outputs": [
        {
          "output_type": "execute_result",
          "data": {
            "text/plain": [
              "19"
            ]
          },
          "metadata": {},
          "execution_count": 77
        }
      ]
    },
    {
      "cell_type": "markdown",
      "source": [
        "Save"
      ],
      "metadata": {
        "id": "hYapOD0Jiiev"
      }
    },
    {
      "cell_type": "code",
      "source": [
        "# full list of topics\n",
        "mpeauo_full_topics = mpeauo_tm.get_topics()\n",
        "\n",
        "#convert full topic dict to df and transpose\n",
        "topics_df = pd.DataFrame(mpeauo_full_topics,\n",
        "                         index=['word1', 'word2', 'word3', 'word4', 'word5', 'word6', 'word7', 'word8', 'word9', 'word10'])\\\n",
        "                         .transpose()\n",
        "\n",
        "# get just the word\n",
        "topics_df = topics_df.applymap(lambda x: x[0])\n",
        "\n",
        "# add col w/concatenated list\n",
        "#topics_df['all_words'] = topics_df.apply(', '.join, axis=1) #insert at end\n",
        "topics_df.insert(0, 'topic', topics_df.apply(', '.join, axis=1))\n",
        "\n",
        "# remove indiv. word columns (word1,...,word10)\n",
        "topics_df.drop(list(topics_df.filter(regex = 'word')), axis = 1, inplace = True)\n",
        "\n",
        "# convert index to a column (this is the topic id)\n",
        "topics_df.insert(0, 'topic_id', topics_df.index)\n",
        "\n",
        "# add count frequency \n",
        "topic_ct = mpeauo_topic_info[['Topic', 'Count']]\n",
        "topics_df = topics_df.merge(topic_ct, how='left', left_on='topic_id', right_on='Topic')\n",
        "topics_df.drop('Topic', axis=1, inplace=True)\n",
        "\n",
        "# save\n",
        "topics_df.to_csv(output_folder + 'mpeauo_topics_clean_bbu_rramicus.csv', index=False)\n",
        "\n",
        "# classification by paragraph\n",
        "topic_id = mpeauo_topic_info[['Topic', 'Name']]\n",
        "output_df = mpeauo_df.copy()\n",
        "output_df['topic_id'] = mpeauo_topics\n",
        "output_df = output_df.merge(topic_id, how='left', left_on='topic_id', right_on='Topic')\n",
        "output_df.drop('Topic',axis=1,inplace=True)\n",
        "output_df.rename({'Name' : 'topic_name'},axis=1, inplace=True)\n",
        "output_df.to_csv(output_folder + 'mpeauo_topic_clean_classification_bbu_rramicus.csv', index=False)"
      ],
      "metadata": {
        "id": "0ojwEEnjiiev"
      },
      "execution_count": null,
      "outputs": []
    },
    {
      "cell_type": "markdown",
      "source": [
        "Next, cluster the topics using hdbscan "
      ],
      "metadata": {
        "id": "1PM4cGX5iiev"
      }
    },
    {
      "cell_type": "code",
      "source": [
        "mpeauo_embed = get_similar_topics(mpeauo_tm)"
      ],
      "metadata": {
        "id": "jusMpjLYiiev"
      },
      "execution_count": null,
      "outputs": []
    },
    {
      "cell_type": "code",
      "source": [
        "mpeauo_topic_df = pd.read_csv(output_folder + 'mpeauo_topics_clean_bbu_rramicus.csv')\n",
        "mpeauo_embed = mpeauo_embed.sort_values('Label')\n",
        "mpeauo_embed.rename({'Topic':'topic_id', 'Label':'label'}, axis=1, inplace=True)\n",
        "mpeauo_embed = mpeauo_embed.merge(mpeauo_topic_df, how='left', on = 'topic_id')\n",
        "mpeauo_embed.drop(['Words', 'Size'], axis=1, inplace=True)\n",
        "mpeauo_embed = mpeauo_embed[['topic_id', 'label', 'topic', 'Count', 'x', 'y']]\n",
        "mpeauo_embed.to_csv(output_folder + 'mpeauo_topics_clean_labels_bbu_rramicus.csv')"
      ],
      "metadata": {
        "id": "7fVVNqr6iiev"
      },
      "execution_count": null,
      "outputs": []
    },
    {
      "cell_type": "markdown",
      "source": [
        "Save model"
      ],
      "metadata": {
        "id": "4wMLXy06iiev"
      }
    },
    {
      "cell_type": "code",
      "source": [
        "mpeauo_tm.save(model_folder + 'mpeauo_bbu_rramicus')"
      ],
      "metadata": {
        "id": "d36tlEdyiiev"
      },
      "execution_count": null,
      "outputs": []
    },
    {
      "cell_type": "markdown",
      "source": [
        "## Mpeauf"
      ],
      "metadata": {
        "id": "28VnQQZFiiew"
      }
    },
    {
      "cell_type": "code",
      "source": [
        "mpeauf_df = df[(df['mpeauf'] == 1)]\n",
        "mpeauf_df = mpeauf_df[['case', 'id', 'brief', 'mpeauf', 'text']]\n",
        "print(\"number of briefs:\", mpeauf_df['id'].nunique())\n",
        "print(\"number of paragraphs:\", len(mpeauf_df))"
      ],
      "metadata": {
        "colab": {
          "base_uri": "https://localhost:8080/"
        },
        "outputId": "9ac67a66-0db8-4be7-fe1b-3403644fee78",
        "id": "E4eLEBVYiiew"
      },
      "execution_count": null,
      "outputs": [
        {
          "output_type": "stream",
          "name": "stdout",
          "text": [
            "number of briefs: 53\n",
            "number of paragraphs: 457\n"
          ]
        }
      ]
    },
    {
      "cell_type": "markdown",
      "source": [
        "Remove noise"
      ],
      "metadata": {
        "id": "GHCiAsLbiiew"
      }
    },
    {
      "cell_type": "code",
      "source": [
        "#rmv_list = ['abortion', 'women', 'health', 'respectfully', 'conclusion', 'counsel', 'state',\n",
        "#            'abortions', 'clinic', 'clinics']\n",
        "mpeauf_df['text'] = mpeauf_df['text'].apply(lambda x: ' '.join([word for word in x.split() if word not in (rmv_list)]))"
      ],
      "metadata": {
        "id": "EFF5_Yp4iiew"
      },
      "execution_count": null,
      "outputs": []
    },
    {
      "cell_type": "markdown",
      "source": [
        "### Initial train + save"
      ],
      "metadata": {
        "id": "Z5mHlofjiiew"
      }
    },
    {
      "cell_type": "markdown",
      "source": [
        "Init existing topic model again so we don't over-write existing model."
      ],
      "metadata": {
        "id": "MRIzPTKSiiew"
      }
    },
    {
      "cell_type": "code",
      "source": [
        "# init embeddings and model\n",
        "bbu_ft_embed = TransformerDocumentEmbeddings(model_checkpoint)\n",
        "mpeauf_tm = BERTopic(embedding_model=bbu_ft_embed, min_topic_size=3,\n",
        "                     language = 'english', calculate_probabilities=True, verbose=True)"
      ],
      "metadata": {
        "colab": {
          "base_uri": "https://localhost:8080/"
        },
        "outputId": "c1ce58e7-03c4-4949-ed3b-304221bf2fb2",
        "id": "_HodbIE_iiew"
      },
      "execution_count": null,
      "outputs": [
        {
          "output_type": "stream",
          "name": "stderr",
          "text": [
            "Some weights of BertModel were not initialized from the model checkpoint at repro-rights-amicus-briefs/bert-base-uncased-finetuned-RRamicus and are newly initialized: ['bert.pooler.dense.weight', 'bert.pooler.dense.bias']\n",
            "You should probably TRAIN this model on a down-stream task to be able to use it for predictions and inference.\n"
          ]
        }
      ]
    },
    {
      "cell_type": "markdown",
      "source": [
        "Fit the model on only the docs of interest (5 min)"
      ],
      "metadata": {
        "id": "O1As0MIliiew"
      }
    },
    {
      "cell_type": "code",
      "source": [
        "# fit model\n",
        "mpeauf_topics, mpeauf_probs = mpeauf_tm.fit_transform(mpeauf_df['text'])"
      ],
      "metadata": {
        "colab": {
          "base_uri": "https://localhost:8080/"
        },
        "outputId": "4f4eb821-5468-4213-d869-09551f5c8828",
        "id": "0hWXNtUaiiex"
      },
      "execution_count": null,
      "outputs": [
        {
          "output_type": "stream",
          "name": "stderr",
          "text": [
            "457it [00:21, 21.64it/s]\n",
            "2022-04-11 17:42:53,128 - BERTopic - Transformed documents to Embeddings\n",
            "2022-04-11 17:42:58,013 - BERTopic - Reduced dimensionality with UMAP\n",
            "2022-04-11 17:42:58,104 - BERTopic - Clustered UMAP embeddings with HDBSCAN\n"
          ]
        }
      ]
    },
    {
      "cell_type": "code",
      "source": [
        "mpeauf_topic_info = mpeauf_tm.get_topic_info()\n",
        "mpeauf_topic_info.head(5)"
      ],
      "metadata": {
        "colab": {
          "base_uri": "https://localhost:8080/",
          "height": 206
        },
        "outputId": "6506f3ed-a5f1-4df0-d5ee-80a0c06fa3c8",
        "id": "Y2Pav__biiex"
      },
      "execution_count": null,
      "outputs": [
        {
          "output_type": "execute_result",
          "data": {
            "text/plain": [
              "   Topic  Count                                  Name\n",
              "0     -1    109      -1_abortion_health_medical_women\n",
              "1      0     35      0_texas_care_privileges_abortion\n",
              "2      1     28        1_act_acts_enterprise_commerce\n",
              "3      2     20  2_abortions_abortion_women_trimester\n",
              "4      3     18    3_section_physician_abortion_minor"
            ],
            "text/html": [
              "\n",
              "  <div id=\"df-20081469-2405-4315-a55e-cd652de5e4ea\">\n",
              "    <div class=\"colab-df-container\">\n",
              "      <div>\n",
              "<style scoped>\n",
              "    .dataframe tbody tr th:only-of-type {\n",
              "        vertical-align: middle;\n",
              "    }\n",
              "\n",
              "    .dataframe tbody tr th {\n",
              "        vertical-align: top;\n",
              "    }\n",
              "\n",
              "    .dataframe thead th {\n",
              "        text-align: right;\n",
              "    }\n",
              "</style>\n",
              "<table border=\"1\" class=\"dataframe\">\n",
              "  <thead>\n",
              "    <tr style=\"text-align: right;\">\n",
              "      <th></th>\n",
              "      <th>Topic</th>\n",
              "      <th>Count</th>\n",
              "      <th>Name</th>\n",
              "    </tr>\n",
              "  </thead>\n",
              "  <tbody>\n",
              "    <tr>\n",
              "      <th>0</th>\n",
              "      <td>-1</td>\n",
              "      <td>109</td>\n",
              "      <td>-1_abortion_health_medical_women</td>\n",
              "    </tr>\n",
              "    <tr>\n",
              "      <th>1</th>\n",
              "      <td>0</td>\n",
              "      <td>35</td>\n",
              "      <td>0_texas_care_privileges_abortion</td>\n",
              "    </tr>\n",
              "    <tr>\n",
              "      <th>2</th>\n",
              "      <td>1</td>\n",
              "      <td>28</td>\n",
              "      <td>1_act_acts_enterprise_commerce</td>\n",
              "    </tr>\n",
              "    <tr>\n",
              "      <th>3</th>\n",
              "      <td>2</td>\n",
              "      <td>20</td>\n",
              "      <td>2_abortions_abortion_women_trimester</td>\n",
              "    </tr>\n",
              "    <tr>\n",
              "      <th>4</th>\n",
              "      <td>3</td>\n",
              "      <td>18</td>\n",
              "      <td>3_section_physician_abortion_minor</td>\n",
              "    </tr>\n",
              "  </tbody>\n",
              "</table>\n",
              "</div>\n",
              "      <button class=\"colab-df-convert\" onclick=\"convertToInteractive('df-20081469-2405-4315-a55e-cd652de5e4ea')\"\n",
              "              title=\"Convert this dataframe to an interactive table.\"\n",
              "              style=\"display:none;\">\n",
              "        \n",
              "  <svg xmlns=\"http://www.w3.org/2000/svg\" height=\"24px\"viewBox=\"0 0 24 24\"\n",
              "       width=\"24px\">\n",
              "    <path d=\"M0 0h24v24H0V0z\" fill=\"none\"/>\n",
              "    <path d=\"M18.56 5.44l.94 2.06.94-2.06 2.06-.94-2.06-.94-.94-2.06-.94 2.06-2.06.94zm-11 1L8.5 8.5l.94-2.06 2.06-.94-2.06-.94L8.5 2.5l-.94 2.06-2.06.94zm10 10l.94 2.06.94-2.06 2.06-.94-2.06-.94-.94-2.06-.94 2.06-2.06.94z\"/><path d=\"M17.41 7.96l-1.37-1.37c-.4-.4-.92-.59-1.43-.59-.52 0-1.04.2-1.43.59L10.3 9.45l-7.72 7.72c-.78.78-.78 2.05 0 2.83L4 21.41c.39.39.9.59 1.41.59.51 0 1.02-.2 1.41-.59l7.78-7.78 2.81-2.81c.8-.78.8-2.07 0-2.86zM5.41 20L4 18.59l7.72-7.72 1.47 1.35L5.41 20z\"/>\n",
              "  </svg>\n",
              "      </button>\n",
              "      \n",
              "  <style>\n",
              "    .colab-df-container {\n",
              "      display:flex;\n",
              "      flex-wrap:wrap;\n",
              "      gap: 12px;\n",
              "    }\n",
              "\n",
              "    .colab-df-convert {\n",
              "      background-color: #E8F0FE;\n",
              "      border: none;\n",
              "      border-radius: 50%;\n",
              "      cursor: pointer;\n",
              "      display: none;\n",
              "      fill: #1967D2;\n",
              "      height: 32px;\n",
              "      padding: 0 0 0 0;\n",
              "      width: 32px;\n",
              "    }\n",
              "\n",
              "    .colab-df-convert:hover {\n",
              "      background-color: #E2EBFA;\n",
              "      box-shadow: 0px 1px 2px rgba(60, 64, 67, 0.3), 0px 1px 3px 1px rgba(60, 64, 67, 0.15);\n",
              "      fill: #174EA6;\n",
              "    }\n",
              "\n",
              "    [theme=dark] .colab-df-convert {\n",
              "      background-color: #3B4455;\n",
              "      fill: #D2E3FC;\n",
              "    }\n",
              "\n",
              "    [theme=dark] .colab-df-convert:hover {\n",
              "      background-color: #434B5C;\n",
              "      box-shadow: 0px 1px 3px 1px rgba(0, 0, 0, 0.15);\n",
              "      filter: drop-shadow(0px 1px 2px rgba(0, 0, 0, 0.3));\n",
              "      fill: #FFFFFF;\n",
              "    }\n",
              "  </style>\n",
              "\n",
              "      <script>\n",
              "        const buttonEl =\n",
              "          document.querySelector('#df-20081469-2405-4315-a55e-cd652de5e4ea button.colab-df-convert');\n",
              "        buttonEl.style.display =\n",
              "          google.colab.kernel.accessAllowed ? 'block' : 'none';\n",
              "\n",
              "        async function convertToInteractive(key) {\n",
              "          const element = document.querySelector('#df-20081469-2405-4315-a55e-cd652de5e4ea');\n",
              "          const dataTable =\n",
              "            await google.colab.kernel.invokeFunction('convertToInteractive',\n",
              "                                                     [key], {});\n",
              "          if (!dataTable) return;\n",
              "\n",
              "          const docLinkHtml = 'Like what you see? Visit the ' +\n",
              "            '<a target=\"_blank\" href=https://colab.research.google.com/notebooks/data_table.ipynb>data table notebook</a>'\n",
              "            + ' to learn more about interactive tables.';\n",
              "          element.innerHTML = '';\n",
              "          dataTable['output_type'] = 'display_data';\n",
              "          await google.colab.output.renderOutput(dataTable, element);\n",
              "          const docLink = document.createElement('div');\n",
              "          docLink.innerHTML = docLinkHtml;\n",
              "          element.appendChild(docLink);\n",
              "        }\n",
              "      </script>\n",
              "    </div>\n",
              "  </div>\n",
              "  "
            ]
          },
          "metadata": {},
          "execution_count": 68
        }
      ]
    },
    {
      "cell_type": "code",
      "source": [
        "len(mpeauf_topic_info)"
      ],
      "metadata": {
        "colab": {
          "base_uri": "https://localhost:8080/"
        },
        "outputId": "0b3edb1b-b14a-41eb-ed46-4c9f87e199b5",
        "id": "ZkJ5q32piiex"
      },
      "execution_count": null,
      "outputs": [
        {
          "output_type": "execute_result",
          "data": {
            "text/plain": [
              "37"
            ]
          },
          "metadata": {},
          "execution_count": 83
        }
      ]
    },
    {
      "cell_type": "markdown",
      "source": [
        "Save"
      ],
      "metadata": {
        "id": "_RY8fSGXiiex"
      }
    },
    {
      "cell_type": "code",
      "source": [
        "# full list of topics\n",
        "mpeauf_full_topics = mpeauf_tm.get_topics()\n",
        "\n",
        "#convert full topic dict to df and transpose\n",
        "topics_df = pd.DataFrame(mpeauf_full_topics,\n",
        "                         index=['word1', 'word2', 'word3', 'word4', 'word5', 'word6', 'word7', 'word8', 'word9', 'word10'])\\\n",
        "                         .transpose()\n",
        "\n",
        "# get just the word\n",
        "topics_df = topics_df.applymap(lambda x: x[0])\n",
        "\n",
        "# add col w/concatenated list\n",
        "#topics_df['all_words'] = topics_df.apply(', '.join, axis=1) #insert at end\n",
        "topics_df.insert(0, 'topic', topics_df.apply(', '.join, axis=1))\n",
        "\n",
        "# remove indiv. word columns (word1,...,word10)\n",
        "topics_df.drop(list(topics_df.filter(regex = 'word')), axis = 1, inplace = True)\n",
        "\n",
        "# convert index to a column (this is the topic id)\n",
        "topics_df.insert(0, 'topic_id', topics_df.index)\n",
        "\n",
        "# add count frequency \n",
        "topic_ct = medauo_topic_info[['Topic', 'Count']]\n",
        "topics_df = topics_df.merge(topic_ct, how='left', left_on='topic_id', right_on='Topic')\n",
        "topics_df.drop('Topic', axis=1, inplace=True)\n",
        "\n",
        "# save\n",
        "topics_df.to_csv(output_folder + 'mpeauf_topics_clean_bbu_rramicus.csv', index=False)\n",
        "\n",
        "# classification by paragraph\n",
        "topic_id = medauo_topic_info[['Topic', 'Name']]\n",
        "output_df = medauo_df.copy()\n",
        "output_df['topic_id'] = medauo_topics\n",
        "output_df = output_df.merge(topic_id, how='left', left_on='topic_id', right_on='Topic')\n",
        "output_df.drop('Topic',axis=1,inplace=True)\n",
        "output_df.rename({'Name' : 'topic_name'},axis=1, inplace=True)\n",
        "output_df.to_csv(output_folder + 'mpeauf_topic_clean_classification_bbu_rramicus.csv', index=False)"
      ],
      "metadata": {
        "id": "LRwzNctBiiex"
      },
      "execution_count": null,
      "outputs": []
    },
    {
      "cell_type": "markdown",
      "source": [
        "Next, cluster the topics using hdbscan "
      ],
      "metadata": {
        "id": "-4jgy197iiex"
      }
    },
    {
      "cell_type": "code",
      "source": [
        "mpeauf_embed = get_similar_topics(mpeauf_tm)"
      ],
      "metadata": {
        "id": "qlrQVyYiiiey"
      },
      "execution_count": null,
      "outputs": []
    },
    {
      "cell_type": "code",
      "source": [
        "mpeauf_topic_df = pd.read_csv(output_folder + 'mpeauf_topics_clean_bbu_rramicus.csv')\n",
        "mpeauf_embed = mpeauf_embed.sort_values('Label')\n",
        "mpeauf_embed.rename({'Topic':'topic_id', 'Label':'label'}, axis=1, inplace=True)\n",
        "mpeauf_embed = mpeauf_embed.merge(mpeauf_topic_df, how='left', on = 'topic_id')\n",
        "mpeauf_embed.drop(['Words', 'Size'], axis=1, inplace=True)\n",
        "mpeauf_embed = mpeauf_embed[['topic_id', 'label', 'topic', 'Count', 'x', 'y']]\n",
        "mpeauf_embed.to_csv(output_folder + 'mpeauf_topics_clean_labels_bbu_rramicus.csv')"
      ],
      "metadata": {
        "id": "G0rgXdnBiiey"
      },
      "execution_count": null,
      "outputs": []
    },
    {
      "cell_type": "markdown",
      "source": [
        "Save model"
      ],
      "metadata": {
        "id": "iUOwB9mxiiey"
      }
    },
    {
      "cell_type": "code",
      "source": [
        "mpeauf_tm.save(model_folder + 'relauf_bbu_rramicus')"
      ],
      "metadata": {
        "id": "-aIfKdzSiiey"
      },
      "execution_count": null,
      "outputs": []
    },
    {
      "cell_type": "markdown",
      "source": [
        "# Relauo and Relauf"
      ],
      "metadata": {
        "id": "A__O2pi3mVDo"
      }
    },
    {
      "cell_type": "markdown",
      "source": [
        "## Relauo"
      ],
      "metadata": {
        "id": "lrT5AodWmVDw"
      }
    },
    {
      "cell_type": "code",
      "source": [
        "relauo_df = df[(df['relauo'] == 1)] #| (df['medauf'] == 1)]\n",
        "relauo_df = relauo_df[['case', 'id', 'brief', 'relauo', 'text']]\n",
        "print(\"number of briefs:\", relauo_df['id'].nunique())\n",
        "print(\"number of paragraphs:\", len(relauo_df))"
      ],
      "metadata": {
        "colab": {
          "base_uri": "https://localhost:8080/"
        },
        "outputId": "ade6a81d-cc61-4673-e158-96be64321941",
        "id": "urY_nLiSmVDx"
      },
      "execution_count": null,
      "outputs": [
        {
          "output_type": "stream",
          "name": "stdout",
          "text": [
            "number of briefs: 100\n",
            "number of paragraphs: 768\n"
          ]
        }
      ]
    },
    {
      "cell_type": "markdown",
      "source": [
        "Remove noise"
      ],
      "metadata": {
        "id": "5eCMlvbumVDx"
      }
    },
    {
      "cell_type": "code",
      "source": [
        "#rmv_list = ['abortion', 'women', 'health', 'respectfully', 'conclusion', 'counsel', 'state',\n",
        "#            'abortions', 'clinic', 'clinics']\n",
        "relauo_df['text'] = relauo_df['text'].apply(lambda x: ' '.join([word for word in x.split() if word not in (rmv_list)]))"
      ],
      "metadata": {
        "id": "thJ67S5NmVDx"
      },
      "execution_count": null,
      "outputs": []
    },
    {
      "cell_type": "markdown",
      "source": [
        "### Initial train + save"
      ],
      "metadata": {
        "id": "CtxhXK1fmVDy"
      }
    },
    {
      "cell_type": "markdown",
      "source": [
        "Init existing topic model again so we don't over-write existing model."
      ],
      "metadata": {
        "id": "stByG9HjmVDy"
      }
    },
    {
      "cell_type": "code",
      "source": [
        "# init embeddings and model\n",
        "bbu_ft_embed = TransformerDocumentEmbeddings(model_checkpoint)\n",
        "relauo_tm = BERTopic(embedding_model=bbu_ft_embed, min_topic_size=3,\n",
        "                     language = 'english', calculate_probabilities=True, verbose=True)\n",
        "#relauo_tm = BERTopic(language='english', calculate_probabilities=True)"
      ],
      "metadata": {
        "colab": {
          "base_uri": "https://localhost:8080/"
        },
        "outputId": "3180c07b-89f8-440e-f9a7-c66e527d9f4b",
        "id": "XDpqEN7ymVDy"
      },
      "execution_count": null,
      "outputs": [
        {
          "output_type": "stream",
          "name": "stderr",
          "text": [
            "Some weights of BertModel were not initialized from the model checkpoint at repro-rights-amicus-briefs/bert-base-uncased-finetuned-RRamicus and are newly initialized: ['bert.pooler.dense.weight', 'bert.pooler.dense.bias']\n",
            "You should probably TRAIN this model on a down-stream task to be able to use it for predictions and inference.\n"
          ]
        }
      ]
    },
    {
      "cell_type": "markdown",
      "source": [
        "Fit the model on only the docs of interest (5 min)"
      ],
      "metadata": {
        "id": "1YB_XcLhmVDy"
      }
    },
    {
      "cell_type": "code",
      "source": [
        "# fit model\n",
        "relauo_topics, relauo_probs = relauo_tm.fit_transform(relauo_df['text'])"
      ],
      "metadata": {
        "colab": {
          "base_uri": "https://localhost:8080/"
        },
        "outputId": "337337c1-0711-4ecc-8160-865d344ce003",
        "id": "Mgam9obsmVDy"
      },
      "execution_count": null,
      "outputs": [
        {
          "output_type": "stream",
          "name": "stderr",
          "text": [
            "768it [00:35, 21.53it/s]\n",
            "2022-04-11 18:09:44,530 - BERTopic - Transformed documents to Embeddings\n",
            "2022-04-11 18:09:50,148 - BERTopic - Reduced dimensionality with UMAP\n",
            "2022-04-11 18:09:50,383 - BERTopic - Clustered UMAP embeddings with HDBSCAN\n"
          ]
        }
      ]
    },
    {
      "cell_type": "code",
      "source": [
        "relauo_topic_info = relauo_tm.get_topic_info()\n",
        "relauo_topic_info.head(5)"
      ],
      "metadata": {
        "colab": {
          "base_uri": "https://localhost:8080/",
          "height": 206
        },
        "outputId": "1a8db864-3ff4-4fe6-e711-b83a0239db58",
        "id": "YA9LO-TMmVDy"
      },
      "execution_count": null,
      "outputs": [
        {
          "output_type": "execute_result",
          "data": {
            "text/plain": [
              "   Topic  Count                                  Name\n",
              "0     -1    204          -1_abortion_state_right_life\n",
              "1      0     55            0_abortion_roe_right_state\n",
              "2      1     41   1_abortion_health_procedure_statute\n",
              "3      2     33  2_speech_public_injunction_amendment\n",
              "4      3     18     3_person_human_fourteenth_persons"
            ],
            "text/html": [
              "\n",
              "  <div id=\"df-6e71d0c1-ec79-48b3-a2f9-1b71f0e40df6\">\n",
              "    <div class=\"colab-df-container\">\n",
              "      <div>\n",
              "<style scoped>\n",
              "    .dataframe tbody tr th:only-of-type {\n",
              "        vertical-align: middle;\n",
              "    }\n",
              "\n",
              "    .dataframe tbody tr th {\n",
              "        vertical-align: top;\n",
              "    }\n",
              "\n",
              "    .dataframe thead th {\n",
              "        text-align: right;\n",
              "    }\n",
              "</style>\n",
              "<table border=\"1\" class=\"dataframe\">\n",
              "  <thead>\n",
              "    <tr style=\"text-align: right;\">\n",
              "      <th></th>\n",
              "      <th>Topic</th>\n",
              "      <th>Count</th>\n",
              "      <th>Name</th>\n",
              "    </tr>\n",
              "  </thead>\n",
              "  <tbody>\n",
              "    <tr>\n",
              "      <th>0</th>\n",
              "      <td>-1</td>\n",
              "      <td>204</td>\n",
              "      <td>-1_abortion_state_right_life</td>\n",
              "    </tr>\n",
              "    <tr>\n",
              "      <th>1</th>\n",
              "      <td>0</td>\n",
              "      <td>55</td>\n",
              "      <td>0_abortion_roe_right_state</td>\n",
              "    </tr>\n",
              "    <tr>\n",
              "      <th>2</th>\n",
              "      <td>1</td>\n",
              "      <td>41</td>\n",
              "      <td>1_abortion_health_procedure_statute</td>\n",
              "    </tr>\n",
              "    <tr>\n",
              "      <th>3</th>\n",
              "      <td>2</td>\n",
              "      <td>33</td>\n",
              "      <td>2_speech_public_injunction_amendment</td>\n",
              "    </tr>\n",
              "    <tr>\n",
              "      <th>4</th>\n",
              "      <td>3</td>\n",
              "      <td>18</td>\n",
              "      <td>3_person_human_fourteenth_persons</td>\n",
              "    </tr>\n",
              "  </tbody>\n",
              "</table>\n",
              "</div>\n",
              "      <button class=\"colab-df-convert\" onclick=\"convertToInteractive('df-6e71d0c1-ec79-48b3-a2f9-1b71f0e40df6')\"\n",
              "              title=\"Convert this dataframe to an interactive table.\"\n",
              "              style=\"display:none;\">\n",
              "        \n",
              "  <svg xmlns=\"http://www.w3.org/2000/svg\" height=\"24px\"viewBox=\"0 0 24 24\"\n",
              "       width=\"24px\">\n",
              "    <path d=\"M0 0h24v24H0V0z\" fill=\"none\"/>\n",
              "    <path d=\"M18.56 5.44l.94 2.06.94-2.06 2.06-.94-2.06-.94-.94-2.06-.94 2.06-2.06.94zm-11 1L8.5 8.5l.94-2.06 2.06-.94-2.06-.94L8.5 2.5l-.94 2.06-2.06.94zm10 10l.94 2.06.94-2.06 2.06-.94-2.06-.94-.94-2.06-.94 2.06-2.06.94z\"/><path d=\"M17.41 7.96l-1.37-1.37c-.4-.4-.92-.59-1.43-.59-.52 0-1.04.2-1.43.59L10.3 9.45l-7.72 7.72c-.78.78-.78 2.05 0 2.83L4 21.41c.39.39.9.59 1.41.59.51 0 1.02-.2 1.41-.59l7.78-7.78 2.81-2.81c.8-.78.8-2.07 0-2.86zM5.41 20L4 18.59l7.72-7.72 1.47 1.35L5.41 20z\"/>\n",
              "  </svg>\n",
              "      </button>\n",
              "      \n",
              "  <style>\n",
              "    .colab-df-container {\n",
              "      display:flex;\n",
              "      flex-wrap:wrap;\n",
              "      gap: 12px;\n",
              "    }\n",
              "\n",
              "    .colab-df-convert {\n",
              "      background-color: #E8F0FE;\n",
              "      border: none;\n",
              "      border-radius: 50%;\n",
              "      cursor: pointer;\n",
              "      display: none;\n",
              "      fill: #1967D2;\n",
              "      height: 32px;\n",
              "      padding: 0 0 0 0;\n",
              "      width: 32px;\n",
              "    }\n",
              "\n",
              "    .colab-df-convert:hover {\n",
              "      background-color: #E2EBFA;\n",
              "      box-shadow: 0px 1px 2px rgba(60, 64, 67, 0.3), 0px 1px 3px 1px rgba(60, 64, 67, 0.15);\n",
              "      fill: #174EA6;\n",
              "    }\n",
              "\n",
              "    [theme=dark] .colab-df-convert {\n",
              "      background-color: #3B4455;\n",
              "      fill: #D2E3FC;\n",
              "    }\n",
              "\n",
              "    [theme=dark] .colab-df-convert:hover {\n",
              "      background-color: #434B5C;\n",
              "      box-shadow: 0px 1px 3px 1px rgba(0, 0, 0, 0.15);\n",
              "      filter: drop-shadow(0px 1px 2px rgba(0, 0, 0, 0.3));\n",
              "      fill: #FFFFFF;\n",
              "    }\n",
              "  </style>\n",
              "\n",
              "      <script>\n",
              "        const buttonEl =\n",
              "          document.querySelector('#df-6e71d0c1-ec79-48b3-a2f9-1b71f0e40df6 button.colab-df-convert');\n",
              "        buttonEl.style.display =\n",
              "          google.colab.kernel.accessAllowed ? 'block' : 'none';\n",
              "\n",
              "        async function convertToInteractive(key) {\n",
              "          const element = document.querySelector('#df-6e71d0c1-ec79-48b3-a2f9-1b71f0e40df6');\n",
              "          const dataTable =\n",
              "            await google.colab.kernel.invokeFunction('convertToInteractive',\n",
              "                                                     [key], {});\n",
              "          if (!dataTable) return;\n",
              "\n",
              "          const docLinkHtml = 'Like what you see? Visit the ' +\n",
              "            '<a target=\"_blank\" href=https://colab.research.google.com/notebooks/data_table.ipynb>data table notebook</a>'\n",
              "            + ' to learn more about interactive tables.';\n",
              "          element.innerHTML = '';\n",
              "          dataTable['output_type'] = 'display_data';\n",
              "          await google.colab.output.renderOutput(dataTable, element);\n",
              "          const docLink = document.createElement('div');\n",
              "          docLink.innerHTML = docLinkHtml;\n",
              "          element.appendChild(docLink);\n",
              "        }\n",
              "      </script>\n",
              "    </div>\n",
              "  </div>\n",
              "  "
            ]
          },
          "metadata": {},
          "execution_count": 92
        }
      ]
    },
    {
      "cell_type": "code",
      "source": [
        "len(relauo_topic_info)"
      ],
      "metadata": {
        "colab": {
          "base_uri": "https://localhost:8080/"
        },
        "outputId": "ab062c3c-2e89-4c31-b093-7bf1075f1113",
        "id": "cLvsA4DKmVDy"
      },
      "execution_count": null,
      "outputs": [
        {
          "output_type": "execute_result",
          "data": {
            "text/plain": [
              "59"
            ]
          },
          "metadata": {},
          "execution_count": 93
        }
      ]
    },
    {
      "cell_type": "markdown",
      "source": [
        "Save"
      ],
      "metadata": {
        "id": "G7AuPw7umVDz"
      }
    },
    {
      "cell_type": "code",
      "source": [
        "# full list of topics\n",
        "relauo_full_topics = relauo_tm.get_topics()\n",
        "\n",
        "#convert full topic dict to df and transpose\n",
        "topics_df = pd.DataFrame(relauo_full_topics,\n",
        "                         index=['word1', 'word2', 'word3', 'word4', 'word5', 'word6', 'word7', 'word8', 'word9', 'word10'])\\\n",
        "                         .transpose()\n",
        "\n",
        "# get just the word\n",
        "topics_df = topics_df.applymap(lambda x: x[0])\n",
        "\n",
        "# add col w/concatenated list\n",
        "#topics_df['all_words'] = topics_df.apply(', '.join, axis=1) #insert at end\n",
        "topics_df.insert(0, 'topic', topics_df.apply(', '.join, axis=1))\n",
        "\n",
        "# remove indiv. word columns (word1,...,word10)\n",
        "topics_df.drop(list(topics_df.filter(regex = 'word')), axis = 1, inplace = True)\n",
        "\n",
        "# convert index to a column (this is the topic id)\n",
        "topics_df.insert(0, 'topic_id', topics_df.index)\n",
        "\n",
        "# add count frequency \n",
        "topic_ct = relauo_topic_info[['Topic', 'Count']]\n",
        "topics_df = topics_df.merge(topic_ct, how='left', left_on='topic_id', right_on='Topic')\n",
        "topics_df.drop('Topic', axis=1, inplace=True)\n",
        "\n",
        "# save\n",
        "topics_df.to_csv(output_folder + 'relauo_topics_clean_bbu_rramicus.csv', index=False)\n",
        "\n",
        "# classification by paragraph\n",
        "topic_id = relauo_topic_info[['Topic', 'Name']]\n",
        "output_df = relauo_df.copy()\n",
        "output_df['topic_id'] = relauo_topics\n",
        "output_df = output_df.merge(topic_id, how='left', left_on='topic_id', right_on='Topic')\n",
        "output_df.drop('Topic',axis=1,inplace=True)\n",
        "output_df.rename({'Name' : 'topic_name'},axis=1, inplace=True)\n",
        "output_df.to_csv(output_folder + 'relauo_topic_clean_classification_bbu_rramicus.csv', index=False)"
      ],
      "metadata": {
        "id": "HoFoSGecmVDz"
      },
      "execution_count": null,
      "outputs": []
    },
    {
      "cell_type": "markdown",
      "source": [
        "Next, cluster the topics using hdbscan "
      ],
      "metadata": {
        "id": "kcZHybI5mVDz"
      }
    },
    {
      "cell_type": "code",
      "source": [
        "relauo_embed = get_similar_topics(relauo_tm)"
      ],
      "metadata": {
        "id": "VSlmS3YamVDz"
      },
      "execution_count": null,
      "outputs": []
    },
    {
      "cell_type": "code",
      "source": [
        "relauo_topic_df = pd.read_csv(output_folder + 'relauo_topics_clean_bbu_rramicus.csv')\n",
        "relauo_embed = relauo_embed.sort_values('Label')\n",
        "relauo_embed.rename({'Topic':'topic_id', 'Label':'label'}, axis=1, inplace=True)\n",
        "relauo_embed = relauo_embed.merge(relauo_topic_df, how='left', on = 'topic_id')\n",
        "relauo_embed.drop(['Words', 'Size'], axis=1, inplace=True)\n",
        "relauo_embed = relauo_embed[['topic_id', 'label', 'topic', 'Count', 'x', 'y']]\n",
        "relauo_embed.to_csv(output_folder + 'relauo_topics_clean_labels_bbu_rramicus.csv')"
      ],
      "metadata": {
        "id": "_b9fn6XSmVDz"
      },
      "execution_count": null,
      "outputs": []
    },
    {
      "cell_type": "markdown",
      "source": [
        "Save model"
      ],
      "metadata": {
        "id": "vanDfMYhmVDz"
      }
    },
    {
      "cell_type": "code",
      "source": [
        "relauo_tm.save(model_folder + 'relauo_bbu_rramicus')"
      ],
      "metadata": {
        "id": "YfaIGCXamVDz"
      },
      "execution_count": null,
      "outputs": []
    },
    {
      "cell_type": "markdown",
      "source": [
        "## Relauf"
      ],
      "metadata": {
        "id": "hIdZYDeomVDz"
      }
    },
    {
      "cell_type": "code",
      "source": [
        "relauf_df = df[(df['relauf'] == 1)]\n",
        "relauf_df = relauf_df[['case', 'id', 'brief', 'relauf', 'text']]\n",
        "print(\"number of briefs:\", relauf_df['id'].nunique())\n",
        "print(\"number of paragraphs:\", len(relauf_df))"
      ],
      "metadata": {
        "colab": {
          "base_uri": "https://localhost:8080/"
        },
        "outputId": "edf33ac5-0006-4bdf-c376-ef2c24cdddac",
        "id": "V-ePfRQAmVD0"
      },
      "execution_count": null,
      "outputs": [
        {
          "output_type": "stream",
          "name": "stdout",
          "text": [
            "number of briefs: 22\n",
            "number of paragraphs: 170\n"
          ]
        }
      ]
    },
    {
      "cell_type": "markdown",
      "source": [
        "Remove noise"
      ],
      "metadata": {
        "id": "2a_65YpZmVD0"
      }
    },
    {
      "cell_type": "code",
      "source": [
        "#rmv_list = ['abortion', 'women', 'health', 'respectfully', 'conclusion', 'counsel', 'state',\n",
        "#            'abortions', 'clinic', 'clinics']\n",
        "relauf_df['text'] = relauf_df['text'].apply(lambda x: ' '.join([word for word in x.split() if word not in (rmv_list)]))"
      ],
      "metadata": {
        "id": "TvA3-0NPmVD0"
      },
      "execution_count": null,
      "outputs": []
    },
    {
      "cell_type": "markdown",
      "source": [
        "### Initial train + save"
      ],
      "metadata": {
        "id": "UKl02syrmVD0"
      }
    },
    {
      "cell_type": "markdown",
      "source": [
        "Init existing topic model again so we don't over-write existing model."
      ],
      "metadata": {
        "id": "PthCKvUZmVD0"
      }
    },
    {
      "cell_type": "code",
      "source": [
        "# init embeddings and model\n",
        "bbu_ft_embed = TransformerDocumentEmbeddings(model_checkpoint)\n",
        "relauf_tm = BERTopic(embedding_model=bbu_ft_embed, min_topic_size=3,\n",
        "                     language = 'english', calculate_probabilities=True, verbose=True)"
      ],
      "metadata": {
        "colab": {
          "base_uri": "https://localhost:8080/"
        },
        "outputId": "4902c7b6-e926-4fc6-eaf8-38bdec8b6fbc",
        "id": "zBrNMnyzmVD0"
      },
      "execution_count": null,
      "outputs": [
        {
          "output_type": "stream",
          "name": "stderr",
          "text": [
            "Some weights of BertModel were not initialized from the model checkpoint at repro-rights-amicus-briefs/bert-base-uncased-finetuned-RRamicus and are newly initialized: ['bert.pooler.dense.weight', 'bert.pooler.dense.bias']\n",
            "You should probably TRAIN this model on a down-stream task to be able to use it for predictions and inference.\n"
          ]
        }
      ]
    },
    {
      "cell_type": "markdown",
      "source": [
        "Fit the model on only the docs of interest (5 min)"
      ],
      "metadata": {
        "id": "5HbjVK7KmVD0"
      }
    },
    {
      "cell_type": "code",
      "source": [
        "# fit model\n",
        "relauf_topics, relauf_probs = relauf_tm.fit_transform(relauf_df['text'])"
      ],
      "metadata": {
        "colab": {
          "base_uri": "https://localhost:8080/"
        },
        "outputId": "f31152bc-0277-4822-f13a-7da9e270f46c",
        "id": "LyPt9-S1mVD1"
      },
      "execution_count": null,
      "outputs": [
        {
          "output_type": "stream",
          "name": "stderr",
          "text": [
            "170it [00:09, 18.67it/s]\n",
            "2022-04-11 18:10:18,330 - BERTopic - Transformed documents to Embeddings\n",
            "2022-04-11 18:10:22,358 - BERTopic - Reduced dimensionality with UMAP\n",
            "2022-04-11 18:10:22,396 - BERTopic - Clustered UMAP embeddings with HDBSCAN\n"
          ]
        }
      ]
    },
    {
      "cell_type": "code",
      "source": [
        "relauf_topic_info = relauf_tm.get_topic_info()\n",
        "relauf_topic_info.head(5)"
      ],
      "metadata": {
        "colab": {
          "base_uri": "https://localhost:8080/",
          "height": 206
        },
        "outputId": "4fdd4043-baa5-47d7-d3f3-1a781031a98d",
        "id": "r6EyHIeYmVD1"
      },
      "execution_count": null,
      "outputs": [
        {
          "output_type": "execute_result",
          "data": {
            "text/plain": [
              "   Topic  Count                               Name\n",
              "0      0     30  0_abortion_religious_church_moral\n",
              "1     -1     29   -1_abortion_law_health_religious\n",
              "2      1     16       1_rights_right_free_exercise\n",
              "3      2     10    2_religious_right_stat_abortion\n",
              "4      3     10    3_right_state_religious_justice"
            ],
            "text/html": [
              "\n",
              "  <div id=\"df-132e7c9d-39bf-425d-8439-baf24d6bbf97\">\n",
              "    <div class=\"colab-df-container\">\n",
              "      <div>\n",
              "<style scoped>\n",
              "    .dataframe tbody tr th:only-of-type {\n",
              "        vertical-align: middle;\n",
              "    }\n",
              "\n",
              "    .dataframe tbody tr th {\n",
              "        vertical-align: top;\n",
              "    }\n",
              "\n",
              "    .dataframe thead th {\n",
              "        text-align: right;\n",
              "    }\n",
              "</style>\n",
              "<table border=\"1\" class=\"dataframe\">\n",
              "  <thead>\n",
              "    <tr style=\"text-align: right;\">\n",
              "      <th></th>\n",
              "      <th>Topic</th>\n",
              "      <th>Count</th>\n",
              "      <th>Name</th>\n",
              "    </tr>\n",
              "  </thead>\n",
              "  <tbody>\n",
              "    <tr>\n",
              "      <th>0</th>\n",
              "      <td>0</td>\n",
              "      <td>30</td>\n",
              "      <td>0_abortion_religious_church_moral</td>\n",
              "    </tr>\n",
              "    <tr>\n",
              "      <th>1</th>\n",
              "      <td>-1</td>\n",
              "      <td>29</td>\n",
              "      <td>-1_abortion_law_health_religious</td>\n",
              "    </tr>\n",
              "    <tr>\n",
              "      <th>2</th>\n",
              "      <td>1</td>\n",
              "      <td>16</td>\n",
              "      <td>1_rights_right_free_exercise</td>\n",
              "    </tr>\n",
              "    <tr>\n",
              "      <th>3</th>\n",
              "      <td>2</td>\n",
              "      <td>10</td>\n",
              "      <td>2_religious_right_stat_abortion</td>\n",
              "    </tr>\n",
              "    <tr>\n",
              "      <th>4</th>\n",
              "      <td>3</td>\n",
              "      <td>10</td>\n",
              "      <td>3_right_state_religious_justice</td>\n",
              "    </tr>\n",
              "  </tbody>\n",
              "</table>\n",
              "</div>\n",
              "      <button class=\"colab-df-convert\" onclick=\"convertToInteractive('df-132e7c9d-39bf-425d-8439-baf24d6bbf97')\"\n",
              "              title=\"Convert this dataframe to an interactive table.\"\n",
              "              style=\"display:none;\">\n",
              "        \n",
              "  <svg xmlns=\"http://www.w3.org/2000/svg\" height=\"24px\"viewBox=\"0 0 24 24\"\n",
              "       width=\"24px\">\n",
              "    <path d=\"M0 0h24v24H0V0z\" fill=\"none\"/>\n",
              "    <path d=\"M18.56 5.44l.94 2.06.94-2.06 2.06-.94-2.06-.94-.94-2.06-.94 2.06-2.06.94zm-11 1L8.5 8.5l.94-2.06 2.06-.94-2.06-.94L8.5 2.5l-.94 2.06-2.06.94zm10 10l.94 2.06.94-2.06 2.06-.94-2.06-.94-.94-2.06-.94 2.06-2.06.94z\"/><path d=\"M17.41 7.96l-1.37-1.37c-.4-.4-.92-.59-1.43-.59-.52 0-1.04.2-1.43.59L10.3 9.45l-7.72 7.72c-.78.78-.78 2.05 0 2.83L4 21.41c.39.39.9.59 1.41.59.51 0 1.02-.2 1.41-.59l7.78-7.78 2.81-2.81c.8-.78.8-2.07 0-2.86zM5.41 20L4 18.59l7.72-7.72 1.47 1.35L5.41 20z\"/>\n",
              "  </svg>\n",
              "      </button>\n",
              "      \n",
              "  <style>\n",
              "    .colab-df-container {\n",
              "      display:flex;\n",
              "      flex-wrap:wrap;\n",
              "      gap: 12px;\n",
              "    }\n",
              "\n",
              "    .colab-df-convert {\n",
              "      background-color: #E8F0FE;\n",
              "      border: none;\n",
              "      border-radius: 50%;\n",
              "      cursor: pointer;\n",
              "      display: none;\n",
              "      fill: #1967D2;\n",
              "      height: 32px;\n",
              "      padding: 0 0 0 0;\n",
              "      width: 32px;\n",
              "    }\n",
              "\n",
              "    .colab-df-convert:hover {\n",
              "      background-color: #E2EBFA;\n",
              "      box-shadow: 0px 1px 2px rgba(60, 64, 67, 0.3), 0px 1px 3px 1px rgba(60, 64, 67, 0.15);\n",
              "      fill: #174EA6;\n",
              "    }\n",
              "\n",
              "    [theme=dark] .colab-df-convert {\n",
              "      background-color: #3B4455;\n",
              "      fill: #D2E3FC;\n",
              "    }\n",
              "\n",
              "    [theme=dark] .colab-df-convert:hover {\n",
              "      background-color: #434B5C;\n",
              "      box-shadow: 0px 1px 3px 1px rgba(0, 0, 0, 0.15);\n",
              "      filter: drop-shadow(0px 1px 2px rgba(0, 0, 0, 0.3));\n",
              "      fill: #FFFFFF;\n",
              "    }\n",
              "  </style>\n",
              "\n",
              "      <script>\n",
              "        const buttonEl =\n",
              "          document.querySelector('#df-132e7c9d-39bf-425d-8439-baf24d6bbf97 button.colab-df-convert');\n",
              "        buttonEl.style.display =\n",
              "          google.colab.kernel.accessAllowed ? 'block' : 'none';\n",
              "\n",
              "        async function convertToInteractive(key) {\n",
              "          const element = document.querySelector('#df-132e7c9d-39bf-425d-8439-baf24d6bbf97');\n",
              "          const dataTable =\n",
              "            await google.colab.kernel.invokeFunction('convertToInteractive',\n",
              "                                                     [key], {});\n",
              "          if (!dataTable) return;\n",
              "\n",
              "          const docLinkHtml = 'Like what you see? Visit the ' +\n",
              "            '<a target=\"_blank\" href=https://colab.research.google.com/notebooks/data_table.ipynb>data table notebook</a>'\n",
              "            + ' to learn more about interactive tables.';\n",
              "          element.innerHTML = '';\n",
              "          dataTable['output_type'] = 'display_data';\n",
              "          await google.colab.output.renderOutput(dataTable, element);\n",
              "          const docLink = document.createElement('div');\n",
              "          docLink.innerHTML = docLinkHtml;\n",
              "          element.appendChild(docLink);\n",
              "        }\n",
              "      </script>\n",
              "    </div>\n",
              "  </div>\n",
              "  "
            ]
          },
          "metadata": {},
          "execution_count": 102
        }
      ]
    },
    {
      "cell_type": "code",
      "source": [
        "len(relauf_topic_info)"
      ],
      "metadata": {
        "colab": {
          "base_uri": "https://localhost:8080/"
        },
        "outputId": "84337fdc-823a-4e64-a841-fa91e74c08e4",
        "id": "qjOceInMmVD1"
      },
      "execution_count": null,
      "outputs": [
        {
          "output_type": "execute_result",
          "data": {
            "text/plain": [
              "18"
            ]
          },
          "metadata": {},
          "execution_count": 103
        }
      ]
    },
    {
      "cell_type": "markdown",
      "source": [
        "Save"
      ],
      "metadata": {
        "id": "BaC9t1nlmVD1"
      }
    },
    {
      "cell_type": "code",
      "source": [
        "# full list of topics\n",
        "relauf_full_topics = relauf_tm.get_topics()\n",
        "\n",
        "#convert full topic dict to df and transpose\n",
        "topics_df = pd.DataFrame(relauf_full_topics,\n",
        "                         index=['word1', 'word2', 'word3', 'word4', 'word5', 'word6', 'word7', 'word8', 'word9', 'word10'])\\\n",
        "                         .transpose()\n",
        "\n",
        "# get just the word\n",
        "topics_df = topics_df.applymap(lambda x: x[0])\n",
        "\n",
        "# add col w/concatenated list\n",
        "#topics_df['all_words'] = topics_df.apply(', '.join, axis=1) #insert at end\n",
        "topics_df.insert(0, 'topic', topics_df.apply(', '.join, axis=1))\n",
        "\n",
        "# remove indiv. word columns (word1,...,word10)\n",
        "topics_df.drop(list(topics_df.filter(regex = 'word')), axis = 1, inplace = True)\n",
        "\n",
        "# convert index to a column (this is the topic id)\n",
        "topics_df.insert(0, 'topic_id', topics_df.index)\n",
        "\n",
        "# add count frequency \n",
        "topic_ct = medauo_topic_info[['Topic', 'Count']]\n",
        "topics_df = topics_df.merge(topic_ct, how='left', left_on='topic_id', right_on='Topic')\n",
        "topics_df.drop('Topic', axis=1, inplace=True)\n",
        "\n",
        "# save\n",
        "topics_df.to_csv(output_folder + 'relauf_topics_clean_bbu_rramicus.csv', index=False)\n",
        "\n",
        "# classification by paragraph\n",
        "topic_id = medauo_topic_info[['Topic', 'Name']]\n",
        "output_df = medauo_df.copy()\n",
        "output_df['topic_id'] = medauo_topics\n",
        "output_df = output_df.merge(topic_id, how='left', left_on='topic_id', right_on='Topic')\n",
        "output_df.drop('Topic',axis=1,inplace=True)\n",
        "output_df.rename({'Name' : 'topic_name'},axis=1, inplace=True)\n",
        "output_df.to_csv(output_folder + 'relauf_topic_clean_classification_bbu_rramicus.csv', index=False)"
      ],
      "metadata": {
        "id": "5lgWdE47mVD1"
      },
      "execution_count": null,
      "outputs": []
    },
    {
      "cell_type": "markdown",
      "source": [
        "Next, cluster the topics using hdbscan "
      ],
      "metadata": {
        "id": "hia-pUPbmVD1"
      }
    },
    {
      "cell_type": "code",
      "source": [
        "relauf_embed = get_similar_topics(relauf_tm)"
      ],
      "metadata": {
        "id": "g_ej82l8mVD1"
      },
      "execution_count": null,
      "outputs": []
    },
    {
      "cell_type": "code",
      "source": [
        "relauf_topic_df = pd.read_csv(output_folder + 'relauf_topics_clean_bbu_rramicus.csv')\n",
        "relauf_embed = relauf_embed.sort_values('Label')\n",
        "relauf_embed.rename({'Topic':'topic_id', 'Label':'label'}, axis=1, inplace=True)\n",
        "relauf_embed = relauf_embed.merge(relauf_topic_df, how='left', on = 'topic_id')\n",
        "relauf_embed.drop(['Words', 'Size'], axis=1, inplace=True)\n",
        "relauf_embed = relauf_embed[['topic_id', 'label', 'topic', 'Count', 'x', 'y']]\n",
        "relauf_embed.to_csv(output_folder + 'relauf_topics_clean_labels_bbu_rramicus.csv')"
      ],
      "metadata": {
        "id": "1I1JupzWmVD2"
      },
      "execution_count": null,
      "outputs": []
    },
    {
      "cell_type": "markdown",
      "source": [
        "Save model"
      ],
      "metadata": {
        "id": "1tZx1iXnmVD2"
      }
    },
    {
      "cell_type": "code",
      "source": [
        "relauf_tm.save(model_folder + 'relauf_bbu_rramicus')"
      ],
      "metadata": {
        "id": "g6g7KiTQmVD2"
      },
      "execution_count": null,
      "outputs": []
    }
  ]
}