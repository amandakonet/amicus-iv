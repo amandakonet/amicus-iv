{
  "nbformat": 4,
  "nbformat_minor": 0,
  "metadata": {
    "colab": {
      "name": "tm-bbu-rramicus-med-leg-relig.ipynb",
      "provenance": [],
      "collapsed_sections": [],
      "authorship_tag": "ABX9TyP/kL2maMNY0enS4gb/yuTh"
    },
    "kernelspec": {
      "name": "python3",
      "display_name": "Python 3"
    },
    "language_info": {
      "name": "python"
    },
    "accelerator": "GPU",
    "widgets": {
      "application/vnd.jupyter.widget-state+json": {
        "d223c319d2d64a318cef7447cc9a7a25": {
          "model_module": "@jupyter-widgets/controls",
          "model_name": "HBoxModel",
          "model_module_version": "1.5.0",
          "state": {
            "_dom_classes": [],
            "_model_module": "@jupyter-widgets/controls",
            "_model_module_version": "1.5.0",
            "_model_name": "HBoxModel",
            "_view_count": null,
            "_view_module": "@jupyter-widgets/controls",
            "_view_module_version": "1.5.0",
            "_view_name": "HBoxView",
            "box_style": "",
            "children": [
              "IPY_MODEL_818b4caae15645a5b239f32ef3ee0324",
              "IPY_MODEL_2394882c0a894799a3c8c237bc8d5652",
              "IPY_MODEL_e91257ee04484903a243d08bdedad9d2"
            ],
            "layout": "IPY_MODEL_f3b327f4934f42b991bf3202f75abfdb"
          }
        },
        "818b4caae15645a5b239f32ef3ee0324": {
          "model_module": "@jupyter-widgets/controls",
          "model_name": "HTMLModel",
          "model_module_version": "1.5.0",
          "state": {
            "_dom_classes": [],
            "_model_module": "@jupyter-widgets/controls",
            "_model_module_version": "1.5.0",
            "_model_name": "HTMLModel",
            "_view_count": null,
            "_view_module": "@jupyter-widgets/controls",
            "_view_module_version": "1.5.0",
            "_view_name": "HTMLView",
            "description": "",
            "description_tooltip": null,
            "layout": "IPY_MODEL_ca4ec8d324a64a07a635562f2e68cdfc",
            "placeholder": "​",
            "style": "IPY_MODEL_7c3642e2ea6543e58e916f637e3ac02a",
            "value": "Downloading: 100%"
          }
        },
        "2394882c0a894799a3c8c237bc8d5652": {
          "model_module": "@jupyter-widgets/controls",
          "model_name": "FloatProgressModel",
          "model_module_version": "1.5.0",
          "state": {
            "_dom_classes": [],
            "_model_module": "@jupyter-widgets/controls",
            "_model_module_version": "1.5.0",
            "_model_name": "FloatProgressModel",
            "_view_count": null,
            "_view_module": "@jupyter-widgets/controls",
            "_view_module_version": "1.5.0",
            "_view_name": "ProgressView",
            "bar_style": "success",
            "description": "",
            "description_tooltip": null,
            "layout": "IPY_MODEL_0cb43fee7f7540db9b0c2d16228610a2",
            "max": 664,
            "min": 0,
            "orientation": "horizontal",
            "style": "IPY_MODEL_bca0296a7f22405ba173637176da9470",
            "value": 664
          }
        },
        "e91257ee04484903a243d08bdedad9d2": {
          "model_module": "@jupyter-widgets/controls",
          "model_name": "HTMLModel",
          "model_module_version": "1.5.0",
          "state": {
            "_dom_classes": [],
            "_model_module": "@jupyter-widgets/controls",
            "_model_module_version": "1.5.0",
            "_model_name": "HTMLModel",
            "_view_count": null,
            "_view_module": "@jupyter-widgets/controls",
            "_view_module_version": "1.5.0",
            "_view_name": "HTMLView",
            "description": "",
            "description_tooltip": null,
            "layout": "IPY_MODEL_6ea9868044674feb8aa2461ab34edb17",
            "placeholder": "​",
            "style": "IPY_MODEL_2a2a45a88685463d8ef898e1bfb54b9f",
            "value": " 664/664 [00:00&lt;00:00, 7.34kB/s]"
          }
        },
        "f3b327f4934f42b991bf3202f75abfdb": {
          "model_module": "@jupyter-widgets/base",
          "model_name": "LayoutModel",
          "model_module_version": "1.2.0",
          "state": {
            "_model_module": "@jupyter-widgets/base",
            "_model_module_version": "1.2.0",
            "_model_name": "LayoutModel",
            "_view_count": null,
            "_view_module": "@jupyter-widgets/base",
            "_view_module_version": "1.2.0",
            "_view_name": "LayoutView",
            "align_content": null,
            "align_items": null,
            "align_self": null,
            "border": null,
            "bottom": null,
            "display": null,
            "flex": null,
            "flex_flow": null,
            "grid_area": null,
            "grid_auto_columns": null,
            "grid_auto_flow": null,
            "grid_auto_rows": null,
            "grid_column": null,
            "grid_gap": null,
            "grid_row": null,
            "grid_template_areas": null,
            "grid_template_columns": null,
            "grid_template_rows": null,
            "height": null,
            "justify_content": null,
            "justify_items": null,
            "left": null,
            "margin": null,
            "max_height": null,
            "max_width": null,
            "min_height": null,
            "min_width": null,
            "object_fit": null,
            "object_position": null,
            "order": null,
            "overflow": null,
            "overflow_x": null,
            "overflow_y": null,
            "padding": null,
            "right": null,
            "top": null,
            "visibility": null,
            "width": null
          }
        },
        "ca4ec8d324a64a07a635562f2e68cdfc": {
          "model_module": "@jupyter-widgets/base",
          "model_name": "LayoutModel",
          "model_module_version": "1.2.0",
          "state": {
            "_model_module": "@jupyter-widgets/base",
            "_model_module_version": "1.2.0",
            "_model_name": "LayoutModel",
            "_view_count": null,
            "_view_module": "@jupyter-widgets/base",
            "_view_module_version": "1.2.0",
            "_view_name": "LayoutView",
            "align_content": null,
            "align_items": null,
            "align_self": null,
            "border": null,
            "bottom": null,
            "display": null,
            "flex": null,
            "flex_flow": null,
            "grid_area": null,
            "grid_auto_columns": null,
            "grid_auto_flow": null,
            "grid_auto_rows": null,
            "grid_column": null,
            "grid_gap": null,
            "grid_row": null,
            "grid_template_areas": null,
            "grid_template_columns": null,
            "grid_template_rows": null,
            "height": null,
            "justify_content": null,
            "justify_items": null,
            "left": null,
            "margin": null,
            "max_height": null,
            "max_width": null,
            "min_height": null,
            "min_width": null,
            "object_fit": null,
            "object_position": null,
            "order": null,
            "overflow": null,
            "overflow_x": null,
            "overflow_y": null,
            "padding": null,
            "right": null,
            "top": null,
            "visibility": null,
            "width": null
          }
        },
        "7c3642e2ea6543e58e916f637e3ac02a": {
          "model_module": "@jupyter-widgets/controls",
          "model_name": "DescriptionStyleModel",
          "model_module_version": "1.5.0",
          "state": {
            "_model_module": "@jupyter-widgets/controls",
            "_model_module_version": "1.5.0",
            "_model_name": "DescriptionStyleModel",
            "_view_count": null,
            "_view_module": "@jupyter-widgets/base",
            "_view_module_version": "1.2.0",
            "_view_name": "StyleView",
            "description_width": ""
          }
        },
        "0cb43fee7f7540db9b0c2d16228610a2": {
          "model_module": "@jupyter-widgets/base",
          "model_name": "LayoutModel",
          "model_module_version": "1.2.0",
          "state": {
            "_model_module": "@jupyter-widgets/base",
            "_model_module_version": "1.2.0",
            "_model_name": "LayoutModel",
            "_view_count": null,
            "_view_module": "@jupyter-widgets/base",
            "_view_module_version": "1.2.0",
            "_view_name": "LayoutView",
            "align_content": null,
            "align_items": null,
            "align_self": null,
            "border": null,
            "bottom": null,
            "display": null,
            "flex": null,
            "flex_flow": null,
            "grid_area": null,
            "grid_auto_columns": null,
            "grid_auto_flow": null,
            "grid_auto_rows": null,
            "grid_column": null,
            "grid_gap": null,
            "grid_row": null,
            "grid_template_areas": null,
            "grid_template_columns": null,
            "grid_template_rows": null,
            "height": null,
            "justify_content": null,
            "justify_items": null,
            "left": null,
            "margin": null,
            "max_height": null,
            "max_width": null,
            "min_height": null,
            "min_width": null,
            "object_fit": null,
            "object_position": null,
            "order": null,
            "overflow": null,
            "overflow_x": null,
            "overflow_y": null,
            "padding": null,
            "right": null,
            "top": null,
            "visibility": null,
            "width": null
          }
        },
        "bca0296a7f22405ba173637176da9470": {
          "model_module": "@jupyter-widgets/controls",
          "model_name": "ProgressStyleModel",
          "model_module_version": "1.5.0",
          "state": {
            "_model_module": "@jupyter-widgets/controls",
            "_model_module_version": "1.5.0",
            "_model_name": "ProgressStyleModel",
            "_view_count": null,
            "_view_module": "@jupyter-widgets/base",
            "_view_module_version": "1.2.0",
            "_view_name": "StyleView",
            "bar_color": null,
            "description_width": ""
          }
        },
        "6ea9868044674feb8aa2461ab34edb17": {
          "model_module": "@jupyter-widgets/base",
          "model_name": "LayoutModel",
          "model_module_version": "1.2.0",
          "state": {
            "_model_module": "@jupyter-widgets/base",
            "_model_module_version": "1.2.0",
            "_model_name": "LayoutModel",
            "_view_count": null,
            "_view_module": "@jupyter-widgets/base",
            "_view_module_version": "1.2.0",
            "_view_name": "LayoutView",
            "align_content": null,
            "align_items": null,
            "align_self": null,
            "border": null,
            "bottom": null,
            "display": null,
            "flex": null,
            "flex_flow": null,
            "grid_area": null,
            "grid_auto_columns": null,
            "grid_auto_flow": null,
            "grid_auto_rows": null,
            "grid_column": null,
            "grid_gap": null,
            "grid_row": null,
            "grid_template_areas": null,
            "grid_template_columns": null,
            "grid_template_rows": null,
            "height": null,
            "justify_content": null,
            "justify_items": null,
            "left": null,
            "margin": null,
            "max_height": null,
            "max_width": null,
            "min_height": null,
            "min_width": null,
            "object_fit": null,
            "object_position": null,
            "order": null,
            "overflow": null,
            "overflow_x": null,
            "overflow_y": null,
            "padding": null,
            "right": null,
            "top": null,
            "visibility": null,
            "width": null
          }
        },
        "2a2a45a88685463d8ef898e1bfb54b9f": {
          "model_module": "@jupyter-widgets/controls",
          "model_name": "DescriptionStyleModel",
          "model_module_version": "1.5.0",
          "state": {
            "_model_module": "@jupyter-widgets/controls",
            "_model_module_version": "1.5.0",
            "_model_name": "DescriptionStyleModel",
            "_view_count": null,
            "_view_module": "@jupyter-widgets/base",
            "_view_module_version": "1.2.0",
            "_view_name": "StyleView",
            "description_width": ""
          }
        },
        "dd334ffd047d4a479cb08435afeebabd": {
          "model_module": "@jupyter-widgets/controls",
          "model_name": "HBoxModel",
          "model_module_version": "1.5.0",
          "state": {
            "_dom_classes": [],
            "_model_module": "@jupyter-widgets/controls",
            "_model_module_version": "1.5.0",
            "_model_name": "HBoxModel",
            "_view_count": null,
            "_view_module": "@jupyter-widgets/controls",
            "_view_module_version": "1.5.0",
            "_view_name": "HBoxView",
            "box_style": "",
            "children": [
              "IPY_MODEL_20297035306543b68aefb79ac8cbaaa3",
              "IPY_MODEL_6bd493a6c474408e8a47b7075a147ce4",
              "IPY_MODEL_93d53a31c17244d08b465101cc8ef2c7"
            ],
            "layout": "IPY_MODEL_7cc1700af8954aa394fd5441471294e5"
          }
        },
        "20297035306543b68aefb79ac8cbaaa3": {
          "model_module": "@jupyter-widgets/controls",
          "model_name": "HTMLModel",
          "model_module_version": "1.5.0",
          "state": {
            "_dom_classes": [],
            "_model_module": "@jupyter-widgets/controls",
            "_model_module_version": "1.5.0",
            "_model_name": "HTMLModel",
            "_view_count": null,
            "_view_module": "@jupyter-widgets/controls",
            "_view_module_version": "1.5.0",
            "_view_name": "HTMLView",
            "description": "",
            "description_tooltip": null,
            "layout": "IPY_MODEL_ba72130bd3e04a5a87d30f001d1b4a77",
            "placeholder": "​",
            "style": "IPY_MODEL_7a82a00450584e4c8d5fc3e69a35fd7a",
            "value": "Downloading: 100%"
          }
        },
        "6bd493a6c474408e8a47b7075a147ce4": {
          "model_module": "@jupyter-widgets/controls",
          "model_name": "FloatProgressModel",
          "model_module_version": "1.5.0",
          "state": {
            "_dom_classes": [],
            "_model_module": "@jupyter-widgets/controls",
            "_model_module_version": "1.5.0",
            "_model_name": "FloatProgressModel",
            "_view_count": null,
            "_view_module": "@jupyter-widgets/controls",
            "_view_module_version": "1.5.0",
            "_view_name": "ProgressView",
            "bar_style": "success",
            "description": "",
            "description_tooltip": null,
            "layout": "IPY_MODEL_c8deb6780a3d420faee788156de61c2d",
            "max": 231508,
            "min": 0,
            "orientation": "horizontal",
            "style": "IPY_MODEL_24124bd0c6d44fe4ba613051f0797a10",
            "value": 231508
          }
        },
        "93d53a31c17244d08b465101cc8ef2c7": {
          "model_module": "@jupyter-widgets/controls",
          "model_name": "HTMLModel",
          "model_module_version": "1.5.0",
          "state": {
            "_dom_classes": [],
            "_model_module": "@jupyter-widgets/controls",
            "_model_module_version": "1.5.0",
            "_model_name": "HTMLModel",
            "_view_count": null,
            "_view_module": "@jupyter-widgets/controls",
            "_view_module_version": "1.5.0",
            "_view_name": "HTMLView",
            "description": "",
            "description_tooltip": null,
            "layout": "IPY_MODEL_1209daf6efdc48b49ff10175659a4b42",
            "placeholder": "​",
            "style": "IPY_MODEL_56fcdafd171d4b6eb95115405d65be26",
            "value": " 232k/232k [00:00&lt;00:00, 273kB/s]"
          }
        },
        "7cc1700af8954aa394fd5441471294e5": {
          "model_module": "@jupyter-widgets/base",
          "model_name": "LayoutModel",
          "model_module_version": "1.2.0",
          "state": {
            "_model_module": "@jupyter-widgets/base",
            "_model_module_version": "1.2.0",
            "_model_name": "LayoutModel",
            "_view_count": null,
            "_view_module": "@jupyter-widgets/base",
            "_view_module_version": "1.2.0",
            "_view_name": "LayoutView",
            "align_content": null,
            "align_items": null,
            "align_self": null,
            "border": null,
            "bottom": null,
            "display": null,
            "flex": null,
            "flex_flow": null,
            "grid_area": null,
            "grid_auto_columns": null,
            "grid_auto_flow": null,
            "grid_auto_rows": null,
            "grid_column": null,
            "grid_gap": null,
            "grid_row": null,
            "grid_template_areas": null,
            "grid_template_columns": null,
            "grid_template_rows": null,
            "height": null,
            "justify_content": null,
            "justify_items": null,
            "left": null,
            "margin": null,
            "max_height": null,
            "max_width": null,
            "min_height": null,
            "min_width": null,
            "object_fit": null,
            "object_position": null,
            "order": null,
            "overflow": null,
            "overflow_x": null,
            "overflow_y": null,
            "padding": null,
            "right": null,
            "top": null,
            "visibility": null,
            "width": null
          }
        },
        "ba72130bd3e04a5a87d30f001d1b4a77": {
          "model_module": "@jupyter-widgets/base",
          "model_name": "LayoutModel",
          "model_module_version": "1.2.0",
          "state": {
            "_model_module": "@jupyter-widgets/base",
            "_model_module_version": "1.2.0",
            "_model_name": "LayoutModel",
            "_view_count": null,
            "_view_module": "@jupyter-widgets/base",
            "_view_module_version": "1.2.0",
            "_view_name": "LayoutView",
            "align_content": null,
            "align_items": null,
            "align_self": null,
            "border": null,
            "bottom": null,
            "display": null,
            "flex": null,
            "flex_flow": null,
            "grid_area": null,
            "grid_auto_columns": null,
            "grid_auto_flow": null,
            "grid_auto_rows": null,
            "grid_column": null,
            "grid_gap": null,
            "grid_row": null,
            "grid_template_areas": null,
            "grid_template_columns": null,
            "grid_template_rows": null,
            "height": null,
            "justify_content": null,
            "justify_items": null,
            "left": null,
            "margin": null,
            "max_height": null,
            "max_width": null,
            "min_height": null,
            "min_width": null,
            "object_fit": null,
            "object_position": null,
            "order": null,
            "overflow": null,
            "overflow_x": null,
            "overflow_y": null,
            "padding": null,
            "right": null,
            "top": null,
            "visibility": null,
            "width": null
          }
        },
        "7a82a00450584e4c8d5fc3e69a35fd7a": {
          "model_module": "@jupyter-widgets/controls",
          "model_name": "DescriptionStyleModel",
          "model_module_version": "1.5.0",
          "state": {
            "_model_module": "@jupyter-widgets/controls",
            "_model_module_version": "1.5.0",
            "_model_name": "DescriptionStyleModel",
            "_view_count": null,
            "_view_module": "@jupyter-widgets/base",
            "_view_module_version": "1.2.0",
            "_view_name": "StyleView",
            "description_width": ""
          }
        },
        "c8deb6780a3d420faee788156de61c2d": {
          "model_module": "@jupyter-widgets/base",
          "model_name": "LayoutModel",
          "model_module_version": "1.2.0",
          "state": {
            "_model_module": "@jupyter-widgets/base",
            "_model_module_version": "1.2.0",
            "_model_name": "LayoutModel",
            "_view_count": null,
            "_view_module": "@jupyter-widgets/base",
            "_view_module_version": "1.2.0",
            "_view_name": "LayoutView",
            "align_content": null,
            "align_items": null,
            "align_self": null,
            "border": null,
            "bottom": null,
            "display": null,
            "flex": null,
            "flex_flow": null,
            "grid_area": null,
            "grid_auto_columns": null,
            "grid_auto_flow": null,
            "grid_auto_rows": null,
            "grid_column": null,
            "grid_gap": null,
            "grid_row": null,
            "grid_template_areas": null,
            "grid_template_columns": null,
            "grid_template_rows": null,
            "height": null,
            "justify_content": null,
            "justify_items": null,
            "left": null,
            "margin": null,
            "max_height": null,
            "max_width": null,
            "min_height": null,
            "min_width": null,
            "object_fit": null,
            "object_position": null,
            "order": null,
            "overflow": null,
            "overflow_x": null,
            "overflow_y": null,
            "padding": null,
            "right": null,
            "top": null,
            "visibility": null,
            "width": null
          }
        },
        "24124bd0c6d44fe4ba613051f0797a10": {
          "model_module": "@jupyter-widgets/controls",
          "model_name": "ProgressStyleModel",
          "model_module_version": "1.5.0",
          "state": {
            "_model_module": "@jupyter-widgets/controls",
            "_model_module_version": "1.5.0",
            "_model_name": "ProgressStyleModel",
            "_view_count": null,
            "_view_module": "@jupyter-widgets/base",
            "_view_module_version": "1.2.0",
            "_view_name": "StyleView",
            "bar_color": null,
            "description_width": ""
          }
        },
        "1209daf6efdc48b49ff10175659a4b42": {
          "model_module": "@jupyter-widgets/base",
          "model_name": "LayoutModel",
          "model_module_version": "1.2.0",
          "state": {
            "_model_module": "@jupyter-widgets/base",
            "_model_module_version": "1.2.0",
            "_model_name": "LayoutModel",
            "_view_count": null,
            "_view_module": "@jupyter-widgets/base",
            "_view_module_version": "1.2.0",
            "_view_name": "LayoutView",
            "align_content": null,
            "align_items": null,
            "align_self": null,
            "border": null,
            "bottom": null,
            "display": null,
            "flex": null,
            "flex_flow": null,
            "grid_area": null,
            "grid_auto_columns": null,
            "grid_auto_flow": null,
            "grid_auto_rows": null,
            "grid_column": null,
            "grid_gap": null,
            "grid_row": null,
            "grid_template_areas": null,
            "grid_template_columns": null,
            "grid_template_rows": null,
            "height": null,
            "justify_content": null,
            "justify_items": null,
            "left": null,
            "margin": null,
            "max_height": null,
            "max_width": null,
            "min_height": null,
            "min_width": null,
            "object_fit": null,
            "object_position": null,
            "order": null,
            "overflow": null,
            "overflow_x": null,
            "overflow_y": null,
            "padding": null,
            "right": null,
            "top": null,
            "visibility": null,
            "width": null
          }
        },
        "56fcdafd171d4b6eb95115405d65be26": {
          "model_module": "@jupyter-widgets/controls",
          "model_name": "DescriptionStyleModel",
          "model_module_version": "1.5.0",
          "state": {
            "_model_module": "@jupyter-widgets/controls",
            "_model_module_version": "1.5.0",
            "_model_name": "DescriptionStyleModel",
            "_view_count": null,
            "_view_module": "@jupyter-widgets/base",
            "_view_module_version": "1.2.0",
            "_view_name": "StyleView",
            "description_width": ""
          }
        },
        "0437a22ecd824c168ef1dc6d34172670": {
          "model_module": "@jupyter-widgets/controls",
          "model_name": "HBoxModel",
          "model_module_version": "1.5.0",
          "state": {
            "_dom_classes": [],
            "_model_module": "@jupyter-widgets/controls",
            "_model_module_version": "1.5.0",
            "_model_name": "HBoxModel",
            "_view_count": null,
            "_view_module": "@jupyter-widgets/controls",
            "_view_module_version": "1.5.0",
            "_view_name": "HBoxView",
            "box_style": "",
            "children": [
              "IPY_MODEL_e4498f9b00d6458fa5f4eb32478634d1",
              "IPY_MODEL_d372168d46114991a7e7ce46247f8575",
              "IPY_MODEL_c775af37283c4bfcb9c0528696391fe9"
            ],
            "layout": "IPY_MODEL_01396d8fd88a48988c041e8213c710f1"
          }
        },
        "e4498f9b00d6458fa5f4eb32478634d1": {
          "model_module": "@jupyter-widgets/controls",
          "model_name": "HTMLModel",
          "model_module_version": "1.5.0",
          "state": {
            "_dom_classes": [],
            "_model_module": "@jupyter-widgets/controls",
            "_model_module_version": "1.5.0",
            "_model_name": "HTMLModel",
            "_view_count": null,
            "_view_module": "@jupyter-widgets/controls",
            "_view_module_version": "1.5.0",
            "_view_name": "HTMLView",
            "description": "",
            "description_tooltip": null,
            "layout": "IPY_MODEL_01a38c294a98441a94a8b02293f15da0",
            "placeholder": "​",
            "style": "IPY_MODEL_23b48591dce34d18845b09e68598c92e",
            "value": "Downloading: 100%"
          }
        },
        "d372168d46114991a7e7ce46247f8575": {
          "model_module": "@jupyter-widgets/controls",
          "model_name": "FloatProgressModel",
          "model_module_version": "1.5.0",
          "state": {
            "_dom_classes": [],
            "_model_module": "@jupyter-widgets/controls",
            "_model_module_version": "1.5.0",
            "_model_name": "FloatProgressModel",
            "_view_count": null,
            "_view_module": "@jupyter-widgets/controls",
            "_view_module_version": "1.5.0",
            "_view_name": "ProgressView",
            "bar_style": "success",
            "description": "",
            "description_tooltip": null,
            "layout": "IPY_MODEL_b9c09612cf074a6f868651cb0cc9b8d6",
            "max": 112,
            "min": 0,
            "orientation": "horizontal",
            "style": "IPY_MODEL_03558a51c14b499ea325cc1cb5787a66",
            "value": 112
          }
        },
        "c775af37283c4bfcb9c0528696391fe9": {
          "model_module": "@jupyter-widgets/controls",
          "model_name": "HTMLModel",
          "model_module_version": "1.5.0",
          "state": {
            "_dom_classes": [],
            "_model_module": "@jupyter-widgets/controls",
            "_model_module_version": "1.5.0",
            "_model_name": "HTMLModel",
            "_view_count": null,
            "_view_module": "@jupyter-widgets/controls",
            "_view_module_version": "1.5.0",
            "_view_name": "HTMLView",
            "description": "",
            "description_tooltip": null,
            "layout": "IPY_MODEL_34db5602d80a43739b57de5d6ab16cbb",
            "placeholder": "​",
            "style": "IPY_MODEL_6c90dd1d428d4b82930c2ea28a16eac5",
            "value": " 112/112 [00:00&lt;00:00, 3.35kB/s]"
          }
        },
        "01396d8fd88a48988c041e8213c710f1": {
          "model_module": "@jupyter-widgets/base",
          "model_name": "LayoutModel",
          "model_module_version": "1.2.0",
          "state": {
            "_model_module": "@jupyter-widgets/base",
            "_model_module_version": "1.2.0",
            "_model_name": "LayoutModel",
            "_view_count": null,
            "_view_module": "@jupyter-widgets/base",
            "_view_module_version": "1.2.0",
            "_view_name": "LayoutView",
            "align_content": null,
            "align_items": null,
            "align_self": null,
            "border": null,
            "bottom": null,
            "display": null,
            "flex": null,
            "flex_flow": null,
            "grid_area": null,
            "grid_auto_columns": null,
            "grid_auto_flow": null,
            "grid_auto_rows": null,
            "grid_column": null,
            "grid_gap": null,
            "grid_row": null,
            "grid_template_areas": null,
            "grid_template_columns": null,
            "grid_template_rows": null,
            "height": null,
            "justify_content": null,
            "justify_items": null,
            "left": null,
            "margin": null,
            "max_height": null,
            "max_width": null,
            "min_height": null,
            "min_width": null,
            "object_fit": null,
            "object_position": null,
            "order": null,
            "overflow": null,
            "overflow_x": null,
            "overflow_y": null,
            "padding": null,
            "right": null,
            "top": null,
            "visibility": null,
            "width": null
          }
        },
        "01a38c294a98441a94a8b02293f15da0": {
          "model_module": "@jupyter-widgets/base",
          "model_name": "LayoutModel",
          "model_module_version": "1.2.0",
          "state": {
            "_model_module": "@jupyter-widgets/base",
            "_model_module_version": "1.2.0",
            "_model_name": "LayoutModel",
            "_view_count": null,
            "_view_module": "@jupyter-widgets/base",
            "_view_module_version": "1.2.0",
            "_view_name": "LayoutView",
            "align_content": null,
            "align_items": null,
            "align_self": null,
            "border": null,
            "bottom": null,
            "display": null,
            "flex": null,
            "flex_flow": null,
            "grid_area": null,
            "grid_auto_columns": null,
            "grid_auto_flow": null,
            "grid_auto_rows": null,
            "grid_column": null,
            "grid_gap": null,
            "grid_row": null,
            "grid_template_areas": null,
            "grid_template_columns": null,
            "grid_template_rows": null,
            "height": null,
            "justify_content": null,
            "justify_items": null,
            "left": null,
            "margin": null,
            "max_height": null,
            "max_width": null,
            "min_height": null,
            "min_width": null,
            "object_fit": null,
            "object_position": null,
            "order": null,
            "overflow": null,
            "overflow_x": null,
            "overflow_y": null,
            "padding": null,
            "right": null,
            "top": null,
            "visibility": null,
            "width": null
          }
        },
        "23b48591dce34d18845b09e68598c92e": {
          "model_module": "@jupyter-widgets/controls",
          "model_name": "DescriptionStyleModel",
          "model_module_version": "1.5.0",
          "state": {
            "_model_module": "@jupyter-widgets/controls",
            "_model_module_version": "1.5.0",
            "_model_name": "DescriptionStyleModel",
            "_view_count": null,
            "_view_module": "@jupyter-widgets/base",
            "_view_module_version": "1.2.0",
            "_view_name": "StyleView",
            "description_width": ""
          }
        },
        "b9c09612cf074a6f868651cb0cc9b8d6": {
          "model_module": "@jupyter-widgets/base",
          "model_name": "LayoutModel",
          "model_module_version": "1.2.0",
          "state": {
            "_model_module": "@jupyter-widgets/base",
            "_model_module_version": "1.2.0",
            "_model_name": "LayoutModel",
            "_view_count": null,
            "_view_module": "@jupyter-widgets/base",
            "_view_module_version": "1.2.0",
            "_view_name": "LayoutView",
            "align_content": null,
            "align_items": null,
            "align_self": null,
            "border": null,
            "bottom": null,
            "display": null,
            "flex": null,
            "flex_flow": null,
            "grid_area": null,
            "grid_auto_columns": null,
            "grid_auto_flow": null,
            "grid_auto_rows": null,
            "grid_column": null,
            "grid_gap": null,
            "grid_row": null,
            "grid_template_areas": null,
            "grid_template_columns": null,
            "grid_template_rows": null,
            "height": null,
            "justify_content": null,
            "justify_items": null,
            "left": null,
            "margin": null,
            "max_height": null,
            "max_width": null,
            "min_height": null,
            "min_width": null,
            "object_fit": null,
            "object_position": null,
            "order": null,
            "overflow": null,
            "overflow_x": null,
            "overflow_y": null,
            "padding": null,
            "right": null,
            "top": null,
            "visibility": null,
            "width": null
          }
        },
        "03558a51c14b499ea325cc1cb5787a66": {
          "model_module": "@jupyter-widgets/controls",
          "model_name": "ProgressStyleModel",
          "model_module_version": "1.5.0",
          "state": {
            "_model_module": "@jupyter-widgets/controls",
            "_model_module_version": "1.5.0",
            "_model_name": "ProgressStyleModel",
            "_view_count": null,
            "_view_module": "@jupyter-widgets/base",
            "_view_module_version": "1.2.0",
            "_view_name": "StyleView",
            "bar_color": null,
            "description_width": ""
          }
        },
        "34db5602d80a43739b57de5d6ab16cbb": {
          "model_module": "@jupyter-widgets/base",
          "model_name": "LayoutModel",
          "model_module_version": "1.2.0",
          "state": {
            "_model_module": "@jupyter-widgets/base",
            "_model_module_version": "1.2.0",
            "_model_name": "LayoutModel",
            "_view_count": null,
            "_view_module": "@jupyter-widgets/base",
            "_view_module_version": "1.2.0",
            "_view_name": "LayoutView",
            "align_content": null,
            "align_items": null,
            "align_self": null,
            "border": null,
            "bottom": null,
            "display": null,
            "flex": null,
            "flex_flow": null,
            "grid_area": null,
            "grid_auto_columns": null,
            "grid_auto_flow": null,
            "grid_auto_rows": null,
            "grid_column": null,
            "grid_gap": null,
            "grid_row": null,
            "grid_template_areas": null,
            "grid_template_columns": null,
            "grid_template_rows": null,
            "height": null,
            "justify_content": null,
            "justify_items": null,
            "left": null,
            "margin": null,
            "max_height": null,
            "max_width": null,
            "min_height": null,
            "min_width": null,
            "object_fit": null,
            "object_position": null,
            "order": null,
            "overflow": null,
            "overflow_x": null,
            "overflow_y": null,
            "padding": null,
            "right": null,
            "top": null,
            "visibility": null,
            "width": null
          }
        },
        "6c90dd1d428d4b82930c2ea28a16eac5": {
          "model_module": "@jupyter-widgets/controls",
          "model_name": "DescriptionStyleModel",
          "model_module_version": "1.5.0",
          "state": {
            "_model_module": "@jupyter-widgets/controls",
            "_model_module_version": "1.5.0",
            "_model_name": "DescriptionStyleModel",
            "_view_count": null,
            "_view_module": "@jupyter-widgets/base",
            "_view_module_version": "1.2.0",
            "_view_name": "StyleView",
            "description_width": ""
          }
        },
        "02f70227077d4af38842ad3770823f3d": {
          "model_module": "@jupyter-widgets/controls",
          "model_name": "HBoxModel",
          "model_module_version": "1.5.0",
          "state": {
            "_dom_classes": [],
            "_model_module": "@jupyter-widgets/controls",
            "_model_module_version": "1.5.0",
            "_model_name": "HBoxModel",
            "_view_count": null,
            "_view_module": "@jupyter-widgets/controls",
            "_view_module_version": "1.5.0",
            "_view_name": "HBoxView",
            "box_style": "",
            "children": [
              "IPY_MODEL_768844f2ac54478f8d6844790d7e6a04",
              "IPY_MODEL_65541b39318547759b49fb488f3e9223",
              "IPY_MODEL_9039fbb4d0a74308a249f23a677397fe"
            ],
            "layout": "IPY_MODEL_68846c68a2204a62ab4120fd95fc31d2"
          }
        },
        "768844f2ac54478f8d6844790d7e6a04": {
          "model_module": "@jupyter-widgets/controls",
          "model_name": "HTMLModel",
          "model_module_version": "1.5.0",
          "state": {
            "_dom_classes": [],
            "_model_module": "@jupyter-widgets/controls",
            "_model_module_version": "1.5.0",
            "_model_name": "HTMLModel",
            "_view_count": null,
            "_view_module": "@jupyter-widgets/controls",
            "_view_module_version": "1.5.0",
            "_view_name": "HTMLView",
            "description": "",
            "description_tooltip": null,
            "layout": "IPY_MODEL_839c513574bf463bb4cfc7565922c00b",
            "placeholder": "​",
            "style": "IPY_MODEL_eb9313ddb7b34270a3216612b4ede684",
            "value": "Downloading: 100%"
          }
        },
        "65541b39318547759b49fb488f3e9223": {
          "model_module": "@jupyter-widgets/controls",
          "model_name": "FloatProgressModel",
          "model_module_version": "1.5.0",
          "state": {
            "_dom_classes": [],
            "_model_module": "@jupyter-widgets/controls",
            "_model_module_version": "1.5.0",
            "_model_name": "FloatProgressModel",
            "_view_count": null,
            "_view_module": "@jupyter-widgets/controls",
            "_view_module_version": "1.5.0",
            "_view_name": "ProgressView",
            "bar_style": "success",
            "description": "",
            "description_tooltip": null,
            "layout": "IPY_MODEL_a1b1d51b305f4fef90223fa07802b569",
            "max": 321,
            "min": 0,
            "orientation": "horizontal",
            "style": "IPY_MODEL_5387f295e9e54cee880d937b2a22ed61",
            "value": 321
          }
        },
        "9039fbb4d0a74308a249f23a677397fe": {
          "model_module": "@jupyter-widgets/controls",
          "model_name": "HTMLModel",
          "model_module_version": "1.5.0",
          "state": {
            "_dom_classes": [],
            "_model_module": "@jupyter-widgets/controls",
            "_model_module_version": "1.5.0",
            "_model_name": "HTMLModel",
            "_view_count": null,
            "_view_module": "@jupyter-widgets/controls",
            "_view_module_version": "1.5.0",
            "_view_name": "HTMLView",
            "description": "",
            "description_tooltip": null,
            "layout": "IPY_MODEL_6bbcadd4186e45f296860d0205e692bc",
            "placeholder": "​",
            "style": "IPY_MODEL_629132f2cc1148da8c6fdfb63873fc98",
            "value": " 321/321 [00:00&lt;00:00, 9.32kB/s]"
          }
        },
        "68846c68a2204a62ab4120fd95fc31d2": {
          "model_module": "@jupyter-widgets/base",
          "model_name": "LayoutModel",
          "model_module_version": "1.2.0",
          "state": {
            "_model_module": "@jupyter-widgets/base",
            "_model_module_version": "1.2.0",
            "_model_name": "LayoutModel",
            "_view_count": null,
            "_view_module": "@jupyter-widgets/base",
            "_view_module_version": "1.2.0",
            "_view_name": "LayoutView",
            "align_content": null,
            "align_items": null,
            "align_self": null,
            "border": null,
            "bottom": null,
            "display": null,
            "flex": null,
            "flex_flow": null,
            "grid_area": null,
            "grid_auto_columns": null,
            "grid_auto_flow": null,
            "grid_auto_rows": null,
            "grid_column": null,
            "grid_gap": null,
            "grid_row": null,
            "grid_template_areas": null,
            "grid_template_columns": null,
            "grid_template_rows": null,
            "height": null,
            "justify_content": null,
            "justify_items": null,
            "left": null,
            "margin": null,
            "max_height": null,
            "max_width": null,
            "min_height": null,
            "min_width": null,
            "object_fit": null,
            "object_position": null,
            "order": null,
            "overflow": null,
            "overflow_x": null,
            "overflow_y": null,
            "padding": null,
            "right": null,
            "top": null,
            "visibility": null,
            "width": null
          }
        },
        "839c513574bf463bb4cfc7565922c00b": {
          "model_module": "@jupyter-widgets/base",
          "model_name": "LayoutModel",
          "model_module_version": "1.2.0",
          "state": {
            "_model_module": "@jupyter-widgets/base",
            "_model_module_version": "1.2.0",
            "_model_name": "LayoutModel",
            "_view_count": null,
            "_view_module": "@jupyter-widgets/base",
            "_view_module_version": "1.2.0",
            "_view_name": "LayoutView",
            "align_content": null,
            "align_items": null,
            "align_self": null,
            "border": null,
            "bottom": null,
            "display": null,
            "flex": null,
            "flex_flow": null,
            "grid_area": null,
            "grid_auto_columns": null,
            "grid_auto_flow": null,
            "grid_auto_rows": null,
            "grid_column": null,
            "grid_gap": null,
            "grid_row": null,
            "grid_template_areas": null,
            "grid_template_columns": null,
            "grid_template_rows": null,
            "height": null,
            "justify_content": null,
            "justify_items": null,
            "left": null,
            "margin": null,
            "max_height": null,
            "max_width": null,
            "min_height": null,
            "min_width": null,
            "object_fit": null,
            "object_position": null,
            "order": null,
            "overflow": null,
            "overflow_x": null,
            "overflow_y": null,
            "padding": null,
            "right": null,
            "top": null,
            "visibility": null,
            "width": null
          }
        },
        "eb9313ddb7b34270a3216612b4ede684": {
          "model_module": "@jupyter-widgets/controls",
          "model_name": "DescriptionStyleModel",
          "model_module_version": "1.5.0",
          "state": {
            "_model_module": "@jupyter-widgets/controls",
            "_model_module_version": "1.5.0",
            "_model_name": "DescriptionStyleModel",
            "_view_count": null,
            "_view_module": "@jupyter-widgets/base",
            "_view_module_version": "1.2.0",
            "_view_name": "StyleView",
            "description_width": ""
          }
        },
        "a1b1d51b305f4fef90223fa07802b569": {
          "model_module": "@jupyter-widgets/base",
          "model_name": "LayoutModel",
          "model_module_version": "1.2.0",
          "state": {
            "_model_module": "@jupyter-widgets/base",
            "_model_module_version": "1.2.0",
            "_model_name": "LayoutModel",
            "_view_count": null,
            "_view_module": "@jupyter-widgets/base",
            "_view_module_version": "1.2.0",
            "_view_name": "LayoutView",
            "align_content": null,
            "align_items": null,
            "align_self": null,
            "border": null,
            "bottom": null,
            "display": null,
            "flex": null,
            "flex_flow": null,
            "grid_area": null,
            "grid_auto_columns": null,
            "grid_auto_flow": null,
            "grid_auto_rows": null,
            "grid_column": null,
            "grid_gap": null,
            "grid_row": null,
            "grid_template_areas": null,
            "grid_template_columns": null,
            "grid_template_rows": null,
            "height": null,
            "justify_content": null,
            "justify_items": null,
            "left": null,
            "margin": null,
            "max_height": null,
            "max_width": null,
            "min_height": null,
            "min_width": null,
            "object_fit": null,
            "object_position": null,
            "order": null,
            "overflow": null,
            "overflow_x": null,
            "overflow_y": null,
            "padding": null,
            "right": null,
            "top": null,
            "visibility": null,
            "width": null
          }
        },
        "5387f295e9e54cee880d937b2a22ed61": {
          "model_module": "@jupyter-widgets/controls",
          "model_name": "ProgressStyleModel",
          "model_module_version": "1.5.0",
          "state": {
            "_model_module": "@jupyter-widgets/controls",
            "_model_module_version": "1.5.0",
            "_model_name": "ProgressStyleModel",
            "_view_count": null,
            "_view_module": "@jupyter-widgets/base",
            "_view_module_version": "1.2.0",
            "_view_name": "StyleView",
            "bar_color": null,
            "description_width": ""
          }
        },
        "6bbcadd4186e45f296860d0205e692bc": {
          "model_module": "@jupyter-widgets/base",
          "model_name": "LayoutModel",
          "model_module_version": "1.2.0",
          "state": {
            "_model_module": "@jupyter-widgets/base",
            "_model_module_version": "1.2.0",
            "_model_name": "LayoutModel",
            "_view_count": null,
            "_view_module": "@jupyter-widgets/base",
            "_view_module_version": "1.2.0",
            "_view_name": "LayoutView",
            "align_content": null,
            "align_items": null,
            "align_self": null,
            "border": null,
            "bottom": null,
            "display": null,
            "flex": null,
            "flex_flow": null,
            "grid_area": null,
            "grid_auto_columns": null,
            "grid_auto_flow": null,
            "grid_auto_rows": null,
            "grid_column": null,
            "grid_gap": null,
            "grid_row": null,
            "grid_template_areas": null,
            "grid_template_columns": null,
            "grid_template_rows": null,
            "height": null,
            "justify_content": null,
            "justify_items": null,
            "left": null,
            "margin": null,
            "max_height": null,
            "max_width": null,
            "min_height": null,
            "min_width": null,
            "object_fit": null,
            "object_position": null,
            "order": null,
            "overflow": null,
            "overflow_x": null,
            "overflow_y": null,
            "padding": null,
            "right": null,
            "top": null,
            "visibility": null,
            "width": null
          }
        },
        "629132f2cc1148da8c6fdfb63873fc98": {
          "model_module": "@jupyter-widgets/controls",
          "model_name": "DescriptionStyleModel",
          "model_module_version": "1.5.0",
          "state": {
            "_model_module": "@jupyter-widgets/controls",
            "_model_module_version": "1.5.0",
            "_model_name": "DescriptionStyleModel",
            "_view_count": null,
            "_view_module": "@jupyter-widgets/base",
            "_view_module_version": "1.2.0",
            "_view_name": "StyleView",
            "description_width": ""
          }
        },
        "9856e39204b9469a923fa1394d2a9dc1": {
          "model_module": "@jupyter-widgets/controls",
          "model_name": "HBoxModel",
          "model_module_version": "1.5.0",
          "state": {
            "_dom_classes": [],
            "_model_module": "@jupyter-widgets/controls",
            "_model_module_version": "1.5.0",
            "_model_name": "HBoxModel",
            "_view_count": null,
            "_view_module": "@jupyter-widgets/controls",
            "_view_module_version": "1.5.0",
            "_view_name": "HBoxView",
            "box_style": "",
            "children": [
              "IPY_MODEL_e7f8e6963b204951bb0f3d06ece0f8ec",
              "IPY_MODEL_993bb833fa1440ddb274d8fc3a13fc38",
              "IPY_MODEL_716d9e6232de41e6a66e55c1c434faff"
            ],
            "layout": "IPY_MODEL_6df05f333df9420186844df74a64f23b"
          }
        },
        "e7f8e6963b204951bb0f3d06ece0f8ec": {
          "model_module": "@jupyter-widgets/controls",
          "model_name": "HTMLModel",
          "model_module_version": "1.5.0",
          "state": {
            "_dom_classes": [],
            "_model_module": "@jupyter-widgets/controls",
            "_model_module_version": "1.5.0",
            "_model_name": "HTMLModel",
            "_view_count": null,
            "_view_module": "@jupyter-widgets/controls",
            "_view_module_version": "1.5.0",
            "_view_name": "HTMLView",
            "description": "",
            "description_tooltip": null,
            "layout": "IPY_MODEL_3da5262ba29145c7aa1b53c3d5f59cf6",
            "placeholder": "​",
            "style": "IPY_MODEL_7a8ea4ec46e242529611dc12c5c22dfc",
            "value": "Downloading: 100%"
          }
        },
        "993bb833fa1440ddb274d8fc3a13fc38": {
          "model_module": "@jupyter-widgets/controls",
          "model_name": "FloatProgressModel",
          "model_module_version": "1.5.0",
          "state": {
            "_dom_classes": [],
            "_model_module": "@jupyter-widgets/controls",
            "_model_module_version": "1.5.0",
            "_model_name": "FloatProgressModel",
            "_view_count": null,
            "_view_module": "@jupyter-widgets/controls",
            "_view_module_version": "1.5.0",
            "_view_name": "ProgressView",
            "bar_style": "success",
            "description": "",
            "description_tooltip": null,
            "layout": "IPY_MODEL_696c356bf4b549b5b77a56f9addcd499",
            "max": 466249,
            "min": 0,
            "orientation": "horizontal",
            "style": "IPY_MODEL_6c7eb287a135431aa49dfb245404fd05",
            "value": 466249
          }
        },
        "716d9e6232de41e6a66e55c1c434faff": {
          "model_module": "@jupyter-widgets/controls",
          "model_name": "HTMLModel",
          "model_module_version": "1.5.0",
          "state": {
            "_dom_classes": [],
            "_model_module": "@jupyter-widgets/controls",
            "_model_module_version": "1.5.0",
            "_model_name": "HTMLModel",
            "_view_count": null,
            "_view_module": "@jupyter-widgets/controls",
            "_view_module_version": "1.5.0",
            "_view_name": "HTMLView",
            "description": "",
            "description_tooltip": null,
            "layout": "IPY_MODEL_af5616479cd3430ab739a6253461672e",
            "placeholder": "​",
            "style": "IPY_MODEL_f98ac8fad2e14436b452996d4c4f1c0f",
            "value": " 466k/466k [00:01&lt;00:00, 567kB/s]"
          }
        },
        "6df05f333df9420186844df74a64f23b": {
          "model_module": "@jupyter-widgets/base",
          "model_name": "LayoutModel",
          "model_module_version": "1.2.0",
          "state": {
            "_model_module": "@jupyter-widgets/base",
            "_model_module_version": "1.2.0",
            "_model_name": "LayoutModel",
            "_view_count": null,
            "_view_module": "@jupyter-widgets/base",
            "_view_module_version": "1.2.0",
            "_view_name": "LayoutView",
            "align_content": null,
            "align_items": null,
            "align_self": null,
            "border": null,
            "bottom": null,
            "display": null,
            "flex": null,
            "flex_flow": null,
            "grid_area": null,
            "grid_auto_columns": null,
            "grid_auto_flow": null,
            "grid_auto_rows": null,
            "grid_column": null,
            "grid_gap": null,
            "grid_row": null,
            "grid_template_areas": null,
            "grid_template_columns": null,
            "grid_template_rows": null,
            "height": null,
            "justify_content": null,
            "justify_items": null,
            "left": null,
            "margin": null,
            "max_height": null,
            "max_width": null,
            "min_height": null,
            "min_width": null,
            "object_fit": null,
            "object_position": null,
            "order": null,
            "overflow": null,
            "overflow_x": null,
            "overflow_y": null,
            "padding": null,
            "right": null,
            "top": null,
            "visibility": null,
            "width": null
          }
        },
        "3da5262ba29145c7aa1b53c3d5f59cf6": {
          "model_module": "@jupyter-widgets/base",
          "model_name": "LayoutModel",
          "model_module_version": "1.2.0",
          "state": {
            "_model_module": "@jupyter-widgets/base",
            "_model_module_version": "1.2.0",
            "_model_name": "LayoutModel",
            "_view_count": null,
            "_view_module": "@jupyter-widgets/base",
            "_view_module_version": "1.2.0",
            "_view_name": "LayoutView",
            "align_content": null,
            "align_items": null,
            "align_self": null,
            "border": null,
            "bottom": null,
            "display": null,
            "flex": null,
            "flex_flow": null,
            "grid_area": null,
            "grid_auto_columns": null,
            "grid_auto_flow": null,
            "grid_auto_rows": null,
            "grid_column": null,
            "grid_gap": null,
            "grid_row": null,
            "grid_template_areas": null,
            "grid_template_columns": null,
            "grid_template_rows": null,
            "height": null,
            "justify_content": null,
            "justify_items": null,
            "left": null,
            "margin": null,
            "max_height": null,
            "max_width": null,
            "min_height": null,
            "min_width": null,
            "object_fit": null,
            "object_position": null,
            "order": null,
            "overflow": null,
            "overflow_x": null,
            "overflow_y": null,
            "padding": null,
            "right": null,
            "top": null,
            "visibility": null,
            "width": null
          }
        },
        "7a8ea4ec46e242529611dc12c5c22dfc": {
          "model_module": "@jupyter-widgets/controls",
          "model_name": "DescriptionStyleModel",
          "model_module_version": "1.5.0",
          "state": {
            "_model_module": "@jupyter-widgets/controls",
            "_model_module_version": "1.5.0",
            "_model_name": "DescriptionStyleModel",
            "_view_count": null,
            "_view_module": "@jupyter-widgets/base",
            "_view_module_version": "1.2.0",
            "_view_name": "StyleView",
            "description_width": ""
          }
        },
        "696c356bf4b549b5b77a56f9addcd499": {
          "model_module": "@jupyter-widgets/base",
          "model_name": "LayoutModel",
          "model_module_version": "1.2.0",
          "state": {
            "_model_module": "@jupyter-widgets/base",
            "_model_module_version": "1.2.0",
            "_model_name": "LayoutModel",
            "_view_count": null,
            "_view_module": "@jupyter-widgets/base",
            "_view_module_version": "1.2.0",
            "_view_name": "LayoutView",
            "align_content": null,
            "align_items": null,
            "align_self": null,
            "border": null,
            "bottom": null,
            "display": null,
            "flex": null,
            "flex_flow": null,
            "grid_area": null,
            "grid_auto_columns": null,
            "grid_auto_flow": null,
            "grid_auto_rows": null,
            "grid_column": null,
            "grid_gap": null,
            "grid_row": null,
            "grid_template_areas": null,
            "grid_template_columns": null,
            "grid_template_rows": null,
            "height": null,
            "justify_content": null,
            "justify_items": null,
            "left": null,
            "margin": null,
            "max_height": null,
            "max_width": null,
            "min_height": null,
            "min_width": null,
            "object_fit": null,
            "object_position": null,
            "order": null,
            "overflow": null,
            "overflow_x": null,
            "overflow_y": null,
            "padding": null,
            "right": null,
            "top": null,
            "visibility": null,
            "width": null
          }
        },
        "6c7eb287a135431aa49dfb245404fd05": {
          "model_module": "@jupyter-widgets/controls",
          "model_name": "ProgressStyleModel",
          "model_module_version": "1.5.0",
          "state": {
            "_model_module": "@jupyter-widgets/controls",
            "_model_module_version": "1.5.0",
            "_model_name": "ProgressStyleModel",
            "_view_count": null,
            "_view_module": "@jupyter-widgets/base",
            "_view_module_version": "1.2.0",
            "_view_name": "StyleView",
            "bar_color": null,
            "description_width": ""
          }
        },
        "af5616479cd3430ab739a6253461672e": {
          "model_module": "@jupyter-widgets/base",
          "model_name": "LayoutModel",
          "model_module_version": "1.2.0",
          "state": {
            "_model_module": "@jupyter-widgets/base",
            "_model_module_version": "1.2.0",
            "_model_name": "LayoutModel",
            "_view_count": null,
            "_view_module": "@jupyter-widgets/base",
            "_view_module_version": "1.2.0",
            "_view_name": "LayoutView",
            "align_content": null,
            "align_items": null,
            "align_self": null,
            "border": null,
            "bottom": null,
            "display": null,
            "flex": null,
            "flex_flow": null,
            "grid_area": null,
            "grid_auto_columns": null,
            "grid_auto_flow": null,
            "grid_auto_rows": null,
            "grid_column": null,
            "grid_gap": null,
            "grid_row": null,
            "grid_template_areas": null,
            "grid_template_columns": null,
            "grid_template_rows": null,
            "height": null,
            "justify_content": null,
            "justify_items": null,
            "left": null,
            "margin": null,
            "max_height": null,
            "max_width": null,
            "min_height": null,
            "min_width": null,
            "object_fit": null,
            "object_position": null,
            "order": null,
            "overflow": null,
            "overflow_x": null,
            "overflow_y": null,
            "padding": null,
            "right": null,
            "top": null,
            "visibility": null,
            "width": null
          }
        },
        "f98ac8fad2e14436b452996d4c4f1c0f": {
          "model_module": "@jupyter-widgets/controls",
          "model_name": "DescriptionStyleModel",
          "model_module_version": "1.5.0",
          "state": {
            "_model_module": "@jupyter-widgets/controls",
            "_model_module_version": "1.5.0",
            "_model_name": "DescriptionStyleModel",
            "_view_count": null,
            "_view_module": "@jupyter-widgets/base",
            "_view_module_version": "1.2.0",
            "_view_name": "StyleView",
            "description_width": ""
          }
        },
        "61363844531146ffab27b3f64cae1b1b": {
          "model_module": "@jupyter-widgets/controls",
          "model_name": "HBoxModel",
          "model_module_version": "1.5.0",
          "state": {
            "_dom_classes": [],
            "_model_module": "@jupyter-widgets/controls",
            "_model_module_version": "1.5.0",
            "_model_name": "HBoxModel",
            "_view_count": null,
            "_view_module": "@jupyter-widgets/controls",
            "_view_module_version": "1.5.0",
            "_view_name": "HBoxView",
            "box_style": "",
            "children": [
              "IPY_MODEL_dceb46dfe80c4adf99bbfecb2e017c99",
              "IPY_MODEL_fe148c3ca88f423094100fd2317eea40",
              "IPY_MODEL_67bd48e6f0ef409391f65fac3660ad42"
            ],
            "layout": "IPY_MODEL_a10e814deed24b24a35b051bf637f6bc"
          }
        },
        "dceb46dfe80c4adf99bbfecb2e017c99": {
          "model_module": "@jupyter-widgets/controls",
          "model_name": "HTMLModel",
          "model_module_version": "1.5.0",
          "state": {
            "_dom_classes": [],
            "_model_module": "@jupyter-widgets/controls",
            "_model_module_version": "1.5.0",
            "_model_name": "HTMLModel",
            "_view_count": null,
            "_view_module": "@jupyter-widgets/controls",
            "_view_module_version": "1.5.0",
            "_view_name": "HTMLView",
            "description": "",
            "description_tooltip": null,
            "layout": "IPY_MODEL_8b0d235691c746eaa2005defb81940a3",
            "placeholder": "​",
            "style": "IPY_MODEL_5cbbd861fcf94d82b0997137c0050a7f",
            "value": "Downloading: 100%"
          }
        },
        "fe148c3ca88f423094100fd2317eea40": {
          "model_module": "@jupyter-widgets/controls",
          "model_name": "FloatProgressModel",
          "model_module_version": "1.5.0",
          "state": {
            "_dom_classes": [],
            "_model_module": "@jupyter-widgets/controls",
            "_model_module_version": "1.5.0",
            "_model_name": "FloatProgressModel",
            "_view_count": null,
            "_view_module": "@jupyter-widgets/controls",
            "_view_module_version": "1.5.0",
            "_view_name": "ProgressView",
            "bar_style": "success",
            "description": "",
            "description_tooltip": null,
            "layout": "IPY_MODEL_59105c999ccf4bc480d4b14e787fa8a3",
            "max": 438141995,
            "min": 0,
            "orientation": "horizontal",
            "style": "IPY_MODEL_0ffc7e3e8dcd43b9a8120ba78c8ded5d",
            "value": 438141995
          }
        },
        "67bd48e6f0ef409391f65fac3660ad42": {
          "model_module": "@jupyter-widgets/controls",
          "model_name": "HTMLModel",
          "model_module_version": "1.5.0",
          "state": {
            "_dom_classes": [],
            "_model_module": "@jupyter-widgets/controls",
            "_model_module_version": "1.5.0",
            "_model_name": "HTMLModel",
            "_view_count": null,
            "_view_module": "@jupyter-widgets/controls",
            "_view_module_version": "1.5.0",
            "_view_name": "HTMLView",
            "description": "",
            "description_tooltip": null,
            "layout": "IPY_MODEL_87ef160c9916495595e80d3e3a25ebce",
            "placeholder": "​",
            "style": "IPY_MODEL_b763ca8779314089b73dbcfb1a2919ff",
            "value": " 438M/438M [00:14&lt;00:00, 53.5MB/s]"
          }
        },
        "a10e814deed24b24a35b051bf637f6bc": {
          "model_module": "@jupyter-widgets/base",
          "model_name": "LayoutModel",
          "model_module_version": "1.2.0",
          "state": {
            "_model_module": "@jupyter-widgets/base",
            "_model_module_version": "1.2.0",
            "_model_name": "LayoutModel",
            "_view_count": null,
            "_view_module": "@jupyter-widgets/base",
            "_view_module_version": "1.2.0",
            "_view_name": "LayoutView",
            "align_content": null,
            "align_items": null,
            "align_self": null,
            "border": null,
            "bottom": null,
            "display": null,
            "flex": null,
            "flex_flow": null,
            "grid_area": null,
            "grid_auto_columns": null,
            "grid_auto_flow": null,
            "grid_auto_rows": null,
            "grid_column": null,
            "grid_gap": null,
            "grid_row": null,
            "grid_template_areas": null,
            "grid_template_columns": null,
            "grid_template_rows": null,
            "height": null,
            "justify_content": null,
            "justify_items": null,
            "left": null,
            "margin": null,
            "max_height": null,
            "max_width": null,
            "min_height": null,
            "min_width": null,
            "object_fit": null,
            "object_position": null,
            "order": null,
            "overflow": null,
            "overflow_x": null,
            "overflow_y": null,
            "padding": null,
            "right": null,
            "top": null,
            "visibility": null,
            "width": null
          }
        },
        "8b0d235691c746eaa2005defb81940a3": {
          "model_module": "@jupyter-widgets/base",
          "model_name": "LayoutModel",
          "model_module_version": "1.2.0",
          "state": {
            "_model_module": "@jupyter-widgets/base",
            "_model_module_version": "1.2.0",
            "_model_name": "LayoutModel",
            "_view_count": null,
            "_view_module": "@jupyter-widgets/base",
            "_view_module_version": "1.2.0",
            "_view_name": "LayoutView",
            "align_content": null,
            "align_items": null,
            "align_self": null,
            "border": null,
            "bottom": null,
            "display": null,
            "flex": null,
            "flex_flow": null,
            "grid_area": null,
            "grid_auto_columns": null,
            "grid_auto_flow": null,
            "grid_auto_rows": null,
            "grid_column": null,
            "grid_gap": null,
            "grid_row": null,
            "grid_template_areas": null,
            "grid_template_columns": null,
            "grid_template_rows": null,
            "height": null,
            "justify_content": null,
            "justify_items": null,
            "left": null,
            "margin": null,
            "max_height": null,
            "max_width": null,
            "min_height": null,
            "min_width": null,
            "object_fit": null,
            "object_position": null,
            "order": null,
            "overflow": null,
            "overflow_x": null,
            "overflow_y": null,
            "padding": null,
            "right": null,
            "top": null,
            "visibility": null,
            "width": null
          }
        },
        "5cbbd861fcf94d82b0997137c0050a7f": {
          "model_module": "@jupyter-widgets/controls",
          "model_name": "DescriptionStyleModel",
          "model_module_version": "1.5.0",
          "state": {
            "_model_module": "@jupyter-widgets/controls",
            "_model_module_version": "1.5.0",
            "_model_name": "DescriptionStyleModel",
            "_view_count": null,
            "_view_module": "@jupyter-widgets/base",
            "_view_module_version": "1.2.0",
            "_view_name": "StyleView",
            "description_width": ""
          }
        },
        "59105c999ccf4bc480d4b14e787fa8a3": {
          "model_module": "@jupyter-widgets/base",
          "model_name": "LayoutModel",
          "model_module_version": "1.2.0",
          "state": {
            "_model_module": "@jupyter-widgets/base",
            "_model_module_version": "1.2.0",
            "_model_name": "LayoutModel",
            "_view_count": null,
            "_view_module": "@jupyter-widgets/base",
            "_view_module_version": "1.2.0",
            "_view_name": "LayoutView",
            "align_content": null,
            "align_items": null,
            "align_self": null,
            "border": null,
            "bottom": null,
            "display": null,
            "flex": null,
            "flex_flow": null,
            "grid_area": null,
            "grid_auto_columns": null,
            "grid_auto_flow": null,
            "grid_auto_rows": null,
            "grid_column": null,
            "grid_gap": null,
            "grid_row": null,
            "grid_template_areas": null,
            "grid_template_columns": null,
            "grid_template_rows": null,
            "height": null,
            "justify_content": null,
            "justify_items": null,
            "left": null,
            "margin": null,
            "max_height": null,
            "max_width": null,
            "min_height": null,
            "min_width": null,
            "object_fit": null,
            "object_position": null,
            "order": null,
            "overflow": null,
            "overflow_x": null,
            "overflow_y": null,
            "padding": null,
            "right": null,
            "top": null,
            "visibility": null,
            "width": null
          }
        },
        "0ffc7e3e8dcd43b9a8120ba78c8ded5d": {
          "model_module": "@jupyter-widgets/controls",
          "model_name": "ProgressStyleModel",
          "model_module_version": "1.5.0",
          "state": {
            "_model_module": "@jupyter-widgets/controls",
            "_model_module_version": "1.5.0",
            "_model_name": "ProgressStyleModel",
            "_view_count": null,
            "_view_module": "@jupyter-widgets/base",
            "_view_module_version": "1.2.0",
            "_view_name": "StyleView",
            "bar_color": null,
            "description_width": ""
          }
        },
        "87ef160c9916495595e80d3e3a25ebce": {
          "model_module": "@jupyter-widgets/base",
          "model_name": "LayoutModel",
          "model_module_version": "1.2.0",
          "state": {
            "_model_module": "@jupyter-widgets/base",
            "_model_module_version": "1.2.0",
            "_model_name": "LayoutModel",
            "_view_count": null,
            "_view_module": "@jupyter-widgets/base",
            "_view_module_version": "1.2.0",
            "_view_name": "LayoutView",
            "align_content": null,
            "align_items": null,
            "align_self": null,
            "border": null,
            "bottom": null,
            "display": null,
            "flex": null,
            "flex_flow": null,
            "grid_area": null,
            "grid_auto_columns": null,
            "grid_auto_flow": null,
            "grid_auto_rows": null,
            "grid_column": null,
            "grid_gap": null,
            "grid_row": null,
            "grid_template_areas": null,
            "grid_template_columns": null,
            "grid_template_rows": null,
            "height": null,
            "justify_content": null,
            "justify_items": null,
            "left": null,
            "margin": null,
            "max_height": null,
            "max_width": null,
            "min_height": null,
            "min_width": null,
            "object_fit": null,
            "object_position": null,
            "order": null,
            "overflow": null,
            "overflow_x": null,
            "overflow_y": null,
            "padding": null,
            "right": null,
            "top": null,
            "visibility": null,
            "width": null
          }
        },
        "b763ca8779314089b73dbcfb1a2919ff": {
          "model_module": "@jupyter-widgets/controls",
          "model_name": "DescriptionStyleModel",
          "model_module_version": "1.5.0",
          "state": {
            "_model_module": "@jupyter-widgets/controls",
            "_model_module_version": "1.5.0",
            "_model_name": "DescriptionStyleModel",
            "_view_count": null,
            "_view_module": "@jupyter-widgets/base",
            "_view_module_version": "1.2.0",
            "_view_name": "StyleView",
            "description_width": ""
          }
        }
      }
    }
  },
  "cells": [
    {
      "cell_type": "markdown",
      "source": [
        "# Topic Modeling\n",
        "\n",
        "Using BERTopic"
      ],
      "metadata": {
        "id": "Cfq-989XZIke"
      }
    },
    {
      "cell_type": "markdown",
      "source": [
        "## Set up environment"
      ],
      "metadata": {
        "id": "0UDrDczyaZBw"
      }
    },
    {
      "cell_type": "markdown",
      "source": [
        "you'll need to enable GPUs for the notebook:\n",
        "\n",
        "- Navigate to Edit→Notebook Settings\n",
        "- select GPU from the Hardware Accelerator drop-down"
      ],
      "metadata": {
        "id": "ZrZ_rgcYZVlI"
      }
    },
    {
      "cell_type": "code",
      "source": [
        "!pip install transformers\n",
        "!pip install torch\n",
        "!pip install datasets\n",
        "!pip install bertopic[flair]\n",
        "#!pip install sentence_transformers\n",
        "#!pip install bertopic"
      ],
      "metadata": {
        "id": "rvsHzDZvZK2e",
        "colab": {
          "base_uri": "https://localhost:8080/"
        },
        "outputId": "53f5e341-5154-4555-b320-c65b91dfe4b9"
      },
      "execution_count": 1,
      "outputs": [
        {
          "output_type": "stream",
          "name": "stdout",
          "text": [
            "Collecting transformers\n",
            "  Downloading transformers-4.18.0-py3-none-any.whl (4.0 MB)\n",
            "\u001b[K     |████████████████████████████████| 4.0 MB 31.6 MB/s \n",
            "\u001b[?25hRequirement already satisfied: packaging>=20.0 in /usr/local/lib/python3.7/dist-packages (from transformers) (21.3)\n",
            "Collecting tokenizers!=0.11.3,<0.13,>=0.11.1\n",
            "  Downloading tokenizers-0.12.1-cp37-cp37m-manylinux_2_12_x86_64.manylinux2010_x86_64.whl (6.6 MB)\n",
            "\u001b[K     |████████████████████████████████| 6.6 MB 53.3 MB/s \n",
            "\u001b[?25hCollecting huggingface-hub<1.0,>=0.1.0\n",
            "  Downloading huggingface_hub-0.5.1-py3-none-any.whl (77 kB)\n",
            "\u001b[K     |████████████████████████████████| 77 kB 7.1 MB/s \n",
            "\u001b[?25hRequirement already satisfied: filelock in /usr/local/lib/python3.7/dist-packages (from transformers) (3.6.0)\n",
            "Requirement already satisfied: regex!=2019.12.17 in /usr/local/lib/python3.7/dist-packages (from transformers) (2019.12.20)\n",
            "Requirement already satisfied: numpy>=1.17 in /usr/local/lib/python3.7/dist-packages (from transformers) (1.21.5)\n",
            "Collecting pyyaml>=5.1\n",
            "  Downloading PyYAML-6.0-cp37-cp37m-manylinux_2_5_x86_64.manylinux1_x86_64.manylinux_2_12_x86_64.manylinux2010_x86_64.whl (596 kB)\n",
            "\u001b[K     |████████████████████████████████| 596 kB 69.7 MB/s \n",
            "\u001b[?25hRequirement already satisfied: tqdm>=4.27 in /usr/local/lib/python3.7/dist-packages (from transformers) (4.64.0)\n",
            "Collecting sacremoses\n",
            "  Downloading sacremoses-0.0.49-py3-none-any.whl (895 kB)\n",
            "\u001b[K     |████████████████████████████████| 895 kB 69.5 MB/s \n",
            "\u001b[?25hRequirement already satisfied: importlib-metadata in /usr/local/lib/python3.7/dist-packages (from transformers) (4.11.3)\n",
            "Requirement already satisfied: requests in /usr/local/lib/python3.7/dist-packages (from transformers) (2.23.0)\n",
            "Requirement already satisfied: typing-extensions>=3.7.4.3 in /usr/local/lib/python3.7/dist-packages (from huggingface-hub<1.0,>=0.1.0->transformers) (4.1.1)\n",
            "Requirement already satisfied: pyparsing!=3.0.5,>=2.0.2 in /usr/local/lib/python3.7/dist-packages (from packaging>=20.0->transformers) (3.0.8)\n",
            "Requirement already satisfied: zipp>=0.5 in /usr/local/lib/python3.7/dist-packages (from importlib-metadata->transformers) (3.8.0)\n",
            "Requirement already satisfied: chardet<4,>=3.0.2 in /usr/local/lib/python3.7/dist-packages (from requests->transformers) (3.0.4)\n",
            "Requirement already satisfied: certifi>=2017.4.17 in /usr/local/lib/python3.7/dist-packages (from requests->transformers) (2021.10.8)\n",
            "Requirement already satisfied: urllib3!=1.25.0,!=1.25.1,<1.26,>=1.21.1 in /usr/local/lib/python3.7/dist-packages (from requests->transformers) (1.24.3)\n",
            "Requirement already satisfied: idna<3,>=2.5 in /usr/local/lib/python3.7/dist-packages (from requests->transformers) (2.10)\n",
            "Requirement already satisfied: click in /usr/local/lib/python3.7/dist-packages (from sacremoses->transformers) (7.1.2)\n",
            "Requirement already satisfied: six in /usr/local/lib/python3.7/dist-packages (from sacremoses->transformers) (1.15.0)\n",
            "Requirement already satisfied: joblib in /usr/local/lib/python3.7/dist-packages (from sacremoses->transformers) (1.1.0)\n",
            "Installing collected packages: pyyaml, tokenizers, sacremoses, huggingface-hub, transformers\n",
            "  Attempting uninstall: pyyaml\n",
            "    Found existing installation: PyYAML 3.13\n",
            "    Uninstalling PyYAML-3.13:\n",
            "      Successfully uninstalled PyYAML-3.13\n",
            "Successfully installed huggingface-hub-0.5.1 pyyaml-6.0 sacremoses-0.0.49 tokenizers-0.12.1 transformers-4.18.0\n",
            "Requirement already satisfied: torch in /usr/local/lib/python3.7/dist-packages (1.10.0+cu111)\n",
            "Requirement already satisfied: typing-extensions in /usr/local/lib/python3.7/dist-packages (from torch) (4.1.1)\n",
            "Collecting datasets\n",
            "  Downloading datasets-2.1.0-py3-none-any.whl (325 kB)\n",
            "\u001b[K     |████████████████████████████████| 325 kB 11.6 MB/s \n",
            "\u001b[?25hCollecting responses<0.19\n",
            "  Downloading responses-0.18.0-py3-none-any.whl (38 kB)\n",
            "Requirement already satisfied: dill in /usr/local/lib/python3.7/dist-packages (from datasets) (0.3.4)\n",
            "Requirement already satisfied: pyarrow>=5.0.0 in /usr/local/lib/python3.7/dist-packages (from datasets) (6.0.1)\n",
            "Requirement already satisfied: huggingface-hub<1.0.0,>=0.1.0 in /usr/local/lib/python3.7/dist-packages (from datasets) (0.5.1)\n",
            "Requirement already satisfied: packaging in /usr/local/lib/python3.7/dist-packages (from datasets) (21.3)\n",
            "Requirement already satisfied: importlib-metadata in /usr/local/lib/python3.7/dist-packages (from datasets) (4.11.3)\n",
            "Requirement already satisfied: requests>=2.19.0 in /usr/local/lib/python3.7/dist-packages (from datasets) (2.23.0)\n",
            "Collecting xxhash\n",
            "  Downloading xxhash-3.0.0-cp37-cp37m-manylinux_2_17_x86_64.manylinux2014_x86_64.whl (212 kB)\n",
            "\u001b[K     |████████████████████████████████| 212 kB 44.3 MB/s \n",
            "\u001b[?25hCollecting fsspec[http]>=2021.05.0\n",
            "  Downloading fsspec-2022.3.0-py3-none-any.whl (136 kB)\n",
            "\u001b[K     |████████████████████████████████| 136 kB 50.7 MB/s \n",
            "\u001b[?25hRequirement already satisfied: numpy>=1.17 in /usr/local/lib/python3.7/dist-packages (from datasets) (1.21.5)\n",
            "Collecting aiohttp\n",
            "  Downloading aiohttp-3.8.1-cp37-cp37m-manylinux_2_5_x86_64.manylinux1_x86_64.manylinux_2_12_x86_64.manylinux2010_x86_64.whl (1.1 MB)\n",
            "\u001b[K     |████████████████████████████████| 1.1 MB 14.0 MB/s \n",
            "\u001b[?25hRequirement already satisfied: pandas in /usr/local/lib/python3.7/dist-packages (from datasets) (1.3.5)\n",
            "Requirement already satisfied: tqdm>=4.62.1 in /usr/local/lib/python3.7/dist-packages (from datasets) (4.64.0)\n",
            "Requirement already satisfied: multiprocess in /usr/local/lib/python3.7/dist-packages (from datasets) (0.70.12.2)\n",
            "Requirement already satisfied: typing-extensions>=3.7.4.3 in /usr/local/lib/python3.7/dist-packages (from huggingface-hub<1.0.0,>=0.1.0->datasets) (4.1.1)\n",
            "Requirement already satisfied: pyyaml in /usr/local/lib/python3.7/dist-packages (from huggingface-hub<1.0.0,>=0.1.0->datasets) (6.0)\n",
            "Requirement already satisfied: filelock in /usr/local/lib/python3.7/dist-packages (from huggingface-hub<1.0.0,>=0.1.0->datasets) (3.6.0)\n",
            "Requirement already satisfied: pyparsing!=3.0.5,>=2.0.2 in /usr/local/lib/python3.7/dist-packages (from packaging->datasets) (3.0.8)\n",
            "Requirement already satisfied: chardet<4,>=3.0.2 in /usr/local/lib/python3.7/dist-packages (from requests>=2.19.0->datasets) (3.0.4)\n",
            "Requirement already satisfied: idna<3,>=2.5 in /usr/local/lib/python3.7/dist-packages (from requests>=2.19.0->datasets) (2.10)\n",
            "Requirement already satisfied: urllib3!=1.25.0,!=1.25.1,<1.26,>=1.21.1 in /usr/local/lib/python3.7/dist-packages (from requests>=2.19.0->datasets) (1.24.3)\n",
            "Requirement already satisfied: certifi>=2017.4.17 in /usr/local/lib/python3.7/dist-packages (from requests>=2.19.0->datasets) (2021.10.8)\n",
            "Collecting urllib3!=1.25.0,!=1.25.1,<1.26,>=1.21.1\n",
            "  Downloading urllib3-1.25.11-py2.py3-none-any.whl (127 kB)\n",
            "\u001b[K     |████████████████████████████████| 127 kB 55.2 MB/s \n",
            "\u001b[?25hCollecting frozenlist>=1.1.1\n",
            "  Downloading frozenlist-1.3.0-cp37-cp37m-manylinux_2_5_x86_64.manylinux1_x86_64.manylinux_2_17_x86_64.manylinux2014_x86_64.whl (144 kB)\n",
            "\u001b[K     |████████████████████████████████| 144 kB 56.3 MB/s \n",
            "\u001b[?25hCollecting yarl<2.0,>=1.0\n",
            "  Downloading yarl-1.7.2-cp37-cp37m-manylinux_2_5_x86_64.manylinux1_x86_64.manylinux_2_12_x86_64.manylinux2010_x86_64.whl (271 kB)\n",
            "\u001b[K     |████████████████████████████████| 271 kB 60.6 MB/s \n",
            "\u001b[?25hRequirement already satisfied: charset-normalizer<3.0,>=2.0 in /usr/local/lib/python3.7/dist-packages (from aiohttp->datasets) (2.0.12)\n",
            "Collecting asynctest==0.13.0\n",
            "  Downloading asynctest-0.13.0-py3-none-any.whl (26 kB)\n",
            "Requirement already satisfied: attrs>=17.3.0 in /usr/local/lib/python3.7/dist-packages (from aiohttp->datasets) (21.4.0)\n",
            "Collecting aiosignal>=1.1.2\n",
            "  Downloading aiosignal-1.2.0-py3-none-any.whl (8.2 kB)\n",
            "Collecting multidict<7.0,>=4.5\n",
            "  Downloading multidict-6.0.2-cp37-cp37m-manylinux_2_17_x86_64.manylinux2014_x86_64.whl (94 kB)\n",
            "\u001b[K     |████████████████████████████████| 94 kB 4.3 MB/s \n",
            "\u001b[?25hCollecting async-timeout<5.0,>=4.0.0a3\n",
            "  Downloading async_timeout-4.0.2-py3-none-any.whl (5.8 kB)\n",
            "Requirement already satisfied: zipp>=0.5 in /usr/local/lib/python3.7/dist-packages (from importlib-metadata->datasets) (3.8.0)\n",
            "Requirement already satisfied: pytz>=2017.3 in /usr/local/lib/python3.7/dist-packages (from pandas->datasets) (2018.9)\n",
            "Requirement already satisfied: python-dateutil>=2.7.3 in /usr/local/lib/python3.7/dist-packages (from pandas->datasets) (2.8.2)\n",
            "Requirement already satisfied: six>=1.5 in /usr/local/lib/python3.7/dist-packages (from python-dateutil>=2.7.3->pandas->datasets) (1.15.0)\n",
            "Installing collected packages: multidict, frozenlist, yarl, urllib3, asynctest, async-timeout, aiosignal, fsspec, aiohttp, xxhash, responses, datasets\n",
            "  Attempting uninstall: urllib3\n",
            "    Found existing installation: urllib3 1.24.3\n",
            "    Uninstalling urllib3-1.24.3:\n",
            "      Successfully uninstalled urllib3-1.24.3\n",
            "\u001b[31mERROR: pip's dependency resolver does not currently take into account all the packages that are installed. This behaviour is the source of the following dependency conflicts.\n",
            "datascience 0.10.6 requires folium==0.2.1, but you have folium 0.8.3 which is incompatible.\u001b[0m\n",
            "Successfully installed aiohttp-3.8.1 aiosignal-1.2.0 async-timeout-4.0.2 asynctest-0.13.0 datasets-2.1.0 frozenlist-1.3.0 fsspec-2022.3.0 multidict-6.0.2 responses-0.18.0 urllib3-1.25.11 xxhash-3.0.0 yarl-1.7.2\n",
            "Collecting bertopic[flair]\n",
            "  Downloading bertopic-0.9.4-py2.py3-none-any.whl (57 kB)\n",
            "\u001b[K     |████████████████████████████████| 57 kB 6.5 MB/s \n",
            "\u001b[?25hCollecting umap-learn>=0.5.0\n",
            "  Downloading umap-learn-0.5.3.tar.gz (88 kB)\n",
            "\u001b[K     |████████████████████████████████| 88 kB 9.5 MB/s \n",
            "\u001b[?25hRequirement already satisfied: pandas>=1.1.5 in /usr/local/lib/python3.7/dist-packages (from bertopic[flair]) (1.3.5)\n",
            "Requirement already satisfied: plotly>=4.7.0 in /usr/local/lib/python3.7/dist-packages (from bertopic[flair]) (5.5.0)\n",
            "Requirement already satisfied: numpy>=1.20.0 in /usr/local/lib/python3.7/dist-packages (from bertopic[flair]) (1.21.5)\n",
            "Requirement already satisfied: scikit-learn>=0.22.2.post1 in /usr/local/lib/python3.7/dist-packages (from bertopic[flair]) (1.0.2)\n",
            "Collecting pyyaml<6.0\n",
            "  Downloading PyYAML-5.4.1-cp37-cp37m-manylinux1_x86_64.whl (636 kB)\n",
            "\u001b[K     |████████████████████████████████| 636 kB 58.5 MB/s \n",
            "\u001b[?25hCollecting hdbscan>=0.8.27\n",
            "  Downloading hdbscan-0.8.28.tar.gz (5.2 MB)\n",
            "\u001b[K     |████████████████████████████████| 5.2 MB 66.8 MB/s \n",
            "\u001b[?25h  Installing build dependencies ... \u001b[?25l\u001b[?25hdone\n",
            "  Getting requirements to build wheel ... \u001b[?25l\u001b[?25hdone\n",
            "    Preparing wheel metadata ... \u001b[?25l\u001b[?25hdone\n",
            "Requirement already satisfied: tqdm>=4.41.1 in /usr/local/lib/python3.7/dist-packages (from bertopic[flair]) (4.64.0)\n",
            "Collecting sentence-transformers>=0.4.1\n",
            "  Downloading sentence-transformers-2.2.0.tar.gz (79 kB)\n",
            "\u001b[K     |████████████████████████████████| 79 kB 11.4 MB/s \n",
            "\u001b[?25hCollecting torch<1.7.1,>=1.4.0\n",
            "  Downloading torch-1.7.0-cp37-cp37m-manylinux1_x86_64.whl (776.7 MB)\n",
            "\u001b[K     |████████████████████████████████| 776.7 MB 4.6 kB/s \n",
            "\u001b[?25hCollecting flair==0.7\n",
            "  Downloading flair-0.7-py3-none-any.whl (448 kB)\n",
            "\u001b[K     |████████████████████████████████| 448 kB 65.1 MB/s \n",
            "\u001b[?25hCollecting transformers==3.5.1\n",
            "  Downloading transformers-3.5.1-py3-none-any.whl (1.3 MB)\n",
            "\u001b[K     |████████████████████████████████| 1.3 MB 32.4 MB/s \n",
            "\u001b[?25hRequirement already satisfied: gensim<=3.8.3,>=3.4.0 in /usr/local/lib/python3.7/dist-packages (from flair==0.7->bertopic[flair]) (3.6.0)\n",
            "Requirement already satisfied: hyperopt>=0.1.1 in /usr/local/lib/python3.7/dist-packages (from flair==0.7->bertopic[flair]) (0.1.2)\n",
            "Requirement already satisfied: tabulate in /usr/local/lib/python3.7/dist-packages (from flair==0.7->bertopic[flair]) (0.8.9)\n",
            "Requirement already satisfied: gdown in /usr/local/lib/python3.7/dist-packages (from flair==0.7->bertopic[flair]) (4.4.0)\n",
            "Collecting deprecated>=1.2.4\n",
            "  Downloading Deprecated-1.2.13-py2.py3-none-any.whl (9.6 kB)\n",
            "Collecting ftfy\n",
            "  Downloading ftfy-6.1.1-py3-none-any.whl (53 kB)\n",
            "\u001b[K     |████████████████████████████████| 53 kB 2.2 MB/s \n",
            "\u001b[?25hCollecting langdetect\n",
            "  Downloading langdetect-1.0.9.tar.gz (981 kB)\n",
            "\u001b[K     |████████████████████████████████| 981 kB 60.2 MB/s \n",
            "\u001b[?25hRequirement already satisfied: python-dateutil>=2.6.1 in /usr/local/lib/python3.7/dist-packages (from flair==0.7->bertopic[flair]) (2.8.2)\n",
            "Requirement already satisfied: lxml in /usr/local/lib/python3.7/dist-packages (from flair==0.7->bertopic[flair]) (4.2.6)\n",
            "Collecting janome\n",
            "  Downloading Janome-0.4.2-py2.py3-none-any.whl (19.7 MB)\n",
            "\u001b[K     |████████████████████████████████| 19.7 MB 87.6 MB/s \n",
            "\u001b[?25hCollecting mpld3==0.3\n",
            "  Downloading mpld3-0.3.tar.gz (788 kB)\n",
            "\u001b[K     |████████████████████████████████| 788 kB 40.0 MB/s \n",
            "\u001b[?25hCollecting sqlitedict>=1.6.0\n",
            "  Downloading sqlitedict-2.0.0.tar.gz (46 kB)\n",
            "\u001b[K     |████████████████████████████████| 46 kB 5.5 MB/s \n",
            "\u001b[?25hCollecting bpemb>=0.3.2\n",
            "  Downloading bpemb-0.3.3-py3-none-any.whl (19 kB)\n",
            "Requirement already satisfied: matplotlib>=2.2.3 in /usr/local/lib/python3.7/dist-packages (from flair==0.7->bertopic[flair]) (3.2.2)\n",
            "Collecting segtok>=1.5.7\n",
            "  Downloading segtok-1.5.11-py3-none-any.whl (24 kB)\n",
            "Collecting sentencepiece<=0.1.91\n",
            "  Downloading sentencepiece-0.1.91-cp37-cp37m-manylinux1_x86_64.whl (1.1 MB)\n",
            "\u001b[K     |████████████████████████████████| 1.1 MB 55.3 MB/s \n",
            "\u001b[?25hCollecting konoha<5.0.0,>=4.0.0\n",
            "  Downloading konoha-4.6.5-py3-none-any.whl (20 kB)\n",
            "Requirement already satisfied: regex in /usr/local/lib/python3.7/dist-packages (from flair==0.7->bertopic[flair]) (2019.12.20)\n",
            "Requirement already satisfied: protobuf in /usr/local/lib/python3.7/dist-packages (from transformers==3.5.1->bertopic[flair]) (3.17.3)\n",
            "Requirement already satisfied: packaging in /usr/local/lib/python3.7/dist-packages (from transformers==3.5.1->bertopic[flair]) (21.3)\n",
            "Requirement already satisfied: sacremoses in /usr/local/lib/python3.7/dist-packages (from transformers==3.5.1->bertopic[flair]) (0.0.49)\n",
            "Collecting tokenizers==0.9.3\n",
            "  Downloading tokenizers-0.9.3-cp37-cp37m-manylinux1_x86_64.whl (2.9 MB)\n",
            "\u001b[K     |████████████████████████████████| 2.9 MB 56.3 MB/s \n",
            "\u001b[?25hRequirement already satisfied: filelock in /usr/local/lib/python3.7/dist-packages (from transformers==3.5.1->bertopic[flair]) (3.6.0)\n",
            "Requirement already satisfied: requests in /usr/local/lib/python3.7/dist-packages (from transformers==3.5.1->bertopic[flair]) (2.23.0)\n",
            "Requirement already satisfied: wrapt<2,>=1.10 in /usr/local/lib/python3.7/dist-packages (from deprecated>=1.2.4->flair==0.7->bertopic[flair]) (1.14.0)\n",
            "Requirement already satisfied: smart-open>=1.2.1 in /usr/local/lib/python3.7/dist-packages (from gensim<=3.8.3,>=3.4.0->flair==0.7->bertopic[flair]) (5.2.1)\n",
            "Requirement already satisfied: six>=1.5.0 in /usr/local/lib/python3.7/dist-packages (from gensim<=3.8.3,>=3.4.0->flair==0.7->bertopic[flair]) (1.15.0)\n",
            "Requirement already satisfied: scipy>=0.18.1 in /usr/local/lib/python3.7/dist-packages (from gensim<=3.8.3,>=3.4.0->flair==0.7->bertopic[flair]) (1.4.1)\n",
            "Requirement already satisfied: cython>=0.27 in /usr/local/lib/python3.7/dist-packages (from hdbscan>=0.8.27->bertopic[flair]) (0.29.28)\n",
            "Requirement already satisfied: joblib>=1.0 in /usr/local/lib/python3.7/dist-packages (from hdbscan>=0.8.27->bertopic[flair]) (1.1.0)\n",
            "Requirement already satisfied: networkx in /usr/local/lib/python3.7/dist-packages (from hyperopt>=0.1.1->flair==0.7->bertopic[flair]) (2.6.3)\n",
            "Requirement already satisfied: pymongo in /usr/local/lib/python3.7/dist-packages (from hyperopt>=0.1.1->flair==0.7->bertopic[flair]) (4.1.0)\n",
            "Requirement already satisfied: future in /usr/local/lib/python3.7/dist-packages (from hyperopt>=0.1.1->flair==0.7->bertopic[flair]) (0.16.0)\n",
            "Collecting importlib-metadata<4.0.0,>=3.7.0\n",
            "  Downloading importlib_metadata-3.10.1-py3-none-any.whl (14 kB)\n",
            "Collecting requests\n",
            "  Downloading requests-2.27.1-py2.py3-none-any.whl (63 kB)\n",
            "\u001b[K     |████████████████████████████████| 63 kB 2.2 MB/s \n",
            "\u001b[?25hCollecting overrides<4.0.0,>=3.0.0\n",
            "  Downloading overrides-3.1.0.tar.gz (11 kB)\n",
            "Requirement already satisfied: zipp>=0.5 in /usr/local/lib/python3.7/dist-packages (from importlib-metadata<4.0.0,>=3.7.0->konoha<5.0.0,>=4.0.0->flair==0.7->bertopic[flair]) (3.8.0)\n",
            "Requirement already satisfied: typing-extensions>=3.6.4 in /usr/local/lib/python3.7/dist-packages (from importlib-metadata<4.0.0,>=3.7.0->konoha<5.0.0,>=4.0.0->flair==0.7->bertopic[flair]) (4.1.1)\n",
            "Requirement already satisfied: kiwisolver>=1.0.1 in /usr/local/lib/python3.7/dist-packages (from matplotlib>=2.2.3->flair==0.7->bertopic[flair]) (1.4.2)\n",
            "Requirement already satisfied: cycler>=0.10 in /usr/local/lib/python3.7/dist-packages (from matplotlib>=2.2.3->flair==0.7->bertopic[flair]) (0.11.0)\n",
            "Requirement already satisfied: pyparsing!=2.0.4,!=2.1.2,!=2.1.6,>=2.0.1 in /usr/local/lib/python3.7/dist-packages (from matplotlib>=2.2.3->flair==0.7->bertopic[flair]) (3.0.8)\n",
            "Requirement already satisfied: pytz>=2017.3 in /usr/local/lib/python3.7/dist-packages (from pandas>=1.1.5->bertopic[flair]) (2018.9)\n",
            "Requirement already satisfied: tenacity>=6.2.0 in /usr/local/lib/python3.7/dist-packages (from plotly>=4.7.0->bertopic[flair]) (8.0.1)\n",
            "Requirement already satisfied: charset-normalizer~=2.0.0 in /usr/local/lib/python3.7/dist-packages (from requests->transformers==3.5.1->bertopic[flair]) (2.0.12)\n",
            "Requirement already satisfied: idna<4,>=2.5 in /usr/local/lib/python3.7/dist-packages (from requests->transformers==3.5.1->bertopic[flair]) (2.10)\n",
            "Requirement already satisfied: certifi>=2017.4.17 in /usr/local/lib/python3.7/dist-packages (from requests->transformers==3.5.1->bertopic[flair]) (2021.10.8)\n",
            "Requirement already satisfied: urllib3<1.27,>=1.21.1 in /usr/local/lib/python3.7/dist-packages (from requests->transformers==3.5.1->bertopic[flair]) (1.25.11)\n",
            "Requirement already satisfied: threadpoolctl>=2.0.0 in /usr/local/lib/python3.7/dist-packages (from scikit-learn>=0.22.2.post1->bertopic[flair]) (3.1.0)\n",
            "Collecting sentence-transformers>=0.4.1\n",
            "  Downloading sentence-transformers-2.1.0.tar.gz (78 kB)\n",
            "\u001b[K     |████████████████████████████████| 78 kB 8.4 MB/s \n",
            "\u001b[?25h  Downloading sentence-transformers-2.0.0.tar.gz (85 kB)\n",
            "\u001b[K     |████████████████████████████████| 85 kB 5.2 MB/s \n",
            "\u001b[?25h  Downloading sentence-transformers-1.2.1.tar.gz (80 kB)\n",
            "\u001b[K     |████████████████████████████████| 80 kB 10.9 MB/s \n",
            "\u001b[?25hRequirement already satisfied: torchvision in /usr/local/lib/python3.7/dist-packages (from sentence-transformers>=0.4.1->bertopic[flair]) (0.11.1+cu111)\n",
            "Requirement already satisfied: nltk in /usr/local/lib/python3.7/dist-packages (from sentence-transformers>=0.4.1->bertopic[flair]) (3.2.5)\n",
            "Collecting dataclasses\n",
            "  Downloading dataclasses-0.6-py3-none-any.whl (14 kB)\n",
            "Requirement already satisfied: numba>=0.49 in /usr/local/lib/python3.7/dist-packages (from umap-learn>=0.5.0->bertopic[flair]) (0.51.2)\n",
            "Collecting pynndescent>=0.5\n",
            "  Downloading pynndescent-0.5.6.tar.gz (1.1 MB)\n",
            "\u001b[K     |████████████████████████████████| 1.1 MB 61.8 MB/s \n",
            "\u001b[?25hRequirement already satisfied: setuptools in /usr/local/lib/python3.7/dist-packages (from numba>=0.49->umap-learn>=0.5.0->bertopic[flair]) (57.4.0)\n",
            "Requirement already satisfied: llvmlite<0.35,>=0.34.0.dev0 in /usr/local/lib/python3.7/dist-packages (from numba>=0.49->umap-learn>=0.5.0->bertopic[flair]) (0.34.0)\n",
            "Requirement already satisfied: wcwidth>=0.2.5 in /usr/local/lib/python3.7/dist-packages (from ftfy->flair==0.7->bertopic[flair]) (0.2.5)\n",
            "Requirement already satisfied: beautifulsoup4 in /usr/local/lib/python3.7/dist-packages (from gdown->flair==0.7->bertopic[flair]) (4.6.3)\n",
            "Requirement already satisfied: PySocks!=1.5.7,>=1.5.6 in /usr/local/lib/python3.7/dist-packages (from requests->transformers==3.5.1->bertopic[flair]) (1.7.1)\n",
            "Requirement already satisfied: click in /usr/local/lib/python3.7/dist-packages (from sacremoses->transformers==3.5.1->bertopic[flair]) (7.1.2)\n",
            "Requirement already satisfied: pillow!=8.3.0,>=5.3.0 in /usr/local/lib/python3.7/dist-packages (from torchvision->sentence-transformers>=0.4.1->bertopic[flair]) (7.1.2)\n",
            "Collecting torchvision\n",
            "  Downloading torchvision-0.12.0-cp37-cp37m-manylinux1_x86_64.whl (21.0 MB)\n",
            "\u001b[K     |████████████████████████████████| 21.0 MB 1.4 MB/s \n",
            "\u001b[?25h  Downloading torchvision-0.11.3-cp37-cp37m-manylinux1_x86_64.whl (23.2 MB)\n",
            "\u001b[K     |████████████████████████████████| 23.2 MB 1.3 MB/s \n",
            "\u001b[?25h  Downloading torchvision-0.11.2-cp37-cp37m-manylinux1_x86_64.whl (23.3 MB)\n",
            "\u001b[K     |████████████████████████████████| 23.3 MB 1.4 MB/s \n",
            "\u001b[?25h  Downloading torchvision-0.11.1-cp37-cp37m-manylinux1_x86_64.whl (23.3 MB)\n",
            "\u001b[K     |████████████████████████████████| 23.3 MB 95.4 MB/s \n",
            "\u001b[?25h  Downloading torchvision-0.10.1-cp37-cp37m-manylinux1_x86_64.whl (22.1 MB)\n",
            "\u001b[K     |████████████████████████████████| 22.1 MB 1.4 MB/s \n",
            "\u001b[?25h  Downloading torchvision-0.10.0-cp37-cp37m-manylinux1_x86_64.whl (22.1 MB)\n",
            "\u001b[K     |████████████████████████████████| 22.1 MB 1.2 MB/s \n",
            "\u001b[?25h  Downloading torchvision-0.9.1-cp37-cp37m-manylinux1_x86_64.whl (17.4 MB)\n",
            "\u001b[K     |████████████████████████████████| 17.4 MB 14.1 MB/s \n",
            "\u001b[?25h  Downloading torchvision-0.9.0-cp37-cp37m-manylinux1_x86_64.whl (17.3 MB)\n",
            "\u001b[K     |████████████████████████████████| 17.3 MB 26.5 MB/s \n",
            "\u001b[?25h  Downloading torchvision-0.8.2-cp37-cp37m-manylinux1_x86_64.whl (12.8 MB)\n",
            "\u001b[K     |████████████████████████████████| 12.8 MB 27 kB/s \n",
            "\u001b[?25h  Downloading torchvision-0.8.1-cp37-cp37m-manylinux1_x86_64.whl (12.7 MB)\n",
            "\u001b[K     |████████████████████████████████| 12.7 MB 35.0 MB/s \n",
            "\u001b[?25hBuilding wheels for collected packages: mpld3, hdbscan, overrides, sentence-transformers, sqlitedict, umap-learn, pynndescent, langdetect\n",
            "  Building wheel for mpld3 (setup.py) ... \u001b[?25l\u001b[?25hdone\n",
            "  Created wheel for mpld3: filename=mpld3-0.3-py3-none-any.whl size=116702 sha256=6d702a99600ac9661e9573a815d5a8aead02d11a1f68967ec27b3ee78e433458\n",
            "  Stored in directory: /root/.cache/pip/wheels/26/70/6a/1c79e59951a41b4045497da187b2724f5659ca64033cf4548e\n",
            "  Building wheel for hdbscan (PEP 517) ... \u001b[?25l\u001b[?25hdone\n",
            "  Created wheel for hdbscan: filename=hdbscan-0.8.28-cp37-cp37m-linux_x86_64.whl size=2330899 sha256=a0ca37567cff19750f54625d254b12640b43086b08b61130cc8557af133aa2ee\n",
            "  Stored in directory: /root/.cache/pip/wheels/6e/7a/5e/259ccc841c085fc41b99ef4a71e896b62f5161f2bc8a14c97a\n",
            "  Building wheel for overrides (setup.py) ... \u001b[?25l\u001b[?25hdone\n",
            "  Created wheel for overrides: filename=overrides-3.1.0-py3-none-any.whl size=10187 sha256=cae73f5a0fee51995b44aa1183fe21d83a51c45a29b95356f584ffd89f8b3677\n",
            "  Stored in directory: /root/.cache/pip/wheels/3a/0d/38/01a9bc6e20dcfaf0a6a7b552d03137558ba1c38aea47644682\n",
            "  Building wheel for sentence-transformers (setup.py) ... \u001b[?25l\u001b[?25hdone\n",
            "  Created wheel for sentence-transformers: filename=sentence_transformers-1.2.1-py3-none-any.whl size=123299 sha256=1d61d98a74bb01e2873abfe0d95727f6d1d8474220859fb815713b1835697d6c\n",
            "  Stored in directory: /root/.cache/pip/wheels/53/f2/3a/b9159c4e43a6a4aa2751421ff5dfe69231fbcc91f7efbc4d2f\n",
            "  Building wheel for sqlitedict (setup.py) ... \u001b[?25l\u001b[?25hdone\n",
            "  Created wheel for sqlitedict: filename=sqlitedict-2.0.0-py3-none-any.whl size=15736 sha256=849e628bf8d5736dbcc4fa72a5d5141071a2cfb59a9cce7e09fe7f2067faba3a\n",
            "  Stored in directory: /root/.cache/pip/wheels/96/dd/2e/0ed4a25cb73fc30c7ea8d10b50acb7226175736067e40a7ea3\n",
            "  Building wheel for umap-learn (setup.py) ... \u001b[?25l\u001b[?25hdone\n",
            "  Created wheel for umap-learn: filename=umap_learn-0.5.3-py3-none-any.whl size=82829 sha256=856e73fd38dd729454f06c0416a8824b03b68f5ff82260fdf7e3f0d442ad5ee5\n",
            "  Stored in directory: /root/.cache/pip/wheels/b3/52/a5/1fd9e3e76a7ab34f134c07469cd6f16e27ef3a37aeff1fe821\n",
            "  Building wheel for pynndescent (setup.py) ... \u001b[?25l\u001b[?25hdone\n",
            "  Created wheel for pynndescent: filename=pynndescent-0.5.6-py3-none-any.whl size=53943 sha256=cdd0592e1ce3395e699f0f0fad860620f7da242de9b2dd1c16402af1e1c75587\n",
            "  Stored in directory: /root/.cache/pip/wheels/03/f1/56/f80d72741e400345b5a5b50ec3d929aca581bf45e0225d5c50\n",
            "  Building wheel for langdetect (setup.py) ... \u001b[?25l\u001b[?25hdone\n",
            "  Created wheel for langdetect: filename=langdetect-1.0.9-py3-none-any.whl size=993242 sha256=3e25977550a21373526310c48ab3a5cd11410ff9b3ab76801b77750819db1ed9\n",
            "  Stored in directory: /root/.cache/pip/wheels/c5/96/8a/f90c59ed25d75e50a8c10a1b1c2d4c402e4dacfa87f3aff36a\n",
            "Successfully built mpld3 hdbscan overrides sentence-transformers sqlitedict umap-learn pynndescent langdetect\n",
            "Installing collected packages: dataclasses, torch, tokenizers, sentencepiece, requests, transformers, torchvision, pynndescent, overrides, importlib-metadata, umap-learn, sqlitedict, sentence-transformers, segtok, pyyaml, mpld3, langdetect, konoha, janome, hdbscan, ftfy, deprecated, bpemb, flair, bertopic\n",
            "  Attempting uninstall: torch\n",
            "    Found existing installation: torch 1.10.0+cu111\n",
            "    Uninstalling torch-1.10.0+cu111:\n",
            "      Successfully uninstalled torch-1.10.0+cu111\n",
            "  Attempting uninstall: tokenizers\n",
            "    Found existing installation: tokenizers 0.12.1\n",
            "    Uninstalling tokenizers-0.12.1:\n",
            "      Successfully uninstalled tokenizers-0.12.1\n",
            "  Attempting uninstall: requests\n",
            "    Found existing installation: requests 2.23.0\n",
            "    Uninstalling requests-2.23.0:\n",
            "      Successfully uninstalled requests-2.23.0\n",
            "  Attempting uninstall: transformers\n",
            "    Found existing installation: transformers 4.18.0\n",
            "    Uninstalling transformers-4.18.0:\n",
            "      Successfully uninstalled transformers-4.18.0\n",
            "  Attempting uninstall: torchvision\n",
            "    Found existing installation: torchvision 0.11.1+cu111\n",
            "    Uninstalling torchvision-0.11.1+cu111:\n",
            "      Successfully uninstalled torchvision-0.11.1+cu111\n",
            "  Attempting uninstall: importlib-metadata\n",
            "    Found existing installation: importlib-metadata 4.11.3\n",
            "    Uninstalling importlib-metadata-4.11.3:\n",
            "      Successfully uninstalled importlib-metadata-4.11.3\n",
            "  Attempting uninstall: pyyaml\n",
            "    Found existing installation: PyYAML 6.0\n",
            "    Uninstalling PyYAML-6.0:\n",
            "      Successfully uninstalled PyYAML-6.0\n",
            "\u001b[31mERROR: pip's dependency resolver does not currently take into account all the packages that are installed. This behaviour is the source of the following dependency conflicts.\n",
            "torchtext 0.11.0 requires torch==1.10.0, but you have torch 1.7.0 which is incompatible.\n",
            "torchaudio 0.10.0+cu111 requires torch==1.10.0, but you have torch 1.7.0 which is incompatible.\n",
            "markdown 3.3.6 requires importlib-metadata>=4.4; python_version < \"3.10\", but you have importlib-metadata 3.10.1 which is incompatible.\n",
            "google-colab 1.0.0 requires requests~=2.23.0, but you have requests 2.27.1 which is incompatible.\n",
            "datascience 0.10.6 requires folium==0.2.1, but you have folium 0.8.3 which is incompatible.\u001b[0m\n",
            "Successfully installed bertopic-0.9.4 bpemb-0.3.3 dataclasses-0.6 deprecated-1.2.13 flair-0.7 ftfy-6.1.1 hdbscan-0.8.28 importlib-metadata-3.10.1 janome-0.4.2 konoha-4.6.5 langdetect-1.0.9 mpld3-0.3 overrides-3.1.0 pynndescent-0.5.6 pyyaml-5.4.1 requests-2.27.1 segtok-1.5.11 sentence-transformers-1.2.1 sentencepiece-0.1.91 sqlitedict-2.0.0 tokenizers-0.9.3 torch-1.7.0 torchvision-0.8.1 transformers-3.5.1 umap-learn-0.5.3\n"
          ]
        }
      ]
    },
    {
      "cell_type": "code",
      "source": [
        "from google.colab import drive\n",
        "drive.mount('/content/gdrive')\n",
        "%cd gdrive/My\\ Drive/amicus-iv"
      ],
      "metadata": {
        "colab": {
          "base_uri": "https://localhost:8080/"
        },
        "id": "TL5XTmtWF5HO",
        "outputId": "c3d69271-c8bc-4305-c7a7-974ef66dbfb3"
      },
      "execution_count": 2,
      "outputs": [
        {
          "output_type": "stream",
          "name": "stdout",
          "text": [
            "Mounted at /content/gdrive\n",
            "/content/gdrive/My Drive/amicus-iv\n"
          ]
        }
      ]
    },
    {
      "cell_type": "markdown",
      "source": [
        "Saving locations -- change these for different models!"
      ],
      "metadata": {
        "id": "BOd-iwvDfkJ1"
      }
    },
    {
      "cell_type": "code",
      "source": [
        "model_folder = 'topic-modeling/models/bert-base-uncased-RRamicus/'\n",
        "output_folder = 'topic-modeling/output/bert-base-uncased-RRamicus/'"
      ],
      "metadata": {
        "id": "1bvWqiJUfloK"
      },
      "execution_count": 3,
      "outputs": []
    },
    {
      "cell_type": "markdown",
      "source": [
        "Model checkpoint for generating document embeddings"
      ],
      "metadata": {
        "id": "ySfjFNzWVg1l"
      }
    },
    {
      "cell_type": "code",
      "source": [
        "model_checkpoint = 'repro-rights-amicus-briefs/bert-base-uncased-finetuned-RRamicus'"
      ],
      "metadata": {
        "id": "U26myPX6Vj_d"
      },
      "execution_count": 4,
      "outputs": []
    },
    {
      "cell_type": "markdown",
      "source": [
        "Import packages"
      ],
      "metadata": {
        "id": "gBEoc0_YiZdb"
      }
    },
    {
      "cell_type": "code",
      "source": [
        "import pandas as pd\n",
        "import numpy as np\n",
        "from html import unescape\n",
        "import string\n",
        "\n",
        "import nltk\n",
        "nltk.download('stopwords')\n",
        "from nltk.corpus import stopwords\n",
        "from collections import Counter\n",
        "\n",
        "#from transformers import AutoTokenizer\n",
        "#from datasets import load_dataset, load_metric, Dataset\n",
        "\n",
        "from huggingface_hub import notebook_login\n",
        "\n",
        "from bertopic import BERTopic\n",
        "from flair.embeddings import TransformerDocumentEmbeddings\n",
        "\n",
        "from sklearn.preprocessing import MinMaxScaler\n",
        "from umap import UMAP\n",
        "from typing import List\n",
        "import hdbscan\n",
        "import matplotlib.pyplot as plt"
      ],
      "metadata": {
        "id": "1eyc19DAZVxn",
        "colab": {
          "base_uri": "https://localhost:8080/"
        },
        "outputId": "8f21cbbc-39fc-4ed6-a2c4-f9306f9bb41f"
      },
      "execution_count": 5,
      "outputs": [
        {
          "output_type": "stream",
          "name": "stdout",
          "text": [
            "[nltk_data] Downloading package stopwords to /root/nltk_data...\n",
            "[nltk_data]   Unzipping corpora/stopwords.zip.\n"
          ]
        }
      ]
    },
    {
      "cell_type": "markdown",
      "source": [
        "## Define similarity function\n",
        "\n",
        "We want to group topics based on how similar they are. This is an adoption of the visualize_topics() function"
      ],
      "metadata": {
        "id": "w0TGfyd6iiho"
      }
    },
    {
      "cell_type": "code",
      "source": [
        "def get_similar_topics(topic_model,\n",
        "                     topics: List[int] = None,\n",
        "                     top_n_topics: int = None,\n",
        "                     width: int = 650,\n",
        "                     height: int = 650):\n",
        "    # Select topics based on top_n and topics args\n",
        "    if topics is not None:\n",
        "        topics = list(topics)\n",
        "    elif top_n_topics is not None:\n",
        "        topics = sorted(topic_model.get_topic_freq().Topic.to_list()[1:top_n_topics + 1])\n",
        "    else:\n",
        "        topics = sorted(list(topic_model.get_topics().keys()))\n",
        "\n",
        "    # Extract topic words and their frequencies\n",
        "    topic_list = sorted(topics)\n",
        "    frequencies = [topic_model.topic_sizes[topic] for topic in topic_list]\n",
        "    words = [\" | \".join([word[0] for word in topic_model.get_topic(topic)[:10]]) for topic in topic_list]\n",
        "\n",
        "    # seed\n",
        "    np.random.seed(11)\n",
        "\n",
        "    # Embed c-TF-IDF into 2D\n",
        "    all_topics = sorted(list(topic_model.get_topics().keys()))\n",
        "    indices = np.array([all_topics.index(topic) for topic in topics])\n",
        "    embeddings = topic_model.c_tf_idf.toarray()[indices]\n",
        "    embeddings = MinMaxScaler().fit_transform(embeddings)\n",
        "    embeddings = UMAP(n_neighbors=2, n_components=2, metric='hellinger', random_state=42).fit_transform(embeddings)\n",
        "\n",
        "    # cluster based on above\n",
        "    labels = hdbscan.HDBSCAN(min_samples=1, min_cluster_size=3).fit_predict(embeddings)\n",
        "\n",
        "    # Visualize with plotly\n",
        "    df = pd.DataFrame({\"x\": embeddings[1:, 0], \"y\": embeddings[1:, 1], 'Label':labels[1:],\n",
        "                       \"Topic\": topic_list[1:], \"Words\": words[1:], \"Size\": frequencies[1:]})\n",
        "    return df"
      ],
      "metadata": {
        "id": "n4R9UssoioO5"
      },
      "execution_count": 6,
      "outputs": []
    },
    {
      "cell_type": "markdown",
      "source": [
        "## Data\n",
        "\n",
        "BERTopic function takes a list of documents, so we need to set this up ourselves. "
      ],
      "metadata": {
        "id": "MJG9wg9narKy"
      }
    },
    {
      "cell_type": "markdown",
      "source": [
        "### Read in text from drive\n",
        "\n",
        "I have saved a file on google drive called \"data/amicus_text_512.csv\" which contains the result of following the steps of option 1 below. since this produces the same results each time, we don't need to keep re-running it."
      ],
      "metadata": {
        "id": "Vq6DBrF22eLo"
      }
    },
    {
      "cell_type": "code",
      "source": [
        "df = pd.read_csv('data/amicus_clean_512_no_stride_vars.csv')\n",
        "df.head(1)"
      ],
      "metadata": {
        "colab": {
          "base_uri": "https://localhost:8080/",
          "height": 261
        },
        "id": "xQib37DV2nkY",
        "outputId": "7e9375c2-90fd-4bf2-cf9b-770830833d29"
      },
      "execution_count": 7,
      "outputs": [
        {
          "output_type": "execute_result",
          "data": {
            "text/plain": [
              "              case            id  \\\n",
              "0  Rust v Sullivan  861819857503   \n",
              "\n",
              "                                               brief  brief_party  forgau  \\\n",
              "0  Rust v Sullivan. Amici Brief for Respondent, b...            0       0   \n",
              "\n",
              "   antauo  chcauf  lifauo  govauf  govauo  ...  legauo  relauf  relauo  \\\n",
              "0       0       0       1       0       0  ...       0       0       0   \n",
              "\n",
              "   lg_bauf  forgauf  aclauf  aclauo  sgauf  sgauo  \\\n",
              "0        0        0       0       0      0      0   \n",
              "\n",
              "                                                text  \n",
              "0  abortion battle conflict enumerated right life...  \n",
              "\n",
              "[1 rows x 28 columns]"
            ],
            "text/html": [
              "\n",
              "  <div id=\"df-c86fe7e8-9ab0-4e1b-8657-2704b64a483a\">\n",
              "    <div class=\"colab-df-container\">\n",
              "      <div>\n",
              "<style scoped>\n",
              "    .dataframe tbody tr th:only-of-type {\n",
              "        vertical-align: middle;\n",
              "    }\n",
              "\n",
              "    .dataframe tbody tr th {\n",
              "        vertical-align: top;\n",
              "    }\n",
              "\n",
              "    .dataframe thead th {\n",
              "        text-align: right;\n",
              "    }\n",
              "</style>\n",
              "<table border=\"1\" class=\"dataframe\">\n",
              "  <thead>\n",
              "    <tr style=\"text-align: right;\">\n",
              "      <th></th>\n",
              "      <th>case</th>\n",
              "      <th>id</th>\n",
              "      <th>brief</th>\n",
              "      <th>brief_party</th>\n",
              "      <th>forgau</th>\n",
              "      <th>antauo</th>\n",
              "      <th>chcauf</th>\n",
              "      <th>lifauo</th>\n",
              "      <th>govauf</th>\n",
              "      <th>govauo</th>\n",
              "      <th>...</th>\n",
              "      <th>legauo</th>\n",
              "      <th>relauf</th>\n",
              "      <th>relauo</th>\n",
              "      <th>lg_bauf</th>\n",
              "      <th>forgauf</th>\n",
              "      <th>aclauf</th>\n",
              "      <th>aclauo</th>\n",
              "      <th>sgauf</th>\n",
              "      <th>sgauo</th>\n",
              "      <th>text</th>\n",
              "    </tr>\n",
              "  </thead>\n",
              "  <tbody>\n",
              "    <tr>\n",
              "      <th>0</th>\n",
              "      <td>Rust v Sullivan</td>\n",
              "      <td>861819857503</td>\n",
              "      <td>Rust v Sullivan. Amici Brief for Respondent, b...</td>\n",
              "      <td>0</td>\n",
              "      <td>0</td>\n",
              "      <td>0</td>\n",
              "      <td>0</td>\n",
              "      <td>1</td>\n",
              "      <td>0</td>\n",
              "      <td>0</td>\n",
              "      <td>...</td>\n",
              "      <td>0</td>\n",
              "      <td>0</td>\n",
              "      <td>0</td>\n",
              "      <td>0</td>\n",
              "      <td>0</td>\n",
              "      <td>0</td>\n",
              "      <td>0</td>\n",
              "      <td>0</td>\n",
              "      <td>0</td>\n",
              "      <td>abortion battle conflict enumerated right life...</td>\n",
              "    </tr>\n",
              "  </tbody>\n",
              "</table>\n",
              "<p>1 rows × 28 columns</p>\n",
              "</div>\n",
              "      <button class=\"colab-df-convert\" onclick=\"convertToInteractive('df-c86fe7e8-9ab0-4e1b-8657-2704b64a483a')\"\n",
              "              title=\"Convert this dataframe to an interactive table.\"\n",
              "              style=\"display:none;\">\n",
              "        \n",
              "  <svg xmlns=\"http://www.w3.org/2000/svg\" height=\"24px\"viewBox=\"0 0 24 24\"\n",
              "       width=\"24px\">\n",
              "    <path d=\"M0 0h24v24H0V0z\" fill=\"none\"/>\n",
              "    <path d=\"M18.56 5.44l.94 2.06.94-2.06 2.06-.94-2.06-.94-.94-2.06-.94 2.06-2.06.94zm-11 1L8.5 8.5l.94-2.06 2.06-.94-2.06-.94L8.5 2.5l-.94 2.06-2.06.94zm10 10l.94 2.06.94-2.06 2.06-.94-2.06-.94-.94-2.06-.94 2.06-2.06.94z\"/><path d=\"M17.41 7.96l-1.37-1.37c-.4-.4-.92-.59-1.43-.59-.52 0-1.04.2-1.43.59L10.3 9.45l-7.72 7.72c-.78.78-.78 2.05 0 2.83L4 21.41c.39.39.9.59 1.41.59.51 0 1.02-.2 1.41-.59l7.78-7.78 2.81-2.81c.8-.78.8-2.07 0-2.86zM5.41 20L4 18.59l7.72-7.72 1.47 1.35L5.41 20z\"/>\n",
              "  </svg>\n",
              "      </button>\n",
              "      \n",
              "  <style>\n",
              "    .colab-df-container {\n",
              "      display:flex;\n",
              "      flex-wrap:wrap;\n",
              "      gap: 12px;\n",
              "    }\n",
              "\n",
              "    .colab-df-convert {\n",
              "      background-color: #E8F0FE;\n",
              "      border: none;\n",
              "      border-radius: 50%;\n",
              "      cursor: pointer;\n",
              "      display: none;\n",
              "      fill: #1967D2;\n",
              "      height: 32px;\n",
              "      padding: 0 0 0 0;\n",
              "      width: 32px;\n",
              "    }\n",
              "\n",
              "    .colab-df-convert:hover {\n",
              "      background-color: #E2EBFA;\n",
              "      box-shadow: 0px 1px 2px rgba(60, 64, 67, 0.3), 0px 1px 3px 1px rgba(60, 64, 67, 0.15);\n",
              "      fill: #174EA6;\n",
              "    }\n",
              "\n",
              "    [theme=dark] .colab-df-convert {\n",
              "      background-color: #3B4455;\n",
              "      fill: #D2E3FC;\n",
              "    }\n",
              "\n",
              "    [theme=dark] .colab-df-convert:hover {\n",
              "      background-color: #434B5C;\n",
              "      box-shadow: 0px 1px 3px 1px rgba(0, 0, 0, 0.15);\n",
              "      filter: drop-shadow(0px 1px 2px rgba(0, 0, 0, 0.3));\n",
              "      fill: #FFFFFF;\n",
              "    }\n",
              "  </style>\n",
              "\n",
              "      <script>\n",
              "        const buttonEl =\n",
              "          document.querySelector('#df-c86fe7e8-9ab0-4e1b-8657-2704b64a483a button.colab-df-convert');\n",
              "        buttonEl.style.display =\n",
              "          google.colab.kernel.accessAllowed ? 'block' : 'none';\n",
              "\n",
              "        async function convertToInteractive(key) {\n",
              "          const element = document.querySelector('#df-c86fe7e8-9ab0-4e1b-8657-2704b64a483a');\n",
              "          const dataTable =\n",
              "            await google.colab.kernel.invokeFunction('convertToInteractive',\n",
              "                                                     [key], {});\n",
              "          if (!dataTable) return;\n",
              "\n",
              "          const docLinkHtml = 'Like what you see? Visit the ' +\n",
              "            '<a target=\"_blank\" href=https://colab.research.google.com/notebooks/data_table.ipynb>data table notebook</a>'\n",
              "            + ' to learn more about interactive tables.';\n",
              "          element.innerHTML = '';\n",
              "          dataTable['output_type'] = 'display_data';\n",
              "          await google.colab.output.renderOutput(dataTable, element);\n",
              "          const docLink = document.createElement('div');\n",
              "          docLink.innerHTML = docLinkHtml;\n",
              "          element.appendChild(docLink);\n",
              "        }\n",
              "      </script>\n",
              "    </div>\n",
              "  </div>\n",
              "  "
            ]
          },
          "metadata": {},
          "execution_count": 7
        }
      ]
    },
    {
      "cell_type": "markdown",
      "source": [
        "Remove general noise words"
      ],
      "metadata": {
        "id": "Kp_AvocYW5Lb"
      }
    },
    {
      "cell_type": "code",
      "source": [
        "#df_clean = df.copy()\n",
        "#df_clean['text'] = df_clean['text'].str.replace('[{}]'.format(string.punctuation), '')\n",
        "\n",
        "rmv_list = ['ii', 'https', 'al', 'et', 'per', 'www', 'llp', 'id', 'nos', 'pdf', 'http',\n",
        "            'ul', 'fi', 'ri', 'sb', 'ql', 'li', 'fs',\n",
        "            'circuit', 'district', 'supra', 'supp', 'decisis', 'amici', 'curiae', 'court', 'courts', 'supreme', 'appeals',\n",
        "            'appeal', 'appellants', 'appellant', 'appellee', 'appellees',\n",
        "            'first', 'second', 'third', 'fourth', 'fifth', 'sixth', 'seventh', 'eighth', 'nineth', 'tenth', 'eleventh', 'twelfth']\n",
        "\n",
        "df['text'] = df['text'].apply(lambda x: ' '.join([word for word in x.split() if word not in (rmv_list)]))\n",
        "#df_clean['text'] = df_clean['text'].apply(lambda x: ' '.join([word for word in x.split() if word not in (rmv_list)]))\n",
        "#df_clean['text_2'] = df_clean['text'].apply(lambda x: [word for word in x.split()])"
      ],
      "metadata": {
        "id": "L7xLFYw7W5e_"
      },
      "execution_count": 8,
      "outputs": []
    },
    {
      "cell_type": "markdown",
      "source": [
        "# Legauo and Legauf"
      ],
      "metadata": {
        "id": "dpwFjMxNRHb6"
      }
    },
    {
      "cell_type": "markdown",
      "source": [
        "## Legauo"
      ],
      "metadata": {
        "id": "tkczDfS7xGca"
      }
    },
    {
      "cell_type": "code",
      "source": [
        "var_df = df[(df['legauo'] == 1)]\n",
        "var_df = var_df[['case', 'id', 'brief', 'legauo', 'text']]\n",
        "print(\"number of briefs:\", var_df['id'].nunique())\n",
        "print(\"number of paragraphs:\", len(var_df))"
      ],
      "metadata": {
        "colab": {
          "base_uri": "https://localhost:8080/"
        },
        "outputId": "5668906b-6263-470c-d106-b21934becd6c",
        "id": "N_D-mvWQxGca"
      },
      "execution_count": null,
      "outputs": [
        {
          "output_type": "stream",
          "name": "stdout",
          "text": [
            "number of briefs: 19\n",
            "number of paragraphs: 158\n"
          ]
        }
      ]
    },
    {
      "cell_type": "markdown",
      "source": [
        "Remove noise"
      ],
      "metadata": {
        "id": "jH_3kIXCxGcb"
      }
    },
    {
      "cell_type": "code",
      "source": [
        "#rmv_list = ['abortion', 'women', 'health', 'respectfully', 'conclusion', 'counsel', 'state',\n",
        "#            'abortions', 'clinic', 'clinics']\n",
        "#var_df['text'] = var_df['text'].apply(lambda x: ' '.join([word for word in x.split() if word not in (rmv_list)]))"
      ],
      "metadata": {
        "id": "73WC7daOxGcb"
      },
      "execution_count": null,
      "outputs": []
    },
    {
      "cell_type": "markdown",
      "source": [
        "### Initial train + save"
      ],
      "metadata": {
        "id": "8vvR3BoTxGcb"
      }
    },
    {
      "cell_type": "markdown",
      "source": [
        "Init existing topic model again so we don't over-write existing model."
      ],
      "metadata": {
        "id": "uz0_cGUexGcb"
      }
    },
    {
      "cell_type": "code",
      "source": [
        "# init embeddings\n",
        "bbu_ft_embed = TransformerDocumentEmbeddings(model_checkpoint)\n",
        "\n",
        "# init umap\n",
        "umap_model = UMAP(n_neighbors=15, n_components=3, min_dist=0.0,\n",
        "                  metric='cosine', random_state=42, low_memory=False)\n",
        "\n",
        "# init model\n",
        "tm = BERTopic(embedding_model=bbu_ft_embed, min_topic_size=3, #umap_model=umap_model,\n",
        "                     language='english', calculate_probabilities=True, verbose=True)"
      ],
      "metadata": {
        "colab": {
          "base_uri": "https://localhost:8080/"
        },
        "outputId": "8f3c6407-8c5e-490b-855e-8131b3a7ca45",
        "id": "yxpqVU5DxGcb"
      },
      "execution_count": null,
      "outputs": [
        {
          "output_type": "stream",
          "name": "stderr",
          "text": [
            "Some weights of BertModel were not initialized from the model checkpoint at repro-rights-amicus-briefs/bert-base-uncased-finetuned-RRamicus and are newly initialized: ['bert.pooler.dense.weight', 'bert.pooler.dense.bias']\n",
            "You should probably TRAIN this model on a down-stream task to be able to use it for predictions and inference.\n"
          ]
        }
      ]
    },
    {
      "cell_type": "markdown",
      "source": [
        "Fit the model on only the docs of interest (5 min)"
      ],
      "metadata": {
        "id": "7EEOh_72xGcc"
      }
    },
    {
      "cell_type": "code",
      "source": [
        "# fit model\n",
        "topics, probs = tm.fit_transform(var_df['text'])"
      ],
      "metadata": {
        "colab": {
          "base_uri": "https://localhost:8080/"
        },
        "outputId": "0efc65c4-3cdb-4f09-8de8-328f194ea528",
        "id": "yEw_-DYIxGcc"
      },
      "execution_count": null,
      "outputs": [
        {
          "output_type": "stream",
          "name": "stderr",
          "text": [
            "158it [00:12, 12.41it/s]\n",
            "2022-04-11 18:07:39,463 - BERTopic - Transformed documents to Embeddings\n",
            "2022-04-11 18:07:42,184 - BERTopic - Reduced dimensionality with UMAP\n",
            "2022-04-11 18:07:42,258 - BERTopic - Clustered UMAP embeddings with HDBSCAN\n"
          ]
        }
      ]
    },
    {
      "cell_type": "code",
      "source": [
        "topic_info = tm.get_topic_info()\n",
        "len(topic_info)"
      ],
      "metadata": {
        "id": "dJir5jdQxGcc"
      },
      "execution_count": null,
      "outputs": []
    },
    {
      "cell_type": "markdown",
      "source": [
        "Create output files"
      ],
      "metadata": {
        "id": "Pk5zAH5QxGcc"
      }
    },
    {
      "cell_type": "code",
      "source": [
        "# full list of topics\n",
        "full_topics = tm.get_topics()\n",
        "\n",
        "#convert full topic dict to df and transpose\n",
        "topics_df = pd.DataFrame(full_topics,\n",
        "                         index=['word1', 'word2', 'word3', 'word4', 'word5', 'word6', 'word7', 'word8', 'word9', 'word10'])\\\n",
        "                         .transpose()\n",
        "\n",
        "# get just the word\n",
        "topics_df = topics_df.applymap(lambda x: x[0])\n",
        "\n",
        "# add col w/concatenated list\n",
        "#topics_df['all_words'] = topics_df.apply(', '.join, axis=1) #insert at end\n",
        "topics_df.insert(0, 'topic', topics_df.apply(', '.join, axis=1))\n",
        "\n",
        "# remove indiv. word columns (word1,...,word10)\n",
        "topics_df.drop(list(topics_df.filter(regex = 'word')), axis = 1, inplace = True)\n",
        "\n",
        "# convert index to a column (this is the topic id)\n",
        "topics_df.insert(0, 'topic_id', topics_df.index)\n",
        "\n",
        "# add count frequency \n",
        "topic_ct = topic_info[['Topic', 'Count']]\n",
        "topics_df = topics_df.merge(topic_ct, how='left', left_on='topic_id', right_on='Topic')\n",
        "topics_df.drop('Topic', axis=1, inplace=True)\n",
        "\n",
        "# classification by paragraph\n",
        "topic_id = topic_info[['Topic', 'Name']]\n",
        "output_df = var_df.copy()\n",
        "output_df['topic_id'] = topics\n",
        "output_df = output_df.merge(topic_id, how='left', left_on='topic_id', right_on='Topic')\n",
        "output_df.drop('Topic',axis=1,inplace=True)\n",
        "output_df.rename({'Name' : 'topic_name'},axis=1, inplace=True)\n",
        "\n",
        "# cluster resulting topics using hdbscan\n",
        "embed = get_similar_topics(tm)\n",
        "\n",
        "# create output\n",
        "embed = embed.sort_values('Label')\n",
        "embed.rename({'Topic':'topic_id', 'Label':'label'}, axis=1, inplace=True)\n",
        "embed = embed.merge(topics_df, how='left', on = 'topic_id')\n",
        "embed.drop(['Words', 'Size'], axis=1, inplace=True)\n",
        "embed = embed[['topic_id', 'label', 'topic', 'Count', 'x', 'y']]"
      ],
      "metadata": {
        "id": "dYlR0HbDxGcc"
      },
      "execution_count": null,
      "outputs": []
    },
    {
      "cell_type": "markdown",
      "source": [
        "Save results"
      ],
      "metadata": {
        "id": "gMH5bD59xGcc"
      }
    },
    {
      "cell_type": "code",
      "source": [
        "# save -- CHANGE VARIABLE NAMES\n",
        "topics_df.to_csv(output_folder + 'legauo_topics_clean_bbu_rramicus.csv', index=False)\n",
        "output_df.to_csv(output_folder + 'legauo_topic_clean_classification_bbu_rramicus.csv', index=False)\n",
        "tm.save(model_folder + 'legauo_bbu_rramicus')\n",
        "embed.to_csv(output_folder + 'legauo_topics_clean_labels_bbu_rramicus.csv')"
      ],
      "metadata": {
        "id": "ZuFT1sCyxGcc"
      },
      "execution_count": null,
      "outputs": []
    },
    {
      "cell_type": "markdown",
      "source": [
        "## Legauf"
      ],
      "metadata": {
        "id": "PxJO31pUxHrB"
      }
    },
    {
      "cell_type": "code",
      "source": [
        "var_df = df[(df['legauf'] == 1)]\n",
        "var_df = var_df[['case', 'id', 'brief', 'legauf', 'text']]\n",
        "print(\"number of briefs:\", var_df['id'].nunique())\n",
        "print(\"number of paragraphs:\", len(var_df))"
      ],
      "metadata": {
        "colab": {
          "base_uri": "https://localhost:8080/"
        },
        "outputId": "5668906b-6263-470c-d106-b21934becd6c",
        "id": "hJBS3ORKxHrB"
      },
      "execution_count": null,
      "outputs": [
        {
          "output_type": "stream",
          "name": "stdout",
          "text": [
            "number of briefs: 19\n",
            "number of paragraphs: 158\n"
          ]
        }
      ]
    },
    {
      "cell_type": "markdown",
      "source": [
        "Remove noise"
      ],
      "metadata": {
        "id": "tF-sxAIsxHrB"
      }
    },
    {
      "cell_type": "code",
      "source": [
        "#rmv_list = ['abortion', 'women', 'health', 'respectfully', 'conclusion', 'counsel', 'state',\n",
        "#            'abortions', 'clinic', 'clinics']\n",
        "#var_df['text'] = var_df['text'].apply(lambda x: ' '.join([word for word in x.split() if word not in (rmv_list)]))"
      ],
      "metadata": {
        "id": "pFf7A7D8xHrC"
      },
      "execution_count": null,
      "outputs": []
    },
    {
      "cell_type": "markdown",
      "source": [
        "### Initial train + save"
      ],
      "metadata": {
        "id": "vr9C2blRxHrC"
      }
    },
    {
      "cell_type": "markdown",
      "source": [
        "Init existing topic model again so we don't over-write existing model."
      ],
      "metadata": {
        "id": "7hNxjOsfxHrC"
      }
    },
    {
      "cell_type": "code",
      "source": [
        "# init embeddings\n",
        "bbu_ft_embed = TransformerDocumentEmbeddings(model_checkpoint)\n",
        "\n",
        "# init umap\n",
        "umap_model = UMAP(n_neighbors=15, n_components=3, min_dist=0.0,\n",
        "                  metric='cosine', random_state=42, low_memory=False)\n",
        "\n",
        "# init model\n",
        "tm = BERTopic(embedding_model=bbu_ft_embed, min_topic_size=3, #umap_model=umap_model,\n",
        "                     language='english', calculate_probabilities=True, verbose=True)"
      ],
      "metadata": {
        "colab": {
          "base_uri": "https://localhost:8080/"
        },
        "outputId": "8f3c6407-8c5e-490b-855e-8131b3a7ca45",
        "id": "j6Z6rfzHxHrC"
      },
      "execution_count": null,
      "outputs": [
        {
          "output_type": "stream",
          "name": "stderr",
          "text": [
            "Some weights of BertModel were not initialized from the model checkpoint at repro-rights-amicus-briefs/bert-base-uncased-finetuned-RRamicus and are newly initialized: ['bert.pooler.dense.weight', 'bert.pooler.dense.bias']\n",
            "You should probably TRAIN this model on a down-stream task to be able to use it for predictions and inference.\n"
          ]
        }
      ]
    },
    {
      "cell_type": "markdown",
      "source": [
        "Fit the model on only the docs of interest (5 min)"
      ],
      "metadata": {
        "id": "aVuWdYVoxHrC"
      }
    },
    {
      "cell_type": "code",
      "source": [
        "# fit model\n",
        "topics, probs = tm.fit_transform(var_df['text'])"
      ],
      "metadata": {
        "colab": {
          "base_uri": "https://localhost:8080/"
        },
        "outputId": "0efc65c4-3cdb-4f09-8de8-328f194ea528",
        "id": "duiSMy_OxHrD"
      },
      "execution_count": null,
      "outputs": [
        {
          "output_type": "stream",
          "name": "stderr",
          "text": [
            "158it [00:12, 12.41it/s]\n",
            "2022-04-11 18:07:39,463 - BERTopic - Transformed documents to Embeddings\n",
            "2022-04-11 18:07:42,184 - BERTopic - Reduced dimensionality with UMAP\n",
            "2022-04-11 18:07:42,258 - BERTopic - Clustered UMAP embeddings with HDBSCAN\n"
          ]
        }
      ]
    },
    {
      "cell_type": "code",
      "source": [
        "topic_info = tm.get_topic_info()\n",
        "len(topic_info)"
      ],
      "metadata": {
        "id": "KdZK8_MyxHrD"
      },
      "execution_count": null,
      "outputs": []
    },
    {
      "cell_type": "markdown",
      "source": [
        "Create output files"
      ],
      "metadata": {
        "id": "tIdH1X9GxHrD"
      }
    },
    {
      "cell_type": "code",
      "source": [
        "# full list of topics\n",
        "full_topics = tm.get_topics()\n",
        "\n",
        "#convert full topic dict to df and transpose\n",
        "topics_df = pd.DataFrame(full_topics,\n",
        "                         index=['word1', 'word2', 'word3', 'word4', 'word5', 'word6', 'word7', 'word8', 'word9', 'word10'])\\\n",
        "                         .transpose()\n",
        "\n",
        "# get just the word\n",
        "topics_df = topics_df.applymap(lambda x: x[0])\n",
        "\n",
        "# add col w/concatenated list\n",
        "#topics_df['all_words'] = topics_df.apply(', '.join, axis=1) #insert at end\n",
        "topics_df.insert(0, 'topic', topics_df.apply(', '.join, axis=1))\n",
        "\n",
        "# remove indiv. word columns (word1,...,word10)\n",
        "topics_df.drop(list(topics_df.filter(regex = 'word')), axis = 1, inplace = True)\n",
        "\n",
        "# convert index to a column (this is the topic id)\n",
        "topics_df.insert(0, 'topic_id', topics_df.index)\n",
        "\n",
        "# add count frequency \n",
        "topic_ct = topic_info[['Topic', 'Count']]\n",
        "topics_df = topics_df.merge(topic_ct, how='left', left_on='topic_id', right_on='Topic')\n",
        "topics_df.drop('Topic', axis=1, inplace=True)\n",
        "\n",
        "# classification by paragraph\n",
        "topic_id = topic_info[['Topic', 'Name']]\n",
        "output_df = var_df.copy()\n",
        "output_df['topic_id'] = topics\n",
        "output_df = output_df.merge(topic_id, how='left', left_on='topic_id', right_on='Topic')\n",
        "output_df.drop('Topic',axis=1,inplace=True)\n",
        "output_df.rename({'Name' : 'topic_name'},axis=1, inplace=True)\n",
        "\n",
        "# cluster resulting topics using hdbscan\n",
        "embed = get_similar_topics(tm)\n",
        "\n",
        "# create output\n",
        "embed = embed.sort_values('Label')\n",
        "embed.rename({'Topic':'topic_id', 'Label':'label'}, axis=1, inplace=True)\n",
        "embed = embed.merge(topics_df, how='left', on = 'topic_id')\n",
        "embed.drop(['Words', 'Size'], axis=1, inplace=True)\n",
        "embed = embed[['topic_id', 'label', 'topic', 'Count', 'x', 'y']]"
      ],
      "metadata": {
        "id": "d7IHP_BXxHrD"
      },
      "execution_count": null,
      "outputs": []
    },
    {
      "cell_type": "markdown",
      "source": [
        "Save results"
      ],
      "metadata": {
        "id": "6qprc-WmxHrD"
      }
    },
    {
      "cell_type": "code",
      "source": [
        "# save -- CHANGE VARIABLE NAMES\n",
        "topics_df.to_csv(output_folder + 'medauo_topics_clean_bbu_rramicus.csv', index=False)\n",
        "output_df.to_csv(output_folder + 'medauo_topic_clean_classification_bbu_rramicus.csv', index=False)\n",
        "tm.save(model_folder + 'medauo_bbu_rramicus')\n",
        "embed.to_csv(output_folder + 'medauo_topics_clean_labels_bbu_rramicus.csv')"
      ],
      "metadata": {
        "id": "rzOrUhQPxHrD"
      },
      "execution_count": null,
      "outputs": []
    },
    {
      "cell_type": "markdown",
      "source": [
        "# Medauo and Medauf"
      ],
      "metadata": {
        "id": "3XSsjDgjVQsA"
      }
    },
    {
      "cell_type": "markdown",
      "source": [
        "## Medauo"
      ],
      "metadata": {
        "id": "go2N_nAFwiBv"
      }
    },
    {
      "cell_type": "code",
      "source": [
        "var_df = df[(df['medauo'] == 1)]\n",
        "var_df = var_df[['case', 'id', 'brief', 'medauo', 'text']]\n",
        "print(\"number of briefs:\", var_df['id'].nunique())\n",
        "print(\"number of paragraphs:\", len(var_df))"
      ],
      "metadata": {
        "colab": {
          "base_uri": "https://localhost:8080/"
        },
        "outputId": "5668906b-6263-470c-d106-b21934becd6c",
        "id": "s_j0MVBawiBw"
      },
      "execution_count": null,
      "outputs": [
        {
          "output_type": "stream",
          "name": "stdout",
          "text": [
            "number of briefs: 19\n",
            "number of paragraphs: 158\n"
          ]
        }
      ]
    },
    {
      "cell_type": "markdown",
      "source": [
        "Remove noise"
      ],
      "metadata": {
        "id": "hsMuyrxIwiBw"
      }
    },
    {
      "cell_type": "code",
      "source": [
        "#rmv_list = ['abortion', 'women', 'health', 'respectfully', 'conclusion', 'counsel', 'state',\n",
        "#            'abortions', 'clinic', 'clinics']\n",
        "#var_df['text'] = var_df['text'].apply(lambda x: ' '.join([word for word in x.split() if word not in (rmv_list)]))"
      ],
      "metadata": {
        "id": "xWj9qkcVwiBw"
      },
      "execution_count": null,
      "outputs": []
    },
    {
      "cell_type": "markdown",
      "source": [
        "### Initial train + save"
      ],
      "metadata": {
        "id": "vSfCRg3xwiBx"
      }
    },
    {
      "cell_type": "markdown",
      "source": [
        "Init existing topic model again so we don't over-write existing model."
      ],
      "metadata": {
        "id": "sAzylALjwiBx"
      }
    },
    {
      "cell_type": "code",
      "source": [
        "# init embeddings\n",
        "bbu_ft_embed = TransformerDocumentEmbeddings(model_checkpoint)\n",
        "\n",
        "# init umap\n",
        "umap_model = UMAP(n_neighbors=15, n_components=3, min_dist=0.0,\n",
        "                  metric='cosine', random_state=42, low_memory=False)\n",
        "\n",
        "# init model\n",
        "tm = BERTopic(embedding_model=bbu_ft_embed, min_topic_size=3, #umap_model=umap_model,\n",
        "                     language='english', calculate_probabilities=True, verbose=True)"
      ],
      "metadata": {
        "colab": {
          "base_uri": "https://localhost:8080/"
        },
        "outputId": "8f3c6407-8c5e-490b-855e-8131b3a7ca45",
        "id": "PFOxpZa9wiBx"
      },
      "execution_count": null,
      "outputs": [
        {
          "output_type": "stream",
          "name": "stderr",
          "text": [
            "Some weights of BertModel were not initialized from the model checkpoint at repro-rights-amicus-briefs/bert-base-uncased-finetuned-RRamicus and are newly initialized: ['bert.pooler.dense.weight', 'bert.pooler.dense.bias']\n",
            "You should probably TRAIN this model on a down-stream task to be able to use it for predictions and inference.\n"
          ]
        }
      ]
    },
    {
      "cell_type": "markdown",
      "source": [
        "Fit the model on only the docs of interest (5 min)"
      ],
      "metadata": {
        "id": "XTHKjWy-wiBx"
      }
    },
    {
      "cell_type": "code",
      "source": [
        "# fit model\n",
        "topics, probs = tm.fit_transform(var_df['text'])"
      ],
      "metadata": {
        "colab": {
          "base_uri": "https://localhost:8080/"
        },
        "outputId": "0efc65c4-3cdb-4f09-8de8-328f194ea528",
        "id": "zmT_24z3wiBx"
      },
      "execution_count": null,
      "outputs": [
        {
          "output_type": "stream",
          "name": "stderr",
          "text": [
            "158it [00:12, 12.41it/s]\n",
            "2022-04-11 18:07:39,463 - BERTopic - Transformed documents to Embeddings\n",
            "2022-04-11 18:07:42,184 - BERTopic - Reduced dimensionality with UMAP\n",
            "2022-04-11 18:07:42,258 - BERTopic - Clustered UMAP embeddings with HDBSCAN\n"
          ]
        }
      ]
    },
    {
      "cell_type": "code",
      "source": [
        "topic_info = tm.get_topic_info()\n",
        "len(topic_info)"
      ],
      "metadata": {
        "id": "p0pRa018wiBx"
      },
      "execution_count": null,
      "outputs": []
    },
    {
      "cell_type": "markdown",
      "source": [
        "Create output files"
      ],
      "metadata": {
        "id": "LFjLsiFCwiBx"
      }
    },
    {
      "cell_type": "code",
      "source": [
        "# full list of topics\n",
        "full_topics = tm.get_topics()\n",
        "\n",
        "#convert full topic dict to df and transpose\n",
        "topics_df = pd.DataFrame(full_topics,\n",
        "                         index=['word1', 'word2', 'word3', 'word4', 'word5', 'word6', 'word7', 'word8', 'word9', 'word10'])\\\n",
        "                         .transpose()\n",
        "\n",
        "# get just the word\n",
        "topics_df = topics_df.applymap(lambda x: x[0])\n",
        "\n",
        "# add col w/concatenated list\n",
        "#topics_df['all_words'] = topics_df.apply(', '.join, axis=1) #insert at end\n",
        "topics_df.insert(0, 'topic', topics_df.apply(', '.join, axis=1))\n",
        "\n",
        "# remove indiv. word columns (word1,...,word10)\n",
        "topics_df.drop(list(topics_df.filter(regex = 'word')), axis = 1, inplace = True)\n",
        "\n",
        "# convert index to a column (this is the topic id)\n",
        "topics_df.insert(0, 'topic_id', topics_df.index)\n",
        "\n",
        "# add count frequency \n",
        "topic_ct = topic_info[['Topic', 'Count']]\n",
        "topics_df = topics_df.merge(topic_ct, how='left', left_on='topic_id', right_on='Topic')\n",
        "topics_df.drop('Topic', axis=1, inplace=True)\n",
        "\n",
        "# classification by paragraph\n",
        "topic_id = topic_info[['Topic', 'Name']]\n",
        "output_df = var_df.copy()\n",
        "output_df['topic_id'] = topics\n",
        "output_df = output_df.merge(topic_id, how='left', left_on='topic_id', right_on='Topic')\n",
        "output_df.drop('Topic',axis=1,inplace=True)\n",
        "output_df.rename({'Name' : 'topic_name'},axis=1, inplace=True)\n",
        "\n",
        "# cluster resulting topics using hdbscan\n",
        "embed = get_similar_topics(tm)\n",
        "\n",
        "# create output\n",
        "embed = embed.sort_values('Label')\n",
        "embed.rename({'Topic':'topic_id', 'Label':'label'}, axis=1, inplace=True)\n",
        "embed = embed.merge(topics_df, how='left', on = 'topic_id')\n",
        "embed.drop(['Words', 'Size'], axis=1, inplace=True)\n",
        "embed = embed[['topic_id', 'label', 'topic', 'Count', 'x', 'y']]"
      ],
      "metadata": {
        "id": "n-Q0L--OwiBy"
      },
      "execution_count": null,
      "outputs": []
    },
    {
      "cell_type": "markdown",
      "source": [
        "Save results"
      ],
      "metadata": {
        "id": "gP8a5Y5wwiBy"
      }
    },
    {
      "cell_type": "code",
      "source": [
        "# save -- CHANGE VARIABLE NAMES\n",
        "topics_df.to_csv(output_folder + 'medauo_topics_clean_bbu_rramicus.csv', index=False)\n",
        "output_df.to_csv(output_folder + 'medauo_topic_clean_classification_bbu_rramicus.csv', index=False)\n",
        "tm.save(model_folder + 'medauo_bbu_rramicus')\n",
        "embed.to_csv(output_folder + 'medauo_topics_clean_labels_bbu_rramicus.csv')"
      ],
      "metadata": {
        "id": "MfAhBGoOwiBy"
      },
      "execution_count": null,
      "outputs": []
    },
    {
      "cell_type": "markdown",
      "source": [
        "## Medauf"
      ],
      "metadata": {
        "id": "OL0epeEJw4bw"
      }
    },
    {
      "cell_type": "code",
      "source": [
        "var_df = df[(df['medauf'] == 1)]\n",
        "var_df = var_df[['case', 'id', 'brief', 'medauf', 'text']]\n",
        "print(\"number of briefs:\", var_df['id'].nunique())\n",
        "print(\"number of paragraphs:\", len(var_df))"
      ],
      "metadata": {
        "colab": {
          "base_uri": "https://localhost:8080/"
        },
        "outputId": "d7b6946f-1f3a-482a-8217-127507021302",
        "id": "9HWOpIbCw4bx"
      },
      "execution_count": 9,
      "outputs": [
        {
          "output_type": "stream",
          "name": "stdout",
          "text": [
            "number of briefs: 92\n",
            "number of paragraphs: 810\n"
          ]
        }
      ]
    },
    {
      "cell_type": "markdown",
      "source": [
        "Remove noise"
      ],
      "metadata": {
        "id": "AgRhRUAbw4bx"
      }
    },
    {
      "cell_type": "code",
      "source": [
        "#rmv_list = ['abortion', 'women', 'health', 'respectfully', 'conclusion', 'counsel', 'state',\n",
        "#            'abortions', 'clinic', 'clinics']\n",
        "#var_df['text'] = var_df['text'].apply(lambda x: ' '.join([word for word in x.split() if word not in (rmv_list)]))"
      ],
      "metadata": {
        "id": "i9Frj0o6w4bx"
      },
      "execution_count": null,
      "outputs": []
    },
    {
      "cell_type": "markdown",
      "source": [
        "### Initial train + save"
      ],
      "metadata": {
        "id": "uyy-CRCnw4bx"
      }
    },
    {
      "cell_type": "markdown",
      "source": [
        "Init existing topic model again so we don't over-write existing model."
      ],
      "metadata": {
        "id": "M28Xahxcw4bx"
      }
    },
    {
      "cell_type": "code",
      "source": [
        "# init embeddings\n",
        "bbu_ft_embed = TransformerDocumentEmbeddings(model_checkpoint)\n",
        "\n",
        "# init umap\n",
        "umap_model = UMAP(n_neighbors=15, n_components=3, min_dist=0.0,\n",
        "                  metric='cosine', random_state=42, low_memory=False)\n",
        "\n",
        "# init model\n",
        "tm = BERTopic(embedding_model=bbu_ft_embed, min_topic_size=3, #umap_model=umap_model,\n",
        "                     language='english', calculate_probabilities=True, verbose=True)"
      ],
      "metadata": {
        "colab": {
          "base_uri": "https://localhost:8080/",
          "height": 264,
          "referenced_widgets": [
            "d223c319d2d64a318cef7447cc9a7a25",
            "818b4caae15645a5b239f32ef3ee0324",
            "2394882c0a894799a3c8c237bc8d5652",
            "e91257ee04484903a243d08bdedad9d2",
            "f3b327f4934f42b991bf3202f75abfdb",
            "ca4ec8d324a64a07a635562f2e68cdfc",
            "7c3642e2ea6543e58e916f637e3ac02a",
            "0cb43fee7f7540db9b0c2d16228610a2",
            "bca0296a7f22405ba173637176da9470",
            "6ea9868044674feb8aa2461ab34edb17",
            "2a2a45a88685463d8ef898e1bfb54b9f",
            "dd334ffd047d4a479cb08435afeebabd",
            "20297035306543b68aefb79ac8cbaaa3",
            "6bd493a6c474408e8a47b7075a147ce4",
            "93d53a31c17244d08b465101cc8ef2c7",
            "7cc1700af8954aa394fd5441471294e5",
            "ba72130bd3e04a5a87d30f001d1b4a77",
            "7a82a00450584e4c8d5fc3e69a35fd7a",
            "c8deb6780a3d420faee788156de61c2d",
            "24124bd0c6d44fe4ba613051f0797a10",
            "1209daf6efdc48b49ff10175659a4b42",
            "56fcdafd171d4b6eb95115405d65be26",
            "0437a22ecd824c168ef1dc6d34172670",
            "e4498f9b00d6458fa5f4eb32478634d1",
            "d372168d46114991a7e7ce46247f8575",
            "c775af37283c4bfcb9c0528696391fe9",
            "01396d8fd88a48988c041e8213c710f1",
            "01a38c294a98441a94a8b02293f15da0",
            "23b48591dce34d18845b09e68598c92e",
            "b9c09612cf074a6f868651cb0cc9b8d6",
            "03558a51c14b499ea325cc1cb5787a66",
            "34db5602d80a43739b57de5d6ab16cbb",
            "6c90dd1d428d4b82930c2ea28a16eac5",
            "02f70227077d4af38842ad3770823f3d",
            "768844f2ac54478f8d6844790d7e6a04",
            "65541b39318547759b49fb488f3e9223",
            "9039fbb4d0a74308a249f23a677397fe",
            "68846c68a2204a62ab4120fd95fc31d2",
            "839c513574bf463bb4cfc7565922c00b",
            "eb9313ddb7b34270a3216612b4ede684",
            "a1b1d51b305f4fef90223fa07802b569",
            "5387f295e9e54cee880d937b2a22ed61",
            "6bbcadd4186e45f296860d0205e692bc",
            "629132f2cc1148da8c6fdfb63873fc98",
            "9856e39204b9469a923fa1394d2a9dc1",
            "e7f8e6963b204951bb0f3d06ece0f8ec",
            "993bb833fa1440ddb274d8fc3a13fc38",
            "716d9e6232de41e6a66e55c1c434faff",
            "6df05f333df9420186844df74a64f23b",
            "3da5262ba29145c7aa1b53c3d5f59cf6",
            "7a8ea4ec46e242529611dc12c5c22dfc",
            "696c356bf4b549b5b77a56f9addcd499",
            "6c7eb287a135431aa49dfb245404fd05",
            "af5616479cd3430ab739a6253461672e",
            "f98ac8fad2e14436b452996d4c4f1c0f",
            "61363844531146ffab27b3f64cae1b1b",
            "dceb46dfe80c4adf99bbfecb2e017c99",
            "fe148c3ca88f423094100fd2317eea40",
            "67bd48e6f0ef409391f65fac3660ad42",
            "a10e814deed24b24a35b051bf637f6bc",
            "8b0d235691c746eaa2005defb81940a3",
            "5cbbd861fcf94d82b0997137c0050a7f",
            "59105c999ccf4bc480d4b14e787fa8a3",
            "0ffc7e3e8dcd43b9a8120ba78c8ded5d",
            "87ef160c9916495595e80d3e3a25ebce",
            "b763ca8779314089b73dbcfb1a2919ff"
          ]
        },
        "outputId": "1e523c08-d444-464b-9980-dad67247cdc6",
        "id": "XQZiTDI5w4by"
      },
      "execution_count": 10,
      "outputs": [
        {
          "output_type": "display_data",
          "data": {
            "text/plain": [
              "Downloading:   0%|          | 0.00/664 [00:00<?, ?B/s]"
            ],
            "application/vnd.jupyter.widget-view+json": {
              "version_major": 2,
              "version_minor": 0,
              "model_id": "d223c319d2d64a318cef7447cc9a7a25"
            }
          },
          "metadata": {}
        },
        {
          "output_type": "display_data",
          "data": {
            "text/plain": [
              "Downloading:   0%|          | 0.00/232k [00:00<?, ?B/s]"
            ],
            "application/vnd.jupyter.widget-view+json": {
              "version_major": 2,
              "version_minor": 0,
              "model_id": "dd334ffd047d4a479cb08435afeebabd"
            }
          },
          "metadata": {}
        },
        {
          "output_type": "display_data",
          "data": {
            "text/plain": [
              "Downloading:   0%|          | 0.00/112 [00:00<?, ?B/s]"
            ],
            "application/vnd.jupyter.widget-view+json": {
              "version_major": 2,
              "version_minor": 0,
              "model_id": "0437a22ecd824c168ef1dc6d34172670"
            }
          },
          "metadata": {}
        },
        {
          "output_type": "display_data",
          "data": {
            "text/plain": [
              "Downloading:   0%|          | 0.00/321 [00:00<?, ?B/s]"
            ],
            "application/vnd.jupyter.widget-view+json": {
              "version_major": 2,
              "version_minor": 0,
              "model_id": "02f70227077d4af38842ad3770823f3d"
            }
          },
          "metadata": {}
        },
        {
          "output_type": "display_data",
          "data": {
            "text/plain": [
              "Downloading:   0%|          | 0.00/466k [00:00<?, ?B/s]"
            ],
            "application/vnd.jupyter.widget-view+json": {
              "version_major": 2,
              "version_minor": 0,
              "model_id": "9856e39204b9469a923fa1394d2a9dc1"
            }
          },
          "metadata": {}
        },
        {
          "output_type": "display_data",
          "data": {
            "text/plain": [
              "Downloading:   0%|          | 0.00/438M [00:00<?, ?B/s]"
            ],
            "application/vnd.jupyter.widget-view+json": {
              "version_major": 2,
              "version_minor": 0,
              "model_id": "61363844531146ffab27b3f64cae1b1b"
            }
          },
          "metadata": {}
        },
        {
          "output_type": "stream",
          "name": "stderr",
          "text": [
            "Some weights of BertModel were not initialized from the model checkpoint at repro-rights-amicus-briefs/bert-base-uncased-finetuned-RRamicus and are newly initialized: ['bert.pooler.dense.weight', 'bert.pooler.dense.bias']\n",
            "You should probably TRAIN this model on a down-stream task to be able to use it for predictions and inference.\n"
          ]
        }
      ]
    },
    {
      "cell_type": "markdown",
      "source": [
        "Fit the model on only the docs of interest (5 min)"
      ],
      "metadata": {
        "id": "w1erePKDw4by"
      }
    },
    {
      "cell_type": "code",
      "source": [
        "# fit model\n",
        "topics, probs = tm.fit_transform(var_df['text'])"
      ],
      "metadata": {
        "colab": {
          "base_uri": "https://localhost:8080/"
        },
        "outputId": "37886ca0-7ebd-40f1-d2b5-b71f07c889c9",
        "id": "BCuejKmyw4by"
      },
      "execution_count": 11,
      "outputs": [
        {
          "output_type": "stream",
          "name": "stderr",
          "text": [
            "810it [00:37, 21.54it/s]\n",
            "2022-04-14 18:06:18,351 - BERTopic - Transformed documents to Embeddings\n",
            "/usr/local/lib/python3.7/dist-packages/numba/np/ufunc/parallel.py:363: NumbaWarning: The TBB threading layer requires TBB version 2019.5 or later i.e., TBB_INTERFACE_VERSION >= 11005. Found TBB_INTERFACE_VERSION = 9107. The TBB threading layer is disabled.\n",
            "  warnings.warn(problem)\n",
            "2022-04-14 18:06:28,552 - BERTopic - Reduced dimensionality with UMAP\n",
            "2022-04-14 18:06:28,773 - BERTopic - Clustered UMAP embeddings with HDBSCAN\n"
          ]
        }
      ]
    },
    {
      "cell_type": "code",
      "source": [
        "topic_info = tm.get_topic_info()\n",
        "len(topic_info)"
      ],
      "metadata": {
        "id": "gE07XX2dw4by",
        "colab": {
          "base_uri": "https://localhost:8080/"
        },
        "outputId": "82669fb4-a465-43f7-d497-684c906659be"
      },
      "execution_count": 12,
      "outputs": [
        {
          "output_type": "execute_result",
          "data": {
            "text/plain": [
              "67"
            ]
          },
          "metadata": {},
          "execution_count": 12
        }
      ]
    },
    {
      "cell_type": "markdown",
      "source": [
        "Create output files"
      ],
      "metadata": {
        "id": "vaRHGpvHw4by"
      }
    },
    {
      "cell_type": "code",
      "source": [
        "# full list of topics\n",
        "full_topics = tm.get_topics()\n",
        "\n",
        "#convert full topic dict to df and transpose\n",
        "topics_df = pd.DataFrame(full_topics,\n",
        "                         index=['word1', 'word2', 'word3', 'word4', 'word5', 'word6', 'word7', 'word8', 'word9', 'word10'])\\\n",
        "                         .transpose()\n",
        "\n",
        "# get just the word\n",
        "topics_df = topics_df.applymap(lambda x: x[0])\n",
        "\n",
        "# add col w/concatenated list\n",
        "#topics_df['all_words'] = topics_df.apply(', '.join, axis=1) #insert at end\n",
        "topics_df.insert(0, 'topic', topics_df.apply(', '.join, axis=1))\n",
        "\n",
        "# remove indiv. word columns (word1,...,word10)\n",
        "topics_df.drop(list(topics_df.filter(regex = 'word')), axis = 1, inplace = True)\n",
        "\n",
        "# convert index to a column (this is the topic id)\n",
        "topics_df.insert(0, 'topic_id', topics_df.index)\n",
        "\n",
        "# add count frequency \n",
        "topic_ct = topic_info[['Topic', 'Count']]\n",
        "topics_df = topics_df.merge(topic_ct, how='left', left_on='topic_id', right_on='Topic')\n",
        "topics_df.drop('Topic', axis=1, inplace=True)\n",
        "\n",
        "# classification by paragraph\n",
        "topic_id = topic_info[['Topic', 'Name']]\n",
        "output_df = var_df.copy()\n",
        "output_df['topic_id'] = topics\n",
        "output_df = output_df.merge(topic_id, how='left', left_on='topic_id', right_on='Topic')\n",
        "output_df.drop('Topic',axis=1,inplace=True)\n",
        "output_df.rename({'Name' : 'topic_name'},axis=1, inplace=True)\n",
        "\n",
        "# cluster resulting topics using hdbscan\n",
        "embed = get_similar_topics(tm)\n",
        "\n",
        "# create output\n",
        "embed = embed.sort_values('Label')\n",
        "embed.rename({'Topic':'topic_id', 'Label':'label'}, axis=1, inplace=True)\n",
        "embed = embed.merge(topics_df, how='left', on = 'topic_id')\n",
        "embed.drop(['Words', 'Size'], axis=1, inplace=True)\n",
        "embed = embed[['topic_id', 'label', 'topic', 'Count', 'x', 'y']]"
      ],
      "metadata": {
        "id": "mIQ08yy8w4by"
      },
      "execution_count": 13,
      "outputs": []
    },
    {
      "cell_type": "markdown",
      "source": [
        "Save results"
      ],
      "metadata": {
        "id": "FqOuhM_bw4bz"
      }
    },
    {
      "cell_type": "code",
      "source": [
        "# save -- CHANGE VARIABLE NAMES\n",
        "topics_df.to_csv(output_folder + 'medauf_topics_clean_bbu_rramicus.csv', index=False)\n",
        "output_df.to_csv(output_folder + 'medauf_topic_clean_classification_bbu_rramicus.csv', index=False)\n",
        "tm.save(model_folder + 'medauf_bbu_rramicus')\n",
        "embed.to_csv(output_folder + 'medauf_topics_clean_labels_bbu_rramicus.csv')"
      ],
      "metadata": {
        "id": "zMSTa2xRw4b0"
      },
      "execution_count": 14,
      "outputs": []
    },
    {
      "cell_type": "markdown",
      "source": [
        "# Mpeauo and Mpeauf"
      ],
      "metadata": {
        "id": "omzKOGRGiies"
      }
    },
    {
      "cell_type": "markdown",
      "source": [
        "## Mpeauo"
      ],
      "metadata": {
        "id": "MpaoiEimiies"
      }
    },
    {
      "cell_type": "code",
      "source": [
        "var_df = df[(df['mpeauo'] == 1)]\n",
        "var_df = var_df[['case', 'id', 'brief', 'mpeauo', 'text']]\n",
        "print(\"number of briefs:\", var_df['id'].nunique())\n",
        "print(\"number of paragraphs:\", len(var_df))"
      ],
      "metadata": {
        "colab": {
          "base_uri": "https://localhost:8080/"
        },
        "outputId": "5668906b-6263-470c-d106-b21934becd6c",
        "id": "xs61Ftwiiies"
      },
      "execution_count": null,
      "outputs": [
        {
          "output_type": "stream",
          "name": "stdout",
          "text": [
            "number of briefs: 19\n",
            "number of paragraphs: 158\n"
          ]
        }
      ]
    },
    {
      "cell_type": "markdown",
      "source": [
        "Remove noise"
      ],
      "metadata": {
        "id": "WOQHxPuliiet"
      }
    },
    {
      "cell_type": "code",
      "source": [
        "#rmv_list = ['abortion', 'women', 'health', 'respectfully', 'conclusion', 'counsel', 'state',\n",
        "#            'abortions', 'clinic', 'clinics']\n",
        "#var_df['text'] = var_df['text'].apply(lambda x: ' '.join([word for word in x.split() if word not in (rmv_list)]))"
      ],
      "metadata": {
        "id": "A_L3r3uaiiet"
      },
      "execution_count": null,
      "outputs": []
    },
    {
      "cell_type": "markdown",
      "source": [
        "### Initial train + save"
      ],
      "metadata": {
        "id": "6WTaE4SJiiet"
      }
    },
    {
      "cell_type": "markdown",
      "source": [
        "Init existing topic model again so we don't over-write existing model."
      ],
      "metadata": {
        "id": "KoebgC_Giiet"
      }
    },
    {
      "cell_type": "code",
      "source": [
        "# init embeddings\n",
        "bbu_ft_embed = TransformerDocumentEmbeddings(model_checkpoint)\n",
        "\n",
        "# init umap\n",
        "umap_model = UMAP(n_neighbors=15, n_components=3, min_dist=0.0,\n",
        "                  metric='cosine', random_state=42, low_memory=False)\n",
        "\n",
        "# init model\n",
        "tm = BERTopic(embedding_model=bbu_ft_embed, min_topic_size=3, #umap_model=umap_model,\n",
        "                     language='english', calculate_probabilities=True, verbose=True)"
      ],
      "metadata": {
        "colab": {
          "base_uri": "https://localhost:8080/"
        },
        "outputId": "8f3c6407-8c5e-490b-855e-8131b3a7ca45",
        "id": "6R58sL0Aiieu"
      },
      "execution_count": null,
      "outputs": [
        {
          "output_type": "stream",
          "name": "stderr",
          "text": [
            "Some weights of BertModel were not initialized from the model checkpoint at repro-rights-amicus-briefs/bert-base-uncased-finetuned-RRamicus and are newly initialized: ['bert.pooler.dense.weight', 'bert.pooler.dense.bias']\n",
            "You should probably TRAIN this model on a down-stream task to be able to use it for predictions and inference.\n"
          ]
        }
      ]
    },
    {
      "cell_type": "markdown",
      "source": [
        "Fit the model on only the docs of interest (5 min)"
      ],
      "metadata": {
        "id": "-LaFYuQ4iieu"
      }
    },
    {
      "cell_type": "code",
      "source": [
        "# fit model\n",
        "topics, probs = tm.fit_transform(var_df['text'])"
      ],
      "metadata": {
        "colab": {
          "base_uri": "https://localhost:8080/"
        },
        "outputId": "0efc65c4-3cdb-4f09-8de8-328f194ea528",
        "id": "j8NuE5E3iieu"
      },
      "execution_count": null,
      "outputs": [
        {
          "output_type": "stream",
          "name": "stderr",
          "text": [
            "158it [00:12, 12.41it/s]\n",
            "2022-04-11 18:07:39,463 - BERTopic - Transformed documents to Embeddings\n",
            "2022-04-11 18:07:42,184 - BERTopic - Reduced dimensionality with UMAP\n",
            "2022-04-11 18:07:42,258 - BERTopic - Clustered UMAP embeddings with HDBSCAN\n"
          ]
        }
      ]
    },
    {
      "cell_type": "code",
      "source": [
        "topic_info = tm.get_topic_info()\n",
        "len(topic_info)"
      ],
      "metadata": {
        "id": "osFR2mx7iieu"
      },
      "execution_count": null,
      "outputs": []
    },
    {
      "cell_type": "markdown",
      "source": [
        "Create output files"
      ],
      "metadata": {
        "id": "hYapOD0Jiiev"
      }
    },
    {
      "cell_type": "code",
      "source": [
        "# full list of topics\n",
        "full_topics = tm.get_topics()\n",
        "\n",
        "#convert full topic dict to df and transpose\n",
        "topics_df = pd.DataFrame(full_topics,\n",
        "                         index=['word1', 'word2', 'word3', 'word4', 'word5', 'word6', 'word7', 'word8', 'word9', 'word10'])\\\n",
        "                         .transpose()\n",
        "\n",
        "# get just the word\n",
        "topics_df = topics_df.applymap(lambda x: x[0])\n",
        "\n",
        "# add col w/concatenated list\n",
        "#topics_df['all_words'] = topics_df.apply(', '.join, axis=1) #insert at end\n",
        "topics_df.insert(0, 'topic', topics_df.apply(', '.join, axis=1))\n",
        "\n",
        "# remove indiv. word columns (word1,...,word10)\n",
        "topics_df.drop(list(topics_df.filter(regex = 'word')), axis = 1, inplace = True)\n",
        "\n",
        "# convert index to a column (this is the topic id)\n",
        "topics_df.insert(0, 'topic_id', topics_df.index)\n",
        "\n",
        "# add count frequency \n",
        "topic_ct = topic_info[['Topic', 'Count']]\n",
        "topics_df = topics_df.merge(topic_ct, how='left', left_on='topic_id', right_on='Topic')\n",
        "topics_df.drop('Topic', axis=1, inplace=True)\n",
        "\n",
        "# classification by paragraph\n",
        "topic_id = topic_info[['Topic', 'Name']]\n",
        "output_df = var_df.copy()\n",
        "output_df['topic_id'] = topics\n",
        "output_df = output_df.merge(topic_id, how='left', left_on='topic_id', right_on='Topic')\n",
        "output_df.drop('Topic',axis=1,inplace=True)\n",
        "output_df.rename({'Name' : 'topic_name'},axis=1, inplace=True)\n",
        "\n",
        "# cluster resulting topics using hdbscan\n",
        "embed = get_similar_topics(tm)\n",
        "\n",
        "# create output\n",
        "embed = embed.sort_values('Label')\n",
        "embed.rename({'Topic':'topic_id', 'Label':'label'}, axis=1, inplace=True)\n",
        "embed = embed.merge(topics_df, how='left', on = 'topic_id')\n",
        "embed.drop(['Words', 'Size'], axis=1, inplace=True)\n",
        "embed = embed[['topic_id', 'label', 'topic', 'Count', 'x', 'y']]"
      ],
      "metadata": {
        "id": "0ojwEEnjiiev"
      },
      "execution_count": null,
      "outputs": []
    },
    {
      "cell_type": "markdown",
      "source": [
        "Save results"
      ],
      "metadata": {
        "id": "4wMLXy06iiev"
      }
    },
    {
      "cell_type": "code",
      "source": [
        "# save -- CHANGE VARIABLE NAMES\n",
        "topics_df.to_csv(output_folder + 'mpeauo_topics_clean_bbu_rramicus.csv', index=False)\n",
        "output_df.to_csv(output_folder + 'mpeauo_topic_clean_classification_bbu_rramicus.csv', index=False)\n",
        "tm.save(model_folder + 'mpeauo_bbu_rramicus')\n",
        "embed.to_csv(output_folder + 'mpeauo_topics_clean_labels_bbu_rramicus.csv')"
      ],
      "metadata": {
        "id": "d36tlEdyiiev"
      },
      "execution_count": null,
      "outputs": []
    },
    {
      "cell_type": "markdown",
      "source": [
        "## Mpeauf"
      ],
      "metadata": {
        "id": "28VnQQZFiiew"
      }
    },
    {
      "cell_type": "code",
      "source": [
        "var_df = df[(df['mpeauf'] == 1)]\n",
        "var_df = var_df[['case', 'id', 'brief', 'mpeauf', 'text']]\n",
        "print(\"number of briefs:\", var_df['id'].nunique())\n",
        "print(\"number of paragraphs:\", len(var_df))"
      ],
      "metadata": {
        "colab": {
          "base_uri": "https://localhost:8080/"
        },
        "outputId": "f36d92c4-7894-4301-c461-ecadb0c1286b",
        "id": "E4eLEBVYiiew"
      },
      "execution_count": 15,
      "outputs": [
        {
          "output_type": "stream",
          "name": "stdout",
          "text": [
            "number of briefs: 53\n",
            "number of paragraphs: 459\n"
          ]
        }
      ]
    },
    {
      "cell_type": "markdown",
      "source": [
        "Remove noise"
      ],
      "metadata": {
        "id": "GHCiAsLbiiew"
      }
    },
    {
      "cell_type": "code",
      "source": [
        "#rmv_list = ['abortion', 'women', 'health', 'respectfully', 'conclusion', 'counsel', 'state',\n",
        "#            'abortions', 'clinic', 'clinics']\n",
        "#mpeauf_df['text'] = mpeauf_df['text'].apply(lambda x: ' '.join([word for word in x.split() if word not in (rmv_list)]))"
      ],
      "metadata": {
        "id": "EFF5_Yp4iiew"
      },
      "execution_count": null,
      "outputs": []
    },
    {
      "cell_type": "markdown",
      "source": [
        "### Initial train + save"
      ],
      "metadata": {
        "id": "aVPkmhsCq_MK"
      }
    },
    {
      "cell_type": "markdown",
      "source": [
        "Init existing topic model again so we don't over-write existing model."
      ],
      "metadata": {
        "id": "V2cbj6Amq_MN"
      }
    },
    {
      "cell_type": "code",
      "source": [
        "# init embeddings\n",
        "bbu_ft_embed = TransformerDocumentEmbeddings(model_checkpoint)\n",
        "\n",
        "# init umap\n",
        "#umap_model = UMAP(n_neighbors=15, n_components=3, min_dist=0.0,\n",
        "#                  metric='cosine', random_state=42, low_memory=False)\n",
        "\n",
        "# init model\n",
        "tm = BERTopic(embedding_model=bbu_ft_embed, min_topic_size=3, #umap_model=umap_model,\n",
        "                     language='english', calculate_probabilities=True, verbose=True)"
      ],
      "metadata": {
        "colab": {
          "base_uri": "https://localhost:8080/"
        },
        "outputId": "7455f500-7254-4edc-eb0f-0c316a6efb83",
        "id": "DazuYxG2q_MN"
      },
      "execution_count": 16,
      "outputs": [
        {
          "output_type": "stream",
          "name": "stderr",
          "text": [
            "Some weights of BertModel were not initialized from the model checkpoint at repro-rights-amicus-briefs/bert-base-uncased-finetuned-RRamicus and are newly initialized: ['bert.pooler.dense.weight', 'bert.pooler.dense.bias']\n",
            "You should probably TRAIN this model on a down-stream task to be able to use it for predictions and inference.\n"
          ]
        }
      ]
    },
    {
      "cell_type": "markdown",
      "source": [
        "Fit the model on only the docs of interest (5 min)"
      ],
      "metadata": {
        "id": "z0Ggjtkwq_MO"
      }
    },
    {
      "cell_type": "code",
      "source": [
        "# fit model\n",
        "topics, probs = tm.fit_transform(var_df['text'])"
      ],
      "metadata": {
        "colab": {
          "base_uri": "https://localhost:8080/"
        },
        "outputId": "672e4468-b5c7-47be-d44f-c7c00d684676",
        "id": "IEl88daIq_MO"
      },
      "execution_count": 17,
      "outputs": [
        {
          "output_type": "stream",
          "name": "stderr",
          "text": [
            "459it [00:22, 20.60it/s]\n",
            "2022-04-14 18:07:33,189 - BERTopic - Transformed documents to Embeddings\n",
            "2022-04-14 18:07:36,810 - BERTopic - Reduced dimensionality with UMAP\n",
            "2022-04-14 18:07:36,888 - BERTopic - Clustered UMAP embeddings with HDBSCAN\n"
          ]
        }
      ]
    },
    {
      "cell_type": "code",
      "source": [
        "topic_info = tm.get_topic_info()\n",
        "len(topic_info)"
      ],
      "metadata": {
        "colab": {
          "base_uri": "https://localhost:8080/"
        },
        "id": "Bdan1nU9q_MO",
        "outputId": "162af67e-5111-4eef-db76-59d5852f588e"
      },
      "execution_count": 18,
      "outputs": [
        {
          "output_type": "execute_result",
          "data": {
            "text/plain": [
              "40"
            ]
          },
          "metadata": {},
          "execution_count": 18
        }
      ]
    },
    {
      "cell_type": "markdown",
      "source": [
        "Create output files"
      ],
      "metadata": {
        "id": "HQepA7N_q_MO"
      }
    },
    {
      "cell_type": "code",
      "source": [
        "# full list of topics\n",
        "full_topics = tm.get_topics()\n",
        "\n",
        "#convert full topic dict to df and transpose\n",
        "topics_df = pd.DataFrame(full_topics,\n",
        "                         index=['word1', 'word2', 'word3', 'word4', 'word5', 'word6', 'word7', 'word8', 'word9', 'word10'])\\\n",
        "                         .transpose()\n",
        "\n",
        "# get just the word\n",
        "topics_df = topics_df.applymap(lambda x: x[0])\n",
        "\n",
        "# add col w/concatenated list\n",
        "#topics_df['all_words'] = topics_df.apply(', '.join, axis=1) #insert at end\n",
        "topics_df.insert(0, 'topic', topics_df.apply(', '.join, axis=1))\n",
        "\n",
        "# remove indiv. word columns (word1,...,word10)\n",
        "topics_df.drop(list(topics_df.filter(regex = 'word')), axis = 1, inplace = True)\n",
        "\n",
        "# convert index to a column (this is the topic id)\n",
        "topics_df.insert(0, 'topic_id', topics_df.index)\n",
        "\n",
        "# add count frequency \n",
        "topic_ct = topic_info[['Topic', 'Count']]\n",
        "topics_df = topics_df.merge(topic_ct, how='left', left_on='topic_id', right_on='Topic')\n",
        "topics_df.drop('Topic', axis=1, inplace=True)\n",
        "\n",
        "# classification by paragraph\n",
        "topic_id = topic_info[['Topic', 'Name']]\n",
        "output_df = var_df.copy()\n",
        "output_df['topic_id'] = topics\n",
        "\n",
        "output_df = output_df.merge(topic_id, how='left', left_on='topic_id', right_on='Topic')\n",
        "output_df.drop('Topic',axis=1,inplace=True)\n",
        "output_df.rename({'Name' : 'topic_name'},axis=1, inplace=True)\n",
        "\n",
        "# cluster resulting topics using hdbscan\n",
        "embed = get_similar_topics(tm)\n",
        "\n",
        "# create output\n",
        "embed = embed.sort_values('Label')\n",
        "embed.rename({'Topic':'topic_id', 'Label':'label'}, axis=1, inplace=True)\n",
        "embed = embed.merge(topics_df, how='left', on = 'topic_id')\n",
        "embed.drop(['Words', 'Size'], axis=1, inplace=True)\n",
        "embed = embed[['topic_id', 'label', 'topic', 'Count', 'x', 'y']]"
      ],
      "metadata": {
        "id": "QF4SsgoDq_MP"
      },
      "execution_count": 19,
      "outputs": []
    },
    {
      "cell_type": "markdown",
      "source": [
        "Save results"
      ],
      "metadata": {
        "id": "qEi2yYHtq_MP"
      }
    },
    {
      "cell_type": "code",
      "source": [
        "# save -- CHANGE VARIABLE NAMES\n",
        "topics_df.to_csv(output_folder + 'mpeauf_topics_clean_bbu_rramicus.csv', index=False)\n",
        "output_df.to_csv(output_folder + 'mpeauf_topic_clean_classification_bbu_rramicus.csv', index=False)\n",
        "tm.save(model_folder + 'mpeauf_bbu_rramicus')\n",
        "embed.to_csv(output_folder + 'mpeauf_topics_clean_labels_bbu_rramicus.csv')"
      ],
      "metadata": {
        "id": "QsYlkHcHq_MP"
      },
      "execution_count": 20,
      "outputs": []
    },
    {
      "cell_type": "markdown",
      "source": [
        "# Relauo and Relauf"
      ],
      "metadata": {
        "id": "A__O2pi3mVDo"
      }
    },
    {
      "cell_type": "markdown",
      "source": [
        "## Relauo"
      ],
      "metadata": {
        "id": "lrT5AodWmVDw"
      }
    },
    {
      "cell_type": "code",
      "source": [
        "var_df = df[(df['relauo'] == 1)]\n",
        "var_df = var_df[['case', 'id', 'brief', 'relauo', 'text']]\n",
        "print(\"number of briefs:\", var_df['id'].nunique())\n",
        "print(\"number of paragraphs:\", len(var_df))"
      ],
      "metadata": {
        "colab": {
          "base_uri": "https://localhost:8080/"
        },
        "outputId": "ade6a81d-cc61-4673-e158-96be64321941",
        "id": "urY_nLiSmVDx"
      },
      "execution_count": null,
      "outputs": [
        {
          "output_type": "stream",
          "name": "stdout",
          "text": [
            "number of briefs: 100\n",
            "number of paragraphs: 768\n"
          ]
        }
      ]
    },
    {
      "cell_type": "markdown",
      "source": [
        "Remove noise"
      ],
      "metadata": {
        "id": "5eCMlvbumVDx"
      }
    },
    {
      "cell_type": "code",
      "source": [
        "#rmv_list = ['abortion', 'women', 'health', 'respectfully', 'conclusion', 'counsel', 'state',\n",
        "#            'abortions', 'clinic', 'clinics']\n",
        "#relauo_df['text'] = relauo_df['text'].apply(lambda x: ' '.join([word for word in x.split() if word not in (rmv_list)]))"
      ],
      "metadata": {
        "id": "thJ67S5NmVDx"
      },
      "execution_count": null,
      "outputs": []
    },
    {
      "cell_type": "markdown",
      "source": [
        "### Initial train + save"
      ],
      "metadata": {
        "id": "lZaq186fuVeC"
      }
    },
    {
      "cell_type": "markdown",
      "source": [
        "Init existing topic model again so we don't over-write existing model."
      ],
      "metadata": {
        "id": "WJwydbPQuVeD"
      }
    },
    {
      "cell_type": "code",
      "source": [
        "# init embeddings\n",
        "bbu_ft_embed = TransformerDocumentEmbeddings(model_checkpoint)\n",
        "\n",
        "# init umap\n",
        "#umap_model = UMAP(n_neighbors=15, n_components=3, min_dist=0.0,\n",
        "#                  metric='cosine', random_state=42, low_memory=False)\n",
        "\n",
        "# init model\n",
        "tm = BERTopic(embedding_model=bbu_ft_embed, min_topic_size=3, #umap_model=umap_model,\n",
        "                     language='english', calculate_probabilities=True, verbose=True)"
      ],
      "metadata": {
        "colab": {
          "base_uri": "https://localhost:8080/"
        },
        "outputId": "bbee9154-a7c1-4b01-e2a0-c2d8d230d5a9",
        "id": "1aDcE3bNuVeD"
      },
      "execution_count": null,
      "outputs": [
        {
          "output_type": "stream",
          "name": "stderr",
          "text": [
            "Some weights of BertModel were not initialized from the model checkpoint at repro-rights-amicus-briefs/bert-base-uncased-finetuned-RRamicus and are newly initialized: ['bert.pooler.dense.weight', 'bert.pooler.dense.bias']\n",
            "You should probably TRAIN this model on a down-stream task to be able to use it for predictions and inference.\n"
          ]
        }
      ]
    },
    {
      "cell_type": "markdown",
      "source": [
        "Fit the model on only the docs of interest (5 min)"
      ],
      "metadata": {
        "id": "56C667DbuVeD"
      }
    },
    {
      "cell_type": "code",
      "source": [
        "# fit model\n",
        "topics, probs = tm.fit_transform(var_df['text'])"
      ],
      "metadata": {
        "colab": {
          "base_uri": "https://localhost:8080/"
        },
        "outputId": "7e67d28f-c90c-430e-de0a-1d9c0766c313",
        "id": "yxWV9zbsuVeE"
      },
      "execution_count": null,
      "outputs": [
        {
          "output_type": "stream",
          "name": "stderr",
          "text": [
            "459it [00:32, 14.32it/s]\n",
            "2022-04-14 15:29:33,525 - BERTopic - Transformed documents to Embeddings\n",
            "2022-04-14 15:29:41,884 - BERTopic - Reduced dimensionality with UMAP\n",
            "2022-04-14 15:29:42,005 - BERTopic - Clustered UMAP embeddings with HDBSCAN\n"
          ]
        }
      ]
    },
    {
      "cell_type": "code",
      "source": [
        "topic_info = tm.get_topic_info()\n",
        "len(topic_info)"
      ],
      "metadata": {
        "colab": {
          "base_uri": "https://localhost:8080/"
        },
        "outputId": "54a06898-fff0-4ac9-8466-97fbb6caacb1",
        "id": "ICgYb0sYuVeE"
      },
      "execution_count": null,
      "outputs": [
        {
          "output_type": "execute_result",
          "data": {
            "text/plain": [
              "31"
            ]
          },
          "metadata": {},
          "execution_count": 57
        }
      ]
    },
    {
      "cell_type": "markdown",
      "source": [
        "Create output files"
      ],
      "metadata": {
        "id": "drvLdOH2uVeE"
      }
    },
    {
      "cell_type": "code",
      "source": [
        "# full list of topics\n",
        "full_topics = tm.get_topics()\n",
        "\n",
        "#convert full topic dict to df and transpose\n",
        "topics_df = pd.DataFrame(full_topics,\n",
        "                         index=['word1', 'word2', 'word3', 'word4', 'word5', 'word6', 'word7', 'word8', 'word9', 'word10'])\\\n",
        "                         .transpose()\n",
        "\n",
        "# get just the word\n",
        "topics_df = topics_df.applymap(lambda x: x[0])\n",
        "\n",
        "# add col w/concatenated list\n",
        "#topics_df['all_words'] = topics_df.apply(', '.join, axis=1) #insert at end\n",
        "topics_df.insert(0, 'topic', topics_df.apply(', '.join, axis=1))\n",
        "\n",
        "# remove indiv. word columns (word1,...,word10)\n",
        "topics_df.drop(list(topics_df.filter(regex = 'word')), axis = 1, inplace = True)\n",
        "\n",
        "# convert index to a column (this is the topic id)\n",
        "topics_df.insert(0, 'topic_id', topics_df.index)\n",
        "\n",
        "# add count frequency \n",
        "topic_ct = topic_info[['Topic', 'Count']]\n",
        "topics_df = topics_df.merge(topic_ct, how='left', left_on='topic_id', right_on='Topic')\n",
        "topics_df.drop('Topic', axis=1, inplace=True)\n",
        "\n",
        "# classification by paragraph\n",
        "topic_id = topic_info[['Topic', 'Name']]\n",
        "output_df = var_df.copy()\n",
        "output_df['topic_id'] = topics\n",
        "\n",
        "output_df = output_df.merge(topic_id, how='left', left_on='topic_id', right_on='Topic')\n",
        "output_df.drop('Topic',axis=1,inplace=True)\n",
        "output_df.rename({'Name' : 'topic_name'},axis=1, inplace=True)\n",
        "\n",
        "# cluster resulting topics using hdbscan\n",
        "embed = get_similar_topics(tm)\n",
        "\n",
        "# create output\n",
        "embed = embed.sort_values('Label')\n",
        "embed.rename({'Topic':'topic_id', 'Label':'label'}, axis=1, inplace=True)\n",
        "embed = embed.merge(topics_df, how='left', on = 'topic_id')\n",
        "embed.drop(['Words', 'Size'], axis=1, inplace=True)\n",
        "embed = embed[['topic_id', 'label', 'topic', 'Count', 'x', 'y']]"
      ],
      "metadata": {
        "id": "NJkrVnUkuVeE"
      },
      "execution_count": null,
      "outputs": []
    },
    {
      "cell_type": "markdown",
      "source": [
        "Save results"
      ],
      "metadata": {
        "id": "MYDYlsu_uVeF"
      }
    },
    {
      "cell_type": "code",
      "source": [
        "# save -- CHANGE VARIABLE NAMES\n",
        "topics_df.to_csv(output_folder + 'relauo_topics_clean_bbu_rramicus.csv', index=False)\n",
        "output_df.to_csv(output_folder + 'relauo_topic_clean_classification_bbu_rramicus.csv', index=False)\n",
        "tm.save(model_folder + 'relauo_bbu_rramicus')\n",
        "embed.to_csv(output_folder + 'relauo_topics_clean_labels_bbu_rramicus.csv')"
      ],
      "metadata": {
        "id": "7Kh9C7UxuVeF"
      },
      "execution_count": null,
      "outputs": []
    },
    {
      "cell_type": "markdown",
      "source": [
        "## Relauf"
      ],
      "metadata": {
        "id": "hIdZYDeomVDz"
      }
    },
    {
      "cell_type": "code",
      "source": [
        "var_df = df[(df['relauf'] == 1)]\n",
        "var_df = var_df[['case', 'id', 'brief', 'relauf', 'text']]\n",
        "print(\"number of briefs:\", var_df['id'].nunique())\n",
        "print(\"number of paragraphs:\", len(var_df))"
      ],
      "metadata": {
        "colab": {
          "base_uri": "https://localhost:8080/"
        },
        "outputId": "edf33ac5-0006-4bdf-c376-ef2c24cdddac",
        "id": "V-ePfRQAmVD0"
      },
      "execution_count": null,
      "outputs": [
        {
          "output_type": "stream",
          "name": "stdout",
          "text": [
            "number of briefs: 22\n",
            "number of paragraphs: 170\n"
          ]
        }
      ]
    },
    {
      "cell_type": "markdown",
      "source": [
        "Remove noise"
      ],
      "metadata": {
        "id": "2a_65YpZmVD0"
      }
    },
    {
      "cell_type": "code",
      "source": [
        "#rmv_list = ['abortion', 'women', 'health', 'respectfully', 'conclusion', 'counsel', 'state',\n",
        "#            'abortions', 'clinic', 'clinics']\n",
        "#var_df['text'] = var_df['text'].apply(lambda x: ' '.join([word for word in x.split() if word not in (rmv_list)]))"
      ],
      "metadata": {
        "id": "TvA3-0NPmVD0"
      },
      "execution_count": null,
      "outputs": []
    },
    {
      "cell_type": "markdown",
      "source": [
        "### Initial train + save"
      ],
      "metadata": {
        "id": "Ut247JiVuttf"
      }
    },
    {
      "cell_type": "markdown",
      "source": [
        "Init existing topic model again so we don't over-write existing model."
      ],
      "metadata": {
        "id": "Guzk9pIouttf"
      }
    },
    {
      "cell_type": "code",
      "source": [
        "# init embeddings\n",
        "bbu_ft_embed = TransformerDocumentEmbeddings(model_checkpoint)\n",
        "\n",
        "# init umap\n",
        "#umap_model = UMAP(n_neighbors=15, n_components=3, min_dist=0.0,\n",
        "#                  metric='cosine', random_state=42, low_memory=False)\n",
        "\n",
        "# init model\n",
        "tm = BERTopic(embedding_model=bbu_ft_embed, min_topic_size=3, #umap_model=umap_model,\n",
        "                     language='english', calculate_probabilities=True, verbose=True)"
      ],
      "metadata": {
        "colab": {
          "base_uri": "https://localhost:8080/"
        },
        "outputId": "bbee9154-a7c1-4b01-e2a0-c2d8d230d5a9",
        "id": "C4A2T2XVuttg"
      },
      "execution_count": null,
      "outputs": [
        {
          "output_type": "stream",
          "name": "stderr",
          "text": [
            "Some weights of BertModel were not initialized from the model checkpoint at repro-rights-amicus-briefs/bert-base-uncased-finetuned-RRamicus and are newly initialized: ['bert.pooler.dense.weight', 'bert.pooler.dense.bias']\n",
            "You should probably TRAIN this model on a down-stream task to be able to use it for predictions and inference.\n"
          ]
        }
      ]
    },
    {
      "cell_type": "markdown",
      "source": [
        "Fit the model on only the docs of interest (5 min)"
      ],
      "metadata": {
        "id": "i8WXwIivuttg"
      }
    },
    {
      "cell_type": "code",
      "source": [
        "# fit model\n",
        "topics, probs = tm.fit_transform(var_df['text'])"
      ],
      "metadata": {
        "colab": {
          "base_uri": "https://localhost:8080/"
        },
        "outputId": "7e67d28f-c90c-430e-de0a-1d9c0766c313",
        "id": "OQx3Pmgcuttg"
      },
      "execution_count": null,
      "outputs": [
        {
          "output_type": "stream",
          "name": "stderr",
          "text": [
            "459it [00:32, 14.32it/s]\n",
            "2022-04-14 15:29:33,525 - BERTopic - Transformed documents to Embeddings\n",
            "2022-04-14 15:29:41,884 - BERTopic - Reduced dimensionality with UMAP\n",
            "2022-04-14 15:29:42,005 - BERTopic - Clustered UMAP embeddings with HDBSCAN\n"
          ]
        }
      ]
    },
    {
      "cell_type": "code",
      "source": [
        "topic_info = tm.get_topic_info()\n",
        "len(topic_info)"
      ],
      "metadata": {
        "colab": {
          "base_uri": "https://localhost:8080/"
        },
        "outputId": "54a06898-fff0-4ac9-8466-97fbb6caacb1",
        "id": "fjzACJXguttg"
      },
      "execution_count": null,
      "outputs": [
        {
          "output_type": "execute_result",
          "data": {
            "text/plain": [
              "31"
            ]
          },
          "metadata": {},
          "execution_count": 57
        }
      ]
    },
    {
      "cell_type": "markdown",
      "source": [
        "Create output files"
      ],
      "metadata": {
        "id": "lwhWtQc-utth"
      }
    },
    {
      "cell_type": "code",
      "source": [
        "# full list of topics\n",
        "full_topics = tm.get_topics()\n",
        "\n",
        "#convert full topic dict to df and transpose\n",
        "topics_df = pd.DataFrame(full_topics,\n",
        "                         index=['word1', 'word2', 'word3', 'word4', 'word5', 'word6', 'word7', 'word8', 'word9', 'word10'])\\\n",
        "                         .transpose()\n",
        "\n",
        "# get just the word\n",
        "topics_df = topics_df.applymap(lambda x: x[0])\n",
        "\n",
        "# add col w/concatenated list\n",
        "#topics_df['all_words'] = topics_df.apply(', '.join, axis=1) #insert at end\n",
        "topics_df.insert(0, 'topic', topics_df.apply(', '.join, axis=1))\n",
        "\n",
        "# remove indiv. word columns (word1,...,word10)\n",
        "topics_df.drop(list(topics_df.filter(regex = 'word')), axis = 1, inplace = True)\n",
        "\n",
        "# convert index to a column (this is the topic id)\n",
        "topics_df.insert(0, 'topic_id', topics_df.index)\n",
        "\n",
        "# add count frequency \n",
        "topic_ct = topic_info[['Topic', 'Count']]\n",
        "topics_df = topics_df.merge(topic_ct, how='left', left_on='topic_id', right_on='Topic')\n",
        "topics_df.drop('Topic', axis=1, inplace=True)\n",
        "\n",
        "# classification by paragraph\n",
        "topic_id = topic_info[['Topic', 'Name']]\n",
        "output_df = var_df.copy()\n",
        "output_df['topic_id'] = topics\n",
        "\n",
        "output_df = output_df.merge(topic_id, how='left', left_on='topic_id', right_on='Topic')\n",
        "output_df.drop('Topic',axis=1,inplace=True)\n",
        "output_df.rename({'Name' : 'topic_name'},axis=1, inplace=True)\n",
        "\n",
        "# cluster resulting topics using hdbscan\n",
        "embed = get_similar_topics(tm)\n",
        "\n",
        "# save output\n",
        "embed = embed.sort_values('Label')\n",
        "embed.rename({'Topic':'topic_id', 'Label':'label'}, axis=1, inplace=True)\n",
        "embed = embed.merge(topics_df, how='left', on = 'topic_id')\n",
        "embed.drop(['Words', 'Size'], axis=1, inplace=True)\n",
        "embed = embed[['topic_id', 'label', 'topic', 'Count', 'x', 'y']]"
      ],
      "metadata": {
        "id": "wFXXaNFOutth"
      },
      "execution_count": null,
      "outputs": []
    },
    {
      "cell_type": "markdown",
      "source": [
        "Save results"
      ],
      "metadata": {
        "id": "2jb9o5kQutth"
      }
    },
    {
      "cell_type": "code",
      "source": [
        "# save -- CHANGE VARIABLE NAMES\n",
        "topics_df.to_csv(output_folder + 'relauf_topics_clean_bbu_rramicus.csv', index=False)\n",
        "output_df.to_csv(output_folder + 'relauf_topic_clean_classification_bbu_rramicus.csv', index=False)\n",
        "tm.save(model_folder + 'relauf_bbu_rramicus')\n",
        "embed.to_csv(output_folder + 'relauf_topics_clean_labels_bbu_rramicus.csv')"
      ],
      "metadata": {
        "id": "kpGdkplSutth"
      },
      "execution_count": null,
      "outputs": []
    }
  ]
}