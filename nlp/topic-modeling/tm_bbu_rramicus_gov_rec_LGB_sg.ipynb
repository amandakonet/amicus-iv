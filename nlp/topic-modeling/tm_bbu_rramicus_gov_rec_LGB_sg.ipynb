{
  "nbformat": 4,
  "nbformat_minor": 0,
  "metadata": {
    "colab": {
      "name": "tm-bbu-rramicus-gov-rec-LGB-sg.ipynb",
      "provenance": [],
      "collapsed_sections": [],
      "toc_visible": true,
      "authorship_tag": "ABX9TyNQiKksebuoE4wjJR5amYfk"
    },
    "kernelspec": {
      "name": "python3",
      "display_name": "Python 3"
    },
    "language_info": {
      "name": "python"
    },
    "accelerator": "GPU",
    "widgets": {
      "application/vnd.jupyter.widget-state+json": {
        "3e256fe80d3d4c83869aceec2e97746a": {
          "model_module": "@jupyter-widgets/controls",
          "model_name": "HBoxModel",
          "model_module_version": "1.5.0",
          "state": {
            "_dom_classes": [],
            "_model_module": "@jupyter-widgets/controls",
            "_model_module_version": "1.5.0",
            "_model_name": "HBoxModel",
            "_view_count": null,
            "_view_module": "@jupyter-widgets/controls",
            "_view_module_version": "1.5.0",
            "_view_name": "HBoxView",
            "box_style": "",
            "children": [
              "IPY_MODEL_fea9ff84872d4e3dad54a094420a9fca",
              "IPY_MODEL_b5e88477427f4f53a689052936207b68",
              "IPY_MODEL_ef6c9d04d4cd4eac99c4bb5e986a8482"
            ],
            "layout": "IPY_MODEL_df54ecc819204a12ad626f0290ba9835"
          }
        },
        "fea9ff84872d4e3dad54a094420a9fca": {
          "model_module": "@jupyter-widgets/controls",
          "model_name": "HTMLModel",
          "model_module_version": "1.5.0",
          "state": {
            "_dom_classes": [],
            "_model_module": "@jupyter-widgets/controls",
            "_model_module_version": "1.5.0",
            "_model_name": "HTMLModel",
            "_view_count": null,
            "_view_module": "@jupyter-widgets/controls",
            "_view_module_version": "1.5.0",
            "_view_name": "HTMLView",
            "description": "",
            "description_tooltip": null,
            "layout": "IPY_MODEL_a615f34a263c4ebf9bdbc5f86027a703",
            "placeholder": "​",
            "style": "IPY_MODEL_c69bcd98c6be4fbb9e4ff3106e6b7d76",
            "value": "Downloading: 100%"
          }
        },
        "b5e88477427f4f53a689052936207b68": {
          "model_module": "@jupyter-widgets/controls",
          "model_name": "FloatProgressModel",
          "model_module_version": "1.5.0",
          "state": {
            "_dom_classes": [],
            "_model_module": "@jupyter-widgets/controls",
            "_model_module_version": "1.5.0",
            "_model_name": "FloatProgressModel",
            "_view_count": null,
            "_view_module": "@jupyter-widgets/controls",
            "_view_module_version": "1.5.0",
            "_view_name": "ProgressView",
            "bar_style": "success",
            "description": "",
            "description_tooltip": null,
            "layout": "IPY_MODEL_a7a1081d09fd4d0286fb39c826e48837",
            "max": 664,
            "min": 0,
            "orientation": "horizontal",
            "style": "IPY_MODEL_87b20e8fa28240828fbf0e68ca5395de",
            "value": 664
          }
        },
        "ef6c9d04d4cd4eac99c4bb5e986a8482": {
          "model_module": "@jupyter-widgets/controls",
          "model_name": "HTMLModel",
          "model_module_version": "1.5.0",
          "state": {
            "_dom_classes": [],
            "_model_module": "@jupyter-widgets/controls",
            "_model_module_version": "1.5.0",
            "_model_name": "HTMLModel",
            "_view_count": null,
            "_view_module": "@jupyter-widgets/controls",
            "_view_module_version": "1.5.0",
            "_view_name": "HTMLView",
            "description": "",
            "description_tooltip": null,
            "layout": "IPY_MODEL_bfc0857e9da14e5dbea42971c176e2c9",
            "placeholder": "​",
            "style": "IPY_MODEL_7955767eb21548f9ac7e3d8b7c9c18bb",
            "value": " 664/664 [00:00&lt;00:00, 10.9kB/s]"
          }
        },
        "df54ecc819204a12ad626f0290ba9835": {
          "model_module": "@jupyter-widgets/base",
          "model_name": "LayoutModel",
          "model_module_version": "1.2.0",
          "state": {
            "_model_module": "@jupyter-widgets/base",
            "_model_module_version": "1.2.0",
            "_model_name": "LayoutModel",
            "_view_count": null,
            "_view_module": "@jupyter-widgets/base",
            "_view_module_version": "1.2.0",
            "_view_name": "LayoutView",
            "align_content": null,
            "align_items": null,
            "align_self": null,
            "border": null,
            "bottom": null,
            "display": null,
            "flex": null,
            "flex_flow": null,
            "grid_area": null,
            "grid_auto_columns": null,
            "grid_auto_flow": null,
            "grid_auto_rows": null,
            "grid_column": null,
            "grid_gap": null,
            "grid_row": null,
            "grid_template_areas": null,
            "grid_template_columns": null,
            "grid_template_rows": null,
            "height": null,
            "justify_content": null,
            "justify_items": null,
            "left": null,
            "margin": null,
            "max_height": null,
            "max_width": null,
            "min_height": null,
            "min_width": null,
            "object_fit": null,
            "object_position": null,
            "order": null,
            "overflow": null,
            "overflow_x": null,
            "overflow_y": null,
            "padding": null,
            "right": null,
            "top": null,
            "visibility": null,
            "width": null
          }
        },
        "a615f34a263c4ebf9bdbc5f86027a703": {
          "model_module": "@jupyter-widgets/base",
          "model_name": "LayoutModel",
          "model_module_version": "1.2.0",
          "state": {
            "_model_module": "@jupyter-widgets/base",
            "_model_module_version": "1.2.0",
            "_model_name": "LayoutModel",
            "_view_count": null,
            "_view_module": "@jupyter-widgets/base",
            "_view_module_version": "1.2.0",
            "_view_name": "LayoutView",
            "align_content": null,
            "align_items": null,
            "align_self": null,
            "border": null,
            "bottom": null,
            "display": null,
            "flex": null,
            "flex_flow": null,
            "grid_area": null,
            "grid_auto_columns": null,
            "grid_auto_flow": null,
            "grid_auto_rows": null,
            "grid_column": null,
            "grid_gap": null,
            "grid_row": null,
            "grid_template_areas": null,
            "grid_template_columns": null,
            "grid_template_rows": null,
            "height": null,
            "justify_content": null,
            "justify_items": null,
            "left": null,
            "margin": null,
            "max_height": null,
            "max_width": null,
            "min_height": null,
            "min_width": null,
            "object_fit": null,
            "object_position": null,
            "order": null,
            "overflow": null,
            "overflow_x": null,
            "overflow_y": null,
            "padding": null,
            "right": null,
            "top": null,
            "visibility": null,
            "width": null
          }
        },
        "c69bcd98c6be4fbb9e4ff3106e6b7d76": {
          "model_module": "@jupyter-widgets/controls",
          "model_name": "DescriptionStyleModel",
          "model_module_version": "1.5.0",
          "state": {
            "_model_module": "@jupyter-widgets/controls",
            "_model_module_version": "1.5.0",
            "_model_name": "DescriptionStyleModel",
            "_view_count": null,
            "_view_module": "@jupyter-widgets/base",
            "_view_module_version": "1.2.0",
            "_view_name": "StyleView",
            "description_width": ""
          }
        },
        "a7a1081d09fd4d0286fb39c826e48837": {
          "model_module": "@jupyter-widgets/base",
          "model_name": "LayoutModel",
          "model_module_version": "1.2.0",
          "state": {
            "_model_module": "@jupyter-widgets/base",
            "_model_module_version": "1.2.0",
            "_model_name": "LayoutModel",
            "_view_count": null,
            "_view_module": "@jupyter-widgets/base",
            "_view_module_version": "1.2.0",
            "_view_name": "LayoutView",
            "align_content": null,
            "align_items": null,
            "align_self": null,
            "border": null,
            "bottom": null,
            "display": null,
            "flex": null,
            "flex_flow": null,
            "grid_area": null,
            "grid_auto_columns": null,
            "grid_auto_flow": null,
            "grid_auto_rows": null,
            "grid_column": null,
            "grid_gap": null,
            "grid_row": null,
            "grid_template_areas": null,
            "grid_template_columns": null,
            "grid_template_rows": null,
            "height": null,
            "justify_content": null,
            "justify_items": null,
            "left": null,
            "margin": null,
            "max_height": null,
            "max_width": null,
            "min_height": null,
            "min_width": null,
            "object_fit": null,
            "object_position": null,
            "order": null,
            "overflow": null,
            "overflow_x": null,
            "overflow_y": null,
            "padding": null,
            "right": null,
            "top": null,
            "visibility": null,
            "width": null
          }
        },
        "87b20e8fa28240828fbf0e68ca5395de": {
          "model_module": "@jupyter-widgets/controls",
          "model_name": "ProgressStyleModel",
          "model_module_version": "1.5.0",
          "state": {
            "_model_module": "@jupyter-widgets/controls",
            "_model_module_version": "1.5.0",
            "_model_name": "ProgressStyleModel",
            "_view_count": null,
            "_view_module": "@jupyter-widgets/base",
            "_view_module_version": "1.2.0",
            "_view_name": "StyleView",
            "bar_color": null,
            "description_width": ""
          }
        },
        "bfc0857e9da14e5dbea42971c176e2c9": {
          "model_module": "@jupyter-widgets/base",
          "model_name": "LayoutModel",
          "model_module_version": "1.2.0",
          "state": {
            "_model_module": "@jupyter-widgets/base",
            "_model_module_version": "1.2.0",
            "_model_name": "LayoutModel",
            "_view_count": null,
            "_view_module": "@jupyter-widgets/base",
            "_view_module_version": "1.2.0",
            "_view_name": "LayoutView",
            "align_content": null,
            "align_items": null,
            "align_self": null,
            "border": null,
            "bottom": null,
            "display": null,
            "flex": null,
            "flex_flow": null,
            "grid_area": null,
            "grid_auto_columns": null,
            "grid_auto_flow": null,
            "grid_auto_rows": null,
            "grid_column": null,
            "grid_gap": null,
            "grid_row": null,
            "grid_template_areas": null,
            "grid_template_columns": null,
            "grid_template_rows": null,
            "height": null,
            "justify_content": null,
            "justify_items": null,
            "left": null,
            "margin": null,
            "max_height": null,
            "max_width": null,
            "min_height": null,
            "min_width": null,
            "object_fit": null,
            "object_position": null,
            "order": null,
            "overflow": null,
            "overflow_x": null,
            "overflow_y": null,
            "padding": null,
            "right": null,
            "top": null,
            "visibility": null,
            "width": null
          }
        },
        "7955767eb21548f9ac7e3d8b7c9c18bb": {
          "model_module": "@jupyter-widgets/controls",
          "model_name": "DescriptionStyleModel",
          "model_module_version": "1.5.0",
          "state": {
            "_model_module": "@jupyter-widgets/controls",
            "_model_module_version": "1.5.0",
            "_model_name": "DescriptionStyleModel",
            "_view_count": null,
            "_view_module": "@jupyter-widgets/base",
            "_view_module_version": "1.2.0",
            "_view_name": "StyleView",
            "description_width": ""
          }
        },
        "6ca9dca200cb4056a49254843deb7c02": {
          "model_module": "@jupyter-widgets/controls",
          "model_name": "HBoxModel",
          "model_module_version": "1.5.0",
          "state": {
            "_dom_classes": [],
            "_model_module": "@jupyter-widgets/controls",
            "_model_module_version": "1.5.0",
            "_model_name": "HBoxModel",
            "_view_count": null,
            "_view_module": "@jupyter-widgets/controls",
            "_view_module_version": "1.5.0",
            "_view_name": "HBoxView",
            "box_style": "",
            "children": [
              "IPY_MODEL_68dc25f3c42b4b1abdafed8ba038f6a0",
              "IPY_MODEL_8732fdaf48dc492ea3397f0672113284",
              "IPY_MODEL_c66c4c234ea04f1aa15631b29e5e9384"
            ],
            "layout": "IPY_MODEL_b7174f5ac40f482daf391e3fbed17679"
          }
        },
        "68dc25f3c42b4b1abdafed8ba038f6a0": {
          "model_module": "@jupyter-widgets/controls",
          "model_name": "HTMLModel",
          "model_module_version": "1.5.0",
          "state": {
            "_dom_classes": [],
            "_model_module": "@jupyter-widgets/controls",
            "_model_module_version": "1.5.0",
            "_model_name": "HTMLModel",
            "_view_count": null,
            "_view_module": "@jupyter-widgets/controls",
            "_view_module_version": "1.5.0",
            "_view_name": "HTMLView",
            "description": "",
            "description_tooltip": null,
            "layout": "IPY_MODEL_fa13825b3409484a8a1810402f296c77",
            "placeholder": "​",
            "style": "IPY_MODEL_21e44b3407cd493fac25e26d1a81a950",
            "value": "Downloading: 100%"
          }
        },
        "8732fdaf48dc492ea3397f0672113284": {
          "model_module": "@jupyter-widgets/controls",
          "model_name": "FloatProgressModel",
          "model_module_version": "1.5.0",
          "state": {
            "_dom_classes": [],
            "_model_module": "@jupyter-widgets/controls",
            "_model_module_version": "1.5.0",
            "_model_name": "FloatProgressModel",
            "_view_count": null,
            "_view_module": "@jupyter-widgets/controls",
            "_view_module_version": "1.5.0",
            "_view_name": "ProgressView",
            "bar_style": "success",
            "description": "",
            "description_tooltip": null,
            "layout": "IPY_MODEL_96ec43b7aacf429c876d9ec42e6cf761",
            "max": 231508,
            "min": 0,
            "orientation": "horizontal",
            "style": "IPY_MODEL_6245cc304dee4f7684ddb3a44b20ca7f",
            "value": 231508
          }
        },
        "c66c4c234ea04f1aa15631b29e5e9384": {
          "model_module": "@jupyter-widgets/controls",
          "model_name": "HTMLModel",
          "model_module_version": "1.5.0",
          "state": {
            "_dom_classes": [],
            "_model_module": "@jupyter-widgets/controls",
            "_model_module_version": "1.5.0",
            "_model_name": "HTMLModel",
            "_view_count": null,
            "_view_module": "@jupyter-widgets/controls",
            "_view_module_version": "1.5.0",
            "_view_name": "HTMLView",
            "description": "",
            "description_tooltip": null,
            "layout": "IPY_MODEL_4e638425b80b4268b6aca50ccc5b5d1b",
            "placeholder": "​",
            "style": "IPY_MODEL_53cc112f77c2464a9fffcd89f6173966",
            "value": " 232k/232k [00:00&lt;00:00, 2.44MB/s]"
          }
        },
        "b7174f5ac40f482daf391e3fbed17679": {
          "model_module": "@jupyter-widgets/base",
          "model_name": "LayoutModel",
          "model_module_version": "1.2.0",
          "state": {
            "_model_module": "@jupyter-widgets/base",
            "_model_module_version": "1.2.0",
            "_model_name": "LayoutModel",
            "_view_count": null,
            "_view_module": "@jupyter-widgets/base",
            "_view_module_version": "1.2.0",
            "_view_name": "LayoutView",
            "align_content": null,
            "align_items": null,
            "align_self": null,
            "border": null,
            "bottom": null,
            "display": null,
            "flex": null,
            "flex_flow": null,
            "grid_area": null,
            "grid_auto_columns": null,
            "grid_auto_flow": null,
            "grid_auto_rows": null,
            "grid_column": null,
            "grid_gap": null,
            "grid_row": null,
            "grid_template_areas": null,
            "grid_template_columns": null,
            "grid_template_rows": null,
            "height": null,
            "justify_content": null,
            "justify_items": null,
            "left": null,
            "margin": null,
            "max_height": null,
            "max_width": null,
            "min_height": null,
            "min_width": null,
            "object_fit": null,
            "object_position": null,
            "order": null,
            "overflow": null,
            "overflow_x": null,
            "overflow_y": null,
            "padding": null,
            "right": null,
            "top": null,
            "visibility": null,
            "width": null
          }
        },
        "fa13825b3409484a8a1810402f296c77": {
          "model_module": "@jupyter-widgets/base",
          "model_name": "LayoutModel",
          "model_module_version": "1.2.0",
          "state": {
            "_model_module": "@jupyter-widgets/base",
            "_model_module_version": "1.2.0",
            "_model_name": "LayoutModel",
            "_view_count": null,
            "_view_module": "@jupyter-widgets/base",
            "_view_module_version": "1.2.0",
            "_view_name": "LayoutView",
            "align_content": null,
            "align_items": null,
            "align_self": null,
            "border": null,
            "bottom": null,
            "display": null,
            "flex": null,
            "flex_flow": null,
            "grid_area": null,
            "grid_auto_columns": null,
            "grid_auto_flow": null,
            "grid_auto_rows": null,
            "grid_column": null,
            "grid_gap": null,
            "grid_row": null,
            "grid_template_areas": null,
            "grid_template_columns": null,
            "grid_template_rows": null,
            "height": null,
            "justify_content": null,
            "justify_items": null,
            "left": null,
            "margin": null,
            "max_height": null,
            "max_width": null,
            "min_height": null,
            "min_width": null,
            "object_fit": null,
            "object_position": null,
            "order": null,
            "overflow": null,
            "overflow_x": null,
            "overflow_y": null,
            "padding": null,
            "right": null,
            "top": null,
            "visibility": null,
            "width": null
          }
        },
        "21e44b3407cd493fac25e26d1a81a950": {
          "model_module": "@jupyter-widgets/controls",
          "model_name": "DescriptionStyleModel",
          "model_module_version": "1.5.0",
          "state": {
            "_model_module": "@jupyter-widgets/controls",
            "_model_module_version": "1.5.0",
            "_model_name": "DescriptionStyleModel",
            "_view_count": null,
            "_view_module": "@jupyter-widgets/base",
            "_view_module_version": "1.2.0",
            "_view_name": "StyleView",
            "description_width": ""
          }
        },
        "96ec43b7aacf429c876d9ec42e6cf761": {
          "model_module": "@jupyter-widgets/base",
          "model_name": "LayoutModel",
          "model_module_version": "1.2.0",
          "state": {
            "_model_module": "@jupyter-widgets/base",
            "_model_module_version": "1.2.0",
            "_model_name": "LayoutModel",
            "_view_count": null,
            "_view_module": "@jupyter-widgets/base",
            "_view_module_version": "1.2.0",
            "_view_name": "LayoutView",
            "align_content": null,
            "align_items": null,
            "align_self": null,
            "border": null,
            "bottom": null,
            "display": null,
            "flex": null,
            "flex_flow": null,
            "grid_area": null,
            "grid_auto_columns": null,
            "grid_auto_flow": null,
            "grid_auto_rows": null,
            "grid_column": null,
            "grid_gap": null,
            "grid_row": null,
            "grid_template_areas": null,
            "grid_template_columns": null,
            "grid_template_rows": null,
            "height": null,
            "justify_content": null,
            "justify_items": null,
            "left": null,
            "margin": null,
            "max_height": null,
            "max_width": null,
            "min_height": null,
            "min_width": null,
            "object_fit": null,
            "object_position": null,
            "order": null,
            "overflow": null,
            "overflow_x": null,
            "overflow_y": null,
            "padding": null,
            "right": null,
            "top": null,
            "visibility": null,
            "width": null
          }
        },
        "6245cc304dee4f7684ddb3a44b20ca7f": {
          "model_module": "@jupyter-widgets/controls",
          "model_name": "ProgressStyleModel",
          "model_module_version": "1.5.0",
          "state": {
            "_model_module": "@jupyter-widgets/controls",
            "_model_module_version": "1.5.0",
            "_model_name": "ProgressStyleModel",
            "_view_count": null,
            "_view_module": "@jupyter-widgets/base",
            "_view_module_version": "1.2.0",
            "_view_name": "StyleView",
            "bar_color": null,
            "description_width": ""
          }
        },
        "4e638425b80b4268b6aca50ccc5b5d1b": {
          "model_module": "@jupyter-widgets/base",
          "model_name": "LayoutModel",
          "model_module_version": "1.2.0",
          "state": {
            "_model_module": "@jupyter-widgets/base",
            "_model_module_version": "1.2.0",
            "_model_name": "LayoutModel",
            "_view_count": null,
            "_view_module": "@jupyter-widgets/base",
            "_view_module_version": "1.2.0",
            "_view_name": "LayoutView",
            "align_content": null,
            "align_items": null,
            "align_self": null,
            "border": null,
            "bottom": null,
            "display": null,
            "flex": null,
            "flex_flow": null,
            "grid_area": null,
            "grid_auto_columns": null,
            "grid_auto_flow": null,
            "grid_auto_rows": null,
            "grid_column": null,
            "grid_gap": null,
            "grid_row": null,
            "grid_template_areas": null,
            "grid_template_columns": null,
            "grid_template_rows": null,
            "height": null,
            "justify_content": null,
            "justify_items": null,
            "left": null,
            "margin": null,
            "max_height": null,
            "max_width": null,
            "min_height": null,
            "min_width": null,
            "object_fit": null,
            "object_position": null,
            "order": null,
            "overflow": null,
            "overflow_x": null,
            "overflow_y": null,
            "padding": null,
            "right": null,
            "top": null,
            "visibility": null,
            "width": null
          }
        },
        "53cc112f77c2464a9fffcd89f6173966": {
          "model_module": "@jupyter-widgets/controls",
          "model_name": "DescriptionStyleModel",
          "model_module_version": "1.5.0",
          "state": {
            "_model_module": "@jupyter-widgets/controls",
            "_model_module_version": "1.5.0",
            "_model_name": "DescriptionStyleModel",
            "_view_count": null,
            "_view_module": "@jupyter-widgets/base",
            "_view_module_version": "1.2.0",
            "_view_name": "StyleView",
            "description_width": ""
          }
        },
        "ed7f1db82f234cf99197d9ef21778c99": {
          "model_module": "@jupyter-widgets/controls",
          "model_name": "HBoxModel",
          "model_module_version": "1.5.0",
          "state": {
            "_dom_classes": [],
            "_model_module": "@jupyter-widgets/controls",
            "_model_module_version": "1.5.0",
            "_model_name": "HBoxModel",
            "_view_count": null,
            "_view_module": "@jupyter-widgets/controls",
            "_view_module_version": "1.5.0",
            "_view_name": "HBoxView",
            "box_style": "",
            "children": [
              "IPY_MODEL_31a116ef251e437ab5a40f2f67a8269a",
              "IPY_MODEL_03f409849cd445029f858cb0146db9e5",
              "IPY_MODEL_da46a41c7df744e690adfdb2f030cfb6"
            ],
            "layout": "IPY_MODEL_11fdf45377c84a82b93c8943eeb5d13e"
          }
        },
        "31a116ef251e437ab5a40f2f67a8269a": {
          "model_module": "@jupyter-widgets/controls",
          "model_name": "HTMLModel",
          "model_module_version": "1.5.0",
          "state": {
            "_dom_classes": [],
            "_model_module": "@jupyter-widgets/controls",
            "_model_module_version": "1.5.0",
            "_model_name": "HTMLModel",
            "_view_count": null,
            "_view_module": "@jupyter-widgets/controls",
            "_view_module_version": "1.5.0",
            "_view_name": "HTMLView",
            "description": "",
            "description_tooltip": null,
            "layout": "IPY_MODEL_d79ff98573804ba49b457b38675a7b2a",
            "placeholder": "​",
            "style": "IPY_MODEL_3ab5084ea1e5449daa6bca45e01b4b2e",
            "value": "Downloading: 100%"
          }
        },
        "03f409849cd445029f858cb0146db9e5": {
          "model_module": "@jupyter-widgets/controls",
          "model_name": "FloatProgressModel",
          "model_module_version": "1.5.0",
          "state": {
            "_dom_classes": [],
            "_model_module": "@jupyter-widgets/controls",
            "_model_module_version": "1.5.0",
            "_model_name": "FloatProgressModel",
            "_view_count": null,
            "_view_module": "@jupyter-widgets/controls",
            "_view_module_version": "1.5.0",
            "_view_name": "ProgressView",
            "bar_style": "success",
            "description": "",
            "description_tooltip": null,
            "layout": "IPY_MODEL_25b0bc6c24c146c1bf68d52e2ef22519",
            "max": 112,
            "min": 0,
            "orientation": "horizontal",
            "style": "IPY_MODEL_739816850d494a02bffb775a9b6c04fd",
            "value": 112
          }
        },
        "da46a41c7df744e690adfdb2f030cfb6": {
          "model_module": "@jupyter-widgets/controls",
          "model_name": "HTMLModel",
          "model_module_version": "1.5.0",
          "state": {
            "_dom_classes": [],
            "_model_module": "@jupyter-widgets/controls",
            "_model_module_version": "1.5.0",
            "_model_name": "HTMLModel",
            "_view_count": null,
            "_view_module": "@jupyter-widgets/controls",
            "_view_module_version": "1.5.0",
            "_view_name": "HTMLView",
            "description": "",
            "description_tooltip": null,
            "layout": "IPY_MODEL_f9faad6006aa42aba9d42fb3577f08f5",
            "placeholder": "​",
            "style": "IPY_MODEL_90771a76a4fe4d4fbeea2c17b7e61346",
            "value": " 112/112 [00:00&lt;00:00, 1.68kB/s]"
          }
        },
        "11fdf45377c84a82b93c8943eeb5d13e": {
          "model_module": "@jupyter-widgets/base",
          "model_name": "LayoutModel",
          "model_module_version": "1.2.0",
          "state": {
            "_model_module": "@jupyter-widgets/base",
            "_model_module_version": "1.2.0",
            "_model_name": "LayoutModel",
            "_view_count": null,
            "_view_module": "@jupyter-widgets/base",
            "_view_module_version": "1.2.0",
            "_view_name": "LayoutView",
            "align_content": null,
            "align_items": null,
            "align_self": null,
            "border": null,
            "bottom": null,
            "display": null,
            "flex": null,
            "flex_flow": null,
            "grid_area": null,
            "grid_auto_columns": null,
            "grid_auto_flow": null,
            "grid_auto_rows": null,
            "grid_column": null,
            "grid_gap": null,
            "grid_row": null,
            "grid_template_areas": null,
            "grid_template_columns": null,
            "grid_template_rows": null,
            "height": null,
            "justify_content": null,
            "justify_items": null,
            "left": null,
            "margin": null,
            "max_height": null,
            "max_width": null,
            "min_height": null,
            "min_width": null,
            "object_fit": null,
            "object_position": null,
            "order": null,
            "overflow": null,
            "overflow_x": null,
            "overflow_y": null,
            "padding": null,
            "right": null,
            "top": null,
            "visibility": null,
            "width": null
          }
        },
        "d79ff98573804ba49b457b38675a7b2a": {
          "model_module": "@jupyter-widgets/base",
          "model_name": "LayoutModel",
          "model_module_version": "1.2.0",
          "state": {
            "_model_module": "@jupyter-widgets/base",
            "_model_module_version": "1.2.0",
            "_model_name": "LayoutModel",
            "_view_count": null,
            "_view_module": "@jupyter-widgets/base",
            "_view_module_version": "1.2.0",
            "_view_name": "LayoutView",
            "align_content": null,
            "align_items": null,
            "align_self": null,
            "border": null,
            "bottom": null,
            "display": null,
            "flex": null,
            "flex_flow": null,
            "grid_area": null,
            "grid_auto_columns": null,
            "grid_auto_flow": null,
            "grid_auto_rows": null,
            "grid_column": null,
            "grid_gap": null,
            "grid_row": null,
            "grid_template_areas": null,
            "grid_template_columns": null,
            "grid_template_rows": null,
            "height": null,
            "justify_content": null,
            "justify_items": null,
            "left": null,
            "margin": null,
            "max_height": null,
            "max_width": null,
            "min_height": null,
            "min_width": null,
            "object_fit": null,
            "object_position": null,
            "order": null,
            "overflow": null,
            "overflow_x": null,
            "overflow_y": null,
            "padding": null,
            "right": null,
            "top": null,
            "visibility": null,
            "width": null
          }
        },
        "3ab5084ea1e5449daa6bca45e01b4b2e": {
          "model_module": "@jupyter-widgets/controls",
          "model_name": "DescriptionStyleModel",
          "model_module_version": "1.5.0",
          "state": {
            "_model_module": "@jupyter-widgets/controls",
            "_model_module_version": "1.5.0",
            "_model_name": "DescriptionStyleModel",
            "_view_count": null,
            "_view_module": "@jupyter-widgets/base",
            "_view_module_version": "1.2.0",
            "_view_name": "StyleView",
            "description_width": ""
          }
        },
        "25b0bc6c24c146c1bf68d52e2ef22519": {
          "model_module": "@jupyter-widgets/base",
          "model_name": "LayoutModel",
          "model_module_version": "1.2.0",
          "state": {
            "_model_module": "@jupyter-widgets/base",
            "_model_module_version": "1.2.0",
            "_model_name": "LayoutModel",
            "_view_count": null,
            "_view_module": "@jupyter-widgets/base",
            "_view_module_version": "1.2.0",
            "_view_name": "LayoutView",
            "align_content": null,
            "align_items": null,
            "align_self": null,
            "border": null,
            "bottom": null,
            "display": null,
            "flex": null,
            "flex_flow": null,
            "grid_area": null,
            "grid_auto_columns": null,
            "grid_auto_flow": null,
            "grid_auto_rows": null,
            "grid_column": null,
            "grid_gap": null,
            "grid_row": null,
            "grid_template_areas": null,
            "grid_template_columns": null,
            "grid_template_rows": null,
            "height": null,
            "justify_content": null,
            "justify_items": null,
            "left": null,
            "margin": null,
            "max_height": null,
            "max_width": null,
            "min_height": null,
            "min_width": null,
            "object_fit": null,
            "object_position": null,
            "order": null,
            "overflow": null,
            "overflow_x": null,
            "overflow_y": null,
            "padding": null,
            "right": null,
            "top": null,
            "visibility": null,
            "width": null
          }
        },
        "739816850d494a02bffb775a9b6c04fd": {
          "model_module": "@jupyter-widgets/controls",
          "model_name": "ProgressStyleModel",
          "model_module_version": "1.5.0",
          "state": {
            "_model_module": "@jupyter-widgets/controls",
            "_model_module_version": "1.5.0",
            "_model_name": "ProgressStyleModel",
            "_view_count": null,
            "_view_module": "@jupyter-widgets/base",
            "_view_module_version": "1.2.0",
            "_view_name": "StyleView",
            "bar_color": null,
            "description_width": ""
          }
        },
        "f9faad6006aa42aba9d42fb3577f08f5": {
          "model_module": "@jupyter-widgets/base",
          "model_name": "LayoutModel",
          "model_module_version": "1.2.0",
          "state": {
            "_model_module": "@jupyter-widgets/base",
            "_model_module_version": "1.2.0",
            "_model_name": "LayoutModel",
            "_view_count": null,
            "_view_module": "@jupyter-widgets/base",
            "_view_module_version": "1.2.0",
            "_view_name": "LayoutView",
            "align_content": null,
            "align_items": null,
            "align_self": null,
            "border": null,
            "bottom": null,
            "display": null,
            "flex": null,
            "flex_flow": null,
            "grid_area": null,
            "grid_auto_columns": null,
            "grid_auto_flow": null,
            "grid_auto_rows": null,
            "grid_column": null,
            "grid_gap": null,
            "grid_row": null,
            "grid_template_areas": null,
            "grid_template_columns": null,
            "grid_template_rows": null,
            "height": null,
            "justify_content": null,
            "justify_items": null,
            "left": null,
            "margin": null,
            "max_height": null,
            "max_width": null,
            "min_height": null,
            "min_width": null,
            "object_fit": null,
            "object_position": null,
            "order": null,
            "overflow": null,
            "overflow_x": null,
            "overflow_y": null,
            "padding": null,
            "right": null,
            "top": null,
            "visibility": null,
            "width": null
          }
        },
        "90771a76a4fe4d4fbeea2c17b7e61346": {
          "model_module": "@jupyter-widgets/controls",
          "model_name": "DescriptionStyleModel",
          "model_module_version": "1.5.0",
          "state": {
            "_model_module": "@jupyter-widgets/controls",
            "_model_module_version": "1.5.0",
            "_model_name": "DescriptionStyleModel",
            "_view_count": null,
            "_view_module": "@jupyter-widgets/base",
            "_view_module_version": "1.2.0",
            "_view_name": "StyleView",
            "description_width": ""
          }
        },
        "3dc308fee6c148d995a68c4b4cbbe25e": {
          "model_module": "@jupyter-widgets/controls",
          "model_name": "HBoxModel",
          "model_module_version": "1.5.0",
          "state": {
            "_dom_classes": [],
            "_model_module": "@jupyter-widgets/controls",
            "_model_module_version": "1.5.0",
            "_model_name": "HBoxModel",
            "_view_count": null,
            "_view_module": "@jupyter-widgets/controls",
            "_view_module_version": "1.5.0",
            "_view_name": "HBoxView",
            "box_style": "",
            "children": [
              "IPY_MODEL_65add690ca2d48c5a89eff508db035f7",
              "IPY_MODEL_a11682407e814bb98c8dc46f790c568c",
              "IPY_MODEL_5c487f02aa3842b095e4cf7603402798"
            ],
            "layout": "IPY_MODEL_3aa65960d85440c3ba127babb350325f"
          }
        },
        "65add690ca2d48c5a89eff508db035f7": {
          "model_module": "@jupyter-widgets/controls",
          "model_name": "HTMLModel",
          "model_module_version": "1.5.0",
          "state": {
            "_dom_classes": [],
            "_model_module": "@jupyter-widgets/controls",
            "_model_module_version": "1.5.0",
            "_model_name": "HTMLModel",
            "_view_count": null,
            "_view_module": "@jupyter-widgets/controls",
            "_view_module_version": "1.5.0",
            "_view_name": "HTMLView",
            "description": "",
            "description_tooltip": null,
            "layout": "IPY_MODEL_b79d0cf6723d4666ab3e23236cfd2af8",
            "placeholder": "​",
            "style": "IPY_MODEL_d793ec640b664cd3b5778494f88fc358",
            "value": "Downloading: 100%"
          }
        },
        "a11682407e814bb98c8dc46f790c568c": {
          "model_module": "@jupyter-widgets/controls",
          "model_name": "FloatProgressModel",
          "model_module_version": "1.5.0",
          "state": {
            "_dom_classes": [],
            "_model_module": "@jupyter-widgets/controls",
            "_model_module_version": "1.5.0",
            "_model_name": "FloatProgressModel",
            "_view_count": null,
            "_view_module": "@jupyter-widgets/controls",
            "_view_module_version": "1.5.0",
            "_view_name": "ProgressView",
            "bar_style": "success",
            "description": "",
            "description_tooltip": null,
            "layout": "IPY_MODEL_fc1f24a135494310a6732a2fa0fc074b",
            "max": 321,
            "min": 0,
            "orientation": "horizontal",
            "style": "IPY_MODEL_d285f4ecdb6b471080bcaad1d8d7cacf",
            "value": 321
          }
        },
        "5c487f02aa3842b095e4cf7603402798": {
          "model_module": "@jupyter-widgets/controls",
          "model_name": "HTMLModel",
          "model_module_version": "1.5.0",
          "state": {
            "_dom_classes": [],
            "_model_module": "@jupyter-widgets/controls",
            "_model_module_version": "1.5.0",
            "_model_name": "HTMLModel",
            "_view_count": null,
            "_view_module": "@jupyter-widgets/controls",
            "_view_module_version": "1.5.0",
            "_view_name": "HTMLView",
            "description": "",
            "description_tooltip": null,
            "layout": "IPY_MODEL_992df5668e044119b8baefe231cd8594",
            "placeholder": "​",
            "style": "IPY_MODEL_1db19bf51b514689a84eba1288abb36d",
            "value": " 321/321 [00:00&lt;00:00, 3.88kB/s]"
          }
        },
        "3aa65960d85440c3ba127babb350325f": {
          "model_module": "@jupyter-widgets/base",
          "model_name": "LayoutModel",
          "model_module_version": "1.2.0",
          "state": {
            "_model_module": "@jupyter-widgets/base",
            "_model_module_version": "1.2.0",
            "_model_name": "LayoutModel",
            "_view_count": null,
            "_view_module": "@jupyter-widgets/base",
            "_view_module_version": "1.2.0",
            "_view_name": "LayoutView",
            "align_content": null,
            "align_items": null,
            "align_self": null,
            "border": null,
            "bottom": null,
            "display": null,
            "flex": null,
            "flex_flow": null,
            "grid_area": null,
            "grid_auto_columns": null,
            "grid_auto_flow": null,
            "grid_auto_rows": null,
            "grid_column": null,
            "grid_gap": null,
            "grid_row": null,
            "grid_template_areas": null,
            "grid_template_columns": null,
            "grid_template_rows": null,
            "height": null,
            "justify_content": null,
            "justify_items": null,
            "left": null,
            "margin": null,
            "max_height": null,
            "max_width": null,
            "min_height": null,
            "min_width": null,
            "object_fit": null,
            "object_position": null,
            "order": null,
            "overflow": null,
            "overflow_x": null,
            "overflow_y": null,
            "padding": null,
            "right": null,
            "top": null,
            "visibility": null,
            "width": null
          }
        },
        "b79d0cf6723d4666ab3e23236cfd2af8": {
          "model_module": "@jupyter-widgets/base",
          "model_name": "LayoutModel",
          "model_module_version": "1.2.0",
          "state": {
            "_model_module": "@jupyter-widgets/base",
            "_model_module_version": "1.2.0",
            "_model_name": "LayoutModel",
            "_view_count": null,
            "_view_module": "@jupyter-widgets/base",
            "_view_module_version": "1.2.0",
            "_view_name": "LayoutView",
            "align_content": null,
            "align_items": null,
            "align_self": null,
            "border": null,
            "bottom": null,
            "display": null,
            "flex": null,
            "flex_flow": null,
            "grid_area": null,
            "grid_auto_columns": null,
            "grid_auto_flow": null,
            "grid_auto_rows": null,
            "grid_column": null,
            "grid_gap": null,
            "grid_row": null,
            "grid_template_areas": null,
            "grid_template_columns": null,
            "grid_template_rows": null,
            "height": null,
            "justify_content": null,
            "justify_items": null,
            "left": null,
            "margin": null,
            "max_height": null,
            "max_width": null,
            "min_height": null,
            "min_width": null,
            "object_fit": null,
            "object_position": null,
            "order": null,
            "overflow": null,
            "overflow_x": null,
            "overflow_y": null,
            "padding": null,
            "right": null,
            "top": null,
            "visibility": null,
            "width": null
          }
        },
        "d793ec640b664cd3b5778494f88fc358": {
          "model_module": "@jupyter-widgets/controls",
          "model_name": "DescriptionStyleModel",
          "model_module_version": "1.5.0",
          "state": {
            "_model_module": "@jupyter-widgets/controls",
            "_model_module_version": "1.5.0",
            "_model_name": "DescriptionStyleModel",
            "_view_count": null,
            "_view_module": "@jupyter-widgets/base",
            "_view_module_version": "1.2.0",
            "_view_name": "StyleView",
            "description_width": ""
          }
        },
        "fc1f24a135494310a6732a2fa0fc074b": {
          "model_module": "@jupyter-widgets/base",
          "model_name": "LayoutModel",
          "model_module_version": "1.2.0",
          "state": {
            "_model_module": "@jupyter-widgets/base",
            "_model_module_version": "1.2.0",
            "_model_name": "LayoutModel",
            "_view_count": null,
            "_view_module": "@jupyter-widgets/base",
            "_view_module_version": "1.2.0",
            "_view_name": "LayoutView",
            "align_content": null,
            "align_items": null,
            "align_self": null,
            "border": null,
            "bottom": null,
            "display": null,
            "flex": null,
            "flex_flow": null,
            "grid_area": null,
            "grid_auto_columns": null,
            "grid_auto_flow": null,
            "grid_auto_rows": null,
            "grid_column": null,
            "grid_gap": null,
            "grid_row": null,
            "grid_template_areas": null,
            "grid_template_columns": null,
            "grid_template_rows": null,
            "height": null,
            "justify_content": null,
            "justify_items": null,
            "left": null,
            "margin": null,
            "max_height": null,
            "max_width": null,
            "min_height": null,
            "min_width": null,
            "object_fit": null,
            "object_position": null,
            "order": null,
            "overflow": null,
            "overflow_x": null,
            "overflow_y": null,
            "padding": null,
            "right": null,
            "top": null,
            "visibility": null,
            "width": null
          }
        },
        "d285f4ecdb6b471080bcaad1d8d7cacf": {
          "model_module": "@jupyter-widgets/controls",
          "model_name": "ProgressStyleModel",
          "model_module_version": "1.5.0",
          "state": {
            "_model_module": "@jupyter-widgets/controls",
            "_model_module_version": "1.5.0",
            "_model_name": "ProgressStyleModel",
            "_view_count": null,
            "_view_module": "@jupyter-widgets/base",
            "_view_module_version": "1.2.0",
            "_view_name": "StyleView",
            "bar_color": null,
            "description_width": ""
          }
        },
        "992df5668e044119b8baefe231cd8594": {
          "model_module": "@jupyter-widgets/base",
          "model_name": "LayoutModel",
          "model_module_version": "1.2.0",
          "state": {
            "_model_module": "@jupyter-widgets/base",
            "_model_module_version": "1.2.0",
            "_model_name": "LayoutModel",
            "_view_count": null,
            "_view_module": "@jupyter-widgets/base",
            "_view_module_version": "1.2.0",
            "_view_name": "LayoutView",
            "align_content": null,
            "align_items": null,
            "align_self": null,
            "border": null,
            "bottom": null,
            "display": null,
            "flex": null,
            "flex_flow": null,
            "grid_area": null,
            "grid_auto_columns": null,
            "grid_auto_flow": null,
            "grid_auto_rows": null,
            "grid_column": null,
            "grid_gap": null,
            "grid_row": null,
            "grid_template_areas": null,
            "grid_template_columns": null,
            "grid_template_rows": null,
            "height": null,
            "justify_content": null,
            "justify_items": null,
            "left": null,
            "margin": null,
            "max_height": null,
            "max_width": null,
            "min_height": null,
            "min_width": null,
            "object_fit": null,
            "object_position": null,
            "order": null,
            "overflow": null,
            "overflow_x": null,
            "overflow_y": null,
            "padding": null,
            "right": null,
            "top": null,
            "visibility": null,
            "width": null
          }
        },
        "1db19bf51b514689a84eba1288abb36d": {
          "model_module": "@jupyter-widgets/controls",
          "model_name": "DescriptionStyleModel",
          "model_module_version": "1.5.0",
          "state": {
            "_model_module": "@jupyter-widgets/controls",
            "_model_module_version": "1.5.0",
            "_model_name": "DescriptionStyleModel",
            "_view_count": null,
            "_view_module": "@jupyter-widgets/base",
            "_view_module_version": "1.2.0",
            "_view_name": "StyleView",
            "description_width": ""
          }
        },
        "d7d625edad5b4370a2d039edfd598665": {
          "model_module": "@jupyter-widgets/controls",
          "model_name": "HBoxModel",
          "model_module_version": "1.5.0",
          "state": {
            "_dom_classes": [],
            "_model_module": "@jupyter-widgets/controls",
            "_model_module_version": "1.5.0",
            "_model_name": "HBoxModel",
            "_view_count": null,
            "_view_module": "@jupyter-widgets/controls",
            "_view_module_version": "1.5.0",
            "_view_name": "HBoxView",
            "box_style": "",
            "children": [
              "IPY_MODEL_b32cc4a39ff843ccb35efbd27205dde9",
              "IPY_MODEL_a792719e956146a48f3a700257364faa",
              "IPY_MODEL_e7b8b38493a54132a804a1794d063304"
            ],
            "layout": "IPY_MODEL_1a638402cd934bbda41e6b7d04c316b9"
          }
        },
        "b32cc4a39ff843ccb35efbd27205dde9": {
          "model_module": "@jupyter-widgets/controls",
          "model_name": "HTMLModel",
          "model_module_version": "1.5.0",
          "state": {
            "_dom_classes": [],
            "_model_module": "@jupyter-widgets/controls",
            "_model_module_version": "1.5.0",
            "_model_name": "HTMLModel",
            "_view_count": null,
            "_view_module": "@jupyter-widgets/controls",
            "_view_module_version": "1.5.0",
            "_view_name": "HTMLView",
            "description": "",
            "description_tooltip": null,
            "layout": "IPY_MODEL_d1291c1cc76f4f80b60ebedb8a63dae8",
            "placeholder": "​",
            "style": "IPY_MODEL_332a7ad559654269aaa6e46ca7d2f526",
            "value": "Downloading: 100%"
          }
        },
        "a792719e956146a48f3a700257364faa": {
          "model_module": "@jupyter-widgets/controls",
          "model_name": "FloatProgressModel",
          "model_module_version": "1.5.0",
          "state": {
            "_dom_classes": [],
            "_model_module": "@jupyter-widgets/controls",
            "_model_module_version": "1.5.0",
            "_model_name": "FloatProgressModel",
            "_view_count": null,
            "_view_module": "@jupyter-widgets/controls",
            "_view_module_version": "1.5.0",
            "_view_name": "ProgressView",
            "bar_style": "success",
            "description": "",
            "description_tooltip": null,
            "layout": "IPY_MODEL_e3e0fcd38b5248d7abb78b9e95c1b930",
            "max": 466249,
            "min": 0,
            "orientation": "horizontal",
            "style": "IPY_MODEL_9c672a96f4e94260bd684c54375dd7d4",
            "value": 466249
          }
        },
        "e7b8b38493a54132a804a1794d063304": {
          "model_module": "@jupyter-widgets/controls",
          "model_name": "HTMLModel",
          "model_module_version": "1.5.0",
          "state": {
            "_dom_classes": [],
            "_model_module": "@jupyter-widgets/controls",
            "_model_module_version": "1.5.0",
            "_model_name": "HTMLModel",
            "_view_count": null,
            "_view_module": "@jupyter-widgets/controls",
            "_view_module_version": "1.5.0",
            "_view_name": "HTMLView",
            "description": "",
            "description_tooltip": null,
            "layout": "IPY_MODEL_27418ccd312e499ba8165649f62eef25",
            "placeholder": "​",
            "style": "IPY_MODEL_cf0ca5e2e0204fa1834272575964ad82",
            "value": " 466k/466k [00:00&lt;00:00, 3.61MB/s]"
          }
        },
        "1a638402cd934bbda41e6b7d04c316b9": {
          "model_module": "@jupyter-widgets/base",
          "model_name": "LayoutModel",
          "model_module_version": "1.2.0",
          "state": {
            "_model_module": "@jupyter-widgets/base",
            "_model_module_version": "1.2.0",
            "_model_name": "LayoutModel",
            "_view_count": null,
            "_view_module": "@jupyter-widgets/base",
            "_view_module_version": "1.2.0",
            "_view_name": "LayoutView",
            "align_content": null,
            "align_items": null,
            "align_self": null,
            "border": null,
            "bottom": null,
            "display": null,
            "flex": null,
            "flex_flow": null,
            "grid_area": null,
            "grid_auto_columns": null,
            "grid_auto_flow": null,
            "grid_auto_rows": null,
            "grid_column": null,
            "grid_gap": null,
            "grid_row": null,
            "grid_template_areas": null,
            "grid_template_columns": null,
            "grid_template_rows": null,
            "height": null,
            "justify_content": null,
            "justify_items": null,
            "left": null,
            "margin": null,
            "max_height": null,
            "max_width": null,
            "min_height": null,
            "min_width": null,
            "object_fit": null,
            "object_position": null,
            "order": null,
            "overflow": null,
            "overflow_x": null,
            "overflow_y": null,
            "padding": null,
            "right": null,
            "top": null,
            "visibility": null,
            "width": null
          }
        },
        "d1291c1cc76f4f80b60ebedb8a63dae8": {
          "model_module": "@jupyter-widgets/base",
          "model_name": "LayoutModel",
          "model_module_version": "1.2.0",
          "state": {
            "_model_module": "@jupyter-widgets/base",
            "_model_module_version": "1.2.0",
            "_model_name": "LayoutModel",
            "_view_count": null,
            "_view_module": "@jupyter-widgets/base",
            "_view_module_version": "1.2.0",
            "_view_name": "LayoutView",
            "align_content": null,
            "align_items": null,
            "align_self": null,
            "border": null,
            "bottom": null,
            "display": null,
            "flex": null,
            "flex_flow": null,
            "grid_area": null,
            "grid_auto_columns": null,
            "grid_auto_flow": null,
            "grid_auto_rows": null,
            "grid_column": null,
            "grid_gap": null,
            "grid_row": null,
            "grid_template_areas": null,
            "grid_template_columns": null,
            "grid_template_rows": null,
            "height": null,
            "justify_content": null,
            "justify_items": null,
            "left": null,
            "margin": null,
            "max_height": null,
            "max_width": null,
            "min_height": null,
            "min_width": null,
            "object_fit": null,
            "object_position": null,
            "order": null,
            "overflow": null,
            "overflow_x": null,
            "overflow_y": null,
            "padding": null,
            "right": null,
            "top": null,
            "visibility": null,
            "width": null
          }
        },
        "332a7ad559654269aaa6e46ca7d2f526": {
          "model_module": "@jupyter-widgets/controls",
          "model_name": "DescriptionStyleModel",
          "model_module_version": "1.5.0",
          "state": {
            "_model_module": "@jupyter-widgets/controls",
            "_model_module_version": "1.5.0",
            "_model_name": "DescriptionStyleModel",
            "_view_count": null,
            "_view_module": "@jupyter-widgets/base",
            "_view_module_version": "1.2.0",
            "_view_name": "StyleView",
            "description_width": ""
          }
        },
        "e3e0fcd38b5248d7abb78b9e95c1b930": {
          "model_module": "@jupyter-widgets/base",
          "model_name": "LayoutModel",
          "model_module_version": "1.2.0",
          "state": {
            "_model_module": "@jupyter-widgets/base",
            "_model_module_version": "1.2.0",
            "_model_name": "LayoutModel",
            "_view_count": null,
            "_view_module": "@jupyter-widgets/base",
            "_view_module_version": "1.2.0",
            "_view_name": "LayoutView",
            "align_content": null,
            "align_items": null,
            "align_self": null,
            "border": null,
            "bottom": null,
            "display": null,
            "flex": null,
            "flex_flow": null,
            "grid_area": null,
            "grid_auto_columns": null,
            "grid_auto_flow": null,
            "grid_auto_rows": null,
            "grid_column": null,
            "grid_gap": null,
            "grid_row": null,
            "grid_template_areas": null,
            "grid_template_columns": null,
            "grid_template_rows": null,
            "height": null,
            "justify_content": null,
            "justify_items": null,
            "left": null,
            "margin": null,
            "max_height": null,
            "max_width": null,
            "min_height": null,
            "min_width": null,
            "object_fit": null,
            "object_position": null,
            "order": null,
            "overflow": null,
            "overflow_x": null,
            "overflow_y": null,
            "padding": null,
            "right": null,
            "top": null,
            "visibility": null,
            "width": null
          }
        },
        "9c672a96f4e94260bd684c54375dd7d4": {
          "model_module": "@jupyter-widgets/controls",
          "model_name": "ProgressStyleModel",
          "model_module_version": "1.5.0",
          "state": {
            "_model_module": "@jupyter-widgets/controls",
            "_model_module_version": "1.5.0",
            "_model_name": "ProgressStyleModel",
            "_view_count": null,
            "_view_module": "@jupyter-widgets/base",
            "_view_module_version": "1.2.0",
            "_view_name": "StyleView",
            "bar_color": null,
            "description_width": ""
          }
        },
        "27418ccd312e499ba8165649f62eef25": {
          "model_module": "@jupyter-widgets/base",
          "model_name": "LayoutModel",
          "model_module_version": "1.2.0",
          "state": {
            "_model_module": "@jupyter-widgets/base",
            "_model_module_version": "1.2.0",
            "_model_name": "LayoutModel",
            "_view_count": null,
            "_view_module": "@jupyter-widgets/base",
            "_view_module_version": "1.2.0",
            "_view_name": "LayoutView",
            "align_content": null,
            "align_items": null,
            "align_self": null,
            "border": null,
            "bottom": null,
            "display": null,
            "flex": null,
            "flex_flow": null,
            "grid_area": null,
            "grid_auto_columns": null,
            "grid_auto_flow": null,
            "grid_auto_rows": null,
            "grid_column": null,
            "grid_gap": null,
            "grid_row": null,
            "grid_template_areas": null,
            "grid_template_columns": null,
            "grid_template_rows": null,
            "height": null,
            "justify_content": null,
            "justify_items": null,
            "left": null,
            "margin": null,
            "max_height": null,
            "max_width": null,
            "min_height": null,
            "min_width": null,
            "object_fit": null,
            "object_position": null,
            "order": null,
            "overflow": null,
            "overflow_x": null,
            "overflow_y": null,
            "padding": null,
            "right": null,
            "top": null,
            "visibility": null,
            "width": null
          }
        },
        "cf0ca5e2e0204fa1834272575964ad82": {
          "model_module": "@jupyter-widgets/controls",
          "model_name": "DescriptionStyleModel",
          "model_module_version": "1.5.0",
          "state": {
            "_model_module": "@jupyter-widgets/controls",
            "_model_module_version": "1.5.0",
            "_model_name": "DescriptionStyleModel",
            "_view_count": null,
            "_view_module": "@jupyter-widgets/base",
            "_view_module_version": "1.2.0",
            "_view_name": "StyleView",
            "description_width": ""
          }
        },
        "cd4ccf837eed48afbde26ce517b8f0ab": {
          "model_module": "@jupyter-widgets/controls",
          "model_name": "HBoxModel",
          "model_module_version": "1.5.0",
          "state": {
            "_dom_classes": [],
            "_model_module": "@jupyter-widgets/controls",
            "_model_module_version": "1.5.0",
            "_model_name": "HBoxModel",
            "_view_count": null,
            "_view_module": "@jupyter-widgets/controls",
            "_view_module_version": "1.5.0",
            "_view_name": "HBoxView",
            "box_style": "",
            "children": [
              "IPY_MODEL_17921ed182934890b83ba67d969e1f11",
              "IPY_MODEL_bb7c85e8ed624716ba58490646ab56eb",
              "IPY_MODEL_6d927fa55b974bf58858c40faf2fea3e"
            ],
            "layout": "IPY_MODEL_b7ec03eb1b574807aaf2f06c3386ed13"
          }
        },
        "17921ed182934890b83ba67d969e1f11": {
          "model_module": "@jupyter-widgets/controls",
          "model_name": "HTMLModel",
          "model_module_version": "1.5.0",
          "state": {
            "_dom_classes": [],
            "_model_module": "@jupyter-widgets/controls",
            "_model_module_version": "1.5.0",
            "_model_name": "HTMLModel",
            "_view_count": null,
            "_view_module": "@jupyter-widgets/controls",
            "_view_module_version": "1.5.0",
            "_view_name": "HTMLView",
            "description": "",
            "description_tooltip": null,
            "layout": "IPY_MODEL_3fa24837851445c5b047dfb897cf0db6",
            "placeholder": "​",
            "style": "IPY_MODEL_112ad66669cf4e2db739b7ac79788c0e",
            "value": "Downloading: 100%"
          }
        },
        "bb7c85e8ed624716ba58490646ab56eb": {
          "model_module": "@jupyter-widgets/controls",
          "model_name": "FloatProgressModel",
          "model_module_version": "1.5.0",
          "state": {
            "_dom_classes": [],
            "_model_module": "@jupyter-widgets/controls",
            "_model_module_version": "1.5.0",
            "_model_name": "FloatProgressModel",
            "_view_count": null,
            "_view_module": "@jupyter-widgets/controls",
            "_view_module_version": "1.5.0",
            "_view_name": "ProgressView",
            "bar_style": "success",
            "description": "",
            "description_tooltip": null,
            "layout": "IPY_MODEL_60633dd4ec2c4416ba3e41311ba60f30",
            "max": 438141995,
            "min": 0,
            "orientation": "horizontal",
            "style": "IPY_MODEL_339e6f05e47248a7b2569b7d692b1083",
            "value": 438141995
          }
        },
        "6d927fa55b974bf58858c40faf2fea3e": {
          "model_module": "@jupyter-widgets/controls",
          "model_name": "HTMLModel",
          "model_module_version": "1.5.0",
          "state": {
            "_dom_classes": [],
            "_model_module": "@jupyter-widgets/controls",
            "_model_module_version": "1.5.0",
            "_model_name": "HTMLModel",
            "_view_count": null,
            "_view_module": "@jupyter-widgets/controls",
            "_view_module_version": "1.5.0",
            "_view_name": "HTMLView",
            "description": "",
            "description_tooltip": null,
            "layout": "IPY_MODEL_69efc5f5c97d4021bd7a2a49e3054b00",
            "placeholder": "​",
            "style": "IPY_MODEL_3caa07cb4cb14566b186f277875b0019",
            "value": " 438M/438M [00:21&lt;00:00, 27.9MB/s]"
          }
        },
        "b7ec03eb1b574807aaf2f06c3386ed13": {
          "model_module": "@jupyter-widgets/base",
          "model_name": "LayoutModel",
          "model_module_version": "1.2.0",
          "state": {
            "_model_module": "@jupyter-widgets/base",
            "_model_module_version": "1.2.0",
            "_model_name": "LayoutModel",
            "_view_count": null,
            "_view_module": "@jupyter-widgets/base",
            "_view_module_version": "1.2.0",
            "_view_name": "LayoutView",
            "align_content": null,
            "align_items": null,
            "align_self": null,
            "border": null,
            "bottom": null,
            "display": null,
            "flex": null,
            "flex_flow": null,
            "grid_area": null,
            "grid_auto_columns": null,
            "grid_auto_flow": null,
            "grid_auto_rows": null,
            "grid_column": null,
            "grid_gap": null,
            "grid_row": null,
            "grid_template_areas": null,
            "grid_template_columns": null,
            "grid_template_rows": null,
            "height": null,
            "justify_content": null,
            "justify_items": null,
            "left": null,
            "margin": null,
            "max_height": null,
            "max_width": null,
            "min_height": null,
            "min_width": null,
            "object_fit": null,
            "object_position": null,
            "order": null,
            "overflow": null,
            "overflow_x": null,
            "overflow_y": null,
            "padding": null,
            "right": null,
            "top": null,
            "visibility": null,
            "width": null
          }
        },
        "3fa24837851445c5b047dfb897cf0db6": {
          "model_module": "@jupyter-widgets/base",
          "model_name": "LayoutModel",
          "model_module_version": "1.2.0",
          "state": {
            "_model_module": "@jupyter-widgets/base",
            "_model_module_version": "1.2.0",
            "_model_name": "LayoutModel",
            "_view_count": null,
            "_view_module": "@jupyter-widgets/base",
            "_view_module_version": "1.2.0",
            "_view_name": "LayoutView",
            "align_content": null,
            "align_items": null,
            "align_self": null,
            "border": null,
            "bottom": null,
            "display": null,
            "flex": null,
            "flex_flow": null,
            "grid_area": null,
            "grid_auto_columns": null,
            "grid_auto_flow": null,
            "grid_auto_rows": null,
            "grid_column": null,
            "grid_gap": null,
            "grid_row": null,
            "grid_template_areas": null,
            "grid_template_columns": null,
            "grid_template_rows": null,
            "height": null,
            "justify_content": null,
            "justify_items": null,
            "left": null,
            "margin": null,
            "max_height": null,
            "max_width": null,
            "min_height": null,
            "min_width": null,
            "object_fit": null,
            "object_position": null,
            "order": null,
            "overflow": null,
            "overflow_x": null,
            "overflow_y": null,
            "padding": null,
            "right": null,
            "top": null,
            "visibility": null,
            "width": null
          }
        },
        "112ad66669cf4e2db739b7ac79788c0e": {
          "model_module": "@jupyter-widgets/controls",
          "model_name": "DescriptionStyleModel",
          "model_module_version": "1.5.0",
          "state": {
            "_model_module": "@jupyter-widgets/controls",
            "_model_module_version": "1.5.0",
            "_model_name": "DescriptionStyleModel",
            "_view_count": null,
            "_view_module": "@jupyter-widgets/base",
            "_view_module_version": "1.2.0",
            "_view_name": "StyleView",
            "description_width": ""
          }
        },
        "60633dd4ec2c4416ba3e41311ba60f30": {
          "model_module": "@jupyter-widgets/base",
          "model_name": "LayoutModel",
          "model_module_version": "1.2.0",
          "state": {
            "_model_module": "@jupyter-widgets/base",
            "_model_module_version": "1.2.0",
            "_model_name": "LayoutModel",
            "_view_count": null,
            "_view_module": "@jupyter-widgets/base",
            "_view_module_version": "1.2.0",
            "_view_name": "LayoutView",
            "align_content": null,
            "align_items": null,
            "align_self": null,
            "border": null,
            "bottom": null,
            "display": null,
            "flex": null,
            "flex_flow": null,
            "grid_area": null,
            "grid_auto_columns": null,
            "grid_auto_flow": null,
            "grid_auto_rows": null,
            "grid_column": null,
            "grid_gap": null,
            "grid_row": null,
            "grid_template_areas": null,
            "grid_template_columns": null,
            "grid_template_rows": null,
            "height": null,
            "justify_content": null,
            "justify_items": null,
            "left": null,
            "margin": null,
            "max_height": null,
            "max_width": null,
            "min_height": null,
            "min_width": null,
            "object_fit": null,
            "object_position": null,
            "order": null,
            "overflow": null,
            "overflow_x": null,
            "overflow_y": null,
            "padding": null,
            "right": null,
            "top": null,
            "visibility": null,
            "width": null
          }
        },
        "339e6f05e47248a7b2569b7d692b1083": {
          "model_module": "@jupyter-widgets/controls",
          "model_name": "ProgressStyleModel",
          "model_module_version": "1.5.0",
          "state": {
            "_model_module": "@jupyter-widgets/controls",
            "_model_module_version": "1.5.0",
            "_model_name": "ProgressStyleModel",
            "_view_count": null,
            "_view_module": "@jupyter-widgets/base",
            "_view_module_version": "1.2.0",
            "_view_name": "StyleView",
            "bar_color": null,
            "description_width": ""
          }
        },
        "69efc5f5c97d4021bd7a2a49e3054b00": {
          "model_module": "@jupyter-widgets/base",
          "model_name": "LayoutModel",
          "model_module_version": "1.2.0",
          "state": {
            "_model_module": "@jupyter-widgets/base",
            "_model_module_version": "1.2.0",
            "_model_name": "LayoutModel",
            "_view_count": null,
            "_view_module": "@jupyter-widgets/base",
            "_view_module_version": "1.2.0",
            "_view_name": "LayoutView",
            "align_content": null,
            "align_items": null,
            "align_self": null,
            "border": null,
            "bottom": null,
            "display": null,
            "flex": null,
            "flex_flow": null,
            "grid_area": null,
            "grid_auto_columns": null,
            "grid_auto_flow": null,
            "grid_auto_rows": null,
            "grid_column": null,
            "grid_gap": null,
            "grid_row": null,
            "grid_template_areas": null,
            "grid_template_columns": null,
            "grid_template_rows": null,
            "height": null,
            "justify_content": null,
            "justify_items": null,
            "left": null,
            "margin": null,
            "max_height": null,
            "max_width": null,
            "min_height": null,
            "min_width": null,
            "object_fit": null,
            "object_position": null,
            "order": null,
            "overflow": null,
            "overflow_x": null,
            "overflow_y": null,
            "padding": null,
            "right": null,
            "top": null,
            "visibility": null,
            "width": null
          }
        },
        "3caa07cb4cb14566b186f277875b0019": {
          "model_module": "@jupyter-widgets/controls",
          "model_name": "DescriptionStyleModel",
          "model_module_version": "1.5.0",
          "state": {
            "_model_module": "@jupyter-widgets/controls",
            "_model_module_version": "1.5.0",
            "_model_name": "DescriptionStyleModel",
            "_view_count": null,
            "_view_module": "@jupyter-widgets/base",
            "_view_module_version": "1.2.0",
            "_view_name": "StyleView",
            "description_width": ""
          }
        }
      }
    }
  },
  "cells": [
    {
      "cell_type": "markdown",
      "source": [
        "# Topic Modeling\n",
        "\n",
        "Using BERTopic"
      ],
      "metadata": {
        "id": "Cfq-989XZIke"
      }
    },
    {
      "cell_type": "markdown",
      "source": [
        "## Set up environment"
      ],
      "metadata": {
        "id": "0UDrDczyaZBw"
      }
    },
    {
      "cell_type": "markdown",
      "source": [
        "you'll need to enable GPUs for the notebook:\n",
        "\n",
        "- Navigate to Edit→Notebook Settings\n",
        "- select GPU from the Hardware Accelerator drop-down"
      ],
      "metadata": {
        "id": "ZrZ_rgcYZVlI"
      }
    },
    {
      "cell_type": "code",
      "source": [
        "!pip install transformers\n",
        "!pip install torch\n",
        "!pip install datasets\n",
        "!pip install bertopic[flair]\n",
        "#!pip install sentence_transformers\n",
        "#!pip install bertopic"
      ],
      "metadata": {
        "id": "rvsHzDZvZK2e"
      },
      "execution_count": null,
      "outputs": []
    },
    {
      "cell_type": "code",
      "source": [
        "from google.colab import drive\n",
        "drive.mount('/content/gdrive')\n",
        "%cd gdrive/My\\ Drive/amicus-iv"
      ],
      "metadata": {
        "id": "TL5XTmtWF5HO",
        "colab": {
          "base_uri": "https://localhost:8080/"
        },
        "outputId": "db578617-92a5-4bd2-b194-2bcccc0f8c43"
      },
      "execution_count": null,
      "outputs": [
        {
          "output_type": "stream",
          "name": "stdout",
          "text": [
            "Mounted at /content/gdrive\n",
            "/content/gdrive/My Drive/amicus-iv\n"
          ]
        }
      ]
    },
    {
      "cell_type": "markdown",
      "source": [
        "Saving locations -- change these for different models!"
      ],
      "metadata": {
        "id": "BOd-iwvDfkJ1"
      }
    },
    {
      "cell_type": "code",
      "source": [
        "model_folder = 'topic-modeling/models/bert-base-uncased-RRamicus/'\n",
        "output_folder = 'topic-modeling/output/bert-base-uncased-RRamicus/'"
      ],
      "metadata": {
        "id": "1bvWqiJUfloK"
      },
      "execution_count": null,
      "outputs": []
    },
    {
      "cell_type": "markdown",
      "source": [
        "Model checkpoint for generating document embeddings"
      ],
      "metadata": {
        "id": "ySfjFNzWVg1l"
      }
    },
    {
      "cell_type": "code",
      "source": [
        "model_checkpoint = 'repro-rights-amicus-briefs/bert-base-uncased-finetuned-RRamicus'"
      ],
      "metadata": {
        "id": "U26myPX6Vj_d"
      },
      "execution_count": null,
      "outputs": []
    },
    {
      "cell_type": "markdown",
      "source": [
        "Import packages"
      ],
      "metadata": {
        "id": "gBEoc0_YiZdb"
      }
    },
    {
      "cell_type": "code",
      "source": [
        "import pandas as pd\n",
        "import numpy as np\n",
        "from html import unescape\n",
        "import string\n",
        "\n",
        "import nltk\n",
        "nltk.download('stopwords')\n",
        "from nltk.corpus import stopwords\n",
        "from collections import Counter\n",
        "\n",
        "#from transformers import AutoTokenizer\n",
        "#from datasets import load_dataset, load_metric, Dataset\n",
        "\n",
        "from huggingface_hub import notebook_login\n",
        "\n",
        "from bertopic import BERTopic\n",
        "from flair.embeddings import TransformerDocumentEmbeddings\n",
        "\n",
        "from sklearn.preprocessing import MinMaxScaler\n",
        "from umap import UMAP\n",
        "from typing import List\n",
        "import hdbscan\n",
        "import matplotlib.pyplot as plt"
      ],
      "metadata": {
        "id": "1eyc19DAZVxn",
        "colab": {
          "base_uri": "https://localhost:8080/"
        },
        "outputId": "5bc7959f-8c1f-4485-c41f-3c8d97979a3e"
      },
      "execution_count": null,
      "outputs": [
        {
          "output_type": "stream",
          "name": "stdout",
          "text": [
            "[nltk_data] Downloading package stopwords to /root/nltk_data...\n",
            "[nltk_data]   Unzipping corpora/stopwords.zip.\n"
          ]
        }
      ]
    },
    {
      "cell_type": "markdown",
      "source": [
        "## Define similarity function\n",
        "\n",
        "We want to group topics based on how similar they are. This is an adoption of the visualize_topics() function"
      ],
      "metadata": {
        "id": "w0TGfyd6iiho"
      }
    },
    {
      "cell_type": "code",
      "source": [
        "def get_similar_topics(topic_model,\n",
        "                     topics: List[int] = None,\n",
        "                     top_n_topics: int = None,\n",
        "                     width: int = 650,\n",
        "                     height: int = 650):\n",
        "    # Select topics based on top_n and topics args\n",
        "    if topics is not None:\n",
        "        topics = list(topics)\n",
        "    elif top_n_topics is not None:\n",
        "        topics = sorted(topic_model.get_topic_freq().Topic.to_list()[1:top_n_topics + 1])\n",
        "    else:\n",
        "        topics = sorted(list(topic_model.get_topics().keys()))\n",
        "\n",
        "    # Extract topic words and their frequencies\n",
        "    topic_list = sorted(topics)\n",
        "    frequencies = [topic_model.topic_sizes[topic] for topic in topic_list]\n",
        "    words = [\" | \".join([word[0] for word in topic_model.get_topic(topic)[:10]]) for topic in topic_list]\n",
        "\n",
        "    # seed\n",
        "    np.random.seed(11)\n",
        "\n",
        "    # Embed c-TF-IDF into 2D\n",
        "    all_topics = sorted(list(topic_model.get_topics().keys()))\n",
        "    indices = np.array([all_topics.index(topic) for topic in topics])\n",
        "    embeddings = topic_model.c_tf_idf.toarray()[indices]\n",
        "    embeddings = MinMaxScaler().fit_transform(embeddings)\n",
        "    embeddings = UMAP(n_neighbors=2, n_components=2, metric='hellinger', random_state=42).fit_transform(embeddings)\n",
        "\n",
        "    # cluster based on above\n",
        "    labels = hdbscan.HDBSCAN(min_samples=1, min_cluster_size=3).fit_predict(embeddings)\n",
        "\n",
        "    # Visualize with plotly\n",
        "    df = pd.DataFrame({\"x\": embeddings[1:, 0], \"y\": embeddings[1:, 1], 'Label':labels[1:],\n",
        "                       \"Topic\": topic_list[1:], \"Words\": words[1:], \"Size\": frequencies[1:]})\n",
        "    return df"
      ],
      "metadata": {
        "id": "n4R9UssoioO5"
      },
      "execution_count": null,
      "outputs": []
    },
    {
      "cell_type": "markdown",
      "source": [
        "## Data\n",
        "\n",
        "BERTopic function takes a list of documents, so we need to set this up ourselves. "
      ],
      "metadata": {
        "id": "MJG9wg9narKy"
      }
    },
    {
      "cell_type": "markdown",
      "source": [
        "### Read in text from drive\n",
        "\n",
        "I have saved a file on google drive called \"data/amicus_text_512.csv\" which contains the result of following the steps of option 1 below. since this produces the same results each time, we don't need to keep re-running it."
      ],
      "metadata": {
        "id": "Vq6DBrF22eLo"
      }
    },
    {
      "cell_type": "code",
      "source": [
        "df = pd.read_csv('data/amicus_clean_512_no_stride_vars.csv')\n",
        "df.head(1)"
      ],
      "metadata": {
        "id": "xQib37DV2nkY",
        "colab": {
          "base_uri": "https://localhost:8080/",
          "height": 258
        },
        "outputId": "239f103c-5220-43b4-abe8-c536fd1b40d9"
      },
      "execution_count": null,
      "outputs": [
        {
          "output_type": "execute_result",
          "data": {
            "text/plain": [
              "              case            id  \\\n",
              "0  Rust v Sullivan  861819857503   \n",
              "\n",
              "                                               brief  brief_party  forgau  \\\n",
              "0  Rust v Sullivan. Amici Brief for Respondent, b...            0       0   \n",
              "\n",
              "   antauo  chcauf  lifauo  govauf  govauo  ...  legauo  relauf  relauo  \\\n",
              "0       0       0       1       0       0  ...       0       0       0   \n",
              "\n",
              "   lg_bauf  forgauf  aclauf  aclauo  sgauf  sgauo  \\\n",
              "0        0        0       0       0      0      0   \n",
              "\n",
              "                                                text  \n",
              "0  abortion battle conflict enumerated right life...  \n",
              "\n",
              "[1 rows x 28 columns]"
            ],
            "text/html": [
              "\n",
              "  <div id=\"df-050cad73-ef52-49d0-bd48-83d2c9fc7129\">\n",
              "    <div class=\"colab-df-container\">\n",
              "      <div>\n",
              "<style scoped>\n",
              "    .dataframe tbody tr th:only-of-type {\n",
              "        vertical-align: middle;\n",
              "    }\n",
              "\n",
              "    .dataframe tbody tr th {\n",
              "        vertical-align: top;\n",
              "    }\n",
              "\n",
              "    .dataframe thead th {\n",
              "        text-align: right;\n",
              "    }\n",
              "</style>\n",
              "<table border=\"1\" class=\"dataframe\">\n",
              "  <thead>\n",
              "    <tr style=\"text-align: right;\">\n",
              "      <th></th>\n",
              "      <th>case</th>\n",
              "      <th>id</th>\n",
              "      <th>brief</th>\n",
              "      <th>brief_party</th>\n",
              "      <th>forgau</th>\n",
              "      <th>antauo</th>\n",
              "      <th>chcauf</th>\n",
              "      <th>lifauo</th>\n",
              "      <th>govauf</th>\n",
              "      <th>govauo</th>\n",
              "      <th>...</th>\n",
              "      <th>legauo</th>\n",
              "      <th>relauf</th>\n",
              "      <th>relauo</th>\n",
              "      <th>lg_bauf</th>\n",
              "      <th>forgauf</th>\n",
              "      <th>aclauf</th>\n",
              "      <th>aclauo</th>\n",
              "      <th>sgauf</th>\n",
              "      <th>sgauo</th>\n",
              "      <th>text</th>\n",
              "    </tr>\n",
              "  </thead>\n",
              "  <tbody>\n",
              "    <tr>\n",
              "      <th>0</th>\n",
              "      <td>Rust v Sullivan</td>\n",
              "      <td>861819857503</td>\n",
              "      <td>Rust v Sullivan. Amici Brief for Respondent, b...</td>\n",
              "      <td>0</td>\n",
              "      <td>0</td>\n",
              "      <td>0</td>\n",
              "      <td>0</td>\n",
              "      <td>1</td>\n",
              "      <td>0</td>\n",
              "      <td>0</td>\n",
              "      <td>...</td>\n",
              "      <td>0</td>\n",
              "      <td>0</td>\n",
              "      <td>0</td>\n",
              "      <td>0</td>\n",
              "      <td>0</td>\n",
              "      <td>0</td>\n",
              "      <td>0</td>\n",
              "      <td>0</td>\n",
              "      <td>0</td>\n",
              "      <td>abortion battle conflict enumerated right life...</td>\n",
              "    </tr>\n",
              "  </tbody>\n",
              "</table>\n",
              "<p>1 rows × 28 columns</p>\n",
              "</div>\n",
              "      <button class=\"colab-df-convert\" onclick=\"convertToInteractive('df-050cad73-ef52-49d0-bd48-83d2c9fc7129')\"\n",
              "              title=\"Convert this dataframe to an interactive table.\"\n",
              "              style=\"display:none;\">\n",
              "        \n",
              "  <svg xmlns=\"http://www.w3.org/2000/svg\" height=\"24px\"viewBox=\"0 0 24 24\"\n",
              "       width=\"24px\">\n",
              "    <path d=\"M0 0h24v24H0V0z\" fill=\"none\"/>\n",
              "    <path d=\"M18.56 5.44l.94 2.06.94-2.06 2.06-.94-2.06-.94-.94-2.06-.94 2.06-2.06.94zm-11 1L8.5 8.5l.94-2.06 2.06-.94-2.06-.94L8.5 2.5l-.94 2.06-2.06.94zm10 10l.94 2.06.94-2.06 2.06-.94-2.06-.94-.94-2.06-.94 2.06-2.06.94z\"/><path d=\"M17.41 7.96l-1.37-1.37c-.4-.4-.92-.59-1.43-.59-.52 0-1.04.2-1.43.59L10.3 9.45l-7.72 7.72c-.78.78-.78 2.05 0 2.83L4 21.41c.39.39.9.59 1.41.59.51 0 1.02-.2 1.41-.59l7.78-7.78 2.81-2.81c.8-.78.8-2.07 0-2.86zM5.41 20L4 18.59l7.72-7.72 1.47 1.35L5.41 20z\"/>\n",
              "  </svg>\n",
              "      </button>\n",
              "      \n",
              "  <style>\n",
              "    .colab-df-container {\n",
              "      display:flex;\n",
              "      flex-wrap:wrap;\n",
              "      gap: 12px;\n",
              "    }\n",
              "\n",
              "    .colab-df-convert {\n",
              "      background-color: #E8F0FE;\n",
              "      border: none;\n",
              "      border-radius: 50%;\n",
              "      cursor: pointer;\n",
              "      display: none;\n",
              "      fill: #1967D2;\n",
              "      height: 32px;\n",
              "      padding: 0 0 0 0;\n",
              "      width: 32px;\n",
              "    }\n",
              "\n",
              "    .colab-df-convert:hover {\n",
              "      background-color: #E2EBFA;\n",
              "      box-shadow: 0px 1px 2px rgba(60, 64, 67, 0.3), 0px 1px 3px 1px rgba(60, 64, 67, 0.15);\n",
              "      fill: #174EA6;\n",
              "    }\n",
              "\n",
              "    [theme=dark] .colab-df-convert {\n",
              "      background-color: #3B4455;\n",
              "      fill: #D2E3FC;\n",
              "    }\n",
              "\n",
              "    [theme=dark] .colab-df-convert:hover {\n",
              "      background-color: #434B5C;\n",
              "      box-shadow: 0px 1px 3px 1px rgba(0, 0, 0, 0.15);\n",
              "      filter: drop-shadow(0px 1px 2px rgba(0, 0, 0, 0.3));\n",
              "      fill: #FFFFFF;\n",
              "    }\n",
              "  </style>\n",
              "\n",
              "      <script>\n",
              "        const buttonEl =\n",
              "          document.querySelector('#df-050cad73-ef52-49d0-bd48-83d2c9fc7129 button.colab-df-convert');\n",
              "        buttonEl.style.display =\n",
              "          google.colab.kernel.accessAllowed ? 'block' : 'none';\n",
              "\n",
              "        async function convertToInteractive(key) {\n",
              "          const element = document.querySelector('#df-050cad73-ef52-49d0-bd48-83d2c9fc7129');\n",
              "          const dataTable =\n",
              "            await google.colab.kernel.invokeFunction('convertToInteractive',\n",
              "                                                     [key], {});\n",
              "          if (!dataTable) return;\n",
              "\n",
              "          const docLinkHtml = 'Like what you see? Visit the ' +\n",
              "            '<a target=\"_blank\" href=https://colab.research.google.com/notebooks/data_table.ipynb>data table notebook</a>'\n",
              "            + ' to learn more about interactive tables.';\n",
              "          element.innerHTML = '';\n",
              "          dataTable['output_type'] = 'display_data';\n",
              "          await google.colab.output.renderOutput(dataTable, element);\n",
              "          const docLink = document.createElement('div');\n",
              "          docLink.innerHTML = docLinkHtml;\n",
              "          element.appendChild(docLink);\n",
              "        }\n",
              "      </script>\n",
              "    </div>\n",
              "  </div>\n",
              "  "
            ]
          },
          "metadata": {},
          "execution_count": 7
        }
      ]
    },
    {
      "cell_type": "markdown",
      "source": [
        "Remove general noise words"
      ],
      "metadata": {
        "id": "Kp_AvocYW5Lb"
      }
    },
    {
      "cell_type": "code",
      "source": [
        "#df_clean = df.copy()\n",
        "#df_clean['text'] = df_clean['text'].str.replace('[{}]'.format(string.punctuation), '')\n",
        "\n",
        "rmv_list = ['ii', 'https', 'al', 'et', 'per', 'www', 'llp', 'id', 'nos', 'pdf', 'http',\n",
        "            'ul', 'fi', 'ri', 'sb', 'ql', 'li', 'fs',\n",
        "            'circuit', 'district', 'supra', 'supp', 'decisis', 'amici', 'curiae', 'court', 'courts', 'supreme', 'appeals',\n",
        "            'appeal', 'appellants', 'appellant', 'appellee', 'appellees',\n",
        "            'first', 'second', 'third', 'fourth', 'fifth', 'sixth', 'seventh', 'eighth', 'nineth', 'tenth', 'eleventh', 'twelfth']\n",
        "\n",
        "df['text'] = df['text'].apply(lambda x: ' '.join([word for word in x.split() if word not in (rmv_list)]))\n",
        "#df_clean['text'] = df_clean['text'].apply(lambda x: ' '.join([word for word in x.split() if word not in (rmv_list)]))\n",
        "#df_clean['text_2'] = df_clean['text'].apply(lambda x: [word for word in x.split()])"
      ],
      "metadata": {
        "id": "L7xLFYw7W5e_"
      },
      "execution_count": null,
      "outputs": []
    },
    {
      "cell_type": "markdown",
      "source": [
        "# Govauf and Govauo"
      ],
      "metadata": {
        "id": "dpwFjMxNRHb6"
      }
    },
    {
      "cell_type": "markdown",
      "source": [
        "## Govauo"
      ],
      "metadata": {
        "id": "tkczDfS7xGca"
      }
    },
    {
      "cell_type": "code",
      "source": [
        "var_df = df[(df['govauo'] == 1)]\n",
        "var_df = var_df[['case', 'id', 'brief', 'govauo', 'text']]\n",
        "print(\"number of briefs:\", var_df['id'].nunique())\n",
        "print(\"number of paragraphs:\", len(var_df))"
      ],
      "metadata": {
        "colab": {
          "base_uri": "https://localhost:8080/"
        },
        "outputId": "802dd873-8186-4ee4-8aed-084cee721ffe",
        "id": "N_D-mvWQxGca"
      },
      "execution_count": null,
      "outputs": [
        {
          "output_type": "stream",
          "name": "stdout",
          "text": [
            "number of briefs: 65\n",
            "number of paragraphs: 503\n"
          ]
        }
      ]
    },
    {
      "cell_type": "markdown",
      "source": [
        "Remove noise"
      ],
      "metadata": {
        "id": "jH_3kIXCxGcb"
      }
    },
    {
      "cell_type": "code",
      "source": [
        "#rmv_list = ['abortion', 'women', 'health', 'respectfully', 'conclusion', 'counsel', 'state',\n",
        "#            'abortions', 'clinic', 'clinics']\n",
        "#var_df['text'] = var_df['text'].apply(lambda x: ' '.join([word for word in x.split() if word not in (rmv_list)]))"
      ],
      "metadata": {
        "id": "73WC7daOxGcb"
      },
      "execution_count": null,
      "outputs": []
    },
    {
      "cell_type": "markdown",
      "source": [
        "### Initial train + save"
      ],
      "metadata": {
        "id": "8vvR3BoTxGcb"
      }
    },
    {
      "cell_type": "markdown",
      "source": [
        "Init existing topic model again so we don't over-write existing model."
      ],
      "metadata": {
        "id": "uz0_cGUexGcb"
      }
    },
    {
      "cell_type": "code",
      "source": [
        "# init embeddings\n",
        "bbu_ft_embed = TransformerDocumentEmbeddings(model_checkpoint)\n",
        "\n",
        "# init umap\n",
        "#umap_model = UMAP(n_neighbors=15, n_components=3, min_dist=0.0,\n",
        "#                  metric='cosine', random_state=42, low_memory=False)\n",
        "\n",
        "# init model\n",
        "tm = BERTopic(embedding_model=bbu_ft_embed, min_topic_size=3, #umap_model=umap_model,\n",
        "                     language='english', calculate_probabilities=True, verbose=True)"
      ],
      "metadata": {
        "colab": {
          "base_uri": "https://localhost:8080/",
          "height": 263,
          "referenced_widgets": [
            "3e256fe80d3d4c83869aceec2e97746a",
            "fea9ff84872d4e3dad54a094420a9fca",
            "b5e88477427f4f53a689052936207b68",
            "ef6c9d04d4cd4eac99c4bb5e986a8482",
            "df54ecc819204a12ad626f0290ba9835",
            "a615f34a263c4ebf9bdbc5f86027a703",
            "c69bcd98c6be4fbb9e4ff3106e6b7d76",
            "a7a1081d09fd4d0286fb39c826e48837",
            "87b20e8fa28240828fbf0e68ca5395de",
            "bfc0857e9da14e5dbea42971c176e2c9",
            "7955767eb21548f9ac7e3d8b7c9c18bb",
            "6ca9dca200cb4056a49254843deb7c02",
            "68dc25f3c42b4b1abdafed8ba038f6a0",
            "8732fdaf48dc492ea3397f0672113284",
            "c66c4c234ea04f1aa15631b29e5e9384",
            "b7174f5ac40f482daf391e3fbed17679",
            "fa13825b3409484a8a1810402f296c77",
            "21e44b3407cd493fac25e26d1a81a950",
            "96ec43b7aacf429c876d9ec42e6cf761",
            "6245cc304dee4f7684ddb3a44b20ca7f",
            "4e638425b80b4268b6aca50ccc5b5d1b",
            "53cc112f77c2464a9fffcd89f6173966",
            "ed7f1db82f234cf99197d9ef21778c99",
            "31a116ef251e437ab5a40f2f67a8269a",
            "03f409849cd445029f858cb0146db9e5",
            "da46a41c7df744e690adfdb2f030cfb6",
            "11fdf45377c84a82b93c8943eeb5d13e",
            "d79ff98573804ba49b457b38675a7b2a",
            "3ab5084ea1e5449daa6bca45e01b4b2e",
            "25b0bc6c24c146c1bf68d52e2ef22519",
            "739816850d494a02bffb775a9b6c04fd",
            "f9faad6006aa42aba9d42fb3577f08f5",
            "90771a76a4fe4d4fbeea2c17b7e61346",
            "3dc308fee6c148d995a68c4b4cbbe25e",
            "65add690ca2d48c5a89eff508db035f7",
            "a11682407e814bb98c8dc46f790c568c",
            "5c487f02aa3842b095e4cf7603402798",
            "3aa65960d85440c3ba127babb350325f",
            "b79d0cf6723d4666ab3e23236cfd2af8",
            "d793ec640b664cd3b5778494f88fc358",
            "fc1f24a135494310a6732a2fa0fc074b",
            "d285f4ecdb6b471080bcaad1d8d7cacf",
            "992df5668e044119b8baefe231cd8594",
            "1db19bf51b514689a84eba1288abb36d",
            "d7d625edad5b4370a2d039edfd598665",
            "b32cc4a39ff843ccb35efbd27205dde9",
            "a792719e956146a48f3a700257364faa",
            "e7b8b38493a54132a804a1794d063304",
            "1a638402cd934bbda41e6b7d04c316b9",
            "d1291c1cc76f4f80b60ebedb8a63dae8",
            "332a7ad559654269aaa6e46ca7d2f526",
            "e3e0fcd38b5248d7abb78b9e95c1b930",
            "9c672a96f4e94260bd684c54375dd7d4",
            "27418ccd312e499ba8165649f62eef25",
            "cf0ca5e2e0204fa1834272575964ad82",
            "cd4ccf837eed48afbde26ce517b8f0ab",
            "17921ed182934890b83ba67d969e1f11",
            "bb7c85e8ed624716ba58490646ab56eb",
            "6d927fa55b974bf58858c40faf2fea3e",
            "b7ec03eb1b574807aaf2f06c3386ed13",
            "3fa24837851445c5b047dfb897cf0db6",
            "112ad66669cf4e2db739b7ac79788c0e",
            "60633dd4ec2c4416ba3e41311ba60f30",
            "339e6f05e47248a7b2569b7d692b1083",
            "69efc5f5c97d4021bd7a2a49e3054b00",
            "3caa07cb4cb14566b186f277875b0019"
          ]
        },
        "outputId": "d99bab6e-5e4b-491c-b5d5-5bd0a36f0a24",
        "id": "yxpqVU5DxGcb"
      },
      "execution_count": null,
      "outputs": [
        {
          "output_type": "display_data",
          "data": {
            "text/plain": [
              "Downloading:   0%|          | 0.00/664 [00:00<?, ?B/s]"
            ],
            "application/vnd.jupyter.widget-view+json": {
              "version_major": 2,
              "version_minor": 0,
              "model_id": "3e256fe80d3d4c83869aceec2e97746a"
            }
          },
          "metadata": {}
        },
        {
          "output_type": "display_data",
          "data": {
            "text/plain": [
              "Downloading:   0%|          | 0.00/232k [00:00<?, ?B/s]"
            ],
            "application/vnd.jupyter.widget-view+json": {
              "version_major": 2,
              "version_minor": 0,
              "model_id": "6ca9dca200cb4056a49254843deb7c02"
            }
          },
          "metadata": {}
        },
        {
          "output_type": "display_data",
          "data": {
            "text/plain": [
              "Downloading:   0%|          | 0.00/112 [00:00<?, ?B/s]"
            ],
            "application/vnd.jupyter.widget-view+json": {
              "version_major": 2,
              "version_minor": 0,
              "model_id": "ed7f1db82f234cf99197d9ef21778c99"
            }
          },
          "metadata": {}
        },
        {
          "output_type": "display_data",
          "data": {
            "text/plain": [
              "Downloading:   0%|          | 0.00/321 [00:00<?, ?B/s]"
            ],
            "application/vnd.jupyter.widget-view+json": {
              "version_major": 2,
              "version_minor": 0,
              "model_id": "3dc308fee6c148d995a68c4b4cbbe25e"
            }
          },
          "metadata": {}
        },
        {
          "output_type": "display_data",
          "data": {
            "text/plain": [
              "Downloading:   0%|          | 0.00/466k [00:00<?, ?B/s]"
            ],
            "application/vnd.jupyter.widget-view+json": {
              "version_major": 2,
              "version_minor": 0,
              "model_id": "d7d625edad5b4370a2d039edfd598665"
            }
          },
          "metadata": {}
        },
        {
          "output_type": "display_data",
          "data": {
            "text/plain": [
              "Downloading:   0%|          | 0.00/438M [00:00<?, ?B/s]"
            ],
            "application/vnd.jupyter.widget-view+json": {
              "version_major": 2,
              "version_minor": 0,
              "model_id": "cd4ccf837eed48afbde26ce517b8f0ab"
            }
          },
          "metadata": {}
        },
        {
          "output_type": "stream",
          "name": "stderr",
          "text": [
            "Some weights of BertModel were not initialized from the model checkpoint at repro-rights-amicus-briefs/bert-base-uncased-finetuned-RRamicus and are newly initialized: ['bert.pooler.dense.weight', 'bert.pooler.dense.bias']\n",
            "You should probably TRAIN this model on a down-stream task to be able to use it for predictions and inference.\n"
          ]
        }
      ]
    },
    {
      "cell_type": "markdown",
      "source": [
        "Fit the model on only the docs of interest (5 min)"
      ],
      "metadata": {
        "id": "7EEOh_72xGcc"
      }
    },
    {
      "cell_type": "code",
      "source": [
        "# fit model\n",
        "topics, probs = tm.fit_transform(var_df['text'])"
      ],
      "metadata": {
        "colab": {
          "base_uri": "https://localhost:8080/"
        },
        "outputId": "d2d2649b-a6b5-43e2-eb85-5757574d737d",
        "id": "yEw_-DYIxGcc"
      },
      "execution_count": null,
      "outputs": [
        {
          "output_type": "stream",
          "name": "stderr",
          "text": [
            "503it [00:23, 21.79it/s]\n",
            "2022-04-15 13:54:57,831 - BERTopic - Transformed documents to Embeddings\n",
            "/usr/local/lib/python3.7/dist-packages/numba/np/ufunc/parallel.py:363: NumbaWarning: The TBB threading layer requires TBB version 2019.5 or later i.e., TBB_INTERFACE_VERSION >= 11005. Found TBB_INTERFACE_VERSION = 9107. The TBB threading layer is disabled.\n",
            "  warnings.warn(problem)\n",
            "2022-04-15 13:55:07,602 - BERTopic - Reduced dimensionality with UMAP\n",
            "2022-04-15 13:55:07,703 - BERTopic - Clustered UMAP embeddings with HDBSCAN\n"
          ]
        }
      ]
    },
    {
      "cell_type": "code",
      "source": [
        "topic_info = tm.get_topic_info()\n",
        "len(topic_info)"
      ],
      "metadata": {
        "id": "dJir5jdQxGcc",
        "colab": {
          "base_uri": "https://localhost:8080/"
        },
        "outputId": "ee088b5b-d0b2-46cc-f131-237c400e956e"
      },
      "execution_count": null,
      "outputs": [
        {
          "output_type": "execute_result",
          "data": {
            "text/plain": [
              "52"
            ]
          },
          "metadata": {},
          "execution_count": 12
        }
      ]
    },
    {
      "cell_type": "markdown",
      "source": [
        "Create output files"
      ],
      "metadata": {
        "id": "Pk5zAH5QxGcc"
      }
    },
    {
      "cell_type": "code",
      "source": [
        "# full list of topics\n",
        "full_topics = tm.get_topics()\n",
        "\n",
        "#convert full topic dict to df and transpose\n",
        "topics_df = pd.DataFrame(full_topics,\n",
        "                         index=['word1', 'word2', 'word3', 'word4', 'word5', 'word6', 'word7', 'word8', 'word9', 'word10'])\\\n",
        "                         .transpose()\n",
        "\n",
        "# get just the word\n",
        "topics_df = topics_df.applymap(lambda x: x[0])\n",
        "\n",
        "# add col w/concatenated list\n",
        "#topics_df['all_words'] = topics_df.apply(', '.join, axis=1) #insert at end\n",
        "topics_df.insert(0, 'topic', topics_df.apply(', '.join, axis=1))\n",
        "\n",
        "# remove indiv. word columns (word1,...,word10)\n",
        "topics_df.drop(list(topics_df.filter(regex = 'word')), axis = 1, inplace = True)\n",
        "\n",
        "# convert index to a column (this is the topic id)\n",
        "topics_df.insert(0, 'topic_id', topics_df.index)\n",
        "\n",
        "# add count frequency \n",
        "topic_ct = topic_info[['Topic', 'Count']]\n",
        "topics_df = topics_df.merge(topic_ct, how='left', left_on='topic_id', right_on='Topic')\n",
        "topics_df.drop('Topic', axis=1, inplace=True)\n",
        "\n",
        "# classification by paragraph\n",
        "topic_id = topic_info[['Topic', 'Name']]\n",
        "output_df = var_df.copy()\n",
        "output_df['topic_id'] = topics\n",
        "output_df = output_df.merge(topic_id, how='left', left_on='topic_id', right_on='Topic')\n",
        "output_df.drop('Topic',axis=1,inplace=True)\n",
        "output_df.rename({'Name' : 'topic_name'},axis=1, inplace=True)\n",
        "\n",
        "# cluster resulting topics using hdbscan\n",
        "embed = get_similar_topics(tm)\n",
        "\n",
        "# create output\n",
        "embed = embed.sort_values('Label')\n",
        "embed.rename({'Topic':'topic_id', 'Label':'label'}, axis=1, inplace=True)\n",
        "embed = embed.merge(topics_df, how='left', on = 'topic_id')\n",
        "embed.drop(['Words', 'Size'], axis=1, inplace=True)\n",
        "embed = embed[['topic_id', 'label', 'topic', 'Count', 'x', 'y']]"
      ],
      "metadata": {
        "id": "dYlR0HbDxGcc"
      },
      "execution_count": null,
      "outputs": []
    },
    {
      "cell_type": "markdown",
      "source": [
        "Save results"
      ],
      "metadata": {
        "id": "gMH5bD59xGcc"
      }
    },
    {
      "cell_type": "code",
      "source": [
        "# save -- CHANGE VARIABLE NAMES\n",
        "topics_df.to_csv(output_folder + 'govauo_topics_clean_bbu_rramicus.csv', index=False)\n",
        "output_df.to_csv(output_folder + 'govauo_topic_clean_classification_bbu_rramicus.csv', index=False)\n",
        "tm.save(model_folder + 'govauo_bbu_rramicus')\n",
        "embed.to_csv(output_folder + 'govauo_topics_clean_labels_bbu_rramicus.csv')"
      ],
      "metadata": {
        "id": "ZuFT1sCyxGcc"
      },
      "execution_count": null,
      "outputs": []
    },
    {
      "cell_type": "markdown",
      "source": [
        "## Govauf"
      ],
      "metadata": {
        "id": "PxJO31pUxHrB"
      }
    },
    {
      "cell_type": "code",
      "source": [
        "var_df = df[(df['govauf'] == 1)]\n",
        "var_df = var_df[['case', 'id', 'brief', 'govauf', 'text']]\n",
        "print(\"number of briefs:\", var_df['id'].nunique())\n",
        "print(\"number of paragraphs:\", len(var_df))"
      ],
      "metadata": {
        "colab": {
          "base_uri": "https://localhost:8080/"
        },
        "outputId": "cb5b6389-90ab-41a5-812b-75cc70ffa9b4",
        "id": "hJBS3ORKxHrB"
      },
      "execution_count": null,
      "outputs": [
        {
          "output_type": "stream",
          "name": "stdout",
          "text": [
            "number of briefs: 48\n",
            "number of paragraphs: 345\n"
          ]
        }
      ]
    },
    {
      "cell_type": "markdown",
      "source": [
        "Remove noise"
      ],
      "metadata": {
        "id": "tF-sxAIsxHrB"
      }
    },
    {
      "cell_type": "code",
      "source": [
        "#rmv_list = ['abortion', 'women', 'health', 'respectfully', 'conclusion', 'counsel', 'state',\n",
        "#            'abortions', 'clinic', 'clinics']\n",
        "#var_df['text'] = var_df['text'].apply(lambda x: ' '.join([word for word in x.split() if word not in (rmv_list)]))"
      ],
      "metadata": {
        "id": "pFf7A7D8xHrC"
      },
      "execution_count": null,
      "outputs": []
    },
    {
      "cell_type": "markdown",
      "source": [
        "### Initial train + save"
      ],
      "metadata": {
        "id": "vr9C2blRxHrC"
      }
    },
    {
      "cell_type": "markdown",
      "source": [
        "Init existing topic model again so we don't over-write existing model."
      ],
      "metadata": {
        "id": "7hNxjOsfxHrC"
      }
    },
    {
      "cell_type": "code",
      "source": [
        "# init embeddings\n",
        "bbu_ft_embed = TransformerDocumentEmbeddings(model_checkpoint)\n",
        "\n",
        "# init umap\n",
        "#umap_model = UMAP(n_neighbors=15, n_components=3, min_dist=0.0,\n",
        "#                  metric='cosine', random_state=42, low_memory=False)\n",
        "\n",
        "# init model\n",
        "tm = BERTopic(embedding_model=bbu_ft_embed, min_topic_size=3, #umap_model=umap_model,\n",
        "                     language='english', calculate_probabilities=True, verbose=True)"
      ],
      "metadata": {
        "colab": {
          "base_uri": "https://localhost:8080/"
        },
        "outputId": "00aa4f91-678f-424f-ef36-ce55818170ed",
        "id": "j6Z6rfzHxHrC"
      },
      "execution_count": null,
      "outputs": [
        {
          "output_type": "stream",
          "name": "stderr",
          "text": [
            "Some weights of BertModel were not initialized from the model checkpoint at repro-rights-amicus-briefs/bert-base-uncased-finetuned-RRamicus and are newly initialized: ['bert.pooler.dense.weight', 'bert.pooler.dense.bias']\n",
            "You should probably TRAIN this model on a down-stream task to be able to use it for predictions and inference.\n"
          ]
        }
      ]
    },
    {
      "cell_type": "markdown",
      "source": [
        "Fit the model on only the docs of interest (5 min)"
      ],
      "metadata": {
        "id": "aVuWdYVoxHrC"
      }
    },
    {
      "cell_type": "code",
      "source": [
        "# fit model\n",
        "topics, probs = tm.fit_transform(var_df['text'])"
      ],
      "metadata": {
        "colab": {
          "base_uri": "https://localhost:8080/"
        },
        "outputId": "75e20143-e39a-43fe-9307-7f8835f40df2",
        "id": "duiSMy_OxHrD"
      },
      "execution_count": null,
      "outputs": [
        {
          "output_type": "stream",
          "name": "stderr",
          "text": [
            "345it [00:17, 19.62it/s]\n",
            "2022-04-15 13:56:29,422 - BERTopic - Transformed documents to Embeddings\n",
            "2022-04-15 13:56:33,113 - BERTopic - Reduced dimensionality with UMAP\n",
            "2022-04-15 13:56:33,165 - BERTopic - Clustered UMAP embeddings with HDBSCAN\n"
          ]
        }
      ]
    },
    {
      "cell_type": "code",
      "source": [
        "topic_info = tm.get_topic_info()\n",
        "len(topic_info)"
      ],
      "metadata": {
        "id": "KdZK8_MyxHrD",
        "colab": {
          "base_uri": "https://localhost:8080/"
        },
        "outputId": "484f1d8a-6acc-4642-99dc-7936b0177854"
      },
      "execution_count": null,
      "outputs": [
        {
          "output_type": "execute_result",
          "data": {
            "text/plain": [
              "28"
            ]
          },
          "metadata": {},
          "execution_count": 18
        }
      ]
    },
    {
      "cell_type": "markdown",
      "source": [
        "Create output files"
      ],
      "metadata": {
        "id": "tIdH1X9GxHrD"
      }
    },
    {
      "cell_type": "code",
      "source": [
        "# full list of topics\n",
        "full_topics = tm.get_topics()\n",
        "\n",
        "#convert full topic dict to df and transpose\n",
        "topics_df = pd.DataFrame(full_topics,\n",
        "                         index=['word1', 'word2', 'word3', 'word4', 'word5', 'word6', 'word7', 'word8', 'word9', 'word10'])\\\n",
        "                         .transpose()\n",
        "\n",
        "# get just the word\n",
        "topics_df = topics_df.applymap(lambda x: x[0])\n",
        "\n",
        "# add col w/concatenated list\n",
        "#topics_df['all_words'] = topics_df.apply(', '.join, axis=1) #insert at end\n",
        "topics_df.insert(0, 'topic', topics_df.apply(', '.join, axis=1))\n",
        "\n",
        "# remove indiv. word columns (word1,...,word10)\n",
        "topics_df.drop(list(topics_df.filter(regex = 'word')), axis = 1, inplace = True)\n",
        "\n",
        "# convert index to a column (this is the topic id)\n",
        "topics_df.insert(0, 'topic_id', topics_df.index)\n",
        "\n",
        "# add count frequency \n",
        "topic_ct = topic_info[['Topic', 'Count']]\n",
        "topics_df = topics_df.merge(topic_ct, how='left', left_on='topic_id', right_on='Topic')\n",
        "topics_df.drop('Topic', axis=1, inplace=True)\n",
        "\n",
        "# classification by paragraph\n",
        "topic_id = topic_info[['Topic', 'Name']]\n",
        "output_df = var_df.copy()\n",
        "output_df['topic_id'] = topics\n",
        "output_df = output_df.merge(topic_id, how='left', left_on='topic_id', right_on='Topic')\n",
        "output_df.drop('Topic',axis=1,inplace=True)\n",
        "output_df.rename({'Name' : 'topic_name'},axis=1, inplace=True)\n",
        "\n",
        "# cluster resulting topics using hdbscan\n",
        "embed = get_similar_topics(tm)\n",
        "\n",
        "# create output\n",
        "embed = embed.sort_values('Label')\n",
        "embed.rename({'Topic':'topic_id', 'Label':'label'}, axis=1, inplace=True)\n",
        "embed = embed.merge(topics_df, how='left', on = 'topic_id')\n",
        "embed.drop(['Words', 'Size'], axis=1, inplace=True)\n",
        "embed = embed[['topic_id', 'label', 'topic', 'Count', 'x', 'y']]"
      ],
      "metadata": {
        "id": "d7IHP_BXxHrD"
      },
      "execution_count": null,
      "outputs": []
    },
    {
      "cell_type": "markdown",
      "source": [
        "Save results"
      ],
      "metadata": {
        "id": "6qprc-WmxHrD"
      }
    },
    {
      "cell_type": "code",
      "source": [
        "# save -- CHANGE VARIABLE NAMES\n",
        "topics_df.to_csv(output_folder + 'govauf_topics_clean_bbu_rramicus.csv', index=False)\n",
        "output_df.to_csv(output_folder + 'govauf_topic_clean_classification_bbu_rramicus.csv', index=False)\n",
        "tm.save(model_folder + 'govauf_bbu_rramicus')\n",
        "embed.to_csv(output_folder + 'govauf_topics_clean_labels_bbu_rramicus.csv')"
      ],
      "metadata": {
        "id": "rzOrUhQPxHrD"
      },
      "execution_count": null,
      "outputs": []
    },
    {
      "cell_type": "markdown",
      "source": [
        "# Racauo and Racauf"
      ],
      "metadata": {
        "id": "3XSsjDgjVQsA"
      }
    },
    {
      "cell_type": "markdown",
      "source": [
        "## Racauo"
      ],
      "metadata": {
        "id": "go2N_nAFwiBv"
      }
    },
    {
      "cell_type": "code",
      "source": [
        "var_df = df[(df['racauo'] == 1)]\n",
        "var_df = var_df[['case', 'id', 'brief', 'racauo', 'text']]\n",
        "print(\"number of briefs:\", var_df['id'].nunique())\n",
        "print(\"number of paragraphs:\", len(var_df))"
      ],
      "metadata": {
        "colab": {
          "base_uri": "https://localhost:8080/"
        },
        "outputId": "b46ca373-7349-4196-9988-2ca71cbaf22e",
        "id": "s_j0MVBawiBw"
      },
      "execution_count": null,
      "outputs": [
        {
          "output_type": "stream",
          "name": "stdout",
          "text": [
            "number of briefs: 5\n",
            "number of paragraphs: 28\n"
          ]
        }
      ]
    },
    {
      "cell_type": "markdown",
      "source": [
        "Remove noise"
      ],
      "metadata": {
        "id": "hsMuyrxIwiBw"
      }
    },
    {
      "cell_type": "code",
      "source": [
        "#rmv_list = ['abortion', 'women', 'health', 'respectfully', 'conclusion', 'counsel', 'state',\n",
        "#            'abortions', 'clinic', 'clinics']\n",
        "#var_df['text'] = var_df['text'].apply(lambda x: ' '.join([word for word in x.split() if word not in (rmv_list)]))"
      ],
      "metadata": {
        "id": "xWj9qkcVwiBw"
      },
      "execution_count": null,
      "outputs": []
    },
    {
      "cell_type": "markdown",
      "source": [
        "### Initial train + save"
      ],
      "metadata": {
        "id": "vSfCRg3xwiBx"
      }
    },
    {
      "cell_type": "markdown",
      "source": [
        "Init existing topic model again so we don't over-write existing model."
      ],
      "metadata": {
        "id": "sAzylALjwiBx"
      }
    },
    {
      "cell_type": "code",
      "source": [
        "# init embeddings\n",
        "bbu_ft_embed = TransformerDocumentEmbeddings(model_checkpoint)\n",
        "\n",
        "# init umap\n",
        "#umap_model = UMAP(n_neighbors=15, n_components=3, min_dist=0.0,\n",
        "#                  metric='cosine', random_state=42, low_memory=False)\n",
        "\n",
        "# init model\n",
        "tm = BERTopic(embedding_model=bbu_ft_embed, min_topic_size=3, #umap_model=umap_model,\n",
        "                     language='english', calculate_probabilities=True, verbose=True)"
      ],
      "metadata": {
        "colab": {
          "base_uri": "https://localhost:8080/"
        },
        "outputId": "a38b5676-6c89-4c34-bed7-eab46f5c08cf",
        "id": "PFOxpZa9wiBx"
      },
      "execution_count": null,
      "outputs": [
        {
          "output_type": "stream",
          "name": "stderr",
          "text": [
            "Some weights of BertModel were not initialized from the model checkpoint at repro-rights-amicus-briefs/bert-base-uncased-finetuned-RRamicus and are newly initialized: ['bert.pooler.dense.weight', 'bert.pooler.dense.bias']\n",
            "You should probably TRAIN this model on a down-stream task to be able to use it for predictions and inference.\n"
          ]
        }
      ]
    },
    {
      "cell_type": "markdown",
      "source": [
        "Fit the model on only the docs of interest (5 min)"
      ],
      "metadata": {
        "id": "XTHKjWy-wiBx"
      }
    },
    {
      "cell_type": "code",
      "source": [
        "# fit model\n",
        "topics, probs = tm.fit_transform(var_df['text'])"
      ],
      "metadata": {
        "colab": {
          "base_uri": "https://localhost:8080/"
        },
        "outputId": "7a4f1ce4-1b04-467b-c5a6-d1aa1cf3a610",
        "id": "zmT_24z3wiBx"
      },
      "execution_count": null,
      "outputs": [
        {
          "output_type": "stream",
          "name": "stderr",
          "text": [
            "28it [00:01, 14.08it/s]\n",
            "2022-04-15 14:30:47,447 - BERTopic - Transformed documents to Embeddings\n",
            "2022-04-15 14:30:52,339 - BERTopic - Reduced dimensionality with UMAP\n",
            "2022-04-15 14:30:52,352 - BERTopic - Clustered UMAP embeddings with HDBSCAN\n"
          ]
        }
      ]
    },
    {
      "cell_type": "code",
      "source": [
        "topic_info = tm.get_topic_info()\n",
        "len(topic_info)"
      ],
      "metadata": {
        "id": "p0pRa018wiBx",
        "colab": {
          "base_uri": "https://localhost:8080/"
        },
        "outputId": "4b78002c-29c1-4ef4-d600-e70d5a10a5ce"
      },
      "execution_count": null,
      "outputs": [
        {
          "output_type": "execute_result",
          "data": {
            "text/plain": [
              "4"
            ]
          },
          "metadata": {},
          "execution_count": 61
        }
      ]
    },
    {
      "cell_type": "markdown",
      "source": [
        "Create output files"
      ],
      "metadata": {
        "id": "LFjLsiFCwiBx"
      }
    },
    {
      "cell_type": "code",
      "source": [
        "# full list of topics\n",
        "full_topics = tm.get_topics()\n",
        "\n",
        "#convert full topic dict to df and transpose\n",
        "topics_df = pd.DataFrame(full_topics,\n",
        "                         index=['word1', 'word2', 'word3', 'word4', 'word5', 'word6', 'word7', 'word8', 'word9', 'word10'])\\\n",
        "                         .transpose()\n",
        "\n",
        "# get just the word\n",
        "topics_df = topics_df.applymap(lambda x: x[0])\n",
        "\n",
        "# add col w/concatenated list\n",
        "#topics_df['all_words'] = topics_df.apply(', '.join, axis=1) #insert at end\n",
        "topics_df.insert(0, 'topic', topics_df.apply(', '.join, axis=1))\n",
        "\n",
        "# remove indiv. word columns (word1,...,word10)\n",
        "topics_df.drop(list(topics_df.filter(regex = 'word')), axis = 1, inplace = True)\n",
        "\n",
        "# convert index to a column (this is the topic id)\n",
        "topics_df.insert(0, 'topic_id', topics_df.index)\n",
        "\n",
        "# add count frequency \n",
        "topic_ct = topic_info[['Topic', 'Count']]\n",
        "topics_df = topics_df.merge(topic_ct, how='left', left_on='topic_id', right_on='Topic')\n",
        "topics_df.drop('Topic', axis=1, inplace=True)\n",
        "\n",
        "# classification by paragraph\n",
        "topic_id = topic_info[['Topic', 'Name']]\n",
        "output_df = var_df.copy()\n",
        "output_df['topic_id'] = topics\n",
        "output_df = output_df.merge(topic_id, how='left', left_on='topic_id', right_on='Topic')\n",
        "output_df.drop('Topic',axis=1,inplace=True)\n",
        "output_df.rename({'Name' : 'topic_name'},axis=1, inplace=True)\n",
        "\n",
        "# cluster resulting topics using hdbscan\n",
        "embed = get_similar_topics(tm)\n",
        "\n",
        "# create output\n",
        "embed = embed.sort_values('Label')\n",
        "embed.rename({'Topic':'topic_id', 'Label':'label'}, axis=1, inplace=True)\n",
        "embed = embed.merge(topics_df, how='left', on = 'topic_id')\n",
        "embed.drop(['Words', 'Size'], axis=1, inplace=True)\n",
        "embed = embed[['topic_id', 'label', 'topic', 'Count', 'x', 'y']]"
      ],
      "metadata": {
        "id": "n-Q0L--OwiBy"
      },
      "execution_count": null,
      "outputs": []
    },
    {
      "cell_type": "markdown",
      "source": [
        "Save results"
      ],
      "metadata": {
        "id": "gP8a5Y5wwiBy"
      }
    },
    {
      "cell_type": "code",
      "source": [
        "# save -- CHANGE VARIABLE NAMES\n",
        "topics_df.to_csv(output_folder + 'racauo_topics_clean_bbu_rramicus.csv', index=False)\n",
        "output_df.to_csv(output_folder + 'racauo_topic_clean_classification_bbu_rramicus.csv', index=False)\n",
        "tm.save(model_folder + 'racauo_bbu_rramicus')\n",
        "embed.to_csv(output_folder + 'racauo_topics_clean_labels_bbu_rramicus.csv')"
      ],
      "metadata": {
        "id": "MfAhBGoOwiBy"
      },
      "execution_count": null,
      "outputs": []
    },
    {
      "cell_type": "markdown",
      "source": [
        "## racauf"
      ],
      "metadata": {
        "id": "OL0epeEJw4bw"
      }
    },
    {
      "cell_type": "code",
      "source": [
        "var_df = df[(df['racauf'] == 1)]\n",
        "var_df = var_df[['case', 'id', 'brief', 'racauf', 'text']]\n",
        "print(\"number of briefs:\", var_df['id'].nunique())\n",
        "print(\"number of paragraphs:\", len(var_df))"
      ],
      "metadata": {
        "id": "9HWOpIbCw4bx",
        "colab": {
          "base_uri": "https://localhost:8080/"
        },
        "outputId": "5ce06b38-5905-4b8a-9c63-dc11e54e94aa"
      },
      "execution_count": null,
      "outputs": [
        {
          "output_type": "stream",
          "name": "stdout",
          "text": [
            "number of briefs: 11\n",
            "number of paragraphs: 91\n"
          ]
        }
      ]
    },
    {
      "cell_type": "markdown",
      "source": [
        "Remove noise"
      ],
      "metadata": {
        "id": "AgRhRUAbw4bx"
      }
    },
    {
      "cell_type": "code",
      "source": [
        "#rmv_list = ['abortion', 'women', 'health', 'respectfully', 'conclusion', 'counsel', 'state',\n",
        "#            'abortions', 'clinic', 'clinics']\n",
        "#var_df['text'] = var_df['text'].apply(lambda x: ' '.join([word for word in x.split() if word not in (rmv_list)]))"
      ],
      "metadata": {
        "id": "i9Frj0o6w4bx"
      },
      "execution_count": null,
      "outputs": []
    },
    {
      "cell_type": "markdown",
      "source": [
        "### Initial train + save"
      ],
      "metadata": {
        "id": "uyy-CRCnw4bx"
      }
    },
    {
      "cell_type": "markdown",
      "source": [
        "Init existing topic model again so we don't over-write existing model."
      ],
      "metadata": {
        "id": "M28Xahxcw4bx"
      }
    },
    {
      "cell_type": "code",
      "source": [
        "# init embeddings\n",
        "bbu_ft_embed = TransformerDocumentEmbeddings(model_checkpoint)\n",
        "\n",
        "# init umap\n",
        "#umap_model = UMAP(n_neighbors=15, n_components=3, min_dist=0.0,\n",
        "#                  metric='cosine', random_state=42, low_memory=False)\n",
        "\n",
        "# init model\n",
        "tm = BERTopic(embedding_model=bbu_ft_embed, min_topic_size=3, #umap_model=umap_model,\n",
        "                     language='english', calculate_probabilities=True, verbose=True)"
      ],
      "metadata": {
        "id": "XQZiTDI5w4by",
        "colab": {
          "base_uri": "https://localhost:8080/"
        },
        "outputId": "78829eb9-728c-4ccd-bc00-1d3edd547479"
      },
      "execution_count": null,
      "outputs": [
        {
          "output_type": "stream",
          "name": "stderr",
          "text": [
            "Some weights of BertModel were not initialized from the model checkpoint at repro-rights-amicus-briefs/bert-base-uncased-finetuned-RRamicus and are newly initialized: ['bert.pooler.dense.weight', 'bert.pooler.dense.bias']\n",
            "You should probably TRAIN this model on a down-stream task to be able to use it for predictions and inference.\n"
          ]
        }
      ]
    },
    {
      "cell_type": "markdown",
      "source": [
        "Fit the model on only the docs of interest (5 min)"
      ],
      "metadata": {
        "id": "w1erePKDw4by"
      }
    },
    {
      "cell_type": "code",
      "source": [
        "# fit model\n",
        "topics, probs = tm.fit_transform(var_df['text'])"
      ],
      "metadata": {
        "id": "BCuejKmyw4by",
        "colab": {
          "base_uri": "https://localhost:8080/"
        },
        "outputId": "21ff1e81-553a-4839-c61e-106ca1a26632"
      },
      "execution_count": null,
      "outputs": [
        {
          "output_type": "stream",
          "name": "stderr",
          "text": [
            "91it [00:05, 16.35it/s]\n",
            "2022-04-15 13:59:40,549 - BERTopic - Transformed documents to Embeddings\n",
            "2022-04-15 13:59:43,208 - BERTopic - Reduced dimensionality with UMAP\n",
            "2022-04-15 13:59:43,226 - BERTopic - Clustered UMAP embeddings with HDBSCAN\n"
          ]
        }
      ]
    },
    {
      "cell_type": "code",
      "source": [
        "topic_info = tm.get_topic_info()\n",
        "len(topic_info)"
      ],
      "metadata": {
        "id": "gE07XX2dw4by",
        "colab": {
          "base_uri": "https://localhost:8080/"
        },
        "outputId": "896abd95-6938-4489-fae9-c40a2501ad45"
      },
      "execution_count": null,
      "outputs": [
        {
          "output_type": "execute_result",
          "data": {
            "text/plain": [
              "6"
            ]
          },
          "metadata": {},
          "execution_count": 33
        }
      ]
    },
    {
      "cell_type": "markdown",
      "source": [
        "Create output files"
      ],
      "metadata": {
        "id": "vaRHGpvHw4by"
      }
    },
    {
      "cell_type": "code",
      "source": [
        "# full list of topics\n",
        "full_topics = tm.get_topics()\n",
        "\n",
        "#convert full topic dict to df and transpose\n",
        "topics_df = pd.DataFrame(full_topics,\n",
        "                         index=['word1', 'word2', 'word3', 'word4', 'word5', 'word6', 'word7', 'word8', 'word9', 'word10'])\\\n",
        "                         .transpose()\n",
        "\n",
        "# get just the word\n",
        "topics_df = topics_df.applymap(lambda x: x[0])\n",
        "\n",
        "# add col w/concatenated list\n",
        "#topics_df['all_words'] = topics_df.apply(', '.join, axis=1) #insert at end\n",
        "topics_df.insert(0, 'topic', topics_df.apply(', '.join, axis=1))\n",
        "\n",
        "# remove indiv. word columns (word1,...,word10)\n",
        "topics_df.drop(list(topics_df.filter(regex = 'word')), axis = 1, inplace = True)\n",
        "\n",
        "# convert index to a column (this is the topic id)\n",
        "topics_df.insert(0, 'topic_id', topics_df.index)\n",
        "\n",
        "# add count frequency \n",
        "topic_ct = topic_info[['Topic', 'Count']]\n",
        "topics_df = topics_df.merge(topic_ct, how='left', left_on='topic_id', right_on='Topic')\n",
        "topics_df.drop('Topic', axis=1, inplace=True)\n",
        "\n",
        "# classification by paragraph\n",
        "topic_id = topic_info[['Topic', 'Name']]\n",
        "output_df = var_df.copy()\n",
        "output_df['topic_id'] = topics\n",
        "output_df = output_df.merge(topic_id, how='left', left_on='topic_id', right_on='Topic')\n",
        "output_df.drop('Topic',axis=1,inplace=True)\n",
        "output_df.rename({'Name' : 'topic_name'},axis=1, inplace=True)\n",
        "\n",
        "# cluster resulting topics using hdbscan\n",
        "embed = get_similar_topics(tm)\n",
        "\n",
        "# create output\n",
        "embed = embed.sort_values('Label')\n",
        "embed.rename({'Topic':'topic_id', 'Label':'label'}, axis=1, inplace=True)\n",
        "embed = embed.merge(topics_df, how='left', on = 'topic_id')\n",
        "embed.drop(['Words', 'Size'], axis=1, inplace=True)\n",
        "embed = embed[['topic_id', 'label', 'topic', 'Count', 'x', 'y']]"
      ],
      "metadata": {
        "id": "mIQ08yy8w4by"
      },
      "execution_count": null,
      "outputs": []
    },
    {
      "cell_type": "markdown",
      "source": [
        "Save results"
      ],
      "metadata": {
        "id": "FqOuhM_bw4bz"
      }
    },
    {
      "cell_type": "code",
      "source": [
        "# save -- CHANGE VARIABLE NAMES\n",
        "topics_df.to_csv(output_folder + 'racauf_topics_clean_bbu_rramicus.csv', index=False)\n",
        "output_df.to_csv(output_folder + 'racauf_topic_clean_classification_bbu_rramicus.csv', index=False)\n",
        "tm.save(model_folder + 'racauf_bbu_rramicus')\n",
        "embed.to_csv(output_folder + 'racauf_topics_clean_labels_bbu_rramicus.csv')"
      ],
      "metadata": {
        "id": "zMSTa2xRw4b0"
      },
      "execution_count": null,
      "outputs": []
    },
    {
      "cell_type": "markdown",
      "source": [
        "# LGBauf"
      ],
      "metadata": {
        "id": "omzKOGRGiies"
      }
    },
    {
      "cell_type": "code",
      "source": [
        "var_df = df[(df['lg_bauf'] == 1)]\n",
        "var_df = var_df[['case', 'id', 'brief', 'lg_bauf', 'text']]\n",
        "print(\"number of briefs:\", var_df['id'].nunique())\n",
        "print(\"number of paragraphs:\", len(var_df))"
      ],
      "metadata": {
        "colab": {
          "base_uri": "https://localhost:8080/"
        },
        "outputId": "06eb82bb-b349-4a10-d977-4f8ac16cee2e",
        "id": "xs61Ftwiiies"
      },
      "execution_count": null,
      "outputs": [
        {
          "output_type": "stream",
          "name": "stdout",
          "text": [
            "number of briefs: 2\n",
            "number of paragraphs: 20\n"
          ]
        }
      ]
    },
    {
      "cell_type": "markdown",
      "source": [
        "Remove noise"
      ],
      "metadata": {
        "id": "WOQHxPuliiet"
      }
    },
    {
      "cell_type": "code",
      "source": [
        "#rmv_list = ['abortion', 'women', 'health', 'respectfully', 'conclusion', 'counsel', 'state',\n",
        "#            'abortions', 'clinic', 'clinics']\n",
        "#var_df['text'] = var_df['text'].apply(lambda x: ' '.join([word for word in x.split() if word not in (rmv_list)]))"
      ],
      "metadata": {
        "id": "A_L3r3uaiiet"
      },
      "execution_count": null,
      "outputs": []
    },
    {
      "cell_type": "markdown",
      "source": [
        "### Initial train + save"
      ],
      "metadata": {
        "id": "6WTaE4SJiiet"
      }
    },
    {
      "cell_type": "markdown",
      "source": [
        "Init existing topic model again so we don't over-write existing model."
      ],
      "metadata": {
        "id": "KoebgC_Giiet"
      }
    },
    {
      "cell_type": "code",
      "source": [
        "# init embeddings\n",
        "bbu_ft_embed = TransformerDocumentEmbeddings(model_checkpoint)\n",
        "\n",
        "# init umap\n",
        "umap_model = UMAP(n_neighbors=15, n_components=3, min_dist=0.0,\n",
        "                  metric='cosine', random_state=42, low_memory=False)\n",
        "\n",
        "# init model\n",
        "tm = BERTopic(embedding_model=bbu_ft_embed, min_topic_size=3, #umap_model=umap_model,\n",
        "                     language='english', calculate_probabilities=True, verbose=True)"
      ],
      "metadata": {
        "colab": {
          "base_uri": "https://localhost:8080/"
        },
        "outputId": "9be2e931-57c4-4e65-d50e-7cf6ca57ec63",
        "id": "6R58sL0Aiieu"
      },
      "execution_count": null,
      "outputs": [
        {
          "output_type": "stream",
          "name": "stderr",
          "text": [
            "Some weights of BertModel were not initialized from the model checkpoint at repro-rights-amicus-briefs/bert-base-uncased-finetuned-RRamicus and are newly initialized: ['bert.pooler.dense.weight', 'bert.pooler.dense.bias']\n",
            "You should probably TRAIN this model on a down-stream task to be able to use it for predictions and inference.\n"
          ]
        }
      ]
    },
    {
      "cell_type": "markdown",
      "source": [
        "Fit the model on only the docs of interest (5 min)"
      ],
      "metadata": {
        "id": "-LaFYuQ4iieu"
      }
    },
    {
      "cell_type": "code",
      "source": [
        "# fit model\n",
        "topics, probs = tm.fit_transform(var_df['text'])"
      ],
      "metadata": {
        "colab": {
          "base_uri": "https://localhost:8080/"
        },
        "outputId": "6c989309-c113-4fd2-99f8-754a6f3d9e28",
        "id": "j8NuE5E3iieu"
      },
      "execution_count": null,
      "outputs": [
        {
          "output_type": "stream",
          "name": "stderr",
          "text": [
            "20it [00:01, 11.87it/s]\n",
            "2022-04-15 14:57:43,397 - BERTopic - Transformed documents to Embeddings\n",
            "2022-04-15 14:57:48,823 - BERTopic - Reduced dimensionality with UMAP\n",
            "2022-04-15 14:57:48,838 - BERTopic - Clustered UMAP embeddings with HDBSCAN\n"
          ]
        }
      ]
    },
    {
      "cell_type": "code",
      "source": [
        "topic_info = tm.get_topic_info()\n",
        "len(topic_info)"
      ],
      "metadata": {
        "id": "osFR2mx7iieu",
        "colab": {
          "base_uri": "https://localhost:8080/"
        },
        "outputId": "0bfd0e43-fdd7-4625-980c-1cbb37401e47"
      },
      "execution_count": null,
      "outputs": [
        {
          "output_type": "execute_result",
          "data": {
            "text/plain": [
              "3"
            ]
          },
          "metadata": {},
          "execution_count": 104
        }
      ]
    },
    {
      "cell_type": "markdown",
      "source": [
        "Create output files"
      ],
      "metadata": {
        "id": "hYapOD0Jiiev"
      }
    },
    {
      "cell_type": "code",
      "source": [
        "# full list of topics\n",
        "full_topics = tm.get_topics()\n",
        "\n",
        "#convert full topic dict to df and transpose\n",
        "topics_df = pd.DataFrame(full_topics,\n",
        "                         index=['word1', 'word2', 'word3', 'word4', 'word5', 'word6', 'word7', 'word8', 'word9', 'word10'])\\\n",
        "                         .transpose()\n",
        "\n",
        "# get just the word\n",
        "topics_df = topics_df.applymap(lambda x: x[0])\n",
        "\n",
        "# add col w/concatenated list\n",
        "#topics_df['all_words'] = topics_df.apply(', '.join, axis=1) #insert at end\n",
        "topics_df.insert(0, 'topic', topics_df.apply(', '.join, axis=1))\n",
        "\n",
        "# remove indiv. word columns (word1,...,word10)\n",
        "topics_df.drop(list(topics_df.filter(regex = 'word')), axis = 1, inplace = True)\n",
        "\n",
        "# convert index to a column (this is the topic id)\n",
        "topics_df.insert(0, 'topic_id', topics_df.index)\n",
        "\n",
        "# add count frequency \n",
        "topic_ct = topic_info[['Topic', 'Count']]\n",
        "topics_df = topics_df.merge(topic_ct, how='left', left_on='topic_id', right_on='Topic')\n",
        "topics_df.drop('Topic', axis=1, inplace=True)\n",
        "\n",
        "# classification by paragraph\n",
        "topic_id = topic_info[['Topic', 'Name']]\n",
        "output_df = var_df.copy()\n",
        "output_df['topic_id'] = topics\n",
        "output_df = output_df.merge(topic_id, how='left', left_on='topic_id', right_on='Topic')\n",
        "output_df.drop('Topic',axis=1,inplace=True)\n",
        "output_df.rename({'Name' : 'topic_name'},axis=1, inplace=True)\n",
        "\n",
        "'''# cluster resulting topics using hdbscan\n",
        "embed = get_similar_topics(tm)\n",
        "\n",
        "# create output\n",
        "embed = embed.sort_values('Label')\n",
        "embed.rename({'Topic':'topic_id', 'Label':'label'}, axis=1, inplace=True)\n",
        "embed = embed.merge(topics_df, how='left', on = 'topic_id')\n",
        "embed.drop(['Words', 'Size'], axis=1, inplace=True)\n",
        "embed = embed[['topic_id', 'label', 'topic', 'Count', 'x', 'y']]'''"
      ],
      "metadata": {
        "id": "0ojwEEnjiiev",
        "colab": {
          "base_uri": "https://localhost:8080/",
          "height": 89
        },
        "outputId": "4404d52a-2ab0-47ac-c0f0-6c7c18722ca0"
      },
      "execution_count": null,
      "outputs": [
        {
          "output_type": "execute_result",
          "data": {
            "text/plain": [
              "\"# cluster resulting topics using hdbscan\\nembed = get_similar_topics(tm)\\n\\n# create output\\nembed = embed.sort_values('Label')\\nembed.rename({'Topic':'topic_id', 'Label':'label'}, axis=1, inplace=True)\\nembed = embed.merge(topics_df, how='left', on = 'topic_id')\\nembed.drop(['Words', 'Size'], axis=1, inplace=True)\\nembed = embed[['topic_id', 'label', 'topic', 'Count', 'x', 'y']]\""
            ],
            "application/vnd.google.colaboratory.intrinsic+json": {
              "type": "string"
            }
          },
          "metadata": {},
          "execution_count": 89
        }
      ]
    },
    {
      "cell_type": "markdown",
      "source": [
        "Save results"
      ],
      "metadata": {
        "id": "4wMLXy06iiev"
      }
    },
    {
      "cell_type": "code",
      "source": [
        "# save -- CHANGE VARIABLE NAMES\n",
        "topics_df.to_csv(output_folder + 'lg_bauf_topics_clean_bbu_rramicus.csv', index=False)\n",
        "output_df.to_csv(output_folder + 'lg_bauf_topic_clean_classification_bbu_rramicus.csv', index=False)\n",
        "tm.save(model_folder + 'lg_bauf_bbu_rramicus')\n",
        "#embed.to_csv(output_folder + 'lg_bauf_topics_clean_labels_bbu_rramicus.csv')"
      ],
      "metadata": {
        "id": "d36tlEdyiiev"
      },
      "execution_count": null,
      "outputs": []
    },
    {
      "cell_type": "markdown",
      "source": [
        "# Sg, Sgauf & Sgauo"
      ],
      "metadata": {
        "id": "HbvBaDdsWCAU"
      }
    },
    {
      "cell_type": "markdown",
      "source": [
        "## sgauf"
      ],
      "metadata": {
        "id": "lrT5AodWmVDw"
      }
    },
    {
      "cell_type": "code",
      "source": [
        "var_df = df[(df['sgauf'] == 1)]\n",
        "var_df = var_df[['case', 'id', 'brief', 'sgauf', 'text']]\n",
        "print(\"number of briefs:\", var_df['id'].nunique())\n",
        "print(\"number of paragraphs:\", len(var_df))"
      ],
      "metadata": {
        "colab": {
          "base_uri": "https://localhost:8080/"
        },
        "outputId": "d98f4810-f00a-46ab-8048-2ebeae7bd08f",
        "id": "urY_nLiSmVDx"
      },
      "execution_count": null,
      "outputs": [
        {
          "output_type": "stream",
          "name": "stdout",
          "text": [
            "number of briefs: 7\n",
            "number of paragraphs: 54\n"
          ]
        }
      ]
    },
    {
      "cell_type": "markdown",
      "source": [
        "Remove noise"
      ],
      "metadata": {
        "id": "5eCMlvbumVDx"
      }
    },
    {
      "cell_type": "code",
      "source": [
        "#rmv_list = ['abortion', 'women', 'health', 'respectfully', 'conclusion', 'counsel', 'state',\n",
        "#            'abortions', 'clinic', 'clinics']\n",
        "#relauo_df['text'] = relauo_df['text'].apply(lambda x: ' '.join([word for word in x.split() if word not in (rmv_list)]))"
      ],
      "metadata": {
        "id": "thJ67S5NmVDx"
      },
      "execution_count": null,
      "outputs": []
    },
    {
      "cell_type": "markdown",
      "source": [
        "### Initial train + save"
      ],
      "metadata": {
        "id": "lZaq186fuVeC"
      }
    },
    {
      "cell_type": "markdown",
      "source": [
        "Init existing topic model again so we don't over-write existing model."
      ],
      "metadata": {
        "id": "WJwydbPQuVeD"
      }
    },
    {
      "cell_type": "code",
      "source": [
        "# init embeddings\n",
        "bbu_ft_embed = TransformerDocumentEmbeddings(model_checkpoint)\n",
        "\n",
        "# init umap\n",
        "umap_model = UMAP(n_neighbors=15, n_components=3, min_dist=0.0,\n",
        "                  metric='cosine', random_state=42, low_memory=False)\n",
        "\n",
        "# init model\n",
        "tm = BERTopic(embedding_model=bbu_ft_embed, min_topic_size=3, umap_model=umap_model,\n",
        "                     language='english', calculate_probabilities=True, verbose=True)"
      ],
      "metadata": {
        "colab": {
          "base_uri": "https://localhost:8080/"
        },
        "outputId": "ebef7730-cf36-4ecc-9388-3eeac1c0fae3",
        "id": "1aDcE3bNuVeD"
      },
      "execution_count": null,
      "outputs": [
        {
          "output_type": "stream",
          "name": "stderr",
          "text": [
            "Some weights of BertModel were not initialized from the model checkpoint at repro-rights-amicus-briefs/bert-base-uncased-finetuned-RRamicus and are newly initialized: ['bert.pooler.dense.weight', 'bert.pooler.dense.bias']\n",
            "You should probably TRAIN this model on a down-stream task to be able to use it for predictions and inference.\n"
          ]
        }
      ]
    },
    {
      "cell_type": "markdown",
      "source": [
        "Fit the model on only the docs of interest (5 min)"
      ],
      "metadata": {
        "id": "56C667DbuVeD"
      }
    },
    {
      "cell_type": "code",
      "source": [
        "# fit model\n",
        "topics, probs = tm.fit_transform(var_df['text'])"
      ],
      "metadata": {
        "colab": {
          "base_uri": "https://localhost:8080/"
        },
        "outputId": "4b5b3335-a5e3-41da-e892-cbae8509a05b",
        "id": "yxWV9zbsuVeE"
      },
      "execution_count": null,
      "outputs": [
        {
          "output_type": "stream",
          "name": "stderr",
          "text": [
            "54it [00:03, 17.03it/s]\n",
            "2022-04-15 14:01:32,973 - BERTopic - Transformed documents to Embeddings\n",
            "2022-04-15 14:01:33,977 - BERTopic - Reduced dimensionality with UMAP\n",
            "2022-04-15 14:01:33,994 - BERTopic - Clustered UMAP embeddings with HDBSCAN\n"
          ]
        }
      ]
    },
    {
      "cell_type": "code",
      "source": [
        "topic_info = tm.get_topic_info()\n",
        "len(topic_info)"
      ],
      "metadata": {
        "colab": {
          "base_uri": "https://localhost:8080/"
        },
        "outputId": "b8361e0c-7b2c-455e-8268-bc1921db18ae",
        "id": "ICgYb0sYuVeE"
      },
      "execution_count": null,
      "outputs": [
        {
          "output_type": "execute_result",
          "data": {
            "text/plain": [
              "8"
            ]
          },
          "metadata": {},
          "execution_count": 45
        }
      ]
    },
    {
      "cell_type": "markdown",
      "source": [
        "Create output files"
      ],
      "metadata": {
        "id": "drvLdOH2uVeE"
      }
    },
    {
      "cell_type": "code",
      "source": [
        "# full list of topics\n",
        "full_topics = tm.get_topics()\n",
        "\n",
        "#convert full topic dict to df and transpose\n",
        "topics_df = pd.DataFrame(full_topics,\n",
        "                         index=['word1', 'word2', 'word3', 'word4', 'word5', 'word6', 'word7', 'word8', 'word9', 'word10'])\\\n",
        "                         .transpose()\n",
        "\n",
        "# get just the word\n",
        "topics_df = topics_df.applymap(lambda x: x[0])\n",
        "\n",
        "# add col w/concatenated list\n",
        "#topics_df['all_words'] = topics_df.apply(', '.join, axis=1) #insert at end\n",
        "topics_df.insert(0, 'topic', topics_df.apply(', '.join, axis=1))\n",
        "\n",
        "# remove indiv. word columns (word1,...,word10)\n",
        "topics_df.drop(list(topics_df.filter(regex = 'word')), axis = 1, inplace = True)\n",
        "\n",
        "# convert index to a column (this is the topic id)\n",
        "topics_df.insert(0, 'topic_id', topics_df.index)\n",
        "\n",
        "# add count frequency \n",
        "topic_ct = topic_info[['Topic', 'Count']]\n",
        "topics_df = topics_df.merge(topic_ct, how='left', left_on='topic_id', right_on='Topic')\n",
        "topics_df.drop('Topic', axis=1, inplace=True)\n",
        "\n",
        "# classification by paragraph\n",
        "topic_id = topic_info[['Topic', 'Name']]\n",
        "output_df = var_df.copy()\n",
        "output_df['topic_id'] = topics\n",
        "\n",
        "output_df = output_df.merge(topic_id, how='left', left_on='topic_id', right_on='Topic')\n",
        "output_df.drop('Topic',axis=1,inplace=True)\n",
        "output_df.rename({'Name' : 'topic_name'},axis=1, inplace=True)\n",
        "\n",
        "# cluster resulting topics using hdbscan\n",
        "embed = get_similar_topics(tm)\n",
        "\n",
        "# create output\n",
        "embed = embed.sort_values('Label')\n",
        "embed.rename({'Topic':'topic_id', 'Label':'label'}, axis=1, inplace=True)\n",
        "embed = embed.merge(topics_df, how='left', on = 'topic_id')\n",
        "embed.drop(['Words', 'Size'], axis=1, inplace=True)\n",
        "embed = embed[['topic_id', 'label', 'topic', 'Count', 'x', 'y']]"
      ],
      "metadata": {
        "id": "NJkrVnUkuVeE"
      },
      "execution_count": null,
      "outputs": []
    },
    {
      "cell_type": "markdown",
      "source": [
        "Save results"
      ],
      "metadata": {
        "id": "MYDYlsu_uVeF"
      }
    },
    {
      "cell_type": "code",
      "source": [
        "# save -- CHANGE VARIABLE NAMES\n",
        "topics_df.to_csv(output_folder + 'sgauf_topics_clean_bbu_rramicus.csv', index=False)\n",
        "output_df.to_csv(output_folder + 'sgauf_topic_clean_classification_bbu_rramicus.csv', index=False)\n",
        "tm.save(model_folder + 'sgauf_bbu_rramicus')\n",
        "embed.to_csv(output_folder + 'sgauf_topics_clean_labels_bbu_rramicus.csv')"
      ],
      "metadata": {
        "id": "7Kh9C7UxuVeF"
      },
      "execution_count": null,
      "outputs": []
    },
    {
      "cell_type": "markdown",
      "source": [
        "## Sgauo"
      ],
      "metadata": {
        "id": "hIdZYDeomVDz"
      }
    },
    {
      "cell_type": "code",
      "source": [
        "var_df = df[(df['sgauo'] == 1)]\n",
        "var_df = var_df[['case', 'id', 'brief', 'sgauo', 'text']]\n",
        "print(\"number of briefs:\", var_df['id'].nunique())\n",
        "print(\"number of paragraphs:\", len(var_df))"
      ],
      "metadata": {
        "colab": {
          "base_uri": "https://localhost:8080/"
        },
        "outputId": "0afd7227-2f08-4cd0-d58d-15228345e94c",
        "id": "V-ePfRQAmVD0"
      },
      "execution_count": null,
      "outputs": [
        {
          "output_type": "stream",
          "name": "stdout",
          "text": [
            "number of briefs: 11\n",
            "number of paragraphs: 96\n"
          ]
        }
      ]
    },
    {
      "cell_type": "markdown",
      "source": [
        "Remove noise"
      ],
      "metadata": {
        "id": "2a_65YpZmVD0"
      }
    },
    {
      "cell_type": "code",
      "source": [
        "#rmv_list = ['abortion', 'women', 'health', 'respectfully', 'conclusion', 'counsel', 'state',\n",
        "#            'abortions', 'clinic', 'clinics']\n",
        "#var_df['text'] = var_df['text'].apply(lambda x: ' '.join([word for word in x.split() if word not in (rmv_list)]))"
      ],
      "metadata": {
        "id": "TvA3-0NPmVD0"
      },
      "execution_count": null,
      "outputs": []
    },
    {
      "cell_type": "markdown",
      "source": [
        "### Initial train + save"
      ],
      "metadata": {
        "id": "Ut247JiVuttf"
      }
    },
    {
      "cell_type": "markdown",
      "source": [
        "Init existing topic model again so we don't over-write existing model."
      ],
      "metadata": {
        "id": "Guzk9pIouttf"
      }
    },
    {
      "cell_type": "code",
      "source": [
        "# init embeddings\n",
        "bbu_ft_embed = TransformerDocumentEmbeddings(model_checkpoint)\n",
        "\n",
        "# init umap\n",
        "umap_model = UMAP(n_neighbors=2, n_components=2, min_dist=0.0,\n",
        "                  metric='cosine', random_state=42, low_memory=False)\n",
        "\n",
        "# init model\n",
        "tm = BERTopic(embedding_model=bbu_ft_embed, min_topic_size=3, umap_model=umap_model,\n",
        "                     language='english', calculate_probabilities=True, verbose=True)"
      ],
      "metadata": {
        "colab": {
          "base_uri": "https://localhost:8080/"
        },
        "outputId": "47519e05-4baa-4b54-f244-0036d26d158d",
        "id": "C4A2T2XVuttg"
      },
      "execution_count": null,
      "outputs": [
        {
          "output_type": "stream",
          "name": "stderr",
          "text": [
            "Some weights of BertModel were not initialized from the model checkpoint at repro-rights-amicus-briefs/bert-base-uncased-finetuned-RRamicus and are newly initialized: ['bert.pooler.dense.weight', 'bert.pooler.dense.bias']\n",
            "You should probably TRAIN this model on a down-stream task to be able to use it for predictions and inference.\n"
          ]
        }
      ]
    },
    {
      "cell_type": "markdown",
      "source": [
        "Fit the model on only the docs of interest (5 min)"
      ],
      "metadata": {
        "id": "i8WXwIivuttg"
      }
    },
    {
      "cell_type": "code",
      "source": [
        "# fit model\n",
        "topics, probs = tm.fit_transform(var_df['text'])"
      ],
      "metadata": {
        "colab": {
          "base_uri": "https://localhost:8080/"
        },
        "outputId": "a59b39b6-3d61-4dab-d279-1a1d20426192",
        "id": "OQx3Pmgcuttg"
      },
      "execution_count": null,
      "outputs": [
        {
          "output_type": "stream",
          "name": "stderr",
          "text": [
            "96it [00:06, 15.37it/s]\n",
            "2022-04-15 14:55:06,267 - BERTopic - Transformed documents to Embeddings\n",
            "2022-04-15 14:55:08,363 - BERTopic - Reduced dimensionality with UMAP\n",
            "2022-04-15 14:55:08,398 - BERTopic - Clustered UMAP embeddings with HDBSCAN\n"
          ]
        }
      ]
    },
    {
      "cell_type": "code",
      "source": [
        "topic_info = tm.get_topic_info()\n",
        "len(topic_info)"
      ],
      "metadata": {
        "colab": {
          "base_uri": "https://localhost:8080/"
        },
        "outputId": "6e703a3c-3f03-44bc-f488-ca1c3a2a653a",
        "id": "fjzACJXguttg"
      },
      "execution_count": null,
      "outputs": [
        {
          "output_type": "execute_result",
          "data": {
            "text/plain": [
              "15"
            ]
          },
          "metadata": {},
          "execution_count": 97
        }
      ]
    },
    {
      "cell_type": "markdown",
      "source": [
        "Create output files"
      ],
      "metadata": {
        "id": "lwhWtQc-utth"
      }
    },
    {
      "cell_type": "code",
      "source": [
        "# full list of topics\n",
        "full_topics = tm.get_topics()\n",
        "\n",
        "#convert full topic dict to df and transpose\n",
        "topics_df = pd.DataFrame(full_topics,\n",
        "                         index=['word1', 'word2', 'word3', 'word4', 'word5', 'word6', 'word7', 'word8', 'word9', 'word10'])\\\n",
        "                         .transpose()\n",
        "\n",
        "# get just the word\n",
        "topics_df = topics_df.applymap(lambda x: x[0])\n",
        "\n",
        "# add col w/concatenated list\n",
        "#topics_df['all_words'] = topics_df.apply(', '.join, axis=1) #insert at end\n",
        "topics_df.insert(0, 'topic', topics_df.apply(', '.join, axis=1))\n",
        "\n",
        "# remove indiv. word columns (word1,...,word10)\n",
        "topics_df.drop(list(topics_df.filter(regex = 'word')), axis = 1, inplace = True)\n",
        "\n",
        "# convert index to a column (this is the topic id)\n",
        "topics_df.insert(0, 'topic_id', topics_df.index)\n",
        "\n",
        "# add count frequency \n",
        "topic_ct = topic_info[['Topic', 'Count']]\n",
        "topics_df = topics_df.merge(topic_ct, how='left', left_on='topic_id', right_on='Topic')\n",
        "topics_df.drop('Topic', axis=1, inplace=True)\n",
        "\n",
        "# classification by paragraph\n",
        "topic_id = topic_info[['Topic', 'Name']]\n",
        "output_df = var_df.copy()\n",
        "output_df['topic_id'] = topics\n",
        "\n",
        "output_df = output_df.merge(topic_id, how='left', left_on='topic_id', right_on='Topic')\n",
        "output_df.drop('Topic',axis=1,inplace=True)\n",
        "output_df.rename({'Name' : 'topic_name'},axis=1, inplace=True)\n",
        "\n",
        "# cluster resulting topics using hdbscan\n",
        "embed = get_similar_topics(tm)\n",
        "\n",
        "# save output\n",
        "embed = embed.sort_values('Label')\n",
        "embed.rename({'Topic':'topic_id', 'Label':'label'}, axis=1, inplace=True)\n",
        "embed = embed.merge(topics_df, how='left', on = 'topic_id')\n",
        "embed.drop(['Words', 'Size'], axis=1, inplace=True)\n",
        "embed = embed[['topic_id', 'label', 'topic', 'Count', 'x', 'y']]"
      ],
      "metadata": {
        "id": "wFXXaNFOutth"
      },
      "execution_count": null,
      "outputs": []
    },
    {
      "cell_type": "markdown",
      "source": [
        "Save results"
      ],
      "metadata": {
        "id": "2jb9o5kQutth"
      }
    },
    {
      "cell_type": "code",
      "source": [
        "# save -- CHANGE VARIABLE NAMES\n",
        "topics_df.to_csv(output_folder + 'sgauo_topics_clean_bbu_rramicus.csv', index=False)\n",
        "output_df.to_csv(output_folder + 'sgauo_topic_clean_classification_bbu_rramicus.csv', index=False)\n",
        "tm.save(model_folder + 'sgauo_bbu_rramicus')\n",
        "embed.to_csv(output_folder + 'sgauo_topics_clean_labels_bbu_rramicus.csv')"
      ],
      "metadata": {
        "id": "kpGdkplSutth"
      },
      "execution_count": null,
      "outputs": []
    },
    {
      "cell_type": "markdown",
      "source": [
        ""
      ],
      "metadata": {
        "id": "4xay3qqXXkir"
      }
    }
  ]
}