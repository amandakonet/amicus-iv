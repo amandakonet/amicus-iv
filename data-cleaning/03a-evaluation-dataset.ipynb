{
  "nbformat": 4,
  "nbformat_minor": 0,
  "metadata": {
    "colab": {
      "name": "evaluation-dataset.ipynb",
      "provenance": [],
      "collapsed_sections": [],
      "authorship_tag": "ABX9TyO06EqR17qAjZxcBCUtUvIv"
    },
    "kernelspec": {
      "name": "python3",
      "display_name": "Python 3"
    },
    "language_info": {
      "name": "python"
    }
  },
  "cells": [
    {
      "cell_type": "markdown",
      "source": [
        "# Evaluation Dataset\n",
        "\n",
        "Generate a csv with the following information:\n",
        "\n",
        "* brief name\n",
        "* brief id\n",
        "* author party\n",
        "* paragraph of text\n",
        "\n",
        "Goal is to have Holly classify each of the paragraphs as one (or more) of our classification labels to serve as a \"ground truth\" for cross-model comparison"
      ],
      "metadata": {
        "id": "nBBcI_S3xJ5U"
      }
    },
    {
      "cell_type": "code",
      "execution_count": 1,
      "metadata": {
        "id": "TBtnp76ptc2j"
      },
      "outputs": [],
      "source": [
        "#import data science packages\n",
        "import pandas as pd\n",
        "import numpy as np"
      ]
    },
    {
      "cell_type": "code",
      "source": [
        "from google.colab import drive\n",
        "drive.mount('/content/gdrive')\n",
        "%cd gdrive/My\\ Drive/amicus-iv"
      ],
      "metadata": {
        "colab": {
          "base_uri": "https://localhost:8080/"
        },
        "id": "dzVIJJBwxF0R",
        "outputId": "671b8d6a-11f5-4c09-99b3-591a3a16d7bf"
      },
      "execution_count": 2,
      "outputs": [
        {
          "output_type": "stream",
          "name": "stdout",
          "text": [
            "Mounted at /content/gdrive\n",
            "/content/gdrive/My Drive/amicus-iv\n"
          ]
        }
      ]
    },
    {
      "cell_type": "markdown",
      "source": [
        "## 1. Load Dataset"
      ],
      "metadata": {
        "id": "pvFac--LxvaH"
      }
    },
    {
      "cell_type": "code",
      "source": [
        "df = pd.read_csv(\"data/shortened-amicus-brief-text.csv\")\n",
        "df.head(5)"
      ],
      "metadata": {
        "colab": {
          "base_uri": "https://localhost:8080/",
          "height": 206
        },
        "id": "TTqRjECwxJK4",
        "outputId": "945ce984-d959-4bbf-d5a7-280cd240a291"
      },
      "execution_count": 28,
      "outputs": [
        {
          "output_type": "execute_result",
          "data": {
            "text/html": [
              "\n",
              "  <div id=\"df-c9c9588c-7848-483f-bfb6-e86bc9943f38\">\n",
              "    <div class=\"colab-df-container\">\n",
              "      <div>\n",
              "<style scoped>\n",
              "    .dataframe tbody tr th:only-of-type {\n",
              "        vertical-align: middle;\n",
              "    }\n",
              "\n",
              "    .dataframe tbody tr th {\n",
              "        vertical-align: top;\n",
              "    }\n",
              "\n",
              "    .dataframe thead th {\n",
              "        text-align: right;\n",
              "    }\n",
              "</style>\n",
              "<table border=\"1\" class=\"dataframe\">\n",
              "  <thead>\n",
              "    <tr style=\"text-align: right;\">\n",
              "      <th></th>\n",
              "      <th>case</th>\n",
              "      <th>brief</th>\n",
              "      <th>id</th>\n",
              "      <th>txt_short</th>\n",
              "    </tr>\n",
              "  </thead>\n",
              "  <tbody>\n",
              "    <tr>\n",
              "      <th>0</th>\n",
              "      <td>Anders v Floyd</td>\n",
              "      <td>Anders v Floyd - amicus brief for appellant (o...</td>\n",
              "      <td>861815186515</td>\n",
              "      <td>many roe v wade killings are murder the eviden...</td>\n",
              "    </tr>\n",
              "    <tr>\n",
              "      <th>1</th>\n",
              "      <td>Anders v Floyd</td>\n",
              "      <td>Anders v Floyd - amicus brief for appellant (o...</td>\n",
              "      <td>861815187715</td>\n",
              "      <td>for the 14th time, the supreme court is petiti...</td>\n",
              "    </tr>\n",
              "    <tr>\n",
              "      <th>2</th>\n",
              "      <td>Ayotte v. PP</td>\n",
              "      <td>Ayotte v Planned Parenthood of Northern New En...</td>\n",
              "      <td>861823786898</td>\n",
              "      <td>in imposing a constitutional standard for pare...</td>\n",
              "    </tr>\n",
              "    <tr>\n",
              "      <th>3</th>\n",
              "      <td>Ayotte v. PP</td>\n",
              "      <td>Ayotte v Planned Parenthood of Northern New En...</td>\n",
              "      <td>861823789298</td>\n",
              "      <td>amici offer this brief for the limited purpose...</td>\n",
              "    </tr>\n",
              "    <tr>\n",
              "      <th>4</th>\n",
              "      <td>Ayotte v. PP</td>\n",
              "      <td>Ayotte v Planned Parenthood of Northern New En...</td>\n",
              "      <td>861823790498</td>\n",
              "      <td>new hampshire's parental notification law is a...</td>\n",
              "    </tr>\n",
              "  </tbody>\n",
              "</table>\n",
              "</div>\n",
              "      <button class=\"colab-df-convert\" onclick=\"convertToInteractive('df-c9c9588c-7848-483f-bfb6-e86bc9943f38')\"\n",
              "              title=\"Convert this dataframe to an interactive table.\"\n",
              "              style=\"display:none;\">\n",
              "        \n",
              "  <svg xmlns=\"http://www.w3.org/2000/svg\" height=\"24px\"viewBox=\"0 0 24 24\"\n",
              "       width=\"24px\">\n",
              "    <path d=\"M0 0h24v24H0V0z\" fill=\"none\"/>\n",
              "    <path d=\"M18.56 5.44l.94 2.06.94-2.06 2.06-.94-2.06-.94-.94-2.06-.94 2.06-2.06.94zm-11 1L8.5 8.5l.94-2.06 2.06-.94-2.06-.94L8.5 2.5l-.94 2.06-2.06.94zm10 10l.94 2.06.94-2.06 2.06-.94-2.06-.94-.94-2.06-.94 2.06-2.06.94z\"/><path d=\"M17.41 7.96l-1.37-1.37c-.4-.4-.92-.59-1.43-.59-.52 0-1.04.2-1.43.59L10.3 9.45l-7.72 7.72c-.78.78-.78 2.05 0 2.83L4 21.41c.39.39.9.59 1.41.59.51 0 1.02-.2 1.41-.59l7.78-7.78 2.81-2.81c.8-.78.8-2.07 0-2.86zM5.41 20L4 18.59l7.72-7.72 1.47 1.35L5.41 20z\"/>\n",
              "  </svg>\n",
              "      </button>\n",
              "      \n",
              "  <style>\n",
              "    .colab-df-container {\n",
              "      display:flex;\n",
              "      flex-wrap:wrap;\n",
              "      gap: 12px;\n",
              "    }\n",
              "\n",
              "    .colab-df-convert {\n",
              "      background-color: #E8F0FE;\n",
              "      border: none;\n",
              "      border-radius: 50%;\n",
              "      cursor: pointer;\n",
              "      display: none;\n",
              "      fill: #1967D2;\n",
              "      height: 32px;\n",
              "      padding: 0 0 0 0;\n",
              "      width: 32px;\n",
              "    }\n",
              "\n",
              "    .colab-df-convert:hover {\n",
              "      background-color: #E2EBFA;\n",
              "      box-shadow: 0px 1px 2px rgba(60, 64, 67, 0.3), 0px 1px 3px 1px rgba(60, 64, 67, 0.15);\n",
              "      fill: #174EA6;\n",
              "    }\n",
              "\n",
              "    [theme=dark] .colab-df-convert {\n",
              "      background-color: #3B4455;\n",
              "      fill: #D2E3FC;\n",
              "    }\n",
              "\n",
              "    [theme=dark] .colab-df-convert:hover {\n",
              "      background-color: #434B5C;\n",
              "      box-shadow: 0px 1px 3px 1px rgba(0, 0, 0, 0.15);\n",
              "      filter: drop-shadow(0px 1px 2px rgba(0, 0, 0, 0.3));\n",
              "      fill: #FFFFFF;\n",
              "    }\n",
              "  </style>\n",
              "\n",
              "      <script>\n",
              "        const buttonEl =\n",
              "          document.querySelector('#df-c9c9588c-7848-483f-bfb6-e86bc9943f38 button.colab-df-convert');\n",
              "        buttonEl.style.display =\n",
              "          google.colab.kernel.accessAllowed ? 'block' : 'none';\n",
              "\n",
              "        async function convertToInteractive(key) {\n",
              "          const element = document.querySelector('#df-c9c9588c-7848-483f-bfb6-e86bc9943f38');\n",
              "          const dataTable =\n",
              "            await google.colab.kernel.invokeFunction('convertToInteractive',\n",
              "                                                     [key], {});\n",
              "          if (!dataTable) return;\n",
              "\n",
              "          const docLinkHtml = 'Like what you see? Visit the ' +\n",
              "            '<a target=\"_blank\" href=https://colab.research.google.com/notebooks/data_table.ipynb>data table notebook</a>'\n",
              "            + ' to learn more about interactive tables.';\n",
              "          element.innerHTML = '';\n",
              "          dataTable['output_type'] = 'display_data';\n",
              "          await google.colab.output.renderOutput(dataTable, element);\n",
              "          const docLink = document.createElement('div');\n",
              "          docLink.innerHTML = docLinkHtml;\n",
              "          element.appendChild(docLink);\n",
              "        }\n",
              "      </script>\n",
              "    </div>\n",
              "  </div>\n",
              "  "
            ],
            "text/plain": [
              "             case  ...                                          txt_short\n",
              "0  Anders v Floyd  ...  many roe v wade killings are murder the eviden...\n",
              "1  Anders v Floyd  ...  for the 14th time, the supreme court is petiti...\n",
              "2    Ayotte v. PP  ...  in imposing a constitutional standard for pare...\n",
              "3    Ayotte v. PP  ...  amici offer this brief for the limited purpose...\n",
              "4    Ayotte v. PP  ...  new hampshire's parental notification law is a...\n",
              "\n",
              "[5 rows x 4 columns]"
            ]
          },
          "metadata": {},
          "execution_count": 28
        }
      ]
    },
    {
      "cell_type": "markdown",
      "source": [
        "## 2. Split Text\n",
        "\n",
        "Split text into chunks of `max_len` with `step` overlapping words"
      ],
      "metadata": {
        "id": "tDq4zy2pxp3w"
      }
    },
    {
      "cell_type": "code",
      "source": [
        "def split_text(data, max_len=512, step=128):\n",
        "  # split text on space\n",
        "  #text = data['txt_short'].split()\n",
        "  text = data.split()\n",
        "  # take list and separate into lists of lists, overlapping \n",
        "  #text = [text[i : i + max_len] for i in range(0, len(text), step)]\n",
        "  #separate list into list of strings len \"max_len\", overlapping by \"step\"\n",
        "  text = [' '.join(text[i : i + max_len]) for i in range(0, len(text), step)]\n",
        "  return text"
      ],
      "metadata": {
        "id": "boJ19dlIxqFl"
      },
      "execution_count": 24,
      "outputs": []
    },
    {
      "cell_type": "markdown",
      "source": [
        "Use fxn on our dataset"
      ],
      "metadata": {
        "id": "1zhwVHIux_3i"
      }
    },
    {
      "cell_type": "code",
      "source": [
        "max_len = 312 #512\n",
        "step = 78 #128\n",
        "\n",
        "# split each text into len 'max_len' with 'step' overlap\n",
        "df['text'] = df.apply(lambda row: split_text(row['txt_short'],\n",
        "                                             max_len=max_len,\n",
        "                                             step=step),\n",
        "                       axis=1)\n",
        "df = df.explode('text')\n",
        "df.reset_index(inplace = True)\n",
        "df.drop(['txt_short', 'index'], axis=1, inplace=True)"
      ],
      "metadata": {
        "id": "_MipGI3CyBNy"
      },
      "execution_count": 29,
      "outputs": []
    },
    {
      "cell_type": "markdown",
      "source": [
        "Check"
      ],
      "metadata": {
        "id": "mIEsWxPq6QAa"
      }
    },
    {
      "cell_type": "code",
      "source": [
        "df.head(5)"
      ],
      "metadata": {
        "colab": {
          "base_uri": "https://localhost:8080/",
          "height": 206
        },
        "id": "Hn5wl3CH6Pk-",
        "outputId": "a4d086f3-8040-44ae-b9a6-b1fa03e3a412"
      },
      "execution_count": 26,
      "outputs": [
        {
          "output_type": "execute_result",
          "data": {
            "text/html": [
              "\n",
              "  <div id=\"df-f36103cf-5c45-4489-a3bf-44ec584ea244\">\n",
              "    <div class=\"colab-df-container\">\n",
              "      <div>\n",
              "<style scoped>\n",
              "    .dataframe tbody tr th:only-of-type {\n",
              "        vertical-align: middle;\n",
              "    }\n",
              "\n",
              "    .dataframe tbody tr th {\n",
              "        vertical-align: top;\n",
              "    }\n",
              "\n",
              "    .dataframe thead th {\n",
              "        text-align: right;\n",
              "    }\n",
              "</style>\n",
              "<table border=\"1\" class=\"dataframe\">\n",
              "  <thead>\n",
              "    <tr style=\"text-align: right;\">\n",
              "      <th></th>\n",
              "      <th>case</th>\n",
              "      <th>brief</th>\n",
              "      <th>id</th>\n",
              "      <th>text</th>\n",
              "    </tr>\n",
              "  </thead>\n",
              "  <tbody>\n",
              "    <tr>\n",
              "      <th>0</th>\n",
              "      <td>Anders v Floyd</td>\n",
              "      <td>Anders v Floyd - amicus brief for appellant (o...</td>\n",
              "      <td>861815186515</td>\n",
              "      <td>many roe v wade killings are murder the eviden...</td>\n",
              "    </tr>\n",
              "    <tr>\n",
              "      <th>1</th>\n",
              "      <td>Anders v Floyd</td>\n",
              "      <td>Anders v Floyd - amicus brief for appellant (o...</td>\n",
              "      <td>861815186515</td>\n",
              "      <td>killing, with malice aforethought, of a child ...</td>\n",
              "    </tr>\n",
              "    <tr>\n",
              "      <th>2</th>\n",
              "      <td>Anders v Floyd</td>\n",
              "      <td>Anders v Floyd - amicus brief for appellant (o...</td>\n",
              "      <td>861815186515</td>\n",
              "      <td>1868, born alive did not mean natural birth af...</td>\n",
              "    </tr>\n",
              "    <tr>\n",
              "      <th>3</th>\n",
              "      <td>Anders v Floyd</td>\n",
              "      <td>Anders v Floyd - amicus brief for appellant (o...</td>\n",
              "      <td>861815186515</td>\n",
              "      <td>evidence shows that the hysterotomy is a commo...</td>\n",
              "    </tr>\n",
              "    <tr>\n",
              "      <th>4</th>\n",
              "      <td>Anders v Floyd</td>\n",
              "      <td>Anders v Floyd - amicus brief for appellant (o...</td>\n",
              "      <td>861815186515</td>\n",
              "      <td>must still be murder, and the justices who per...</td>\n",
              "    </tr>\n",
              "  </tbody>\n",
              "</table>\n",
              "</div>\n",
              "      <button class=\"colab-df-convert\" onclick=\"convertToInteractive('df-f36103cf-5c45-4489-a3bf-44ec584ea244')\"\n",
              "              title=\"Convert this dataframe to an interactive table.\"\n",
              "              style=\"display:none;\">\n",
              "        \n",
              "  <svg xmlns=\"http://www.w3.org/2000/svg\" height=\"24px\"viewBox=\"0 0 24 24\"\n",
              "       width=\"24px\">\n",
              "    <path d=\"M0 0h24v24H0V0z\" fill=\"none\"/>\n",
              "    <path d=\"M18.56 5.44l.94 2.06.94-2.06 2.06-.94-2.06-.94-.94-2.06-.94 2.06-2.06.94zm-11 1L8.5 8.5l.94-2.06 2.06-.94-2.06-.94L8.5 2.5l-.94 2.06-2.06.94zm10 10l.94 2.06.94-2.06 2.06-.94-2.06-.94-.94-2.06-.94 2.06-2.06.94z\"/><path d=\"M17.41 7.96l-1.37-1.37c-.4-.4-.92-.59-1.43-.59-.52 0-1.04.2-1.43.59L10.3 9.45l-7.72 7.72c-.78.78-.78 2.05 0 2.83L4 21.41c.39.39.9.59 1.41.59.51 0 1.02-.2 1.41-.59l7.78-7.78 2.81-2.81c.8-.78.8-2.07 0-2.86zM5.41 20L4 18.59l7.72-7.72 1.47 1.35L5.41 20z\"/>\n",
              "  </svg>\n",
              "      </button>\n",
              "      \n",
              "  <style>\n",
              "    .colab-df-container {\n",
              "      display:flex;\n",
              "      flex-wrap:wrap;\n",
              "      gap: 12px;\n",
              "    }\n",
              "\n",
              "    .colab-df-convert {\n",
              "      background-color: #E8F0FE;\n",
              "      border: none;\n",
              "      border-radius: 50%;\n",
              "      cursor: pointer;\n",
              "      display: none;\n",
              "      fill: #1967D2;\n",
              "      height: 32px;\n",
              "      padding: 0 0 0 0;\n",
              "      width: 32px;\n",
              "    }\n",
              "\n",
              "    .colab-df-convert:hover {\n",
              "      background-color: #E2EBFA;\n",
              "      box-shadow: 0px 1px 2px rgba(60, 64, 67, 0.3), 0px 1px 3px 1px rgba(60, 64, 67, 0.15);\n",
              "      fill: #174EA6;\n",
              "    }\n",
              "\n",
              "    [theme=dark] .colab-df-convert {\n",
              "      background-color: #3B4455;\n",
              "      fill: #D2E3FC;\n",
              "    }\n",
              "\n",
              "    [theme=dark] .colab-df-convert:hover {\n",
              "      background-color: #434B5C;\n",
              "      box-shadow: 0px 1px 3px 1px rgba(0, 0, 0, 0.15);\n",
              "      filter: drop-shadow(0px 1px 2px rgba(0, 0, 0, 0.3));\n",
              "      fill: #FFFFFF;\n",
              "    }\n",
              "  </style>\n",
              "\n",
              "      <script>\n",
              "        const buttonEl =\n",
              "          document.querySelector('#df-f36103cf-5c45-4489-a3bf-44ec584ea244 button.colab-df-convert');\n",
              "        buttonEl.style.display =\n",
              "          google.colab.kernel.accessAllowed ? 'block' : 'none';\n",
              "\n",
              "        async function convertToInteractive(key) {\n",
              "          const element = document.querySelector('#df-f36103cf-5c45-4489-a3bf-44ec584ea244');\n",
              "          const dataTable =\n",
              "            await google.colab.kernel.invokeFunction('convertToInteractive',\n",
              "                                                     [key], {});\n",
              "          if (!dataTable) return;\n",
              "\n",
              "          const docLinkHtml = 'Like what you see? Visit the ' +\n",
              "            '<a target=\"_blank\" href=https://colab.research.google.com/notebooks/data_table.ipynb>data table notebook</a>'\n",
              "            + ' to learn more about interactive tables.';\n",
              "          element.innerHTML = '';\n",
              "          dataTable['output_type'] = 'display_data';\n",
              "          await google.colab.output.renderOutput(dataTable, element);\n",
              "          const docLink = document.createElement('div');\n",
              "          docLink.innerHTML = docLinkHtml;\n",
              "          element.appendChild(docLink);\n",
              "        }\n",
              "      </script>\n",
              "    </div>\n",
              "  </div>\n",
              "  "
            ],
            "text/plain": [
              "             case  ...                                               text\n",
              "0  Anders v Floyd  ...  many roe v wade killings are murder the eviden...\n",
              "1  Anders v Floyd  ...  killing, with malice aforethought, of a child ...\n",
              "2  Anders v Floyd  ...  1868, born alive did not mean natural birth af...\n",
              "3  Anders v Floyd  ...  evidence shows that the hysterotomy is a commo...\n",
              "4  Anders v Floyd  ...  must still be murder, and the justices who per...\n",
              "\n",
              "[5 rows x 4 columns]"
            ]
          },
          "metadata": {},
          "execution_count": 26
        }
      ]
    },
    {
      "cell_type": "markdown",
      "source": [
        "## 3. Add 'fem' variable to stratify sample on\n",
        "\n",
        "Value is True if the brief is written in support of feminist party."
      ],
      "metadata": {
        "id": "85_HS0vI8g9a"
      }
    },
    {
      "cell_type": "code",
      "source": [
        "df['fem_brief'] = [\"feminist\" in brief_name for brief_name in df['brief']]\n",
        "df['fem_brief'] = [int(brief_name) for brief_name in df['fem_brief']]\n",
        "\n",
        "df['fem_brief'].value_counts()"
      ],
      "metadata": {
        "id": "A1hJNVC58gR-",
        "colab": {
          "base_uri": "https://localhost:8080/"
        },
        "outputId": "20863ec0-3530-44af-c7f0-df09bd53966f"
      },
      "execution_count": 36,
      "outputs": [
        {
          "output_type": "execute_result",
          "data": {
            "text/plain": [
              "0    30577\n",
              "1    24947\n",
              "Name: fem_brief, dtype: int64"
            ]
          },
          "metadata": {},
          "execution_count": 36
        }
      ]
    },
    {
      "cell_type": "markdown",
      "source": [
        "## 4. Randomly select 100 rows\n",
        "\n",
        "50 fem briefs, 50 opp briefs"
      ],
      "metadata": {
        "id": "6n5eV3Ak56SN"
      }
    },
    {
      "cell_type": "code",
      "source": [
        "random_rows = df.groupby('fem_brief', group_keys=False).apply(lambda x: x.sample(50))\n",
        "random_rows"
      ],
      "metadata": {
        "id": "e5sV36nuyBTy"
      },
      "execution_count": null,
      "outputs": []
    },
    {
      "cell_type": "markdown",
      "source": [
        "## 5. Save"
      ],
      "metadata": {
        "id": "ufTQebDF9d1j"
      }
    },
    {
      "cell_type": "code",
      "source": [
        "random_rows.to_excel('data/labeled-amicus.xlsx')\n",
        "#df.to_csv('data/shortened-text-312-chunk.csv')"
      ],
      "metadata": {
        "id": "JXwIEhDl8Yaz"
      },
      "execution_count": 38,
      "outputs": []
    }
  ]
}